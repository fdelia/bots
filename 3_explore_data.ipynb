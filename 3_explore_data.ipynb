{
 "cells": [
  {
   "cell_type": "markdown",
   "metadata": {},
   "source": [
    "# Exploratory Data Analysis\n",
    "\n",
    "&lt; Work in progress &gt;\n",
    "\n",
    "__TODO / MISSING__:\n",
    "* Add hour of day to comments for further exploration\n",
    "* Add day of week to comments\n",
    "* Class distribution: use histograms instead of size()\n",
    "* Scatter plots\n",
    "* Violin plots\n"
   ]
  },
  {
   "cell_type": "code",
   "execution_count": 2,
   "metadata": {
    "collapsed": true
   },
   "outputs": [],
   "source": [
    "import numpy as np\n",
    "import matplotlib.pyplot as plt\n",
    "# Not necessary, but I like the ggplot style better\n",
    "plt.style.use('ggplot')\n",
    "\n",
    "import seaborn as sns\n",
    "\n",
    "import warnings\n",
    "warnings.filterwarnings('ignore')\n",
    "\n",
    "import pandas as pd\n",
    "df_art = pd.read_csv('articles_2017_08.csv')\n",
    "df_com = pd.read_csv('comments_2017_08.csv')\n",
    "# Make float better readable\n",
    "pd.options.display.float_format = '{:.0f}'.format"
   ]
  },
  {
   "cell_type": "markdown",
   "metadata": {},
   "source": [
    "### First Look"
   ]
  },
  {
   "cell_type": "code",
   "execution_count": 3,
   "metadata": {},
   "outputs": [
    {
     "data": {
      "text/html": [
       "<div>\n",
       "<style>\n",
       "    .dataframe thead tr:only-child th {\n",
       "        text-align: right;\n",
       "    }\n",
       "\n",
       "    .dataframe thead th {\n",
       "        text-align: left;\n",
       "    }\n",
       "\n",
       "    .dataframe tbody tr th {\n",
       "        vertical-align: top;\n",
       "    }\n",
       "</style>\n",
       "<table border=\"1\" class=\"dataframe\">\n",
       "  <thead>\n",
       "    <tr style=\"text-align: right;\">\n",
       "      <th></th>\n",
       "      <th>tId</th>\n",
       "      <th>article_id</th>\n",
       "      <th>updated</th>\n",
       "      <th>num_comments</th>\n",
       "      <th>link</th>\n",
       "      <th>header</th>\n",
       "      <th>sub</th>\n",
       "      <th>text</th>\n",
       "    </tr>\n",
       "  </thead>\n",
       "  <tbody>\n",
       "    <tr>\n",
       "      <th>0</th>\n",
       "      <td>30600370</td>\n",
       "      <td>30600370</td>\n",
       "      <td>1502015309</td>\n",
       "      <td>12</td>\n",
       "      <td>/leben/reisen/story/Fuenf-Gruende-fuer-eine-Re...</td>\n",
       "      <td>Fünf Gründe für eine Reise nach Alabama</td>\n",
       "      <td>Sweet Home Alabama! Der Staat im Südosten der ...</td>\n",
       "      <td>Feinste Sandstrände, kilometerlange Maisfelder...</td>\n",
       "    </tr>\n",
       "    <tr>\n",
       "      <th>1</th>\n",
       "      <td>11684042</td>\n",
       "      <td>11684042</td>\n",
       "      <td>1502015306</td>\n",
       "      <td>4</td>\n",
       "      <td>/ausland/news/story/Lopez-aus-Gefaengnis-in-Ha...</td>\n",
       "      <td>Lopez aus Gefängnis in Hausarrest entlassen</td>\n",
       "      <td>Vier Tage nach seiner Festnahme befindet sich ...</td>\n",
       "      <td>Vier Tage nach seiner Festnahme ist der venezo...</td>\n",
       "    </tr>\n",
       "    <tr>\n",
       "      <th>2</th>\n",
       "      <td>29297244</td>\n",
       "      <td>29297244</td>\n",
       "      <td>1502015324</td>\n",
       "      <td>39</td>\n",
       "      <td>/sport/weitere/story/29297244</td>\n",
       "      <td>Buhmann Gatlin holt Gold – Bolt wird gefeiert</td>\n",
       "      <td>Usain Bolt muss auf seine 12. WM-Goldmedaille ...</td>\n",
       "      <td>(sr/fal/sda)</td>\n",
       "    </tr>\n",
       "  </tbody>\n",
       "</table>\n",
       "</div>"
      ],
      "text/plain": [
       "        tId  article_id    updated  num_comments  \\\n",
       "0  30600370    30600370 1502015309            12   \n",
       "1  11684042    11684042 1502015306             4   \n",
       "2  29297244    29297244 1502015324            39   \n",
       "\n",
       "                                                link  \\\n",
       "0  /leben/reisen/story/Fuenf-Gruende-fuer-eine-Re...   \n",
       "1  /ausland/news/story/Lopez-aus-Gefaengnis-in-Ha...   \n",
       "2                      /sport/weitere/story/29297244   \n",
       "\n",
       "                                          header  \\\n",
       "0        Fünf Gründe für eine Reise nach Alabama   \n",
       "1    Lopez aus Gefängnis in Hausarrest entlassen   \n",
       "2  Buhmann Gatlin holt Gold – Bolt wird gefeiert   \n",
       "\n",
       "                                                 sub  \\\n",
       "0  Sweet Home Alabama! Der Staat im Südosten der ...   \n",
       "1  Vier Tage nach seiner Festnahme befindet sich ...   \n",
       "2  Usain Bolt muss auf seine 12. WM-Goldmedaille ...   \n",
       "\n",
       "                                                text  \n",
       "0  Feinste Sandstrände, kilometerlange Maisfelder...  \n",
       "1  Vier Tage nach seiner Festnahme ist der venezo...  \n",
       "2                                       (sr/fal/sda)  "
      ]
     },
     "execution_count": 3,
     "metadata": {},
     "output_type": "execute_result"
    }
   ],
   "source": [
    "df_art.head(3)"
   ]
  },
  {
   "cell_type": "code",
   "execution_count": 4,
   "metadata": {},
   "outputs": [
    {
     "data": {
      "text/html": [
       "<div>\n",
       "<style>\n",
       "    .dataframe thead tr:only-child th {\n",
       "        text-align: right;\n",
       "    }\n",
       "\n",
       "    .dataframe thead th {\n",
       "        text-align: left;\n",
       "    }\n",
       "\n",
       "    .dataframe tbody tr th {\n",
       "        vertical-align: top;\n",
       "    }\n",
       "</style>\n",
       "<table border=\"1\" class=\"dataframe\">\n",
       "  <thead>\n",
       "    <tr style=\"text-align: right;\">\n",
       "      <th></th>\n",
       "      <th>tId</th>\n",
       "      <th>cId</th>\n",
       "      <th>mob</th>\n",
       "      <th>vup</th>\n",
       "      <th>vdo</th>\n",
       "      <th>tit</th>\n",
       "      <th>aut</th>\n",
       "      <th>time</th>\n",
       "      <th>con</th>\n",
       "    </tr>\n",
       "  </thead>\n",
       "  <tbody>\n",
       "    <tr>\n",
       "      <th>0</th>\n",
       "      <td>30284249</td>\n",
       "      <td>329_485</td>\n",
       "      <td>1</td>\n",
       "      <td>5</td>\n",
       "      <td>2</td>\n",
       "      <td>@Rebby</td>\n",
       "      <td>Störenfried</td>\n",
       "      <td>am 06.08.2017 08:59</td>\n",
       "      <td>Wäre doch machbar, Störsender in Autos einzub...</td>\n",
       "    </tr>\n",
       "    <tr>\n",
       "      <th>1</th>\n",
       "      <td>25420673</td>\n",
       "      <td>1_37</td>\n",
       "      <td>1</td>\n",
       "      <td>0</td>\n",
       "      <td>0</td>\n",
       "      <td>@T. Paul</td>\n",
       "      <td>Papa Bär</td>\n",
       "      <td>am 05.08.2017 22:02</td>\n",
       "      <td>Hier. Aber ich bin ja nur ein Papa Bär. Hüte ...</td>\n",
       "    </tr>\n",
       "    <tr>\n",
       "      <th>2</th>\n",
       "      <td>30284249</td>\n",
       "      <td>47_47</td>\n",
       "      <td>1</td>\n",
       "      <td>39</td>\n",
       "      <td>7</td>\n",
       "      <td>Das liebe Handy...</td>\n",
       "      <td>Heinz</td>\n",
       "      <td>am 05.08.2017 19:00</td>\n",
       "      <td>Und dazu brauchts ne Studie? Legt im allgemei...</td>\n",
       "    </tr>\n",
       "  </tbody>\n",
       "</table>\n",
       "</div>"
      ],
      "text/plain": [
       "        tId      cId  mob  vup  vdo                 tit          aut  \\\n",
       "0  30284249  329_485    1    5    2              @Rebby  Störenfried   \n",
       "1  25420673     1_37    1    0    0            @T. Paul     Papa Bär   \n",
       "2  30284249    47_47    1   39    7  Das liebe Handy...        Heinz   \n",
       "\n",
       "                  time                                                con  \n",
       "0  am 06.08.2017 08:59   Wäre doch machbar, Störsender in Autos einzub...  \n",
       "1  am 05.08.2017 22:02   Hier. Aber ich bin ja nur ein Papa Bär. Hüte ...  \n",
       "2  am 05.08.2017 19:00   Und dazu brauchts ne Studie? Legt im allgemei...  "
      ]
     },
     "execution_count": 4,
     "metadata": {},
     "output_type": "execute_result"
    }
   ],
   "source": [
    "df_com.head(3)"
   ]
  },
  {
   "cell_type": "code",
   "execution_count": 5,
   "metadata": {},
   "outputs": [
    {
     "name": "stdout",
     "output_type": "stream",
     "text": [
      "(21, 8)\n",
      "(1307, 9)\n"
     ]
    }
   ],
   "source": [
    "print(df_art.shape)\n",
    "print(df_com.shape)"
   ]
  },
  {
   "cell_type": "code",
   "execution_count": 6,
   "metadata": {},
   "outputs": [
    {
     "name": "stdout",
     "output_type": "stream",
     "text": [
      "tId               int64\n",
      "article_id        int64\n",
      "updated         float64\n",
      "num_comments      int64\n",
      "link             object\n",
      "header           object\n",
      "sub              object\n",
      "text             object\n",
      "dtype: object\n",
      " \n",
      "tId      int64\n",
      "cId     object\n",
      "mob      int64\n",
      "vup      int64\n",
      "vdo      int64\n",
      "tit     object\n",
      "aut     object\n",
      "time    object\n",
      "con     object\n",
      "dtype: object\n"
     ]
    }
   ],
   "source": [
    "print(df_art.dtypes)\n",
    "print(' ')\n",
    "print(df_com.dtypes)"
   ]
  },
  {
   "cell_type": "code",
   "execution_count": 7,
   "metadata": {},
   "outputs": [
    {
     "data": {
      "text/html": [
       "<div>\n",
       "<style>\n",
       "    .dataframe thead tr:only-child th {\n",
       "        text-align: right;\n",
       "    }\n",
       "\n",
       "    .dataframe thead th {\n",
       "        text-align: left;\n",
       "    }\n",
       "\n",
       "    .dataframe tbody tr th {\n",
       "        vertical-align: top;\n",
       "    }\n",
       "</style>\n",
       "<table border=\"1\" class=\"dataframe\">\n",
       "  <thead>\n",
       "    <tr style=\"text-align: right;\">\n",
       "      <th></th>\n",
       "      <th>tId</th>\n",
       "      <th>article_id</th>\n",
       "      <th>updated</th>\n",
       "      <th>num_comments</th>\n",
       "    </tr>\n",
       "  </thead>\n",
       "  <tbody>\n",
       "    <tr>\n",
       "      <th>count</th>\n",
       "      <td>21</td>\n",
       "      <td>21</td>\n",
       "      <td>21</td>\n",
       "      <td>21</td>\n",
       "    </tr>\n",
       "    <tr>\n",
       "      <th>mean</th>\n",
       "      <td>21993259</td>\n",
       "      <td>21993259</td>\n",
       "      <td>1502015317</td>\n",
       "      <td>63</td>\n",
       "    </tr>\n",
       "    <tr>\n",
       "      <th>std</th>\n",
       "      <td>6324191</td>\n",
       "      <td>6324191</td>\n",
       "      <td>8</td>\n",
       "      <td>95</td>\n",
       "    </tr>\n",
       "    <tr>\n",
       "      <th>min</th>\n",
       "      <td>11684042</td>\n",
       "      <td>11684042</td>\n",
       "      <td>1502015306</td>\n",
       "      <td>0</td>\n",
       "    </tr>\n",
       "    <tr>\n",
       "      <th>25%</th>\n",
       "      <td>15904700</td>\n",
       "      <td>15904700</td>\n",
       "      <td>1502015309</td>\n",
       "      <td>6</td>\n",
       "    </tr>\n",
       "    <tr>\n",
       "      <th>50%</th>\n",
       "      <td>22101669</td>\n",
       "      <td>22101669</td>\n",
       "      <td>1502015316</td>\n",
       "      <td>16</td>\n",
       "    </tr>\n",
       "    <tr>\n",
       "      <th>75%</th>\n",
       "      <td>26624359</td>\n",
       "      <td>26624359</td>\n",
       "      <td>1502015325</td>\n",
       "      <td>39</td>\n",
       "    </tr>\n",
       "    <tr>\n",
       "      <th>max</th>\n",
       "      <td>30715052</td>\n",
       "      <td>30715052</td>\n",
       "      <td>1502015328</td>\n",
       "      <td>296</td>\n",
       "    </tr>\n",
       "  </tbody>\n",
       "</table>\n",
       "</div>"
      ],
      "text/plain": [
       "           tId  article_id    updated  num_comments\n",
       "count       21          21         21            21\n",
       "mean  21993259    21993259 1502015317            63\n",
       "std    6324191     6324191          8            95\n",
       "min   11684042    11684042 1502015306             0\n",
       "25%   15904700    15904700 1502015309             6\n",
       "50%   22101669    22101669 1502015316            16\n",
       "75%   26624359    26624359 1502015325            39\n",
       "max   30715052    30715052 1502015328           296"
      ]
     },
     "execution_count": 7,
     "metadata": {},
     "output_type": "execute_result"
    }
   ],
   "source": [
    "df_art.describe()\n",
    "\n",
    "# Summary:\n",
    "# No missing attributes since count is the same everywhere\n",
    "# No negative values, chi^2 etc. can be used"
   ]
  },
  {
   "cell_type": "code",
   "execution_count": 8,
   "metadata": {},
   "outputs": [
    {
     "data": {
      "text/html": [
       "<div>\n",
       "<style>\n",
       "    .dataframe thead tr:only-child th {\n",
       "        text-align: right;\n",
       "    }\n",
       "\n",
       "    .dataframe thead th {\n",
       "        text-align: left;\n",
       "    }\n",
       "\n",
       "    .dataframe tbody tr th {\n",
       "        vertical-align: top;\n",
       "    }\n",
       "</style>\n",
       "<table border=\"1\" class=\"dataframe\">\n",
       "  <thead>\n",
       "    <tr style=\"text-align: right;\">\n",
       "      <th></th>\n",
       "      <th>tId</th>\n",
       "      <th>mob</th>\n",
       "      <th>vup</th>\n",
       "      <th>vdo</th>\n",
       "    </tr>\n",
       "  </thead>\n",
       "  <tbody>\n",
       "    <tr>\n",
       "      <th>count</th>\n",
       "      <td>1307</td>\n",
       "      <td>1307</td>\n",
       "      <td>1307</td>\n",
       "      <td>1307</td>\n",
       "    </tr>\n",
       "    <tr>\n",
       "      <th>mean</th>\n",
       "      <td>19864521</td>\n",
       "      <td>1</td>\n",
       "      <td>40</td>\n",
       "      <td>19</td>\n",
       "    </tr>\n",
       "    <tr>\n",
       "      <th>std</th>\n",
       "      <td>6589672</td>\n",
       "      <td>0</td>\n",
       "      <td>69</td>\n",
       "      <td>36</td>\n",
       "    </tr>\n",
       "    <tr>\n",
       "      <th>min</th>\n",
       "      <td>11684042</td>\n",
       "      <td>0</td>\n",
       "      <td>0</td>\n",
       "      <td>0</td>\n",
       "    </tr>\n",
       "    <tr>\n",
       "      <th>25%</th>\n",
       "      <td>13942829</td>\n",
       "      <td>0</td>\n",
       "      <td>8</td>\n",
       "      <td>3</td>\n",
       "    </tr>\n",
       "    <tr>\n",
       "      <th>50%</th>\n",
       "      <td>19423348</td>\n",
       "      <td>1</td>\n",
       "      <td>22</td>\n",
       "      <td>8</td>\n",
       "    </tr>\n",
       "    <tr>\n",
       "      <th>75%</th>\n",
       "      <td>25420673</td>\n",
       "      <td>1</td>\n",
       "      <td>46</td>\n",
       "      <td>18</td>\n",
       "    </tr>\n",
       "    <tr>\n",
       "      <th>max</th>\n",
       "      <td>30715052</td>\n",
       "      <td>1</td>\n",
       "      <td>969</td>\n",
       "      <td>316</td>\n",
       "    </tr>\n",
       "  </tbody>\n",
       "</table>\n",
       "</div>"
      ],
      "text/plain": [
       "           tId  mob  vup  vdo\n",
       "count     1307 1307 1307 1307\n",
       "mean  19864521    1   40   19\n",
       "std    6589672    0   69   36\n",
       "min   11684042    0    0    0\n",
       "25%   13942829    0    8    3\n",
       "50%   19423348    1   22    8\n",
       "75%   25420673    1   46   18\n",
       "max   30715052    1  969  316"
      ]
     },
     "execution_count": 8,
     "metadata": {},
     "output_type": "execute_result"
    }
   ],
   "source": [
    "df_com.describe()\n",
    "\n",
    "# Summary:\n",
    "# No missing attributes \n",
    "# No negative values"
   ]
  },
  {
   "cell_type": "code",
   "execution_count": 9,
   "metadata": {},
   "outputs": [
    {
     "name": "stdout",
     "output_type": "stream",
     "text": [
      "tId            -0\n",
      "article_id     -0\n",
      "updated         0\n",
      "num_comments    2\n",
      "dtype: float64\n"
     ]
    }
   ],
   "source": [
    "print(df_art.skew())\n",
    "# Makes only sense on 'num_comments'"
   ]
  },
  {
   "cell_type": "code",
   "execution_count": 10,
   "metadata": {},
   "outputs": [
    {
     "name": "stdout",
     "output_type": "stream",
     "text": [
      "tId    0\n",
      "cId    1\n",
      "mob   -1\n",
      "vup    7\n",
      "vdo    4\n",
      "dtype: float64\n"
     ]
    }
   ],
   "source": [
    "print(df_com.skew())\n",
    "# Skew is not high enough that it has to be corrected"
   ]
  },
  {
   "cell_type": "markdown",
   "metadata": {},
   "source": [
    "### Feature Engineering\n",
    "To make further analysis possible concerning time features."
   ]
  },
  {
   "cell_type": "code",
   "execution_count": 55,
   "metadata": {
    "collapsed": true
   },
   "outputs": [],
   "source": [
    "from datetime import datetime\n",
    "\n",
    "def get_dt_obj(time):\n",
    "    time = time.replace('am ', '')\n",
    "    # Make datetime object from string\n",
    "    return datetime.strptime(time, '%d.%m.%Y %H:%M')\n",
    "\n",
    "def get_hour_of_day(time):\n",
    "    return get_dt_obj(time).hour\n",
    "\n",
    "def get_weekday(time):\n",
    "    return get_dt_obj(time).weekday()\n",
    "\n",
    "# Basically same as \"the hour of week\" or \"weekday_hourOfDay\"\n",
    "def get_weekday_float(time):\n",
    "    hour = float(get_hour_of_day(time))\n",
    "    weekday = get_weekday(time)\n",
    "    return float(weekday) + hour / 24\n",
    "\n",
    "def get_weekday_hour(time):\n",
    "    return '{}_{}'.format(get_weekday(time), get_hour_of_day(time))\n",
    "\n",
    "df_com['hour'] = df_com['time'].apply(get_hour_of_day)\n",
    "df_com['weekday'] = df_com['time'].apply(get_weekday) # 0 = Monday\n",
    "df_com['weekday_fl'] = df_com['time'].apply(get_weekday_float)\n",
    "df_com['weekday_hour'] = df_com['time'].apply(get_weekday_hour)\n",
    "df_com['score'] = df_com['vup'] - df_com['vdo']"
   ]
  },
  {
   "cell_type": "markdown",
   "metadata": {},
   "source": [
    "### Class Distribution"
   ]
  },
  {
   "cell_type": "code",
   "execution_count": 12,
   "metadata": {},
   "outputs": [
    {
     "name": "stdout",
     "output_type": "stream",
     "text": [
      "mob\n",
      "0    334\n",
      "1    973\n",
      "dtype: int64\n",
      "hour\n",
      "0      33\n",
      "1      26\n",
      "2      12\n",
      "3       7\n",
      "4      15\n",
      "5      29\n",
      "6      58\n",
      "7      62\n",
      "8      74\n",
      "9      63\n",
      "10     60\n",
      "11     33\n",
      "12     55\n",
      "13     13\n",
      "14     15\n",
      "15     18\n",
      "16     31\n",
      "17     32\n",
      "18     67\n",
      "19    149\n",
      "20    108\n",
      "21     87\n",
      "22    130\n",
      "23    130\n",
      "dtype: int64\n",
      "weekday\n",
      "0     82\n",
      "1      2\n",
      "2    102\n",
      "3    311\n",
      "4     84\n",
      "5    300\n",
      "6    426\n",
      "dtype: int64\n"
     ]
    }
   ],
   "source": [
    "# 'df_art' has no classes\n",
    "\n",
    "# 'df_com' \n",
    "print(df_com.groupby('mob').size())\n",
    "print(df_com.groupby('hour').size())\n",
    "print(df_com.groupby('weekday').size())"
   ]
  },
  {
   "cell_type": "markdown",
   "metadata": {},
   "source": [
    "### Correlation\n",
    "Let's find relations between some of the attributes. Correlation requires continuous data."
   ]
  },
  {
   "cell_type": "code",
   "execution_count": 54,
   "metadata": {},
   "outputs": [
    {
     "data": {
      "text/html": [
       "<div>\n",
       "<style>\n",
       "    .dataframe thead tr:only-child th {\n",
       "        text-align: right;\n",
       "    }\n",
       "\n",
       "    .dataframe thead th {\n",
       "        text-align: left;\n",
       "    }\n",
       "\n",
       "    .dataframe tbody tr th {\n",
       "        vertical-align: top;\n",
       "    }\n",
       "</style>\n",
       "<table border=\"1\" class=\"dataframe\">\n",
       "  <thead>\n",
       "    <tr style=\"text-align: right;\">\n",
       "      <th></th>\n",
       "      <th>hour</th>\n",
       "      <th>weekday</th>\n",
       "      <th>weekday_fl</th>\n",
       "      <th>mob</th>\n",
       "      <th>vup</th>\n",
       "      <th>vdo</th>\n",
       "    </tr>\n",
       "  </thead>\n",
       "  <tbody>\n",
       "    <tr>\n",
       "      <th>hour</th>\n",
       "      <td>1.0000</td>\n",
       "      <td>0.1547</td>\n",
       "      <td>0.3063</td>\n",
       "      <td>0.0045</td>\n",
       "      <td>0.1775</td>\n",
       "      <td>0.1863</td>\n",
       "    </tr>\n",
       "    <tr>\n",
       "      <th>weekday</th>\n",
       "      <td>0.1547</td>\n",
       "      <td>1.0000</td>\n",
       "      <td>0.9879</td>\n",
       "      <td>-0.0820</td>\n",
       "      <td>0.1056</td>\n",
       "      <td>0.1118</td>\n",
       "    </tr>\n",
       "    <tr>\n",
       "      <th>weekday_fl</th>\n",
       "      <td>0.3063</td>\n",
       "      <td>0.9879</td>\n",
       "      <td>1.0000</td>\n",
       "      <td>-0.0783</td>\n",
       "      <td>0.1297</td>\n",
       "      <td>0.1370</td>\n",
       "    </tr>\n",
       "    <tr>\n",
       "      <th>mob</th>\n",
       "      <td>0.0045</td>\n",
       "      <td>-0.0820</td>\n",
       "      <td>-0.0783</td>\n",
       "      <td>1.0000</td>\n",
       "      <td>0.0309</td>\n",
       "      <td>0.0959</td>\n",
       "    </tr>\n",
       "    <tr>\n",
       "      <th>vup</th>\n",
       "      <td>0.1775</td>\n",
       "      <td>0.1056</td>\n",
       "      <td>0.1297</td>\n",
       "      <td>0.0309</td>\n",
       "      <td>1.0000</td>\n",
       "      <td>0.2797</td>\n",
       "    </tr>\n",
       "    <tr>\n",
       "      <th>vdo</th>\n",
       "      <td>0.1863</td>\n",
       "      <td>0.1118</td>\n",
       "      <td>0.1370</td>\n",
       "      <td>0.0959</td>\n",
       "      <td>0.2797</td>\n",
       "      <td>1.0000</td>\n",
       "    </tr>\n",
       "  </tbody>\n",
       "</table>\n",
       "</div>"
      ],
      "text/plain": [
       "             hour  weekday  weekday_fl     mob    vup    vdo\n",
       "hour       1.0000   0.1547      0.3063  0.0045 0.1775 0.1863\n",
       "weekday    0.1547   1.0000      0.9879 -0.0820 0.1056 0.1118\n",
       "weekday_fl 0.3063   0.9879      1.0000 -0.0783 0.1297 0.1370\n",
       "mob        0.0045  -0.0820     -0.0783  1.0000 0.0309 0.0959\n",
       "vup        0.1775   0.1056      0.1297  0.0309 1.0000 0.2797\n",
       "vdo        0.1863   0.1118      0.1370  0.0959 0.2797 1.0000"
      ]
     },
     "execution_count": 54,
     "metadata": {},
     "output_type": "execute_result"
    }
   ],
   "source": [
    "# Only for these columns\n",
    "cols = ['hour', 'weekday', 'weekday_fl', 'mob', 'vup', 'vdo']\n",
    "\n",
    "# Change back how float is displayed\n",
    "pd.options.display.float_format = '{:.4f}'.format\n",
    "\n",
    "# Get pearson co-efficients\n",
    "df_corr = df_com[cols].corr()\n",
    "df_corr\n",
    "\n",
    "# Summary:\n",
    "# Correlations are low.\n",
    "# The only interesting correlation is between 'vup' and 'vdo'."
   ]
  },
  {
   "cell_type": "markdown",
   "metadata": {},
   "source": [
    "### Scatter plot"
   ]
  },
  {
   "cell_type": "code",
   "execution_count": 14,
   "metadata": {},
   "outputs": [
    {
     "data": {
      "image/png": "[encoded data removed]",
      "text/plain": [
       "<matplotlib.figure.Figure at 0x11875feb8>"
      ]
     },
     "metadata": {},
     "output_type": "display_data"
    }
   ],
   "source": [
    "#sns.pairplot(df_com, x_vars='vup', y_vars='vdo', size=6)\n",
    "sns.regplot(x='vup', y='vdo', data=df_com)\n",
    "plt.show()\n",
    "\n",
    "# Quite some outliers"
   ]
  },
  {
   "cell_type": "code",
   "execution_count": 15,
   "metadata": {},
   "outputs": [
    {
     "data": {
      "image/png": "[encoded data removed]",
      "text/plain": [
       "<matplotlib.figure.Figure at 0x1187de240>"
      ]
     },
     "metadata": {},
     "output_type": "display_data"
    }
   ],
   "source": [
    "sns.regplot(x='vup', y='vdo', data=df_com[df_com['vup'] < 200])\n",
    "plt.show()"
   ]
  },
  {
   "cell_type": "markdown",
   "metadata": {},
   "source": [
    "### Prediction\n",
    "Ok... I want to know:\n",
    "* How to get the best score/consensus (upvotes - downvotes)?\n",
    "* How to be most controversial (upvotes + downvotes)?\n",
    "* Which articles go most score / were most controversial (sum over all comments)?\n",
    "\n",
    "Impact will be taken into account from:\n",
    "* Hour of comment\n",
    "* Weekday\n",
    "* Weekday + hour = Hour of week\n",
    "* text written\n",
    "* title written / if title is an answer (starts with \"@\")\n",
    "* if from mobile (makes no sense, but let's see what happens)\n",
    "* article text\n",
    "* article category\n",
    "* ...?"
   ]
  },
  {
   "cell_type": "code",
   "execution_count": 169,
   "metadata": {},
   "outputs": [
    {
     "name": "stdout",
     "output_type": "stream",
     "text": [
      "Empty DataFrame\n",
      "Columns: [tId, cId, mob, vup, vdo, tit, aut, time, con, hour, weekday, weekday_fl, score, contr, weekday_hour, article_id, updated, num_comments, link, header, sub, text]\n",
      "Index: []\n",
      "\n",
      "[0 rows x 22 columns]\n"
     ]
    },
    {
     "data": {
      "image/png": "[encoded data removed]",
      "text/plain": [
       "<matplotlib.figure.Figure at 0x1215e8cc0>"
      ]
     },
     "metadata": {},
     "output_type": "display_data"
    },
    {
     "data": {
      "image/png": "[encoded data removed]",
      "text/plain": [
       "<matplotlib.figure.Figure at 0x11fdfe9b0>"
      ]
     },
     "metadata": {},
     "output_type": "display_data"
    }
   ],
   "source": [
    "df_com['score'] = df_com['vup'] - df_com['vdo']\n",
    "df_com['contr'] = df_com['vup'] + df_com['vdo']\n",
    "df_com['tit'] = df_com['tit'].str.lower()\n",
    "df_com['con'] = df_com['con'].str.lower()\n",
    "# Left inner join\n",
    "df_merge = pd.merge(left=df_com, right=df_art, left_on='tId', right_on='tId')\n",
    "\n",
    "# is empty: (= all comments correspond to an article)\n",
    "print(df_merge[pd.isnull(df_merge['text'])])\n",
    "#print(df_com.shape)\n",
    "#print(df_merge.shape)\n",
    "\n",
    "sns.set(color_codes=True)\n",
    "ax = sns.distplot(df_com[df_com['score']>50]['weekday_fl'], label='score', kde=False)\n",
    "ax = sns.distplot(df_com[df_com['contr']>50]['weekday_fl'], label='contr', kde=False)\n",
    "ax.legend()\n",
    "plt.show()\n",
    "grouped = df_com[df_com['score']>50].groupby(['weekday', 'hour']).size()\n",
    "matrix = np.zeros((7, 24))\n",
    "for d in range(0, 6):\n",
    "    for h in range(0, 24):\n",
    "        if d in grouped and h in grouped[d]:\n",
    "            matrix[d][h] = grouped[d][h]\n",
    "\n",
    "weekdays = ['Mo', 'Tu', 'We', 'Th', 'Fr', 'Sa', 'Su']\n",
    "sns.heatmap(matrix, yticklabels=weekdays)\n",
    "plt.show()\n",
    "\n",
    "# 0 = Monday, 7 = Sunday\n",
    "# Summary:\n",
    "# The day and time of posting plays a big role\n",
    "# This is probably because on Sunday (7) upvoting people are most active\n",
    "# This does not mean that posting the *same* comment on those times gives you more upvotes\n",
    "# - it may be possible, but we can't imply that (yet?)"
   ]
  },
  {
   "cell_type": "code",
   "execution_count": 167,
   "metadata": {},
   "outputs": [
    {
     "name": "stdout",
     "output_type": "stream",
     "text": [
      "Best cross-validation score: 0.84\n",
      "Best parameters:  {'C': 0.10000000000000001}\n"
     ]
    }
   ],
   "source": [
    "# TODO make test set\n",
    "\n",
    "# https://de.wikipedia.org/wiki/Liste_der_h%C3%A4ufigsten_W%C3%B6rter_der_deutschen_Sprache\n",
    "stop_words = \"die, der, und, in, zu, den, das, nicht, von, sie, ist, des, sich, mit, dem, dass, er, es, ein, ich, auf, so, eine, auch, als, an, nach, wie, im, für\"\n",
    "stop_words += \"man, aber, aus, durch, wenn, nur, war, noch, werden, bei, hat, wir, was, wird, sein, einen, welche, sind, oder, zur, um, haben, einer, mir, über, ihm, diese, einem, ihr, uns\"\n",
    "stop_words += \"da, zum, kann, doch, vor, dieser, mich, ihn, du, hatte, seine, mehr, am, denn, nun, unter, sehr, selbst, schon, hier\"\n",
    "stop_words += \"bis, habe, ihre, dann, ihnen, seiner, alle, wieder, meine, Zeit, gegen, vom, ganz, einzelnen, wo, muss, ohne, eines, können, sei\"\n",
    "stop_words = stop_words.lower()\n",
    "stop_words = stop_words.split(', ')\n",
    "\n",
    "# Prepare data for X and y\n",
    "from sklearn.preprocessing import StandardScaler, MinMaxScaler\n",
    "from sklearn.feature_extraction.text import CountVectorizer\n",
    "\n",
    "vect = CountVectorizer(min_df=5, ngram_range=(1, 1), stop_words=stop_words) # Range higher than 1 doesn't help\n",
    "X_train_counts = vect.fit_transform(df_merge['con'])\n",
    "\n",
    "y_scaler = StandardScaler()\n",
    "def classify(val):\n",
    "    if val > 100: return 1\n",
    "    return 0\n",
    "\n",
    "y_train = df_merge['contr'].apply(classify)\n",
    "#y_train = y_scaler.fit_transform(df_merge['score'][:, None])\n",
    "#y_test = y.scaler.transform(y_test)\n",
    "\n",
    "from sklearn.svm import SVR\n",
    "from sklearn.model_selection import cross_val_score\n",
    "from sklearn.linear_model import LogisticRegression\n",
    "\n",
    "# Get best parameter\n",
    "from sklearn.model_selection import GridSearchCV\n",
    "param_grid = {'C': np.logspace(-3, 1, 5)}#, 'gamma': np.logspace(-2, 1, 4)}\n",
    "grid = GridSearchCV(LogisticRegression(), param_grid, cv=5)\n",
    "grid.fit(X_train_counts, y_train)\n",
    "print(\"Best cross-validation score: {:.2f}\".format(grid.best_score_))\n",
    "print(\"Best parameters: \", grid.best_params_)\n",
    "\n",
    "# Summary:\n",
    "# Removing stop words didn't help the score, but it makes the model easier to interpret\n",
    "# N-gram over 1 don't make a better score\n",
    "# Threshold > 100 for classification gives a better prediction than for > 50"
   ]
  },
  {
   "cell_type": "code",
   "execution_count": 162,
   "metadata": {},
   "outputs": [
    {
     "name": "stdout",
     "output_type": "stream",
     "text": [
      "spieler\t0.5318294231159343\n",
      "müde\t0.4948710721932407\n",
      "er\t0.44959874884033896\n",
      "fcb\t0.4471037698083674\n",
      "delgado\t0.42285311621393196\n",
      "saison\t0.3267895622686214\n",
      "gute\t0.31309319771489236\n",
      "für\t0.30557387738356073\n",
      "schweizer\t0.30306275798906607\n",
      "mal\t0.29949845035105993\n",
      "hätte\t0.28403045356322154\n",
      "dieses\t0.28105256423390945\n",
      "politisch\t0.27759524317611955\n",
      "unser\t0.2748961390489468\n",
      "uns\t0.2737363554404144\n",
      "basel\t0.2693679570685962\n",
      "spielen\t0.2668408674483416\n",
      "ihr\t0.254372890974328\n",
      "alles\t0.25314086720983114\n",
      "endlich\t0.25118524590168206\n",
      "----------\n",
      "zur\t-0.19745726575935055\n",
      "glück\t-0.19822427066096715\n",
      "werden\t-0.20453794173743423\n",
      "will\t-0.2065954283133876\n",
      "als\t-0.21266890343991124\n",
      "das\t-0.2189658886011098\n",
      "wenn\t-0.22098074738763854\n",
      "halt\t-0.23057837312747723\n",
      "frage\t-0.2341547874428746\n",
      "asteroiden\t-0.23864672327291458\n",
      "damit\t-0.2411670644595318\n",
      "wäre\t-0.24539669073738715\n",
      "bis\t-0.25167861149255927\n",
      "viel\t-0.2590251587563156\n",
      "alle\t-0.2701871408157392\n",
      "sollte\t-0.2727911525868929\n",
      "du\t-0.27795290323239424\n",
      "im\t-0.2781871856778606\n",
      "aber\t-0.29514469044854685\n",
      "jahren\t-0.3091797796203544\n"
     ]
    }
   ],
   "source": [
    " # Run to understand how coefficients are set / which words are important\n",
    "logreg = LogisticRegression(C=1e-1)\n",
    "logreg.fit(X_train_counts, y_train)\n",
    "coeff_by_name = {}\n",
    "for i, f in enumerate(vect.get_feature_names()):\n",
    "    coeff_by_name[f] = logreg.coef_[:, i][0]\n",
    "\n",
    "coeff_sorted = sorted(coeff_by_name.items(), key=lambda x:x[1], reverse=True)\n",
    "\n",
    "for c in coeff_sorted[0:20]:\n",
    "    print(\"{}\\t{}\".format(c[0], c[1]))\n",
    "print(\"----------\")\n",
    "for c in coeff_sorted[-20:]:\n",
    "    print(\"{}\\t{}\".format(c[0], c[1]))\n",
    "\n",
    "# Summary:\n",
    "# "
   ]
  },
  {
   "cell_type": "code",
   "execution_count": 168,
   "metadata": {},
   "outputs": [
    {
     "name": "stdout",
     "output_type": "stream",
     "text": [
      "Best cross-validation score: 0.04\n",
      "best params:  {'logisticregression__C': 0.001}\n"
     ]
    }
   ],
   "source": [
    "from sklearn.feature_extraction.text import TfidfVectorizer\n",
    "from sklearn.pipeline import make_pipeline\n",
    "pipe = make_pipeline(TfidfVectorizer(min_df=5, norm=None),\n",
    "                     LogisticRegression())\n",
    "param_grid = {'logisticregression__C': [0.001, 0.01, 0.1, 1, 10]}\n",
    "\n",
    "grid = GridSearchCV(pipe, param_grid, cv=5)\n",
    "y_train = df_merge['score']\n",
    "grid.fit(df_merge['con'], y_train)\n",
    "print(\"Best cross-validation score: {:.2f}\".format(grid.best_score_))\n",
    "print(\"best params: \", grid.best_params_)\n"
   ]
  },
  {
   "cell_type": "code",
   "execution_count": 111,
   "metadata": {},
   "outputs": [
    {
     "name": "stdout",
     "output_type": "stream",
     "text": [
      "1433\n"
     ]
    },
    {
     "ename": "AttributeError",
     "evalue": "'LogisticRegression' object has no attribute 'named_steps'",
     "output_type": "error",
     "traceback": [
      "\u001b[0;31m---------------------------------------------------------------------------\u001b[0m",
      "\u001b[0;31mAttributeError\u001b[0m                            Traceback (most recent call last)",
      "\u001b[0;32m<ipython-input-111-62bab803b8a3>\u001b[0m in \u001b[0;36m<module>\u001b[0;34m()\u001b[0m\n\u001b[1;32m      2\u001b[0m \u001b[0;31m#feature_names[::300]\u001b[0m\u001b[0;34m\u001b[0m\u001b[0;34m\u001b[0m\u001b[0m\n\u001b[1;32m      3\u001b[0m \u001b[0mprint\u001b[0m\u001b[0;34m(\u001b[0m\u001b[0mlen\u001b[0m\u001b[0;34m(\u001b[0m\u001b[0mfeature_names\u001b[0m\u001b[0;34m)\u001b[0m\u001b[0;34m)\u001b[0m\u001b[0;34m\u001b[0m\u001b[0m\n\u001b[0;32m----> 4\u001b[0;31m \u001b[0mprint\u001b[0m\u001b[0;34m(\u001b[0m\u001b[0mlen\u001b[0m\u001b[0;34m(\u001b[0m\u001b[0mgrid\u001b[0m\u001b[0;34m.\u001b[0m\u001b[0mbest_estimator_\u001b[0m\u001b[0;34m.\u001b[0m\u001b[0mnamed_steps\u001b[0m\u001b[0;34m[\u001b[0m\u001b[0;34m\"logisticregression\"\u001b[0m\u001b[0;34m]\u001b[0m\u001b[0;34m.\u001b[0m\u001b[0mcoef_\u001b[0m\u001b[0;34m)\u001b[0m\u001b[0;34m)\u001b[0m\u001b[0;34m\u001b[0m\u001b[0m\n\u001b[0m\u001b[1;32m      5\u001b[0m \u001b[0;31m#coef = list(zip(feature_names, grid.best_estimator_.named_steps[\"logisticregression\"].coef_))\u001b[0m\u001b[0;34m\u001b[0m\u001b[0;34m\u001b[0m\u001b[0m\n\u001b[1;32m      6\u001b[0m \u001b[0;31m#print(coef)\u001b[0m\u001b[0;34m\u001b[0m\u001b[0;34m\u001b[0m\u001b[0m\n",
      "\u001b[0;31mAttributeError\u001b[0m: 'LogisticRegression' object has no attribute 'named_steps'"
     ]
    }
   ],
   "source": []
  },
  {
   "cell_type": "code",
   "execution_count": null,
   "metadata": {
    "collapsed": true
   },
   "outputs": [],
   "source": []
  },
  {
   "cell_type": "code",
   "execution_count": null,
   "metadata": {
    "collapsed": true
   },
   "outputs": [],
   "source": []
  }
 ],
 "metadata": {
  "kernelspec": {
   "display_name": "Python 3",
   "language": "python",
   "name": "python3"
  },
  "language_info": {
   "codemirror_mode": {
    "name": "ipython",
    "version": 3
   },
   "file_extension": ".py",
   "mimetype": "text/x-python",
   "name": "python",
   "nbconvert_exporter": "python",
   "pygments_lexer": "ipython3",
   "version": "3.6.1"
  }
 },
 "nbformat": 4,
 "nbformat_minor": 2
}
