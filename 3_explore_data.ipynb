{
 "cells": [
  {
   "cell_type": "markdown",
   "metadata": {},
   "source": [
    "# Exploratory Data Analysis\n",
    "\n",
    "&lt; Work in progress &gt;\n",
    "\n",
    "__TODO / MISSING__:\n",
    "* Add hour of day to comments for further exploration\n",
    "* Add day of week to comments\n",
    "* Class distribution: use histograms instead of size()\n",
    "* Scatter plots\n",
    "* Violin plots\n"
   ]
  },
  {
   "cell_type": "code",
   "execution_count": 52,
   "metadata": {
    "collapsed": true
   },
   "outputs": [],
   "source": [
    "import numpy as np\n",
    "import matplotlib.pyplot as plt\n",
    "# Not necessary, but I like the ggplot style better\n",
    "plt.style.use('ggplot')\n",
    "\n",
    "import seaborn as sns\n",
    "\n",
    "import warnings\n",
    "warnings.filterwarnings('ignore')\n",
    "\n",
    "import pandas as pd\n",
    "df_art = pd.read_csv('articles_2017_08.csv')\n",
    "df_com = pd.read_csv('comments_2017_08.csv')\n",
    "# Make float better readable\n",
    "pd.options.display.float_format = '{:.0f}'.format"
   ]
  },
  {
   "cell_type": "markdown",
   "metadata": {},
   "source": [
    "### First Look"
   ]
  },
  {
   "cell_type": "code",
   "execution_count": 53,
   "metadata": {},
   "outputs": [
    {
     "data": {
      "text/html": [
       "<div>\n",
       "<style>\n",
       "    .dataframe thead tr:only-child th {\n",
       "        text-align: right;\n",
       "    }\n",
       "\n",
       "    .dataframe thead th {\n",
       "        text-align: left;\n",
       "    }\n",
       "\n",
       "    .dataframe tbody tr th {\n",
       "        vertical-align: top;\n",
       "    }\n",
       "</style>\n",
       "<table border=\"1\" class=\"dataframe\">\n",
       "  <thead>\n",
       "    <tr style=\"text-align: right;\">\n",
       "      <th></th>\n",
       "      <th>tId</th>\n",
       "      <th>article_id</th>\n",
       "      <th>updated</th>\n",
       "      <th>num_comments</th>\n",
       "      <th>link</th>\n",
       "      <th>header</th>\n",
       "      <th>sub</th>\n",
       "      <th>text</th>\n",
       "    </tr>\n",
       "  </thead>\n",
       "  <tbody>\n",
       "    <tr>\n",
       "      <th>0</th>\n",
       "      <td>30600370</td>\n",
       "      <td>30600370</td>\n",
       "      <td>1502015309</td>\n",
       "      <td>12</td>\n",
       "      <td>/leben/reisen/story/Fuenf-Gruende-fuer-eine-Re...</td>\n",
       "      <td>Fünf Gründe für eine Reise nach Alabama</td>\n",
       "      <td>Sweet Home Alabama! Der Staat im Südosten der ...</td>\n",
       "      <td>Feinste Sandstrände, kilometerlange Maisfelder...</td>\n",
       "    </tr>\n",
       "    <tr>\n",
       "      <th>1</th>\n",
       "      <td>11684042</td>\n",
       "      <td>11684042</td>\n",
       "      <td>1502015306</td>\n",
       "      <td>4</td>\n",
       "      <td>/ausland/news/story/Lopez-aus-Gefaengnis-in-Ha...</td>\n",
       "      <td>Lopez aus Gefängnis in Hausarrest entlassen</td>\n",
       "      <td>Vier Tage nach seiner Festnahme befindet sich ...</td>\n",
       "      <td>Vier Tage nach seiner Festnahme ist der venezo...</td>\n",
       "    </tr>\n",
       "    <tr>\n",
       "      <th>2</th>\n",
       "      <td>29297244</td>\n",
       "      <td>29297244</td>\n",
       "      <td>1502015324</td>\n",
       "      <td>39</td>\n",
       "      <td>/sport/weitere/story/29297244</td>\n",
       "      <td>Buhmann Gatlin holt Gold – Bolt wird gefeiert</td>\n",
       "      <td>Usain Bolt muss auf seine 12. WM-Goldmedaille ...</td>\n",
       "      <td>(sr/fal/sda)</td>\n",
       "    </tr>\n",
       "  </tbody>\n",
       "</table>\n",
       "</div>"
      ],
      "text/plain": [
       "        tId  article_id    updated  num_comments  \\\n",
       "0  30600370    30600370 1502015309            12   \n",
       "1  11684042    11684042 1502015306             4   \n",
       "2  29297244    29297244 1502015324            39   \n",
       "\n",
       "                                                link  \\\n",
       "0  /leben/reisen/story/Fuenf-Gruende-fuer-eine-Re...   \n",
       "1  /ausland/news/story/Lopez-aus-Gefaengnis-in-Ha...   \n",
       "2                      /sport/weitere/story/29297244   \n",
       "\n",
       "                                          header  \\\n",
       "0        Fünf Gründe für eine Reise nach Alabama   \n",
       "1    Lopez aus Gefängnis in Hausarrest entlassen   \n",
       "2  Buhmann Gatlin holt Gold – Bolt wird gefeiert   \n",
       "\n",
       "                                                 sub  \\\n",
       "0  Sweet Home Alabama! Der Staat im Südosten der ...   \n",
       "1  Vier Tage nach seiner Festnahme befindet sich ...   \n",
       "2  Usain Bolt muss auf seine 12. WM-Goldmedaille ...   \n",
       "\n",
       "                                                text  \n",
       "0  Feinste Sandstrände, kilometerlange Maisfelder...  \n",
       "1  Vier Tage nach seiner Festnahme ist der venezo...  \n",
       "2                                       (sr/fal/sda)  "
      ]
     },
     "execution_count": 53,
     "metadata": {},
     "output_type": "execute_result"
    }
   ],
   "source": [
    "df_art.head(3)"
   ]
  },
  {
   "cell_type": "code",
   "execution_count": 54,
   "metadata": {},
   "outputs": [
    {
     "data": {
      "text/html": [
       "<div>\n",
       "<style>\n",
       "    .dataframe thead tr:only-child th {\n",
       "        text-align: right;\n",
       "    }\n",
       "\n",
       "    .dataframe thead th {\n",
       "        text-align: left;\n",
       "    }\n",
       "\n",
       "    .dataframe tbody tr th {\n",
       "        vertical-align: top;\n",
       "    }\n",
       "</style>\n",
       "<table border=\"1\" class=\"dataframe\">\n",
       "  <thead>\n",
       "    <tr style=\"text-align: right;\">\n",
       "      <th></th>\n",
       "      <th>tId</th>\n",
       "      <th>cId</th>\n",
       "      <th>mob</th>\n",
       "      <th>vup</th>\n",
       "      <th>vdo</th>\n",
       "      <th>tit</th>\n",
       "      <th>aut</th>\n",
       "      <th>time</th>\n",
       "      <th>con</th>\n",
       "    </tr>\n",
       "  </thead>\n",
       "  <tbody>\n",
       "    <tr>\n",
       "      <th>0</th>\n",
       "      <td>30284249</td>\n",
       "      <td>329_485</td>\n",
       "      <td>1</td>\n",
       "      <td>5</td>\n",
       "      <td>2</td>\n",
       "      <td>@Rebby</td>\n",
       "      <td>Störenfried</td>\n",
       "      <td>am 06.08.2017 08:59</td>\n",
       "      <td>Wäre doch machbar, Störsender in Autos einzub...</td>\n",
       "    </tr>\n",
       "    <tr>\n",
       "      <th>1</th>\n",
       "      <td>25420673</td>\n",
       "      <td>1_37</td>\n",
       "      <td>1</td>\n",
       "      <td>0</td>\n",
       "      <td>0</td>\n",
       "      <td>@T. Paul</td>\n",
       "      <td>Papa Bär</td>\n",
       "      <td>am 05.08.2017 22:02</td>\n",
       "      <td>Hier. Aber ich bin ja nur ein Papa Bär. Hüte ...</td>\n",
       "    </tr>\n",
       "    <tr>\n",
       "      <th>2</th>\n",
       "      <td>30284249</td>\n",
       "      <td>47_47</td>\n",
       "      <td>1</td>\n",
       "      <td>39</td>\n",
       "      <td>7</td>\n",
       "      <td>Das liebe Handy...</td>\n",
       "      <td>Heinz</td>\n",
       "      <td>am 05.08.2017 19:00</td>\n",
       "      <td>Und dazu brauchts ne Studie? Legt im allgemei...</td>\n",
       "    </tr>\n",
       "  </tbody>\n",
       "</table>\n",
       "</div>"
      ],
      "text/plain": [
       "        tId      cId  mob  vup  vdo                 tit          aut  \\\n",
       "0  30284249  329_485    1    5    2              @Rebby  Störenfried   \n",
       "1  25420673     1_37    1    0    0            @T. Paul     Papa Bär   \n",
       "2  30284249    47_47    1   39    7  Das liebe Handy...        Heinz   \n",
       "\n",
       "                  time                                                con  \n",
       "0  am 06.08.2017 08:59   Wäre doch machbar, Störsender in Autos einzub...  \n",
       "1  am 05.08.2017 22:02   Hier. Aber ich bin ja nur ein Papa Bär. Hüte ...  \n",
       "2  am 05.08.2017 19:00   Und dazu brauchts ne Studie? Legt im allgemei...  "
      ]
     },
     "execution_count": 54,
     "metadata": {},
     "output_type": "execute_result"
    }
   ],
   "source": [
    "df_com.head(3)"
   ]
  },
  {
   "cell_type": "code",
   "execution_count": 55,
   "metadata": {},
   "outputs": [
    {
     "name": "stdout",
     "output_type": "stream",
     "text": [
      "(21, 8)\n",
      "(1307, 9)\n"
     ]
    }
   ],
   "source": [
    "print(df_art.shape)\n",
    "print(df_com.shape)"
   ]
  },
  {
   "cell_type": "code",
   "execution_count": 56,
   "metadata": {},
   "outputs": [
    {
     "name": "stdout",
     "output_type": "stream",
     "text": [
      "tId               int64\n",
      "article_id        int64\n",
      "updated         float64\n",
      "num_comments      int64\n",
      "link             object\n",
      "header           object\n",
      "sub              object\n",
      "text             object\n",
      "dtype: object\n",
      " \n",
      "tId      int64\n",
      "cId     object\n",
      "mob      int64\n",
      "vup      int64\n",
      "vdo      int64\n",
      "tit     object\n",
      "aut     object\n",
      "time    object\n",
      "con     object\n",
      "dtype: object\n"
     ]
    }
   ],
   "source": [
    "print(df_art.dtypes)\n",
    "print(' ')\n",
    "print(df_com.dtypes)"
   ]
  },
  {
   "cell_type": "code",
   "execution_count": 57,
   "metadata": {},
   "outputs": [
    {
     "data": {
      "text/html": [
       "<div>\n",
       "<style>\n",
       "    .dataframe thead tr:only-child th {\n",
       "        text-align: right;\n",
       "    }\n",
       "\n",
       "    .dataframe thead th {\n",
       "        text-align: left;\n",
       "    }\n",
       "\n",
       "    .dataframe tbody tr th {\n",
       "        vertical-align: top;\n",
       "    }\n",
       "</style>\n",
       "<table border=\"1\" class=\"dataframe\">\n",
       "  <thead>\n",
       "    <tr style=\"text-align: right;\">\n",
       "      <th></th>\n",
       "      <th>tId</th>\n",
       "      <th>article_id</th>\n",
       "      <th>updated</th>\n",
       "      <th>num_comments</th>\n",
       "    </tr>\n",
       "  </thead>\n",
       "  <tbody>\n",
       "    <tr>\n",
       "      <th>count</th>\n",
       "      <td>21</td>\n",
       "      <td>21</td>\n",
       "      <td>21</td>\n",
       "      <td>21</td>\n",
       "    </tr>\n",
       "    <tr>\n",
       "      <th>mean</th>\n",
       "      <td>21993259</td>\n",
       "      <td>21993259</td>\n",
       "      <td>1502015317</td>\n",
       "      <td>63</td>\n",
       "    </tr>\n",
       "    <tr>\n",
       "      <th>std</th>\n",
       "      <td>6324191</td>\n",
       "      <td>6324191</td>\n",
       "      <td>8</td>\n",
       "      <td>95</td>\n",
       "    </tr>\n",
       "    <tr>\n",
       "      <th>min</th>\n",
       "      <td>11684042</td>\n",
       "      <td>11684042</td>\n",
       "      <td>1502015306</td>\n",
       "      <td>0</td>\n",
       "    </tr>\n",
       "    <tr>\n",
       "      <th>25%</th>\n",
       "      <td>15904700</td>\n",
       "      <td>15904700</td>\n",
       "      <td>1502015309</td>\n",
       "      <td>6</td>\n",
       "    </tr>\n",
       "    <tr>\n",
       "      <th>50%</th>\n",
       "      <td>22101669</td>\n",
       "      <td>22101669</td>\n",
       "      <td>1502015316</td>\n",
       "      <td>16</td>\n",
       "    </tr>\n",
       "    <tr>\n",
       "      <th>75%</th>\n",
       "      <td>26624359</td>\n",
       "      <td>26624359</td>\n",
       "      <td>1502015325</td>\n",
       "      <td>39</td>\n",
       "    </tr>\n",
       "    <tr>\n",
       "      <th>max</th>\n",
       "      <td>30715052</td>\n",
       "      <td>30715052</td>\n",
       "      <td>1502015328</td>\n",
       "      <td>296</td>\n",
       "    </tr>\n",
       "  </tbody>\n",
       "</table>\n",
       "</div>"
      ],
      "text/plain": [
       "           tId  article_id    updated  num_comments\n",
       "count       21          21         21            21\n",
       "mean  21993259    21993259 1502015317            63\n",
       "std    6324191     6324191          8            95\n",
       "min   11684042    11684042 1502015306             0\n",
       "25%   15904700    15904700 1502015309             6\n",
       "50%   22101669    22101669 1502015316            16\n",
       "75%   26624359    26624359 1502015325            39\n",
       "max   30715052    30715052 1502015328           296"
      ]
     },
     "execution_count": 57,
     "metadata": {},
     "output_type": "execute_result"
    }
   ],
   "source": [
    "df_art.describe()\n",
    "\n",
    "# Summary:\n",
    "# No missing attributes since count is the same everywhere\n",
    "# No negative values, chi^2 etc. can be used"
   ]
  },
  {
   "cell_type": "code",
   "execution_count": 58,
   "metadata": {},
   "outputs": [
    {
     "data": {
      "text/html": [
       "<div>\n",
       "<style>\n",
       "    .dataframe thead tr:only-child th {\n",
       "        text-align: right;\n",
       "    }\n",
       "\n",
       "    .dataframe thead th {\n",
       "        text-align: left;\n",
       "    }\n",
       "\n",
       "    .dataframe tbody tr th {\n",
       "        vertical-align: top;\n",
       "    }\n",
       "</style>\n",
       "<table border=\"1\" class=\"dataframe\">\n",
       "  <thead>\n",
       "    <tr style=\"text-align: right;\">\n",
       "      <th></th>\n",
       "      <th>tId</th>\n",
       "      <th>mob</th>\n",
       "      <th>vup</th>\n",
       "      <th>vdo</th>\n",
       "    </tr>\n",
       "  </thead>\n",
       "  <tbody>\n",
       "    <tr>\n",
       "      <th>count</th>\n",
       "      <td>1307</td>\n",
       "      <td>1307</td>\n",
       "      <td>1307</td>\n",
       "      <td>1307</td>\n",
       "    </tr>\n",
       "    <tr>\n",
       "      <th>mean</th>\n",
       "      <td>19864521</td>\n",
       "      <td>1</td>\n",
       "      <td>40</td>\n",
       "      <td>19</td>\n",
       "    </tr>\n",
       "    <tr>\n",
       "      <th>std</th>\n",
       "      <td>6589672</td>\n",
       "      <td>0</td>\n",
       "      <td>69</td>\n",
       "      <td>36</td>\n",
       "    </tr>\n",
       "    <tr>\n",
       "      <th>min</th>\n",
       "      <td>11684042</td>\n",
       "      <td>0</td>\n",
       "      <td>0</td>\n",
       "      <td>0</td>\n",
       "    </tr>\n",
       "    <tr>\n",
       "      <th>25%</th>\n",
       "      <td>13942829</td>\n",
       "      <td>0</td>\n",
       "      <td>8</td>\n",
       "      <td>3</td>\n",
       "    </tr>\n",
       "    <tr>\n",
       "      <th>50%</th>\n",
       "      <td>19423348</td>\n",
       "      <td>1</td>\n",
       "      <td>22</td>\n",
       "      <td>8</td>\n",
       "    </tr>\n",
       "    <tr>\n",
       "      <th>75%</th>\n",
       "      <td>25420673</td>\n",
       "      <td>1</td>\n",
       "      <td>46</td>\n",
       "      <td>18</td>\n",
       "    </tr>\n",
       "    <tr>\n",
       "      <th>max</th>\n",
       "      <td>30715052</td>\n",
       "      <td>1</td>\n",
       "      <td>969</td>\n",
       "      <td>316</td>\n",
       "    </tr>\n",
       "  </tbody>\n",
       "</table>\n",
       "</div>"
      ],
      "text/plain": [
       "           tId  mob  vup  vdo\n",
       "count     1307 1307 1307 1307\n",
       "mean  19864521    1   40   19\n",
       "std    6589672    0   69   36\n",
       "min   11684042    0    0    0\n",
       "25%   13942829    0    8    3\n",
       "50%   19423348    1   22    8\n",
       "75%   25420673    1   46   18\n",
       "max   30715052    1  969  316"
      ]
     },
     "execution_count": 58,
     "metadata": {},
     "output_type": "execute_result"
    }
   ],
   "source": [
    "df_com.describe()\n",
    "\n",
    "# Summary:\n",
    "# No missing attributes \n",
    "# No negative values"
   ]
  },
  {
   "cell_type": "code",
   "execution_count": 59,
   "metadata": {},
   "outputs": [
    {
     "name": "stdout",
     "output_type": "stream",
     "text": [
      "tId            -0\n",
      "article_id     -0\n",
      "updated         0\n",
      "num_comments    2\n",
      "dtype: float64\n"
     ]
    }
   ],
   "source": [
    "print(df_art.skew())\n",
    "# Makes only sense on 'num_comments'"
   ]
  },
  {
   "cell_type": "code",
   "execution_count": 60,
   "metadata": {},
   "outputs": [
    {
     "name": "stdout",
     "output_type": "stream",
     "text": [
      "tId    0\n",
      "cId    1\n",
      "mob   -1\n",
      "vup    7\n",
      "vdo    4\n",
      "dtype: float64\n"
     ]
    }
   ],
   "source": [
    "print(df_com.skew())\n",
    "# Skew is not high enough that it has to be corrected"
   ]
  },
  {
   "cell_type": "markdown",
   "metadata": {},
   "source": [
    "### Feature Engineering\n",
    "To make further analysis possible concerning time features."
   ]
  },
  {
   "cell_type": "code",
   "execution_count": 61,
   "metadata": {
    "collapsed": true
   },
   "outputs": [],
   "source": [
    "from datetime import datetime\n",
    "\n",
    "def get_dt_obj(time):\n",
    "    time = time.replace('am ', '')\n",
    "    # Make datetime object from string\n",
    "    return datetime.strptime(time, '%d.%m.%Y %H:%M')\n",
    "\n",
    "def get_hour_of_day(time):\n",
    "    return get_dt_obj(time).hour\n",
    "\n",
    "def get_weekday(time):\n",
    "    return get_dt_obj(time).weekday()\n",
    "\n",
    "# Basically same as \"the hour of week\" or \"weekday_hourOfDay\"\n",
    "def get_weekday_float(time):\n",
    "    hour = float(get_hour_of_day(time))\n",
    "    weekday = get_weekday(time)\n",
    "    return float(weekday) + hour / 24\n",
    "\n",
    "df_com['hour'] = df_com['time'].apply(get_hour_of_day)\n",
    "df_com['weekday'] = df_com['time'].apply(get_weekday) # 0 = Monday\n",
    "df_com['weekday_fl'] = df_com['time'].apply(get_weekday_float)\n",
    "df_com['score'] = df_com['vup'] - df_com['vdo']"
   ]
  },
  {
   "cell_type": "markdown",
   "metadata": {},
   "source": [
    "### Class Distribution"
   ]
  },
  {
   "cell_type": "code",
   "execution_count": 62,
   "metadata": {},
   "outputs": [
    {
     "name": "stdout",
     "output_type": "stream",
     "text": [
      "mob\n",
      "0    334\n",
      "1    973\n",
      "dtype: int64\n",
      "hour\n",
      "0      33\n",
      "1      26\n",
      "2      12\n",
      "3       7\n",
      "4      15\n",
      "5      29\n",
      "6      58\n",
      "7      62\n",
      "8      74\n",
      "9      63\n",
      "10     60\n",
      "11     33\n",
      "12     55\n",
      "13     13\n",
      "14     15\n",
      "15     18\n",
      "16     31\n",
      "17     32\n",
      "18     67\n",
      "19    149\n",
      "20    108\n",
      "21     87\n",
      "22    130\n",
      "23    130\n",
      "dtype: int64\n",
      "weekday\n",
      "0     82\n",
      "1      2\n",
      "2    102\n",
      "3    311\n",
      "4     84\n",
      "5    300\n",
      "6    426\n",
      "dtype: int64\n"
     ]
    }
   ],
   "source": [
    "# 'df_art' has no classes\n",
    "\n",
    "# 'df_com' \n",
    "print(df_com.groupby('mob').size())\n",
    "print(df_com.groupby('hour').size())\n",
    "print(df_com.groupby('weekday').size())"
   ]
  },
  {
   "cell_type": "markdown",
   "metadata": {},
   "source": [
    "### Correlation\n",
    "Let's find relations between some of the attributes. Correlation requires continuous data."
   ]
  },
  {
   "cell_type": "code",
   "execution_count": 63,
   "metadata": {},
   "outputs": [
    {
     "data": {
      "text/html": [
       "<div>\n",
       "<style>\n",
       "    .dataframe thead tr:only-child th {\n",
       "        text-align: right;\n",
       "    }\n",
       "\n",
       "    .dataframe thead th {\n",
       "        text-align: left;\n",
       "    }\n",
       "\n",
       "    .dataframe tbody tr th {\n",
       "        vertical-align: top;\n",
       "    }\n",
       "</style>\n",
       "<table border=\"1\" class=\"dataframe\">\n",
       "  <thead>\n",
       "    <tr style=\"text-align: right;\">\n",
       "      <th></th>\n",
       "      <th>hour</th>\n",
       "      <th>weekday</th>\n",
       "      <th>weekday_fl</th>\n",
       "      <th>mob</th>\n",
       "      <th>vup</th>\n",
       "      <th>vdo</th>\n",
       "    </tr>\n",
       "  </thead>\n",
       "  <tbody>\n",
       "    <tr>\n",
       "      <th>hour</th>\n",
       "      <td>1.0000</td>\n",
       "      <td>0.1547</td>\n",
       "      <td>0.3063</td>\n",
       "      <td>0.0045</td>\n",
       "      <td>0.1775</td>\n",
       "      <td>0.1863</td>\n",
       "    </tr>\n",
       "    <tr>\n",
       "      <th>weekday</th>\n",
       "      <td>0.1547</td>\n",
       "      <td>1.0000</td>\n",
       "      <td>0.9879</td>\n",
       "      <td>-0.0820</td>\n",
       "      <td>0.1056</td>\n",
       "      <td>0.1118</td>\n",
       "    </tr>\n",
       "    <tr>\n",
       "      <th>weekday_fl</th>\n",
       "      <td>0.3063</td>\n",
       "      <td>0.9879</td>\n",
       "      <td>1.0000</td>\n",
       "      <td>-0.0783</td>\n",
       "      <td>0.1297</td>\n",
       "      <td>0.1370</td>\n",
       "    </tr>\n",
       "    <tr>\n",
       "      <th>mob</th>\n",
       "      <td>0.0045</td>\n",
       "      <td>-0.0820</td>\n",
       "      <td>-0.0783</td>\n",
       "      <td>1.0000</td>\n",
       "      <td>0.0309</td>\n",
       "      <td>0.0959</td>\n",
       "    </tr>\n",
       "    <tr>\n",
       "      <th>vup</th>\n",
       "      <td>0.1775</td>\n",
       "      <td>0.1056</td>\n",
       "      <td>0.1297</td>\n",
       "      <td>0.0309</td>\n",
       "      <td>1.0000</td>\n",
       "      <td>0.2797</td>\n",
       "    </tr>\n",
       "    <tr>\n",
       "      <th>vdo</th>\n",
       "      <td>0.1863</td>\n",
       "      <td>0.1118</td>\n",
       "      <td>0.1370</td>\n",
       "      <td>0.0959</td>\n",
       "      <td>0.2797</td>\n",
       "      <td>1.0000</td>\n",
       "    </tr>\n",
       "  </tbody>\n",
       "</table>\n",
       "</div>"
      ],
      "text/plain": [
       "             hour  weekday  weekday_fl     mob    vup    vdo\n",
       "hour       1.0000   0.1547      0.3063  0.0045 0.1775 0.1863\n",
       "weekday    0.1547   1.0000      0.9879 -0.0820 0.1056 0.1118\n",
       "weekday_fl 0.3063   0.9879      1.0000 -0.0783 0.1297 0.1370\n",
       "mob        0.0045  -0.0820     -0.0783  1.0000 0.0309 0.0959\n",
       "vup        0.1775   0.1056      0.1297  0.0309 1.0000 0.2797\n",
       "vdo        0.1863   0.1118      0.1370  0.0959 0.2797 1.0000"
      ]
     },
     "execution_count": 63,
     "metadata": {},
     "output_type": "execute_result"
    }
   ],
   "source": [
    "# Only for these columns\n",
    "cols = ['hour', 'weekday', 'weekday_fl', 'mob', 'vup', 'vdo']\n",
    "df = df_com[cols]\n",
    "\n",
    "# Change back how float is displayed\n",
    "pd.options.display.float_format = '{:.4f}'.format\n",
    "\n",
    "# Get pearson co-efficients\n",
    "df_corr = df.corr()\n",
    "df_corr\n",
    "\n",
    "# Summary:\n",
    "# Correlations are low.\n",
    "# The only interesting correlation is between 'vup' and 'vdo'."
   ]
  },
  {
   "cell_type": "markdown",
   "metadata": {},
   "source": [
    "### Scatter plot"
   ]
  },
  {
   "cell_type": "code",
   "execution_count": 64,
   "metadata": {},
   "outputs": [
    {
     "data": {
      "image/png": "[encoded data removed]",
      "text/plain": [
       "<matplotlib.figure.Figure at 0x11b3a5208>"
      ]
     },
     "metadata": {},
     "output_type": "display_data"
    }
   ],
   "source": [
    "#sns.pairplot(df_com, x_vars='vup', y_vars='vdo', size=6)\n",
    "sns.regplot(x='vup', y='vdo', data=df_com)\n",
    "plt.show()\n",
    "\n",
    "# Quite some outliers"
   ]
  },
  {
   "cell_type": "code",
   "execution_count": 65,
   "metadata": {},
   "outputs": [
    {
     "data": {
      "image/png": "[encoded data removed]",
      "text/plain": [
       "<matplotlib.figure.Figure at 0x11bd21588>"
      ]
     },
     "metadata": {},
     "output_type": "display_data"
    }
   ],
   "source": [
    "sns.regplot(x='vup', y='vdo', data=df_com[df_com['vup'] < 200])\n",
    "plt.show()\n"
   ]
  },
  {
   "cell_type": "markdown",
   "metadata": {},
   "source": [
    "### Prediction\n",
    "Ok... I want to know:\n",
    "* How to get the best score/consensus (upvotes - downvotes)?\n",
    "* How to be most controversial (upvotes + downvotes)?\n",
    "\n",
    "Impact will be taken into account from:\n",
    "* Hour of comment\n",
    "* Weekday\n",
    "* Weekday + hour = Hour of week\n",
    "* text written\n",
    "* title written / if title is an answer (starts with \"@\")\n",
    "* if from mobile (makes no sense, but let's see what happens)\n",
    "* article text\n",
    "* article category"
   ]
  },
  {
   "cell_type": "code",
   "execution_count": 109,
   "metadata": {},
   "outputs": [
    {
     "data": {
      "image/png": "[encoded data removed]",
      "text/plain": [
       "<matplotlib.figure.Figure at 0x11bcaf9e8>"
      ]
     },
     "metadata": {},
     "output_type": "display_data"
    }
   ],
   "source": [
    "df_com['score'] = df_com['vup'] - df_com['vdo']\n",
    "df_com['contr'] = df_com['vup'] + df_com['vdo']\n",
    "df_com['tit'] = df_com['tit'].str.lower()\n",
    "df_com['con'] = df_com['con'].str.lower()\n",
    "\n",
    "f, ax = plt.subplots()\n",
    "sns.regplot(x='weekday_fl', y='score', data=df_com, fit_reg=False)\n",
    "sns.regplot(x='weekday_fl', y='contr', data=df_com, fit_reg=False)\n",
    "ax.legend(labels=['score', 'contr'])\n",
    "plt.show()\n"
   ]
  },
  {
   "cell_type": "code",
   "execution_count": 110,
   "metadata": {},
   "outputs": [
    {
     "name": "stdout",
     "output_type": "stream",
     "text": [
      "  (0, 0)\t1\n",
      "  (0, 1)\t1\n",
      "  (0, 2)\t1\n",
      "  (0, 3)\t1\n",
      "  (0, 4)\t1\n",
      "  (0, 5)\t1\n",
      "  (0, 6)\t1\n",
      "  (0, 7)\t1\n",
      "  (0, 8)\t1\n",
      "  (0, 9)\t1\n",
      "  (0, 10)\t1\n",
      "  (0, 11)\t2\n",
      " wäre doch machbar, störsender in autos einzubauen? wäre dringend notwendig für die verkehrssicherheit. \n"
     ]
    }
   ],
   "source": [
    "# Prepare data for X and y\n",
    "from sklearn.feature_extraction.text import CountVectorizer\n",
    "vect = CountVectorizer()\n",
    "vect.fit(df_com[:1]['con'])\n",
    "print(vect.transform(df_com[:1]['con']))\n",
    "print(df_com.iloc[0]['con'])\n",
    "\n",
    "from sklearn.model_selection import KFold\n",
    "kf = KFold(n_splits=2)\n",
    "#for train, test in kf.split(X):\n",
    "#    pass\n",
    "# Apply transformation\n",
    "from sklearn.preprocessing import StandardScaler, MinMaxScaler, Normalizer"
   ]
  },
  {
   "cell_type": "code",
   "execution_count": null,
   "metadata": {
    "collapsed": true
   },
   "outputs": [],
   "source": []
  },
  {
   "cell_type": "code",
   "execution_count": null,
   "metadata": {
    "collapsed": true
   },
   "outputs": [],
   "source": []
  }
 ],
 "metadata": {
  "kernelspec": {
   "display_name": "Python 3",
   "language": "python",
   "name": "python3"
  },
  "language_info": {
   "codemirror_mode": {
    "name": "ipython",
    "version": 3
   },
   "file_extension": ".py",
   "mimetype": "text/x-python",
   "name": "python",
   "nbconvert_exporter": "python",
   "pygments_lexer": "ipython3",
   "version": "3.6.1"
  }
 },
 "nbformat": 4,
 "nbformat_minor": 2
}
