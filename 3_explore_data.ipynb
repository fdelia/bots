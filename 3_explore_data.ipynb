{
 "cells": [
  {
   "cell_type": "markdown",
   "metadata": {},
   "source": [
    "# Exploratory Data Analysis\n",
    "\n",
    "&lt; Work in progress &gt;\n"
   ]
  },
  {
   "cell_type": "code",
   "execution_count": 2,
   "metadata": {
    "collapsed": true
   },
   "outputs": [],
   "source": [
    "%matplotlib inline\n",
    "import re\n",
    "import numpy as np\n",
    "import matplotlib.pyplot as plt\n",
    "# Not necessary, but I like the ggplot style better\n",
    "plt.style.use('ggplot')\n",
    "\n",
    "import seaborn as sns\n",
    "\n",
    "import warnings\n",
    "warnings.filterwarnings('ignore')\n",
    "\n",
    "import pandas as pd\n",
    "df_art = pd.read_csv('articles_2017_08.csv')\n",
    "df_com = pd.read_csv('comments_2017_08.csv').head(20000) # crop because battery life, skews data\n",
    "# Make float better readable\n",
    "pd.options.display.float_format = '{:.0f}'.format"
   ]
  },
  {
   "cell_type": "markdown",
   "metadata": {},
   "source": [
    "### First Look"
   ]
  },
  {
   "cell_type": "code",
   "execution_count": 3,
   "metadata": {},
   "outputs": [
    {
     "data": {
      "text/html": [
       "<div>\n",
       "<style>\n",
       "    .dataframe thead tr:only-child th {\n",
       "        text-align: right;\n",
       "    }\n",
       "\n",
       "    .dataframe thead th {\n",
       "        text-align: left;\n",
       "    }\n",
       "\n",
       "    .dataframe tbody tr th {\n",
       "        vertical-align: top;\n",
       "    }\n",
       "</style>\n",
       "<table border=\"1\" class=\"dataframe\">\n",
       "  <thead>\n",
       "    <tr style=\"text-align: right;\">\n",
       "      <th></th>\n",
       "      <th>tId</th>\n",
       "      <th>article_id</th>\n",
       "      <th>updated</th>\n",
       "      <th>num_comments</th>\n",
       "      <th>link</th>\n",
       "      <th>header</th>\n",
       "      <th>sub</th>\n",
       "      <th>text</th>\n",
       "    </tr>\n",
       "  </thead>\n",
       "  <tbody>\n",
       "    <tr>\n",
       "      <th>0</th>\n",
       "      <td>31538566</td>\n",
       "      <td>31538566</td>\n",
       "      <td>1502083635</td>\n",
       "      <td>0</td>\n",
       "      <td>/schweiz/news/story/31538566</td>\n",
       "      <td>«Für mich ist eine Welt zusammengebrochen»</td>\n",
       "      <td>Beim Flugzeugunglück bei Pontresina starben dr...</td>\n",
       "      <td>Im Bündner Diavolezza-Gebiet ist ein Flugzeug ...</td>\n",
       "    </tr>\n",
       "    <tr>\n",
       "      <th>1</th>\n",
       "      <td>19638181</td>\n",
       "      <td>19638181</td>\n",
       "      <td>1502197771</td>\n",
       "      <td>43</td>\n",
       "      <td>/schweiz/zuerich/story/19638181</td>\n",
       "      <td>Jetzt wird die Schwester der Europaallee gebaut</td>\n",
       "      <td>Gleisarena und Gleistribüne  so heissen die e...</td>\n",
       "      <td>Die neue Überbauung HB-Nord entsteht nördlich ...</td>\n",
       "    </tr>\n",
       "    <tr>\n",
       "      <th>2</th>\n",
       "      <td>31833243</td>\n",
       "      <td>31833243</td>\n",
       "      <td>1502299764</td>\n",
       "      <td>0</td>\n",
       "      <td>/schweiz/basel/story/Fuenffacher-Nachwuchs-im-...</td>\n",
       "      <td>Fünffacher Nachwuchs im Basler Affenhaus</td>\n",
       "      <td>Bei den Totenkopfäfflein im Basler Zoo gibt es...</td>\n",
       "      <td>Die fünf Totenkopfäffchen wurden zwischen Mitt...</td>\n",
       "    </tr>\n",
       "  </tbody>\n",
       "</table>\n",
       "</div>"
      ],
      "text/plain": [
       "        tId  article_id    updated  num_comments  \\\n",
       "0  31538566    31538566 1502083635             0   \n",
       "1  19638181    19638181 1502197771            43   \n",
       "2  31833243    31833243 1502299764             0   \n",
       "\n",
       "                                                link  \\\n",
       "0                       /schweiz/news/story/31538566   \n",
       "1                    /schweiz/zuerich/story/19638181   \n",
       "2  /schweiz/basel/story/Fuenffacher-Nachwuchs-im-...   \n",
       "\n",
       "                                            header  \\\n",
       "0       «Für mich ist eine Welt zusammengebrochen»   \n",
       "1  Jetzt wird die Schwester der Europaallee gebaut   \n",
       "2         Fünffacher Nachwuchs im Basler Affenhaus   \n",
       "\n",
       "                                                 sub  \\\n",
       "0  Beim Flugzeugunglück bei Pontresina starben dr...   \n",
       "1  Gleisarena und Gleistribüne  so heissen die e...   \n",
       "2  Bei den Totenkopfäfflein im Basler Zoo gibt es...   \n",
       "\n",
       "                                                text  \n",
       "0  Im Bündner Diavolezza-Gebiet ist ein Flugzeug ...  \n",
       "1  Die neue Überbauung HB-Nord entsteht nördlich ...  \n",
       "2  Die fünf Totenkopfäffchen wurden zwischen Mitt...  "
      ]
     },
     "execution_count": 3,
     "metadata": {},
     "output_type": "execute_result"
    }
   ],
   "source": [
    "df_art.head(3)"
   ]
  },
  {
   "cell_type": "code",
   "execution_count": 4,
   "metadata": {},
   "outputs": [
    {
     "data": {
      "text/html": [
       "<div>\n",
       "<style>\n",
       "    .dataframe thead tr:only-child th {\n",
       "        text-align: right;\n",
       "    }\n",
       "\n",
       "    .dataframe thead th {\n",
       "        text-align: left;\n",
       "    }\n",
       "\n",
       "    .dataframe tbody tr th {\n",
       "        vertical-align: top;\n",
       "    }\n",
       "</style>\n",
       "<table border=\"1\" class=\"dataframe\">\n",
       "  <thead>\n",
       "    <tr style=\"text-align: right;\">\n",
       "      <th></th>\n",
       "      <th>tId</th>\n",
       "      <th>cId</th>\n",
       "      <th>mob</th>\n",
       "      <th>vup</th>\n",
       "      <th>vdo</th>\n",
       "      <th>tit</th>\n",
       "      <th>aut</th>\n",
       "      <th>time</th>\n",
       "      <th>con</th>\n",
       "    </tr>\n",
       "  </thead>\n",
       "  <tbody>\n",
       "    <tr>\n",
       "      <th>0</th>\n",
       "      <td>24298157</td>\n",
       "      <td>3_127</td>\n",
       "      <td>1</td>\n",
       "      <td>2</td>\n",
       "      <td>0</td>\n",
       "      <td>@Thomas</td>\n",
       "      <td>Spaniel</td>\n",
       "      <td>am 21.07.2017 12:14</td>\n",
       "      <td>Es würde Streit geben wenn er aufgespannt wir...</td>\n",
       "    </tr>\n",
       "    <tr>\n",
       "      <th>1</th>\n",
       "      <td>13753138</td>\n",
       "      <td>1115_1225</td>\n",
       "      <td>0</td>\n",
       "      <td>21</td>\n",
       "      <td>1</td>\n",
       "      <td>ohne Partikelfilter</td>\n",
       "      <td>Heinz B.</td>\n",
       "      <td>am 05.08.2017 17:25</td>\n",
       "      <td>@Historiker: Aber im Gegensatz zu Baumaschine...</td>\n",
       "    </tr>\n",
       "    <tr>\n",
       "      <th>2</th>\n",
       "      <td>13340147</td>\n",
       "      <td>783_783</td>\n",
       "      <td>1</td>\n",
       "      <td>87</td>\n",
       "      <td>14</td>\n",
       "      <td>Nur Abzocker</td>\n",
       "      <td>KChav</td>\n",
       "      <td>am 09.08.2017 15:45</td>\n",
       "      <td>Jetzt kann die Zürcher Taxi Maffia wieder los...</td>\n",
       "    </tr>\n",
       "  </tbody>\n",
       "</table>\n",
       "</div>"
      ],
      "text/plain": [
       "        tId        cId  mob  vup  vdo                  tit       aut  \\\n",
       "0  24298157      3_127    1    2    0              @Thomas  Spaniel    \n",
       "1  13753138  1115_1225    0   21    1  ohne Partikelfilter  Heinz B.   \n",
       "2  13340147    783_783    1   87   14        Nur Abzocker      KChav   \n",
       "\n",
       "                  time                                                con  \n",
       "0  am 21.07.2017 12:14   Es würde Streit geben wenn er aufgespannt wir...  \n",
       "1  am 05.08.2017 17:25   @Historiker: Aber im Gegensatz zu Baumaschine...  \n",
       "2  am 09.08.2017 15:45   Jetzt kann die Zürcher Taxi Maffia wieder los...  "
      ]
     },
     "execution_count": 4,
     "metadata": {},
     "output_type": "execute_result"
    }
   ],
   "source": [
    "df_com.head(3)"
   ]
  },
  {
   "cell_type": "code",
   "execution_count": 5,
   "metadata": {},
   "outputs": [
    {
     "name": "stdout",
     "output_type": "stream",
     "text": [
      "(1026, 8)\n",
      "(20000, 9)\n"
     ]
    }
   ],
   "source": [
    "print(df_art.shape)\n",
    "print(df_com.shape)"
   ]
  },
  {
   "cell_type": "code",
   "execution_count": 6,
   "metadata": {},
   "outputs": [
    {
     "name": "stdout",
     "output_type": "stream",
     "text": [
      "tId               int64\n",
      "article_id        int64\n",
      "updated         float64\n",
      "num_comments      int64\n",
      "link             object\n",
      "header           object\n",
      "sub              object\n",
      "text             object\n",
      "dtype: object\n",
      " \n",
      "tId      int64\n",
      "cId     object\n",
      "mob      int64\n",
      "vup      int64\n",
      "vdo      int64\n",
      "tit     object\n",
      "aut     object\n",
      "time    object\n",
      "con     object\n",
      "dtype: object\n"
     ]
    }
   ],
   "source": [
    "print(df_art.dtypes)\n",
    "print(' ')\n",
    "print(df_com.dtypes)"
   ]
  },
  {
   "cell_type": "code",
   "execution_count": 7,
   "metadata": {},
   "outputs": [
    {
     "data": {
      "text/html": [
       "<div>\n",
       "<style>\n",
       "    .dataframe thead tr:only-child th {\n",
       "        text-align: right;\n",
       "    }\n",
       "\n",
       "    .dataframe thead th {\n",
       "        text-align: left;\n",
       "    }\n",
       "\n",
       "    .dataframe tbody tr th {\n",
       "        vertical-align: top;\n",
       "    }\n",
       "</style>\n",
       "<table border=\"1\" class=\"dataframe\">\n",
       "  <thead>\n",
       "    <tr style=\"text-align: right;\">\n",
       "      <th></th>\n",
       "      <th>tId</th>\n",
       "      <th>article_id</th>\n",
       "      <th>updated</th>\n",
       "      <th>num_comments</th>\n",
       "    </tr>\n",
       "  </thead>\n",
       "  <tbody>\n",
       "    <tr>\n",
       "      <th>count</th>\n",
       "      <td>1026</td>\n",
       "      <td>1026</td>\n",
       "      <td>1026</td>\n",
       "      <td>1026</td>\n",
       "    </tr>\n",
       "    <tr>\n",
       "      <th>mean</th>\n",
       "      <td>21144399</td>\n",
       "      <td>21143338</td>\n",
       "      <td>1502274052</td>\n",
       "      <td>77</td>\n",
       "    </tr>\n",
       "    <tr>\n",
       "      <th>std</th>\n",
       "      <td>6430672</td>\n",
       "      <td>6435194</td>\n",
       "      <td>129408</td>\n",
       "      <td>136</td>\n",
       "    </tr>\n",
       "    <tr>\n",
       "      <th>min</th>\n",
       "      <td>10003016</td>\n",
       "      <td>10003016</td>\n",
       "      <td>1502017728</td>\n",
       "      <td>0</td>\n",
       "    </tr>\n",
       "    <tr>\n",
       "      <th>25%</th>\n",
       "      <td>15604268</td>\n",
       "      <td>15604268</td>\n",
       "      <td>1502172556</td>\n",
       "      <td>0</td>\n",
       "    </tr>\n",
       "    <tr>\n",
       "      <th>50%</th>\n",
       "      <td>21220790</td>\n",
       "      <td>21220790</td>\n",
       "      <td>1502288367</td>\n",
       "      <td>28</td>\n",
       "    </tr>\n",
       "    <tr>\n",
       "      <th>75%</th>\n",
       "      <td>26632181</td>\n",
       "      <td>26655490</td>\n",
       "      <td>1502414371</td>\n",
       "      <td>84</td>\n",
       "    </tr>\n",
       "    <tr>\n",
       "      <th>max</th>\n",
       "      <td>31996579</td>\n",
       "      <td>31996579</td>\n",
       "      <td>1502425549</td>\n",
       "      <td>1171</td>\n",
       "    </tr>\n",
       "  </tbody>\n",
       "</table>\n",
       "</div>"
      ],
      "text/plain": [
       "           tId  article_id    updated  num_comments\n",
       "count     1026        1026       1026          1026\n",
       "mean  21144399    21143338 1502274052            77\n",
       "std    6430672     6435194     129408           136\n",
       "min   10003016    10003016 1502017728             0\n",
       "25%   15604268    15604268 1502172556             0\n",
       "50%   21220790    21220790 1502288367            28\n",
       "75%   26632181    26655490 1502414371            84\n",
       "max   31996579    31996579 1502425549          1171"
      ]
     },
     "execution_count": 7,
     "metadata": {},
     "output_type": "execute_result"
    }
   ],
   "source": [
    "df_art.describe()\n",
    "\n",
    "# Summary:\n",
    "# No missing attributes since count is the same everywhere\n",
    "# No negative values, chi^2 etc. can be used"
   ]
  },
  {
   "cell_type": "code",
   "execution_count": 8,
   "metadata": {},
   "outputs": [
    {
     "data": {
      "text/html": [
       "<div>\n",
       "<style>\n",
       "    .dataframe thead tr:only-child th {\n",
       "        text-align: right;\n",
       "    }\n",
       "\n",
       "    .dataframe thead th {\n",
       "        text-align: left;\n",
       "    }\n",
       "\n",
       "    .dataframe tbody tr th {\n",
       "        vertical-align: top;\n",
       "    }\n",
       "</style>\n",
       "<table border=\"1\" class=\"dataframe\">\n",
       "  <thead>\n",
       "    <tr style=\"text-align: right;\">\n",
       "      <th></th>\n",
       "      <th>tId</th>\n",
       "      <th>mob</th>\n",
       "      <th>vup</th>\n",
       "      <th>vdo</th>\n",
       "    </tr>\n",
       "  </thead>\n",
       "  <tbody>\n",
       "    <tr>\n",
       "      <th>count</th>\n",
       "      <td>20000</td>\n",
       "      <td>20000</td>\n",
       "      <td>20000</td>\n",
       "      <td>20000</td>\n",
       "    </tr>\n",
       "    <tr>\n",
       "      <th>mean</th>\n",
       "      <td>20876263</td>\n",
       "      <td>1</td>\n",
       "      <td>44</td>\n",
       "      <td>16</td>\n",
       "    </tr>\n",
       "    <tr>\n",
       "      <th>std</th>\n",
       "      <td>6447498</td>\n",
       "      <td>0</td>\n",
       "      <td>115</td>\n",
       "      <td>35</td>\n",
       "    </tr>\n",
       "    <tr>\n",
       "      <th>min</th>\n",
       "      <td>10003016</td>\n",
       "      <td>0</td>\n",
       "      <td>0</td>\n",
       "      <td>0</td>\n",
       "    </tr>\n",
       "    <tr>\n",
       "      <th>25%</th>\n",
       "      <td>15144608</td>\n",
       "      <td>0</td>\n",
       "      <td>7</td>\n",
       "      <td>2</td>\n",
       "    </tr>\n",
       "    <tr>\n",
       "      <th>50%</th>\n",
       "      <td>20500325</td>\n",
       "      <td>1</td>\n",
       "      <td>20</td>\n",
       "      <td>6</td>\n",
       "    </tr>\n",
       "    <tr>\n",
       "      <th>75%</th>\n",
       "      <td>26930870</td>\n",
       "      <td>1</td>\n",
       "      <td>44</td>\n",
       "      <td>16</td>\n",
       "    </tr>\n",
       "    <tr>\n",
       "      <th>max</th>\n",
       "      <td>31996579</td>\n",
       "      <td>1</td>\n",
       "      <td>3543</td>\n",
       "      <td>944</td>\n",
       "    </tr>\n",
       "  </tbody>\n",
       "</table>\n",
       "</div>"
      ],
      "text/plain": [
       "           tId   mob   vup   vdo\n",
       "count    20000 20000 20000 20000\n",
       "mean  20876263     1    44    16\n",
       "std    6447498     0   115    35\n",
       "min   10003016     0     0     0\n",
       "25%   15144608     0     7     2\n",
       "50%   20500325     1    20     6\n",
       "75%   26930870     1    44    16\n",
       "max   31996579     1  3543   944"
      ]
     },
     "execution_count": 8,
     "metadata": {},
     "output_type": "execute_result"
    }
   ],
   "source": [
    "df_com.describe()\n",
    "\n",
    "# Summary:\n",
    "# No missing attributes \n",
    "# No negative values"
   ]
  },
  {
   "cell_type": "code",
   "execution_count": 9,
   "metadata": {},
   "outputs": [
    {
     "name": "stdout",
     "output_type": "stream",
     "text": [
      "tId             0\n",
      "article_id      0\n",
      "updated        -0\n",
      "num_comments    3\n",
      "dtype: float64\n"
     ]
    }
   ],
   "source": [
    "print(df_art.skew())\n",
    "# Makes only sense on 'num_comments'"
   ]
  },
  {
   "cell_type": "code",
   "execution_count": 10,
   "metadata": {},
   "outputs": [
    {
     "name": "stdout",
     "output_type": "stream",
     "text": [
      "tId    0\n",
      "cId    3\n",
      "mob   -1\n",
      "vup   12\n",
      "vdo    8\n",
      "dtype: float64\n"
     ]
    }
   ],
   "source": [
    "print(df_com.skew())\n",
    "# Skew is not high enough that it has to be corrected"
   ]
  },
  {
   "cell_type": "markdown",
   "metadata": {},
   "source": [
    "### Feature Engineering\n",
    "To make further analysis possible concerning time features."
   ]
  },
  {
   "cell_type": "code",
   "execution_count": 11,
   "metadata": {
    "collapsed": true
   },
   "outputs": [],
   "source": [
    "from datetime import datetime\n",
    "\n",
    "def get_dt_obj(time):\n",
    "    time = time.replace('am ', '')\n",
    "    # Make datetime object from string\n",
    "    return datetime.strptime(time, '%d.%m.%Y %H:%M')\n",
    "\n",
    "def time_since_epoch(time):\n",
    "    return (get_dt_obj(time)-datetime(1970,1,1)).total_seconds()\n",
    "\n",
    "def get_hour_of_day(time):\n",
    "    return get_dt_obj(time).hour\n",
    "\n",
    "def get_weekday(time):\n",
    "    return get_dt_obj(time).weekday()\n",
    "\n",
    "# Basically same as \"the hour of week\" or \"weekday_hourOfDay\"\n",
    "def get_weekday_float(time):\n",
    "    hour = float(get_hour_of_day(time))\n",
    "    weekday = get_weekday(time)\n",
    "    return float(weekday) + hour / 24\n",
    "\n",
    "def get_weekday_hour(time):\n",
    "    return '{}_{}'.format(get_weekday(time), get_hour_of_day(time))\n",
    "\n",
    "df_com['time_since_epoch'] = df_com['time'].apply(time_since_epoch)\n",
    "df_com['hour'] = df_com['time'].apply(get_hour_of_day)\n",
    "df_com['weekday'] = df_com['time'].apply(get_weekday) # 0 = Monday\n",
    "df_com['weekday_fl'] = df_com['time'].apply(get_weekday_float)\n",
    "df_com['weekday_hour'] = df_com['time'].apply(get_weekday_hour)\n",
    "df_com['is_answer'] = df_com['tit'].apply(lambda x: str(x).startswith('@'))\n",
    "df_com['con_len'] = df_com['con'].apply(lambda x: len(x))\n",
    "df_com['score'] = df_com['vup'] - df_com['vdo']\n",
    "df_com['contr'] = df_com['vup'] + df_com['vdo']"
   ]
  },
  {
   "cell_type": "markdown",
   "metadata": {},
   "source": [
    "### Class Distribution"
   ]
  },
  {
   "cell_type": "code",
   "execution_count": 12,
   "metadata": {},
   "outputs": [
    {
     "name": "stdout",
     "output_type": "stream",
     "text": [
      "mob\n",
      "0     6407\n",
      "1    13593\n",
      "dtype: int64\n",
      "weekday\n",
      "0    1711\n",
      "1    2985\n",
      "2    4381\n",
      "3    3637\n",
      "4    2354\n",
      "5    2441\n",
      "6    2491\n",
      "dtype: int64\n"
     ]
    }
   ],
   "source": [
    "# 'df_art' has no classes\n",
    "\n",
    "# 'df_com' \n",
    "print(df_com.groupby('mob').size())\n",
    "#print(df_com.groupby('hour').size())\n",
    "print(df_com.groupby('weekday').size())"
   ]
  },
  {
   "cell_type": "markdown",
   "metadata": {},
   "source": [
    "### Correlation\n",
    "Let's find relations between some of the attributes. Correlation requires continuous data."
   ]
  },
  {
   "cell_type": "code",
   "execution_count": 13,
   "metadata": {},
   "outputs": [
    {
     "data": {
      "text/html": [
       "<div>\n",
       "<style>\n",
       "    .dataframe thead tr:only-child th {\n",
       "        text-align: right;\n",
       "    }\n",
       "\n",
       "    .dataframe thead th {\n",
       "        text-align: left;\n",
       "    }\n",
       "\n",
       "    .dataframe tbody tr th {\n",
       "        vertical-align: top;\n",
       "    }\n",
       "</style>\n",
       "<table border=\"1\" class=\"dataframe\">\n",
       "  <thead>\n",
       "    <tr style=\"text-align: right;\">\n",
       "      <th></th>\n",
       "      <th>score</th>\n",
       "      <th>contr</th>\n",
       "      <th>hour</th>\n",
       "      <th>weekday</th>\n",
       "      <th>weekday_fl</th>\n",
       "      <th>mob</th>\n",
       "      <th>vup</th>\n",
       "      <th>vdo</th>\n",
       "      <th>is_answer</th>\n",
       "      <th>con_len</th>\n",
       "    </tr>\n",
       "  </thead>\n",
       "  <tbody>\n",
       "    <tr>\n",
       "      <th>score</th>\n",
       "      <td>1.00</td>\n",
       "      <td>0.85</td>\n",
       "      <td>-0.01</td>\n",
       "      <td>-0.01</td>\n",
       "      <td>-0.01</td>\n",
       "      <td>0.04</td>\n",
       "      <td>0.95</td>\n",
       "      <td>0.07</td>\n",
       "      <td>-0.14</td>\n",
       "      <td>0.01</td>\n",
       "    </tr>\n",
       "    <tr>\n",
       "      <th>contr</th>\n",
       "      <td>0.85</td>\n",
       "      <td>1.00</td>\n",
       "      <td>-0.01</td>\n",
       "      <td>-0.01</td>\n",
       "      <td>-0.01</td>\n",
       "      <td>0.08</td>\n",
       "      <td>0.97</td>\n",
       "      <td>0.59</td>\n",
       "      <td>-0.21</td>\n",
       "      <td>0.02</td>\n",
       "    </tr>\n",
       "    <tr>\n",
       "      <th>hour</th>\n",
       "      <td>-0.01</td>\n",
       "      <td>-0.01</td>\n",
       "      <td>1.00</td>\n",
       "      <td>-0.00</td>\n",
       "      <td>0.12</td>\n",
       "      <td>0.02</td>\n",
       "      <td>-0.01</td>\n",
       "      <td>-0.01</td>\n",
       "      <td>0.03</td>\n",
       "      <td>-0.06</td>\n",
       "    </tr>\n",
       "    <tr>\n",
       "      <th>weekday</th>\n",
       "      <td>-0.01</td>\n",
       "      <td>-0.01</td>\n",
       "      <td>-0.00</td>\n",
       "      <td>1.00</td>\n",
       "      <td>0.99</td>\n",
       "      <td>0.07</td>\n",
       "      <td>-0.01</td>\n",
       "      <td>-0.01</td>\n",
       "      <td>0.08</td>\n",
       "      <td>-0.02</td>\n",
       "    </tr>\n",
       "    <tr>\n",
       "      <th>weekday_fl</th>\n",
       "      <td>-0.01</td>\n",
       "      <td>-0.01</td>\n",
       "      <td>0.12</td>\n",
       "      <td>0.99</td>\n",
       "      <td>1.00</td>\n",
       "      <td>0.08</td>\n",
       "      <td>-0.01</td>\n",
       "      <td>-0.01</td>\n",
       "      <td>0.08</td>\n",
       "      <td>-0.03</td>\n",
       "    </tr>\n",
       "    <tr>\n",
       "      <th>mob</th>\n",
       "      <td>0.04</td>\n",
       "      <td>0.08</td>\n",
       "      <td>0.02</td>\n",
       "      <td>0.07</td>\n",
       "      <td>0.08</td>\n",
       "      <td>1.00</td>\n",
       "      <td>0.06</td>\n",
       "      <td>0.09</td>\n",
       "      <td>0.32</td>\n",
       "      <td>-0.13</td>\n",
       "    </tr>\n",
       "    <tr>\n",
       "      <th>vup</th>\n",
       "      <td>0.95</td>\n",
       "      <td>0.97</td>\n",
       "      <td>-0.01</td>\n",
       "      <td>-0.01</td>\n",
       "      <td>-0.01</td>\n",
       "      <td>0.06</td>\n",
       "      <td>1.00</td>\n",
       "      <td>0.37</td>\n",
       "      <td>-0.18</td>\n",
       "      <td>0.02</td>\n",
       "    </tr>\n",
       "    <tr>\n",
       "      <th>vdo</th>\n",
       "      <td>0.07</td>\n",
       "      <td>0.59</td>\n",
       "      <td>-0.01</td>\n",
       "      <td>-0.01</td>\n",
       "      <td>-0.01</td>\n",
       "      <td>0.09</td>\n",
       "      <td>0.37</td>\n",
       "      <td>1.00</td>\n",
       "      <td>-0.19</td>\n",
       "      <td>0.01</td>\n",
       "    </tr>\n",
       "    <tr>\n",
       "      <th>is_answer</th>\n",
       "      <td>-0.14</td>\n",
       "      <td>-0.21</td>\n",
       "      <td>0.03</td>\n",
       "      <td>0.08</td>\n",
       "      <td>0.08</td>\n",
       "      <td>0.32</td>\n",
       "      <td>-0.18</td>\n",
       "      <td>-0.19</td>\n",
       "      <td>1.00</td>\n",
       "      <td>-0.14</td>\n",
       "    </tr>\n",
       "    <tr>\n",
       "      <th>con_len</th>\n",
       "      <td>0.01</td>\n",
       "      <td>0.02</td>\n",
       "      <td>-0.06</td>\n",
       "      <td>-0.02</td>\n",
       "      <td>-0.03</td>\n",
       "      <td>-0.13</td>\n",
       "      <td>0.02</td>\n",
       "      <td>0.01</td>\n",
       "      <td>-0.14</td>\n",
       "      <td>1.00</td>\n",
       "    </tr>\n",
       "  </tbody>\n",
       "</table>\n",
       "</div>"
      ],
      "text/plain": [
       "            score  contr  hour  weekday  weekday_fl   mob   vup   vdo  \\\n",
       "score        1.00   0.85 -0.01    -0.01       -0.01  0.04  0.95  0.07   \n",
       "contr        0.85   1.00 -0.01    -0.01       -0.01  0.08  0.97  0.59   \n",
       "hour        -0.01  -0.01  1.00    -0.00        0.12  0.02 -0.01 -0.01   \n",
       "weekday     -0.01  -0.01 -0.00     1.00        0.99  0.07 -0.01 -0.01   \n",
       "weekday_fl  -0.01  -0.01  0.12     0.99        1.00  0.08 -0.01 -0.01   \n",
       "mob          0.04   0.08  0.02     0.07        0.08  1.00  0.06  0.09   \n",
       "vup          0.95   0.97 -0.01    -0.01       -0.01  0.06  1.00  0.37   \n",
       "vdo          0.07   0.59 -0.01    -0.01       -0.01  0.09  0.37  1.00   \n",
       "is_answer   -0.14  -0.21  0.03     0.08        0.08  0.32 -0.18 -0.19   \n",
       "con_len      0.01   0.02 -0.06    -0.02       -0.03 -0.13  0.02  0.01   \n",
       "\n",
       "            is_answer  con_len  \n",
       "score           -0.14     0.01  \n",
       "contr           -0.21     0.02  \n",
       "hour             0.03    -0.06  \n",
       "weekday          0.08    -0.02  \n",
       "weekday_fl       0.08    -0.03  \n",
       "mob              0.32    -0.13  \n",
       "vup             -0.18     0.02  \n",
       "vdo             -0.19     0.01  \n",
       "is_answer        1.00    -0.14  \n",
       "con_len         -0.14     1.00  "
      ]
     },
     "execution_count": 13,
     "metadata": {},
     "output_type": "execute_result"
    }
   ],
   "source": [
    "# Only for these columns\n",
    "cols = ['score', 'contr', 'hour', 'weekday', 'weekday_fl', 'mob', 'vup', 'vdo', 'is_answer', 'con_len']\n",
    "\n",
    "# Change back how float is displayed\n",
    "pd.options.display.float_format = '{:.2f}'.format\n",
    "\n",
    "# Get pearson co-efficients\n",
    "df_corr = df_com[cols].corr()\n",
    "df_corr\n",
    "\n",
    "# Summary:\n",
    "# Correlations are low.\n",
    "# The only interesting correlation is between 'vup' and 'vdo'."
   ]
  },
  {
   "cell_type": "markdown",
   "metadata": {},
   "source": [
    "### Scatter plots"
   ]
  },
  {
   "cell_type": "code",
   "execution_count": 14,
   "metadata": {},
   "outputs": [
    {
     "data": {
      "image/png": "[encoded data removed]",
      "text/plain": [
       "<matplotlib.figure.Figure at 0x11bdfa748>"
      ]
     },
     "metadata": {},
     "output_type": "display_data"
    }
   ],
   "source": [
    "#sns.pairplot(df_com, x_vars='vup', y_vars='vdo', size=6)\n",
    "sns.regplot(x='vup', y='vdo', data=df_com[df_com['is_answer'] == False])\n",
    "sns.regplot(x='vup', y='vdo', data=df_com[df_com['is_answer'] == True])\n",
    "plt.show()\n",
    "\n",
    "# Quite some outliers\n",
    "# Are rows with upvotes of over 1000 real?\n",
    "# Looked some of them up manually and yes, they have a lot of upvotes (3000+)\n",
    "# Answers are rather downvoted than upvoted (as can already be seen in the correlation matrix)"
   ]
  },
  {
   "cell_type": "code",
   "execution_count": 35,
   "metadata": {},
   "outputs": [
    {
     "data": {
      "image/png": "[encoded data removed]",
      "text/plain": [
       "<matplotlib.figure.Figure at 0x11d1dbb70>"
      ]
     },
     "metadata": {},
     "output_type": "display_data"
    }
   ],
   "source": [
    "#sns.regplot(x='vup', y='vdo', data=df_com[df_com['vup'] < 200])\n",
    "#sns.regplot(x='con_len', y='score', data=df_com)\n",
    "#plt.show()"
   ]
  },
  {
   "cell_type": "markdown",
   "metadata": {},
   "source": [
    "### Prediction\n",
    "Ok... I want to know:\n",
    "* How to get the best score/consensus (upvotes - downvotes)?\n",
    "* How to be most controversial (upvotes + downvotes)?\n",
    "* Which articles go most score / were most controversial (sum over all comments)?\n",
    "\n",
    "...And in the end I want a model predicting my comment text with given day and hour of posting.\n",
    "\n",
    "Impact will be taken into account from:\n",
    "* Hour of comment\n",
    "* Weekday\n",
    "* Weekday + hour = Hour of week\n",
    "* text written\n",
    "* title written / if title is an answer (starts with \"@\")\n",
    "* if from mobile (makes no sense, but let's see what happens)\n",
    "* article text\n",
    "* article category\n",
    "* ...?\n",
    "\n",
    "Problem:\n",
    "* Some parts are computationally expensive / the ipython kernel has problems running it sometimes"
   ]
  },
  {
   "cell_type": "code",
   "execution_count": 89,
   "metadata": {},
   "outputs": [
    {
     "data": {
      "image/png": "[encoded data removed]",
      "text/plain": [
       "<matplotlib.figure.Figure at 0x11f980b70>"
      ]
     },
     "metadata": {},
     "output_type": "display_data"
    },
    {
     "data": {
      "image/png": "[encoded data removed]",
      "text/plain": [
       "<matplotlib.figure.Figure at 0x1202ba7f0>"
      ]
     },
     "metadata": {},
     "output_type": "display_data"
    }
   ],
   "source": [
    "df_com['tit'] = df_com['tit'].str.lower()\n",
    "df_com['con'] = df_com['con'].str.lower()\n",
    "\n",
    "def get_category(link):\n",
    "    t = link.split('/')\n",
    "    if len(t) <= 1:\n",
    "        return ''\n",
    "    else:\n",
    "        return t[1]\n",
    "\n",
    "df_art['cat'] = df_art['link'].apply(get_category)\n",
    "df_art['header_len'] = df_art['header'].apply(lambda x: len(x))\n",
    "df_art['text_len'] = df_art['text'].apply(lambda x: len(str(x)))\n",
    "\n",
    "# Left inner join\n",
    "df_merge = pd.merge(left=df_com, right=df_art, left_on='tId', right_on='tId')\n",
    "\n",
    "# Hist\n",
    "h = df_merge.groupby(['cat']).size()\n",
    "h.plot.bar(title='Number of comments per category')\n",
    "plt.show()\n",
    "\n",
    "# Distribution\n",
    "ax = sns.violinplot(x=\"cat\", y=\"score\", data=df_merge)\n",
    "ax.set_title('Distribution per category')\n",
    "plt.xticks(rotation = 90)\n",
    "plt.show()\n",
    "\n",
    "# Part of mobile users, not interesting enough\n",
    "#parts_mob = df_merge[df_merge['mob'] == True].groupby(['cat']).size() / df_merge.groupby(['cat']).size()\n",
    "#parts_mob.plot.bar(title='Mobile comments per category')\n",
    "#plt.show()\n",
    "\n",
    "# is empty: (= all comments correspond to an article)\n",
    "#print(df_merge[pd.isnull(df_merge['link'])])\n",
    "#df_merge[df_merge['vup']>1000]\n",
    "\n",
    "# Get order of comments per article\n",
    "df_merge_art = df_merge.sort_values(['tId', 'time_since_epoch']).groupby('tId')\n",
    "# Get time since the first comment\n",
    "def get_time_since_first(group):\n",
    "    first = group.iloc[:1]['time_since_epoch']\n",
    "    group['time_since_first'] = group['time_since_epoch'].apply(lambda x: (x - first) / 3600)\n",
    "    # Remove those very late comments, after x hours\n",
    "    group = group[group['time_since_first'] < 36]\n",
    "    return group\n",
    "\n",
    "df_merge_art = df_merge_art.apply(get_time_since_first)\n",
    "\n",
    "df_merge_art = df_merge_art[df_merge_art['score'] < 1000]\n",
    "\n",
    "#ax = sns.regplot(x='time_since_first', y='contr', label='contr', data=df_merge_art)\n",
    "#ax = sns.regplot(x='time_since_first', y='score', label='score', data=df_merge_art)\n",
    "#ax.legend()\n",
    "#plt.show()\n",
    "\n",
    "    \n",
    "# Summary:\n",
    "# Score / contr are only possible in certain categories \n",
    "#    - the categories with lots of active users\n",
    "#    - probably the categories with lots of comments (see hist)\n",
    "# The time of posting compared to the first comment is not as important as I expected it to be\n",
    "# Exception: Some early comments make it into \"top comments\" and get very high scores/contr\n",
    "# But we can say the comment has to be posted about < ~12h after the first comment"
   ]
  },
  {
   "cell_type": "code",
   "execution_count": 90,
   "metadata": {},
   "outputs": [
    {
     "data": {
      "image/png": "[encoded data removed]",
      "text/plain": [
       "<matplotlib.figure.Figure at 0x11e940ef0>"
      ]
     },
     "metadata": {},
     "output_type": "display_data"
    },
    {
     "data": {
      "image/png": "[encoded data removed]",
      "text/plain": [
       "<matplotlib.figure.Figure at 0x1200f2240>"
      ]
     },
     "metadata": {},
     "output_type": "display_data"
    },
    {
     "data": {
      "image/png": "[encoded data removed]",
      "text/plain": [
       "<matplotlib.figure.Figure at 0x11fc2fba8>"
      ]
     },
     "metadata": {},
     "output_type": "display_data"
    },
    {
     "data": {
      "image/png": "[encoded data removed]",
      "text/plain": [
       "<matplotlib.figure.Figure at 0x11102c080>"
      ]
     },
     "metadata": {},
     "output_type": "display_data"
    },
    {
     "data": {
      "image/png": "[encoded data removed]",
      "text/plain": [
       "<matplotlib.figure.Figure at 0x11f057940>"
      ]
     },
     "metadata": {},
     "output_type": "display_data"
    },
    {
     "data": {
      "image/png": "[encoded data removed]",
      "text/plain": [
       "<matplotlib.figure.Figure at 0x124d75860>"
      ]
     },
     "metadata": {},
     "output_type": "display_data"
    },
    {
     "data": {
      "image/png": "[encoded data removed]",
      "text/plain": [
       "<matplotlib.figure.Figure at 0x11fc05fd0>"
      ]
     },
     "metadata": {},
     "output_type": "display_data"
    },
    {
     "data": {
      "image/png": "[encoded data removed]",
      "text/plain": [
       "<matplotlib.figure.Figure at 0x11ce007b8>"
      ]
     },
     "metadata": {},
     "output_type": "display_data"
    },
    {
     "data": {
      "image/png": "[encoded data removed]",
      "text/plain": [
       "<matplotlib.figure.Figure at 0x11f265be0>"
      ]
     },
     "metadata": {},
     "output_type": "display_data"
    },
    {
     "data": {
      "image/png": "[encoded data removed]",
      "text/plain": [
       "<matplotlib.figure.Figure at 0x120d306a0>"
      ]
     },
     "metadata": {},
     "output_type": "display_data"
    },
    {
     "data": {
      "image/png": "[encoded data removed]",
      "text/plain": [
       "<matplotlib.figure.Figure at 0x11cb40668>"
      ]
     },
     "metadata": {},
     "output_type": "display_data"
    },
    {
     "data": {
      "image/png": "[encoded data removed]",
      "text/plain": [
       "<matplotlib.figure.Figure at 0x111638c18>"
      ]
     },
     "metadata": {},
     "output_type": "display_data"
    }
   ],
   "source": [
    "# Try around to see how columns are distributed\n",
    "# And do some feature engineering\n",
    "import math\n",
    "\n",
    "def show_hist(col):\n",
    "    df_merge_art['bins'] = pd.cut(df_merge_art[col], 100)\n",
    "    h = df_merge_art.groupby(['bins']).size().plot.bar(title=col)\n",
    "    plt.gca().get_xaxis().set_visible(False)\n",
    "    plt.show()\n",
    "\n",
    "'''\n",
    "from sklearn.preprocessing import Normalizer, RobustScaler, MinMaxScaler\n",
    "#scaler = Normalizer()\n",
    "scaler = RobustScaler(quantile_range=(25, 75))\n",
    "df_merge_art['score_scaled'] = scaler.fit_transform(df_merge_art['score'])\n",
    "#print(df_merge_art['score_scaled'])\n",
    "#show_hist('score_scaled')\n",
    "'''\n",
    "#max_val = df_merge_art['weekday_fl'].max()\n",
    "#df_merge_art['weekday_fl_arcsin'] = df_merge_art['weekday_fl'].apply(lambda x: math.asin(x/max_val))\n",
    "    \n",
    "for col in ['weekday_fl', 'con_len', 'header_len', 'text_len', 'time_since_first', \n",
    "            'score', 'contr']:\n",
    "    show_hist(col)\n",
    "    \n",
    "for col in ['con_len', 'text_len', 'time_since_first', 'score', 'contr']:\n",
    "    min_val = df_merge_art[col].min()\n",
    "    df_merge_art[col + '_log'] = df_merge_art[col].apply(lambda x: math.log(x+1-min_val))\n",
    "    show_hist(col + '_log')\n",
    "    \n",
    "# Log doesn't work on score, the outliers are too extreme"
   ]
  },
  {
   "cell_type": "code",
   "execution_count": 17,
   "metadata": {},
   "outputs": [
    {
     "data": {
      "image/png": "[encoded data removed]",
      "text/plain": [
       "<matplotlib.figure.Figure at 0x11c3fec18>"
      ]
     },
     "metadata": {},
     "output_type": "display_data"
    },
    {
     "data": {
      "image/png": "[encoded data removed]",
      "text/plain": [
       "<matplotlib.figure.Figure at 0x11c6d1b00>"
      ]
     },
     "metadata": {},
     "output_type": "display_data"
    }
   ],
   "source": [
    "# Plot hist and heat map against weekdays\n",
    "weekdays = ['Mo', 'Tu', 'We', 'Th', 'Fr', 'Sa', 'Su']\n",
    "\n",
    "sns.set(color_codes=True)\n",
    "ax = sns.distplot(df_com[df_com['score']>50]['weekday_fl'], label='score', kde=False)\n",
    "ax = sns.distplot(df_com[df_com['contr']>50]['weekday_fl'], label='contr', kde=False)\n",
    "#ax.set(xticks=range(0, len(weekdays)), xticklabels=weekdays) # This is misleading\n",
    "ax.legend()\n",
    "plt.show()\n",
    "grouped = df_com[df_com['score']>50].groupby(['weekday', 'hour']).size()\n",
    "matrix = np.zeros((7, 24))\n",
    "for d in range(0, 6):\n",
    "    for h in range(0, 24):\n",
    "        if d in grouped and h in grouped[d]:\n",
    "            matrix[d][h] = grouped[d][h]\n",
    "\n",
    "sns.heatmap(matrix, yticklabels=weekdays)\n",
    "plt.show()\n",
    "\n",
    "# 0 = Monday, 7 = Sunday\n",
    "# Summary:\n",
    "# The day and time of posting plays a big role\n",
    "# This is probably because on certain days upvoting people are most active\n",
    "# This does not mean that posting the *same* comment on those times gives you more upvotes\n",
    "# - it may be possible, but we can't imply that (yet? / not enough data)"
   ]
  },
  {
   "cell_type": "code",
   "execution_count": 92,
   "metadata": {
    "collapsed": true
   },
   "outputs": [],
   "source": [
    "# Preprocess and split data\n",
    "\n",
    "# https://de.wikipedia.org/wiki/Liste_der_h%C3%A4ufigsten_W%C3%B6rter_der_deutschen_Sprache\n",
    "stop_words = \"die, der, und, in, zu, den, das, nicht, von, sie, ist, des, sich, mit, dem, dass, er, es, ein, ich, auf, so, eine, auch, als, an, nach, wie, im, für\"\n",
    "stop_words += \"man, aber, aus, durch, wenn, nur, war, noch, werden, bei, hat, wir, was, wird, sein, einen, welche, sind, oder, zur, um, haben, einer, mir, über, ihm, diese, einem, ihr, uns\"\n",
    "stop_words += \"da, zum, kann, doch, vor, dieser, mich, ihn, du, hatte, seine, mehr, am, denn, nun, unter, sehr, selbst, schon, hier\"\n",
    "stop_words += \"bis, habe, ihre, dann, ihnen, seiner, alle, wieder, meine, Zeit, gegen, vom, ganz, einzelnen, wo, muss, ohne, eines, können, sei\"\n",
    "stop_words = stop_words.lower()\n",
    "stop_words = stop_words.split(', ')\n",
    "\n",
    "# Prepare data for X and y\n",
    "#from sklearn.feature_extraction.text import CountVectorizer\n",
    "\n",
    "# Preprocessor removes numbers\n",
    "#no_numbers = lambda x: re.sub(r'(\\d[\\d\\.])+', '', x.lower())\n",
    "#vect = CountVectorizer(preprocessor=no_numbers, ngram_range=(1, 1), stop_words=stop_words) # Range higher than 1 doesn't help\n",
    "\n",
    "def classify(val):\n",
    "    if val > 50: return 1\n",
    "    return 0\n",
    "\n",
    "# TODO split this?\n",
    "# For comments\n",
    "if True:\n",
    "    #X_words = vect.fit_transform(df_merge['con'])\n",
    "    columns = ['weekday', 'hour', 'time_since_first', 'time_since_first_log', \n",
    "               'con_len', 'con_len_log', 'header_len', 'text_len', 'text_len_log']\n",
    "    X = df_merge_art[columns + ['con', 'text']]\n",
    "    #X = df_merge_art[columns]\n",
    "    #X = df_merge_art[['weekday', 'hour', 'time_since_first', 'con_len', 'comb_weekday_hour', 'comb_hour_timesf']]\n",
    "    #y = df_merge_art['score'].apply(classify)\n",
    "    y = df_merge_art['score']\n",
    "# For articles, some articles have no text\n",
    "else:\n",
    "    X = vect.fit_transform(df_merge[pd.notnull(df_merge['text'])]['text'])\n",
    "    y = df_merge[pd.notnull(df_merge['text'])]['score'].apply(classify)\n",
    "\n",
    "from sklearn.model_selection import train_test_split\n",
    "X_train, X_test, y_train, y_test = train_test_split(X, y, test_size=0.2, random_state=0)\n",
    "#X_train_words, X_test_words, y_train_words, y_test_words = \n",
    "\n",
    "# Summary:\n",
    "# Removing stop words didn't help the score (didn't add information), \n",
    "#   but it makes the model easier to interpret\n",
    "# N-gram over 1 doesn't give a better score\n",
    "# min_df / max_df in CountVectorizer make no difference"
   ]
  },
  {
   "cell_type": "code",
   "execution_count": 97,
   "metadata": {},
   "outputs": [
    {
     "name": "stdout",
     "output_type": "stream",
     "text": [
      "R^2: 0.043\n",
      "\n"
     ]
    }
   ],
   "source": [
    "# Build model and test it\n",
    "# Not all imports needed - trying around\n",
    "from sklearn.preprocessing import StandardScaler, PolynomialFeatures, FunctionTransformer, MinMaxScaler\n",
    "from sklearn.metrics import r2_score, classification_report\n",
    "from sklearn.pipeline import make_pipeline, Pipeline, FeatureUnion\n",
    "from sklearn.linear_model import LinearRegression, Ridge\n",
    "from sklearn.feature_selection import SelectKBest, SelectPercentile, f_regression\n",
    "from sklearn.svm import SVC\n",
    "\n",
    "from sklearn.feature_extraction.text import CountVectorizer\n",
    "from sklearn.base import BaseEstimator, TransformerMixin\n",
    "\n",
    "class ItemSelector(BaseEstimator, TransformerMixin):\n",
    "    '''\n",
    "    Select a subset of data at a provided key.\n",
    "    key: hashable, required\n",
    "        The key corresponding to the desired value in a mappable.\n",
    "    '''\n",
    "    def __init__(self, key):\n",
    "        self.key = key\n",
    "        \n",
    "    def fit(self, x, y=None):\n",
    "        return self\n",
    "    \n",
    "    def transform(self, df):\n",
    "        return df[self.key]\n",
    "    \n",
    "no_numbers = lambda x: re.sub(r'(\\d[\\d\\.])+', '', x.lower())\n",
    "model = Pipeline([\n",
    "    ('union', FeatureUnion(\n",
    "        transformer_list=\n",
    "        [\n",
    "            ('statistics', Pipeline([\n",
    "                ('selector', ItemSelector(\n",
    "                    key=['weekday', 'hour', 'time_since_first', 'con_len',\n",
    "                        'text_len_log'])),\n",
    "                ('scaler', StandardScaler()),\n",
    "                ('polynomialfeatures', PolynomialFeatures(degree=5))\n",
    "            ])),\n",
    "            \n",
    "            # TODO add sentiment analysis here\n",
    "            # Course of dimensionality!!!\n",
    "            #('words', Pipeline([\n",
    "            #    ('selector', ItemSelector(key='con'),\n",
    "            #    ('vect', CountVectorizer(preprocessor=no_numbers, ngram_range=(1, 1), stop_words=stop_words))\n",
    "            #]))\n",
    "        ],\n",
    "        \n",
    "        transformer_weights={\n",
    "            'statistics': 1,\n",
    "            #'words': .2\n",
    "        }\n",
    "    )),\n",
    "    \n",
    "    # Params not optimized yet\n",
    "    ('model', Ridge())\n",
    "    #('model', SVC(kernel='linear', n_jobs=-1))\n",
    "])\n",
    "\n",
    "#model = make_pipeline(ItemSelector(\n",
    "#        key=['weekday', 'hour', 'time_since_first', 'con_len']),\n",
    "#        StandardScaler(), PolynomialFeatures(degree=5), Ridge(alpha=100, max_iter=10, solver='cholesky'))\n",
    "model.fit(X_train, y_train)\n",
    "y_pred = model.predict(X_test)\n",
    "print(\"R^2: %1.3f\\n\" % r2_score(y_test, y_pred))\n",
    "#print(classification_report(y_test, y_pred))\n",
    "\n",
    "'''\n",
    "# See influence of the polynomial features\n",
    "print(columns)\n",
    "features = {}\n",
    "for i, feature in enumerate(model['union'].named_steps['polynomialfeatures'].get_feature_names()):\n",
    "    features[feature] = model.named_steps['ridge'].coef_[i]\n",
    "\n",
    "for name, value in sorted(features.items(), key=lambda x:x[1], reverse=True):\n",
    "    print(\"{}\\t{}\".format(name, value))\n",
    "'''\n",
    "\n",
    "if False:\n",
    "    from sklearn.model_selection import GridSearchCV\n",
    "    param_grid = {'polynomialfeatures__degree': [2, 3, 4, 5],\n",
    "        'ridge__alpha': np.logspace(-1, 4, 6), 'ridge__max_iter': [10, 50, 100], 'ridge__solver': ['svd', 'cholesky', 'lsqr']}\n",
    "    grid = GridSearchCV(model, param_grid, cv=3, n_jobs=-1)\n",
    "    grid.fit(X_train, y_train)\n",
    "    \n",
    "    print(\"Best estimator:\\n{}\".format(grid.best_estimator_))\n",
    "    #print(\"Best coefficients:\\n{}\".format(grid.best_estimator_.named_steps[\"ridge\"].coef_))"
   ]
  },
  {
   "cell_type": "markdown",
   "metadata": {},
   "source": [
    "-----\n",
    "\n",
    "-----\n",
    "\n",
    "-----\n",
    "\n",
    "\n",
    "### Beneath is old stuff!\n",
    "\n",
    "Probably doesn't work anymore..."
   ]
  },
  {
   "cell_type": "code",
   "execution_count": 31,
   "metadata": {},
   "outputs": [
    {
     "name": "stdout",
     "output_type": "stream",
     "text": [
      "Best cross-validation score: 0.85\n",
      "Best parameters:  {'C': 0.001}\n"
     ]
    }
   ],
   "source": [
    "# CV to tune parameters\n",
    "from sklearn.svm import SVR\n",
    "from sklearn.model_selection import cross_val_score\n",
    "from sklearn.linear_model import LogisticRegression, SGDClassifier\n",
    "\n",
    "# This may take some time...\n",
    "if False:\n",
    "    from sklearn.model_selection import GridSearchCV\n",
    "    param_grid = {'C': np.logspace(-3, 1, 5)}\n",
    "    #param_grid = {'penalty': ['l2', 'elasticnet'], 'n_iter': [5, 10, 50], 'alpha': np.logspace(-5, 1, 5), 'n_jobs': [2]}\n",
    "    grid = GridSearchCV(LogisticRegression(), param_grid, cv=3)\n",
    "    #grid = GridSearchCV(SGDClassifier(), param_grid, cv=4)\n",
    "    grid.fit(X_train, y_train)\n",
    "    print(\"Best cross-validation score: {:.2f}\".format(grid.best_score_))\n",
    "    print(\"Best parameters: \", grid.best_params_)\n",
    "    \n",
    "# Summary:\n",
    "# Even a score of 0.94 is still bad because it's from cross validation"
   ]
  },
  {
   "cell_type": "code",
   "execution_count": 47,
   "metadata": {},
   "outputs": [
    {
     "name": "stdout",
     "output_type": "stream",
     "text": [
      "[ 31.61796717  29.18350035  48.2512597  ...,  26.28469895  38.21585969\n",
      "  27.25588617]\n",
      "\tR^2: 0.021\n"
     ]
    }
   ],
   "source": [
    "# Build and test a model with the parameters from above\n",
    "from sklearn.metrics import r2_score, precision_score, recall_score, f1_score\n",
    "from sklearn.linear_model import LinearRegression, LogisticRegression, SGDClassifier\n",
    "from sklearn.svm import SVC # just comparing to non-linear models \n",
    "\n",
    "model = LinearRegression()\n",
    "#model = LogisticRegression(C=1e-3)\n",
    "#model = SVC()\n",
    "#model = SGDClassifier(penalty='l2', n_iter=50, alpha=1e-3, n_jobs=2)\n",
    "model.fit(X_train, y_train)\n",
    "\n",
    "y_pred = model.predict(X_test)\n",
    "print(y_pred)\n",
    "\n",
    "print(\"\\tR^2: %1.3f\" % r2_score(y_test, y_pred))\n",
    "if False: # class predictions only\n",
    "    print(\"\\tPrecision: %1.3f\" % precision_score(y_test, y_pred))\n",
    "    print(\"\\tRecall: %1.3f\" % recall_score(y_test, y_pred))\n",
    "    print(\"\\tF1: %1.3f\\n\" % f1_score(y_test, y_pred))\n",
    "\n",
    "# Summary:\n",
    "#     Model overfits :(\n",
    "#     I have to add the dependency from weekday and hour, since their influency is too big\n",
    "#     ...now the words probably get weighted by the time they got posted"
   ]
  },
  {
   "cell_type": "code",
   "execution_count": 23,
   "metadata": {},
   "outputs": [
    {
     "name": "stdout",
     "output_type": "stream",
     "text": [
      "[[-0.21534871 -0.08570709 -0.51195525]]\n"
     ]
    },
    {
     "ename": "NotFittedError",
     "evalue": "CountVectorizer - Vocabulary wasn't fitted.",
     "output_type": "error",
     "traceback": [
      "\u001b[0;31m---------------------------------------------------------------------------\u001b[0m",
      "\u001b[0;31mNotFittedError\u001b[0m                            Traceback (most recent call last)",
      "\u001b[0;32m<ipython-input-23-e91bc0ea999a>\u001b[0m in \u001b[0;36m<module>\u001b[0;34m()\u001b[0m\n\u001b[1;32m      2\u001b[0m \u001b[0mprint\u001b[0m\u001b[0;34m(\u001b[0m\u001b[0mlogreg\u001b[0m\u001b[0;34m.\u001b[0m\u001b[0mcoef_\u001b[0m\u001b[0;34m)\u001b[0m\u001b[0;34m\u001b[0m\u001b[0m\n\u001b[1;32m      3\u001b[0m \u001b[0mcoeff_by_name\u001b[0m \u001b[0;34m=\u001b[0m \u001b[0;34m{\u001b[0m\u001b[0;34m}\u001b[0m\u001b[0;34m\u001b[0m\u001b[0m\n\u001b[0;32m----> 4\u001b[0;31m \u001b[0;32mfor\u001b[0m \u001b[0mi\u001b[0m\u001b[0;34m,\u001b[0m \u001b[0mf\u001b[0m \u001b[0;32min\u001b[0m \u001b[0menumerate\u001b[0m\u001b[0;34m(\u001b[0m\u001b[0mvect\u001b[0m\u001b[0;34m.\u001b[0m\u001b[0mget_feature_names\u001b[0m\u001b[0;34m(\u001b[0m\u001b[0;34m)\u001b[0m\u001b[0;34m)\u001b[0m\u001b[0;34m:\u001b[0m\u001b[0;34m\u001b[0m\u001b[0m\n\u001b[0m\u001b[1;32m      5\u001b[0m     \u001b[0mcoeff_by_name\u001b[0m\u001b[0;34m[\u001b[0m\u001b[0mf\u001b[0m\u001b[0;34m]\u001b[0m \u001b[0;34m=\u001b[0m \u001b[0mlogreg\u001b[0m\u001b[0;34m.\u001b[0m\u001b[0mcoef_\u001b[0m\u001b[0;34m[\u001b[0m\u001b[0;34m:\u001b[0m\u001b[0;34m,\u001b[0m \u001b[0mi\u001b[0m\u001b[0;34m]\u001b[0m\u001b[0;34m[\u001b[0m\u001b[0;36m0\u001b[0m\u001b[0;34m]\u001b[0m\u001b[0;34m\u001b[0m\u001b[0m\n\u001b[1;32m      6\u001b[0m \u001b[0;34m\u001b[0m\u001b[0m\n",
      "\u001b[0;32m/usr/local/anaconda3/lib/python3.6/site-packages/sklearn/feature_extraction/text.py\u001b[0m in \u001b[0;36mget_feature_names\u001b[0;34m(self)\u001b[0m\n\u001b[1;32m    928\u001b[0m     \u001b[0;32mdef\u001b[0m \u001b[0mget_feature_names\u001b[0m\u001b[0;34m(\u001b[0m\u001b[0mself\u001b[0m\u001b[0;34m)\u001b[0m\u001b[0;34m:\u001b[0m\u001b[0;34m\u001b[0m\u001b[0m\n\u001b[1;32m    929\u001b[0m         \u001b[0;34m\"\"\"Array mapping from feature integer indices to feature name\"\"\"\u001b[0m\u001b[0;34m\u001b[0m\u001b[0m\n\u001b[0;32m--> 930\u001b[0;31m         \u001b[0mself\u001b[0m\u001b[0;34m.\u001b[0m\u001b[0m_check_vocabulary\u001b[0m\u001b[0;34m(\u001b[0m\u001b[0;34m)\u001b[0m\u001b[0;34m\u001b[0m\u001b[0m\n\u001b[0m\u001b[1;32m    931\u001b[0m \u001b[0;34m\u001b[0m\u001b[0m\n\u001b[1;32m    932\u001b[0m         return [t for t, i in sorted(six.iteritems(self.vocabulary_),\n",
      "\u001b[0;32m/usr/local/anaconda3/lib/python3.6/site-packages/sklearn/feature_extraction/text.py\u001b[0m in \u001b[0;36m_check_vocabulary\u001b[0;34m(self)\u001b[0m\n\u001b[1;32m    276\u001b[0m         \u001b[0;34m\"\"\"Check if vocabulary is empty or missing (not fit-ed)\"\"\"\u001b[0m\u001b[0;34m\u001b[0m\u001b[0m\n\u001b[1;32m    277\u001b[0m         \u001b[0mmsg\u001b[0m \u001b[0;34m=\u001b[0m \u001b[0;34m\"%(name)s - Vocabulary wasn't fitted.\"\u001b[0m\u001b[0;34m\u001b[0m\u001b[0m\n\u001b[0;32m--> 278\u001b[0;31m         \u001b[0mcheck_is_fitted\u001b[0m\u001b[0;34m(\u001b[0m\u001b[0mself\u001b[0m\u001b[0;34m,\u001b[0m \u001b[0;34m'vocabulary_'\u001b[0m\u001b[0;34m,\u001b[0m \u001b[0mmsg\u001b[0m\u001b[0;34m=\u001b[0m\u001b[0mmsg\u001b[0m\u001b[0;34m)\u001b[0m\u001b[0;34m,\u001b[0m\u001b[0;34m\u001b[0m\u001b[0m\n\u001b[0m\u001b[1;32m    279\u001b[0m \u001b[0;34m\u001b[0m\u001b[0m\n\u001b[1;32m    280\u001b[0m         \u001b[0;32mif\u001b[0m \u001b[0mlen\u001b[0m\u001b[0;34m(\u001b[0m\u001b[0mself\u001b[0m\u001b[0;34m.\u001b[0m\u001b[0mvocabulary_\u001b[0m\u001b[0;34m)\u001b[0m \u001b[0;34m==\u001b[0m \u001b[0;36m0\u001b[0m\u001b[0;34m:\u001b[0m\u001b[0;34m\u001b[0m\u001b[0m\n",
      "\u001b[0;32m/usr/local/anaconda3/lib/python3.6/site-packages/sklearn/utils/validation.py\u001b[0m in \u001b[0;36mcheck_is_fitted\u001b[0;34m(estimator, attributes, msg, all_or_any)\u001b[0m\n\u001b[1;32m    688\u001b[0m     \u001b[0;32mif\u001b[0m \u001b[0;32mnot\u001b[0m \u001b[0mall_or_any\u001b[0m\u001b[0;34m(\u001b[0m\u001b[0;34m[\u001b[0m\u001b[0mhasattr\u001b[0m\u001b[0;34m(\u001b[0m\u001b[0mestimator\u001b[0m\u001b[0;34m,\u001b[0m \u001b[0mattr\u001b[0m\u001b[0;34m)\u001b[0m \u001b[0;32mfor\u001b[0m \u001b[0mattr\u001b[0m \u001b[0;32min\u001b[0m \u001b[0mattributes\u001b[0m\u001b[0;34m]\u001b[0m\u001b[0;34m)\u001b[0m\u001b[0;34m:\u001b[0m\u001b[0;34m\u001b[0m\u001b[0m\n\u001b[1;32m    689\u001b[0m         \u001b[0;31m# FIXME NotFittedError_ --> NotFittedError in 0.19\u001b[0m\u001b[0;34m\u001b[0m\u001b[0;34m\u001b[0m\u001b[0m\n\u001b[0;32m--> 690\u001b[0;31m         \u001b[0;32mraise\u001b[0m \u001b[0m_NotFittedError\u001b[0m\u001b[0;34m(\u001b[0m\u001b[0mmsg\u001b[0m \u001b[0;34m%\u001b[0m \u001b[0;34m{\u001b[0m\u001b[0;34m'name'\u001b[0m\u001b[0;34m:\u001b[0m \u001b[0mtype\u001b[0m\u001b[0;34m(\u001b[0m\u001b[0mestimator\u001b[0m\u001b[0;34m)\u001b[0m\u001b[0;34m.\u001b[0m\u001b[0m__name__\u001b[0m\u001b[0;34m}\u001b[0m\u001b[0;34m)\u001b[0m\u001b[0;34m\u001b[0m\u001b[0m\n\u001b[0m\u001b[1;32m    691\u001b[0m \u001b[0;34m\u001b[0m\u001b[0m\n\u001b[1;32m    692\u001b[0m \u001b[0;34m\u001b[0m\u001b[0m\n",
      "\u001b[0;31mNotFittedError\u001b[0m: CountVectorizer - Vocabulary wasn't fitted."
     ]
    }
   ],
   "source": [
    "# Understand how coefficients are set / which words are important\n",
    "print(logreg.coef_)\n",
    "coeff_by_name = {}\n",
    "for i, f in enumerate(vect.get_feature_names()):\n",
    "    coeff_by_name[f] = logreg.coef_[:, i][0]\n",
    "\n",
    "coeff_sorted = sorted(coeff_by_name.items(), key=lambda x:x[1], reverse=True)\n",
    "\n",
    "for c in coeff_sorted[0:30]:\n",
    "    print(\"{}\\t{}\".format(c[0], c[1]))\n",
    "print(\"----------\")\n",
    "for c in coeff_sorted[-30:]:\n",
    "    print(\"{}\\t{}\".format(c[0], c[1]))\n",
    "\n",
    "# Summary comments:\n",
    "# It seems that making positive comments about something bad that happened\n",
    "#     gives a lot of upvotes\n",
    "# Downvotes seem to be received for grumbling and arguing\n",
    "\n",
    "# Summary articles:\n",
    "# ~ Ranting about the 20min app etc. gives downvotes\n",
    "# ~ Ranting about weapons, police, showing sympathy gives upvotes\n",
    "\n"
   ]
  },
  {
   "cell_type": "markdown",
   "metadata": {
    "collapsed": true
   },
   "source": [
    "### Take Aways so far\n",
    "Context seems to play a big role in determining up/downvotes, a far bigger role than words used. - This is not surprising, since the number of active readers differs a lot and since words can change their meaning depending on context.  \n",
    "So maybe the content is not that important, maybe it's more important if it is positive or negative?  \n",
    "Hypothesis: Earlier comments on an article get more score/contr than later ones (have to check that).\n",
    "\n",
    "Next steps:\n",
    "* Build a model for sentiment analysis (maybe start with a simple one, classifying with certain words)\n",
    "* Explore for and then maybe build prediction model with features: weekday and hour of posting, order of comment (let's continuous first), length of comment (maybe), if it's a positive, neutral or negative one"
   ]
  },
  {
   "cell_type": "code",
   "execution_count": null,
   "metadata": {
    "collapsed": true
   },
   "outputs": [],
   "source": []
  }
 ],
 "metadata": {
  "kernelspec": {
   "display_name": "Python 3",
   "language": "python",
   "name": "python3"
  },
  "language_info": {
   "codemirror_mode": {
    "name": "ipython",
    "version": 3
   },
   "file_extension": ".py",
   "mimetype": "text/x-python",
   "name": "python",
   "nbconvert_exporter": "python",
   "pygments_lexer": "ipython3",
   "version": "3.6.1"
  }
 },
 "nbformat": 4,
 "nbformat_minor": 2
}
