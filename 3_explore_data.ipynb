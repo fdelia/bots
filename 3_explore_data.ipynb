{
 "cells": [
  {
   "cell_type": "markdown",
   "metadata": {},
   "source": [
    "# Exploratory Data Analysis\n",
    "\n",
    "&lt; Work in progress &gt;\n"
   ]
  },
  {
   "cell_type": "code",
   "execution_count": 104,
   "metadata": {
    "collapsed": true
   },
   "outputs": [],
   "source": [
    "%matplotlib inline\n",
    "import re\n",
    "import numpy as np\n",
    "import matplotlib.pyplot as plt\n",
    "# Not necessary, but I like the ggplot style better\n",
    "plt.style.use('ggplot')\n",
    "\n",
    "import seaborn as sns\n",
    "\n",
    "import warnings\n",
    "warnings.filterwarnings('ignore')\n",
    "\n",
    "import pandas as pd\n",
    "df_art = pd.read_csv('articles_2017_08.csv')\n",
    "df_com = pd.read_csv('comments_2017_08.csv').sample(20000) # crop because battery life, skews data\n",
    "# Make float better readable\n",
    "pd.options.display.float_format = '{:.0f}'.format"
   ]
  },
  {
   "cell_type": "markdown",
   "metadata": {},
   "source": [
    "### First Look"
   ]
  },
  {
   "cell_type": "code",
   "execution_count": 105,
   "metadata": {},
   "outputs": [
    {
     "data": {
      "text/html": [
       "<div>\n",
       "<style>\n",
       "    .dataframe thead tr:only-child th {\n",
       "        text-align: right;\n",
       "    }\n",
       "\n",
       "    .dataframe thead th {\n",
       "        text-align: left;\n",
       "    }\n",
       "\n",
       "    .dataframe tbody tr th {\n",
       "        vertical-align: top;\n",
       "    }\n",
       "</style>\n",
       "<table border=\"1\" class=\"dataframe\">\n",
       "  <thead>\n",
       "    <tr style=\"text-align: right;\">\n",
       "      <th></th>\n",
       "      <th>tId</th>\n",
       "      <th>article_id</th>\n",
       "      <th>updated</th>\n",
       "      <th>num_comments</th>\n",
       "      <th>link</th>\n",
       "      <th>header</th>\n",
       "      <th>sub</th>\n",
       "      <th>text</th>\n",
       "    </tr>\n",
       "  </thead>\n",
       "  <tbody>\n",
       "    <tr>\n",
       "      <th>0</th>\n",
       "      <td>18602624</td>\n",
       "      <td>18602624</td>\n",
       "      <td>1502366470</td>\n",
       "      <td>0</td>\n",
       "      <td>/schweiz/ostschweiz/story/-Er-rannte-ihm-mit-d...</td>\n",
       "      <td>«Er rannte ihm mit der Mistgabel hinterher»</td>\n",
       "      <td>Ein ehemaliger Mitarbeiter erinnert sich an se...</td>\n",
       "      <td>Der heute 22-jährige Pferdepfleger Jonas M. (N...</td>\n",
       "    </tr>\n",
       "    <tr>\n",
       "      <th>1</th>\n",
       "      <td>23276166</td>\n",
       "      <td>23276166</td>\n",
       "      <td>1502975307</td>\n",
       "      <td>0</td>\n",
       "      <td>/schweiz/basel/story/23276166</td>\n",
       "      <td>Unter Drogen und Alkohol Zugbegleiter verprügelt</td>\n",
       "      <td>von Adrian Jäggi - Unter dem Einfluss von Koka...</td>\n",
       "      <td>Der Angeklagte erinnerte sich am Donnerstag vo...</td>\n",
       "    </tr>\n",
       "    <tr>\n",
       "      <th>2</th>\n",
       "      <td>17735228</td>\n",
       "      <td>17735228</td>\n",
       "      <td>1502796186</td>\n",
       "      <td>29</td>\n",
       "      <td>/schweiz/zuerich/story/Limmatschwimmen-findet-...</td>\n",
       "      <td>Limmatschwimmen findet am Samstag nicht statt</td>\n",
       "      <td>Der Zürcher Traditionsanlass musste verschoben...</td>\n",
       "      <td>Das Zürcher Limmatschwimmen findet am kommende...</td>\n",
       "    </tr>\n",
       "  </tbody>\n",
       "</table>\n",
       "</div>"
      ],
      "text/plain": [
       "        tId  article_id    updated  num_comments  \\\n",
       "0  18602624    18602624 1502366470             0   \n",
       "1  23276166    23276166 1502975307             0   \n",
       "2  17735228    17735228 1502796186            29   \n",
       "\n",
       "                                                link  \\\n",
       "0  /schweiz/ostschweiz/story/-Er-rannte-ihm-mit-d...   \n",
       "1                      /schweiz/basel/story/23276166   \n",
       "2  /schweiz/zuerich/story/Limmatschwimmen-findet-...   \n",
       "\n",
       "                                             header  \\\n",
       "0       «Er rannte ihm mit der Mistgabel hinterher»   \n",
       "1  Unter Drogen und Alkohol Zugbegleiter verprügelt   \n",
       "2     Limmatschwimmen findet am Samstag nicht statt   \n",
       "\n",
       "                                                 sub  \\\n",
       "0  Ein ehemaliger Mitarbeiter erinnert sich an se...   \n",
       "1  von Adrian Jäggi - Unter dem Einfluss von Koka...   \n",
       "2  Der Zürcher Traditionsanlass musste verschoben...   \n",
       "\n",
       "                                                text  \n",
       "0  Der heute 22-jährige Pferdepfleger Jonas M. (N...  \n",
       "1  Der Angeklagte erinnerte sich am Donnerstag vo...  \n",
       "2  Das Zürcher Limmatschwimmen findet am kommende...  "
      ]
     },
     "execution_count": 105,
     "metadata": {},
     "output_type": "execute_result"
    }
   ],
   "source": [
    "df_art.head(3)"
   ]
  },
  {
   "cell_type": "code",
   "execution_count": 106,
   "metadata": {},
   "outputs": [
    {
     "data": {
      "text/html": [
       "<div>\n",
       "<style>\n",
       "    .dataframe thead tr:only-child th {\n",
       "        text-align: right;\n",
       "    }\n",
       "\n",
       "    .dataframe thead th {\n",
       "        text-align: left;\n",
       "    }\n",
       "\n",
       "    .dataframe tbody tr th {\n",
       "        vertical-align: top;\n",
       "    }\n",
       "</style>\n",
       "<table border=\"1\" class=\"dataframe\">\n",
       "  <thead>\n",
       "    <tr style=\"text-align: right;\">\n",
       "      <th></th>\n",
       "      <th>tId</th>\n",
       "      <th>cId</th>\n",
       "      <th>mob</th>\n",
       "      <th>vup</th>\n",
       "      <th>vdo</th>\n",
       "      <th>tit</th>\n",
       "      <th>aut</th>\n",
       "      <th>time</th>\n",
       "      <th>con</th>\n",
       "    </tr>\n",
       "  </thead>\n",
       "  <tbody>\n",
       "    <tr>\n",
       "      <th>0</th>\n",
       "      <td>12156634</td>\n",
       "      <td>23_23</td>\n",
       "      <td>0</td>\n",
       "      <td>44</td>\n",
       "      <td>9</td>\n",
       "      <td>Im Falle der Dieselversion ...</td>\n",
       "      <td>I the Jury</td>\n",
       "      <td>am 10.08.2017 09:28</td>\n",
       "      <td>... sollte es eher heissen, so hätte er sich ...</td>\n",
       "    </tr>\n",
       "    <tr>\n",
       "      <th>1</th>\n",
       "      <td>30098829</td>\n",
       "      <td>157_157</td>\n",
       "      <td>1</td>\n",
       "      <td>11</td>\n",
       "      <td>71</td>\n",
       "      <td>So ein Blödsinn</td>\n",
       "      <td>Ady</td>\n",
       "      <td>am 17.08.2017 19:45</td>\n",
       "      <td>Was da wieder verbreitet wird das hat doch ga...</td>\n",
       "    </tr>\n",
       "    <tr>\n",
       "      <th>2</th>\n",
       "      <td>25832613</td>\n",
       "      <td>1_1</td>\n",
       "      <td>1</td>\n",
       "      <td>295</td>\n",
       "      <td>29</td>\n",
       "      <td>hör mir auf mit diesem Seich!</td>\n",
       "      <td>Franz H.</td>\n",
       "      <td>am 04.08.2017 20:30</td>\n",
       "      <td>Next - Neue Studie: Wer viel Crack raucht, le...</td>\n",
       "    </tr>\n",
       "  </tbody>\n",
       "</table>\n",
       "</div>"
      ],
      "text/plain": [
       "        tId      cId  mob  vup  vdo                             tit  \\\n",
       "0  12156634    23_23    0   44    9  Im Falle der Dieselversion ...   \n",
       "1  30098829  157_157    1   11   71                 So ein Blödsinn   \n",
       "2  25832613      1_1    1  295   29   hör mir auf mit diesem Seich!   \n",
       "\n",
       "          aut                 time  \\\n",
       "0  I the Jury  am 10.08.2017 09:28   \n",
       "1         Ady  am 17.08.2017 19:45   \n",
       "2    Franz H.  am 04.08.2017 20:30   \n",
       "\n",
       "                                                 con  \n",
       "0   ... sollte es eher heissen, so hätte er sich ...  \n",
       "1   Was da wieder verbreitet wird das hat doch ga...  \n",
       "2   Next - Neue Studie: Wer viel Crack raucht, le...  "
      ]
     },
     "execution_count": 106,
     "metadata": {},
     "output_type": "execute_result"
    }
   ],
   "source": [
    "df_com.head(3)"
   ]
  },
  {
   "cell_type": "code",
   "execution_count": 107,
   "metadata": {},
   "outputs": [
    {
     "name": "stdout",
     "output_type": "stream",
     "text": [
      "(1952, 8)\n",
      "(158387, 9)\n"
     ]
    }
   ],
   "source": [
    "print(df_art.shape)\n",
    "print(df_com.shape)"
   ]
  },
  {
   "cell_type": "code",
   "execution_count": 108,
   "metadata": {},
   "outputs": [
    {
     "name": "stdout",
     "output_type": "stream",
     "text": [
      "tId               int64\n",
      "article_id        int64\n",
      "updated         float64\n",
      "num_comments      int64\n",
      "link             object\n",
      "header           object\n",
      "sub              object\n",
      "text             object\n",
      "dtype: object\n",
      " \n",
      "tId      int64\n",
      "cId     object\n",
      "mob      int64\n",
      "vup      int64\n",
      "vdo      int64\n",
      "tit     object\n",
      "aut     object\n",
      "time    object\n",
      "con     object\n",
      "dtype: object\n"
     ]
    }
   ],
   "source": [
    "print(df_art.dtypes)\n",
    "print(' ')\n",
    "print(df_com.dtypes)"
   ]
  },
  {
   "cell_type": "code",
   "execution_count": 109,
   "metadata": {},
   "outputs": [
    {
     "data": {
      "text/html": [
       "<div>\n",
       "<style>\n",
       "    .dataframe thead tr:only-child th {\n",
       "        text-align: right;\n",
       "    }\n",
       "\n",
       "    .dataframe thead th {\n",
       "        text-align: left;\n",
       "    }\n",
       "\n",
       "    .dataframe tbody tr th {\n",
       "        vertical-align: top;\n",
       "    }\n",
       "</style>\n",
       "<table border=\"1\" class=\"dataframe\">\n",
       "  <thead>\n",
       "    <tr style=\"text-align: right;\">\n",
       "      <th></th>\n",
       "      <th>tId</th>\n",
       "      <th>article_id</th>\n",
       "      <th>updated</th>\n",
       "      <th>num_comments</th>\n",
       "    </tr>\n",
       "  </thead>\n",
       "  <tbody>\n",
       "    <tr>\n",
       "      <th>count</th>\n",
       "      <td>1952</td>\n",
       "      <td>1952</td>\n",
       "      <td>1952</td>\n",
       "      <td>1952</td>\n",
       "    </tr>\n",
       "    <tr>\n",
       "      <th>mean</th>\n",
       "      <td>21134869</td>\n",
       "      <td>21124950</td>\n",
       "      <td>1502603649</td>\n",
       "      <td>82</td>\n",
       "    </tr>\n",
       "    <tr>\n",
       "      <th>std</th>\n",
       "      <td>6400116</td>\n",
       "      <td>6403022</td>\n",
       "      <td>323472</td>\n",
       "      <td>149</td>\n",
       "    </tr>\n",
       "    <tr>\n",
       "      <th>min</th>\n",
       "      <td>10003016</td>\n",
       "      <td>10003016</td>\n",
       "      <td>1502017728</td>\n",
       "      <td>0</td>\n",
       "    </tr>\n",
       "    <tr>\n",
       "      <th>25%</th>\n",
       "      <td>15660578</td>\n",
       "      <td>15642005</td>\n",
       "      <td>1502306753</td>\n",
       "      <td>0</td>\n",
       "    </tr>\n",
       "    <tr>\n",
       "      <th>50%</th>\n",
       "      <td>21201180</td>\n",
       "      <td>21173456</td>\n",
       "      <td>1502641769</td>\n",
       "      <td>29</td>\n",
       "    </tr>\n",
       "    <tr>\n",
       "      <th>75%</th>\n",
       "      <td>26735721</td>\n",
       "      <td>26735721</td>\n",
       "      <td>1502899382</td>\n",
       "      <td>93</td>\n",
       "    </tr>\n",
       "    <tr>\n",
       "      <th>max</th>\n",
       "      <td>31996579</td>\n",
       "      <td>31996579</td>\n",
       "      <td>1503033397</td>\n",
       "      <td>1838</td>\n",
       "    </tr>\n",
       "  </tbody>\n",
       "</table>\n",
       "</div>"
      ],
      "text/plain": [
       "           tId  article_id    updated  num_comments\n",
       "count     1952        1952       1952          1952\n",
       "mean  21134869    21124950 1502603649            82\n",
       "std    6400116     6403022     323472           149\n",
       "min   10003016    10003016 1502017728             0\n",
       "25%   15660578    15642005 1502306753             0\n",
       "50%   21201180    21173456 1502641769            29\n",
       "75%   26735721    26735721 1502899382            93\n",
       "max   31996579    31996579 1503033397          1838"
      ]
     },
     "execution_count": 109,
     "metadata": {},
     "output_type": "execute_result"
    }
   ],
   "source": [
    "df_art.describe()\n",
    "\n",
    "# Summary:\n",
    "# No missing attributes since count is the same everywhere\n",
    "# No negative values, chi^2 etc. can be used"
   ]
  },
  {
   "cell_type": "code",
   "execution_count": 110,
   "metadata": {},
   "outputs": [
    {
     "data": {
      "text/html": [
       "<div>\n",
       "<style>\n",
       "    .dataframe thead tr:only-child th {\n",
       "        text-align: right;\n",
       "    }\n",
       "\n",
       "    .dataframe thead th {\n",
       "        text-align: left;\n",
       "    }\n",
       "\n",
       "    .dataframe tbody tr th {\n",
       "        vertical-align: top;\n",
       "    }\n",
       "</style>\n",
       "<table border=\"1\" class=\"dataframe\">\n",
       "  <thead>\n",
       "    <tr style=\"text-align: right;\">\n",
       "      <th></th>\n",
       "      <th>tId</th>\n",
       "      <th>mob</th>\n",
       "      <th>vup</th>\n",
       "      <th>vdo</th>\n",
       "    </tr>\n",
       "  </thead>\n",
       "  <tbody>\n",
       "    <tr>\n",
       "      <th>count</th>\n",
       "      <td>158387</td>\n",
       "      <td>158387</td>\n",
       "      <td>158387</td>\n",
       "      <td>158387</td>\n",
       "    </tr>\n",
       "    <tr>\n",
       "      <th>mean</th>\n",
       "      <td>20954531</td>\n",
       "      <td>1</td>\n",
       "      <td>45</td>\n",
       "      <td>17</td>\n",
       "    </tr>\n",
       "    <tr>\n",
       "      <th>std</th>\n",
       "      <td>6289804</td>\n",
       "      <td>0</td>\n",
       "      <td>122</td>\n",
       "      <td>36</td>\n",
       "    </tr>\n",
       "    <tr>\n",
       "      <th>min</th>\n",
       "      <td>10003016</td>\n",
       "      <td>0</td>\n",
       "      <td>0</td>\n",
       "      <td>-1</td>\n",
       "    </tr>\n",
       "    <tr>\n",
       "      <th>25%</th>\n",
       "      <td>15696917</td>\n",
       "      <td>0</td>\n",
       "      <td>7</td>\n",
       "      <td>2</td>\n",
       "    </tr>\n",
       "    <tr>\n",
       "      <th>50%</th>\n",
       "      <td>20589967</td>\n",
       "      <td>1</td>\n",
       "      <td>20</td>\n",
       "      <td>6</td>\n",
       "    </tr>\n",
       "    <tr>\n",
       "      <th>75%</th>\n",
       "      <td>26586313</td>\n",
       "      <td>1</td>\n",
       "      <td>45</td>\n",
       "      <td>16</td>\n",
       "    </tr>\n",
       "    <tr>\n",
       "      <th>max</th>\n",
       "      <td>31996579</td>\n",
       "      <td>1</td>\n",
       "      <td>5847</td>\n",
       "      <td>1397</td>\n",
       "    </tr>\n",
       "  </tbody>\n",
       "</table>\n",
       "</div>"
      ],
      "text/plain": [
       "           tId    mob    vup    vdo\n",
       "count   158387 158387 158387 158387\n",
       "mean  20954531      1     45     17\n",
       "std    6289804      0    122     36\n",
       "min   10003016      0      0     -1\n",
       "25%   15696917      0      7      2\n",
       "50%   20589967      1     20      6\n",
       "75%   26586313      1     45     16\n",
       "max   31996579      1   5847   1397"
      ]
     },
     "execution_count": 110,
     "metadata": {},
     "output_type": "execute_result"
    }
   ],
   "source": [
    "df_com.describe()\n",
    "\n",
    "# Summary:\n",
    "# No missing attributes \n",
    "# No negative values"
   ]
  },
  {
   "cell_type": "code",
   "execution_count": 111,
   "metadata": {},
   "outputs": [
    {
     "name": "stdout",
     "output_type": "stream",
     "text": [
      "tId            -0\n",
      "article_id      0\n",
      "updated        -0\n",
      "num_comments    4\n",
      "dtype: float64\n"
     ]
    }
   ],
   "source": [
    "print(df_art.skew())\n",
    "# Makes only sense on 'num_comments'"
   ]
  },
  {
   "cell_type": "code",
   "execution_count": 112,
   "metadata": {},
   "outputs": [
    {
     "name": "stdout",
     "output_type": "stream",
     "text": [
      "tId    0\n",
      "cId    3\n",
      "mob   -1\n",
      "vup   13\n",
      "vdo    8\n",
      "dtype: float64\n"
     ]
    }
   ],
   "source": [
    "print(df_com.skew())\n",
    "# Skew is not high enough that it has to be corrected"
   ]
  },
  {
   "cell_type": "markdown",
   "metadata": {},
   "source": [
    "### Preprocessing\n",
    "To make further analysis possible, we'll add some columns."
   ]
  },
  {
   "cell_type": "code",
   "execution_count": 113,
   "metadata": {},
   "outputs": [],
   "source": [
    "from datetime import datetime\n",
    "from sklearn.preprocessing import LabelEncoder\n",
    "\n",
    "# Articles\n",
    "\n",
    "df_com['tit'] = df_com['tit'].str.lower()\n",
    "df_com['con'] = df_com['con'].str.lower()\n",
    "df_com['aut'] = df_com['aut'].astype('category') # saves memory\n",
    "\n",
    "def get_category(link):\n",
    "    t = link.split('/')\n",
    "    if len(t) <= 1:\n",
    "        return ''\n",
    "    else:\n",
    "        return t[1]\n",
    "\n",
    "df_art['cat'] = df_art['link'].apply(get_category).astype('category')\n",
    "lenc = LabelEncoder()\n",
    "df_art['cat_enc'] = lenc.fit_transform(df_art['cat'])\n",
    "df_art['header_len'] = df_art['header'].apply(lambda x: len(x))\n",
    "df_art['text_len'] = df_art['text'].apply(lambda x: len(str(x)))\n",
    "\n",
    "\n",
    "# Comments\n",
    "\n",
    "def get_dt_obj(time):\n",
    "    time = time.replace('am ', '')\n",
    "    # Make datetime object from string\n",
    "    return datetime.strptime(time, '%d.%m.%Y %H:%M')\n",
    "\n",
    "def time_since_epoch(time):\n",
    "    return (get_dt_obj(time)-datetime(1970,1,1)).total_seconds()\n",
    "\n",
    "def get_hour_of_day(time):\n",
    "    return get_dt_obj(time).hour\n",
    "\n",
    "def get_weekday(time):\n",
    "    return get_dt_obj(time).weekday()\n",
    "\n",
    "# Basically same as \"the hour of week\" or \"weekday_hourOfDay\"\n",
    "def get_weekday_float(time):\n",
    "    hour = float(get_hour_of_day(time))\n",
    "    weekday = get_weekday(time)\n",
    "    return float(weekday) + hour / 24\n",
    "\n",
    "#def get_weekday_hour(time):\n",
    "#    return '{}_{}'.format(get_weekday(time), get_hour_of_day(time))\n",
    "\n",
    "df_com['time_since_epoch'] = df_com['time'].apply(time_since_epoch)\n",
    "df_com['hour'] = df_com['time'].apply(get_hour_of_day)\n",
    "df_com['weekday'] = df_com['time'].apply(get_weekday) # 0 = Monday\n",
    "df_com['weekday_fl'] = df_com['time'].apply(get_weekday_float)\n",
    "#df_com['weekday_hour'] = df_com['time'].apply(get_weekday_hour)\n",
    "df_com['is_answer'] = df_com['tit'].apply(lambda x: str(x).startswith('@'))\n",
    "df_com['con_len'] = df_com['con'].apply(lambda x: len(x))\n",
    "df_com['score'] = df_com['vup'] - df_com['vdo']\n",
    "df_com['activity'] = df_com['vup'] + df_com['vdo']"
   ]
  },
  {
   "cell_type": "markdown",
   "metadata": {},
   "source": [
    "### Class Distributions"
   ]
  },
  {
   "cell_type": "code",
   "execution_count": 114,
   "metadata": {},
   "outputs": [
    {
     "data": {
      "image/png": "[encoded data removed]",
      "text/plain": [
       "<matplotlib.figure.Figure at 0x11e82e550>"
      ]
     },
     "metadata": {},
     "output_type": "display_data"
    },
    {
     "data": {
      "image/png": "[encoded data removed]",
      "text/plain": [
       "<matplotlib.figure.Figure at 0x1197ecb38>"
      ]
     },
     "metadata": {},
     "output_type": "display_data"
    }
   ],
   "source": [
    "# Articles\n",
    "df_art.groupby(['cat']).size().plot.bar(\n",
    "    title='Number of articles per category')\n",
    "plt.xlabel('')\n",
    "plt.show()\n",
    "\n",
    "# Comments\n",
    "column = ['hour', 'weekday', 'mob']\n",
    "a = df_com.hist(column=column)"
   ]
  },
  {
   "cell_type": "markdown",
   "metadata": {},
   "source": [
    "### Correlations\n",
    "Let's find relations between some of the attributes. Correlation requires continuous data."
   ]
  },
  {
   "cell_type": "code",
   "execution_count": 126,
   "metadata": {},
   "outputs": [
    {
     "data": {
      "text/html": [
       "<div>\n",
       "<style>\n",
       "    .dataframe thead tr:only-child th {\n",
       "        text-align: right;\n",
       "    }\n",
       "\n",
       "    .dataframe thead th {\n",
       "        text-align: left;\n",
       "    }\n",
       "\n",
       "    .dataframe tbody tr th {\n",
       "        vertical-align: top;\n",
       "    }\n",
       "</style>\n",
       "<table border=\"1\" class=\"dataframe\">\n",
       "  <thead>\n",
       "    <tr style=\"text-align: right;\">\n",
       "      <th></th>\n",
       "      <th>score</th>\n",
       "      <th>activity</th>\n",
       "      <th>hour</th>\n",
       "      <th>weekday</th>\n",
       "      <th>weekday_fl</th>\n",
       "      <th>mob</th>\n",
       "      <th>is_answer</th>\n",
       "      <th>con_len</th>\n",
       "    </tr>\n",
       "  </thead>\n",
       "  <tbody>\n",
       "    <tr>\n",
       "      <th>score</th>\n",
       "      <td>1.00</td>\n",
       "      <td>0.86</td>\n",
       "      <td>-0.01</td>\n",
       "      <td>-0.01</td>\n",
       "      <td>-0.01</td>\n",
       "      <td>0.04</td>\n",
       "      <td>-0.13</td>\n",
       "      <td>0.01</td>\n",
       "    </tr>\n",
       "    <tr>\n",
       "      <th>activity</th>\n",
       "      <td>0.86</td>\n",
       "      <td>1.00</td>\n",
       "      <td>-0.01</td>\n",
       "      <td>-0.00</td>\n",
       "      <td>-0.00</td>\n",
       "      <td>0.08</td>\n",
       "      <td>-0.20</td>\n",
       "      <td>0.01</td>\n",
       "    </tr>\n",
       "    <tr>\n",
       "      <th>hour</th>\n",
       "      <td>-0.01</td>\n",
       "      <td>-0.01</td>\n",
       "      <td>1.00</td>\n",
       "      <td>0.01</td>\n",
       "      <td>0.13</td>\n",
       "      <td>0.02</td>\n",
       "      <td>0.03</td>\n",
       "      <td>-0.05</td>\n",
       "    </tr>\n",
       "    <tr>\n",
       "      <th>weekday</th>\n",
       "      <td>-0.01</td>\n",
       "      <td>-0.00</td>\n",
       "      <td>0.01</td>\n",
       "      <td>1.00</td>\n",
       "      <td>0.99</td>\n",
       "      <td>0.06</td>\n",
       "      <td>0.06</td>\n",
       "      <td>-0.00</td>\n",
       "    </tr>\n",
       "    <tr>\n",
       "      <th>weekday_fl</th>\n",
       "      <td>-0.01</td>\n",
       "      <td>-0.00</td>\n",
       "      <td>0.13</td>\n",
       "      <td>0.99</td>\n",
       "      <td>1.00</td>\n",
       "      <td>0.06</td>\n",
       "      <td>0.06</td>\n",
       "      <td>-0.01</td>\n",
       "    </tr>\n",
       "    <tr>\n",
       "      <th>mob</th>\n",
       "      <td>0.04</td>\n",
       "      <td>0.08</td>\n",
       "      <td>0.02</td>\n",
       "      <td>0.06</td>\n",
       "      <td>0.06</td>\n",
       "      <td>1.00</td>\n",
       "      <td>0.31</td>\n",
       "      <td>-0.12</td>\n",
       "    </tr>\n",
       "    <tr>\n",
       "      <th>is_answer</th>\n",
       "      <td>-0.13</td>\n",
       "      <td>-0.20</td>\n",
       "      <td>0.03</td>\n",
       "      <td>0.06</td>\n",
       "      <td>0.06</td>\n",
       "      <td>0.31</td>\n",
       "      <td>1.00</td>\n",
       "      <td>-0.13</td>\n",
       "    </tr>\n",
       "    <tr>\n",
       "      <th>con_len</th>\n",
       "      <td>0.01</td>\n",
       "      <td>0.01</td>\n",
       "      <td>-0.05</td>\n",
       "      <td>-0.00</td>\n",
       "      <td>-0.01</td>\n",
       "      <td>-0.12</td>\n",
       "      <td>-0.13</td>\n",
       "      <td>1.00</td>\n",
       "    </tr>\n",
       "  </tbody>\n",
       "</table>\n",
       "</div>"
      ],
      "text/plain": [
       "            score  activity  hour  weekday  weekday_fl   mob  is_answer  \\\n",
       "score        1.00      0.86 -0.01    -0.01       -0.01  0.04      -0.13   \n",
       "activity     0.86      1.00 -0.01    -0.00       -0.00  0.08      -0.20   \n",
       "hour        -0.01     -0.01  1.00     0.01        0.13  0.02       0.03   \n",
       "weekday     -0.01     -0.00  0.01     1.00        0.99  0.06       0.06   \n",
       "weekday_fl  -0.01     -0.00  0.13     0.99        1.00  0.06       0.06   \n",
       "mob          0.04      0.08  0.02     0.06        0.06  1.00       0.31   \n",
       "is_answer   -0.13     -0.20  0.03     0.06        0.06  0.31       1.00   \n",
       "con_len      0.01      0.01 -0.05    -0.00       -0.01 -0.12      -0.13   \n",
       "\n",
       "            con_len  \n",
       "score          0.01  \n",
       "activity       0.01  \n",
       "hour          -0.05  \n",
       "weekday       -0.00  \n",
       "weekday_fl    -0.01  \n",
       "mob           -0.12  \n",
       "is_answer     -0.13  \n",
       "con_len        1.00  "
      ]
     },
     "execution_count": 126,
     "metadata": {},
     "output_type": "execute_result"
    }
   ],
   "source": [
    "# Only for these columns\n",
    "# Removed 'vup', 'vdo' because of performance\n",
    "cols = ['score', 'activity', 'hour', 'weekday', 'weekday_fl', 'mob', 'is_answer', 'con_len']\n",
    "\n",
    "# Change back how float is displayed\n",
    "pd.options.display.float_format = '{:.2f}'.format\n",
    "\n",
    "# Get pearson co-efficients\n",
    "df_corr = df_com[cols].corr()\n",
    "df_corr\n",
    "\n",
    "# Summary:\n",
    "# Correlations are low.\n",
    "# The only interesting correlation is between 'vup' and 'vdo'."
   ]
  },
  {
   "cell_type": "markdown",
   "metadata": {},
   "source": [
    "### Merging articles and comments + further preprocessing"
   ]
  },
  {
   "cell_type": "code",
   "execution_count": 116,
   "metadata": {},
   "outputs": [
    {
     "name": "stdout",
     "output_type": "stream",
     "text": [
      "Number of comments with no \"link\" from an article: 0\n"
     ]
    },
    {
     "data": {
      "image/png": "[encoded data removed]",
      "text/plain": [
       "<matplotlib.figure.Figure at 0x11f7823c8>"
      ]
     },
     "metadata": {},
     "output_type": "display_data"
    },
    {
     "data": {
      "image/png": "[encoded data removed]",
      "text/plain": [
       "<matplotlib.figure.Figure at 0x11f78b4a8>"
      ]
     },
     "metadata": {},
     "output_type": "display_data"
    }
   ],
   "source": [
    "# Left inner join\n",
    "df_merge = pd.merge(left=df_com, right=df_art, left_on='tId', right_on='tId')\n",
    "\n",
    "# is empty: (= all comments correspond to an article)\n",
    "print('Number of comments with no \"link\" from an article:', \n",
    "      len(df_merge[pd.isnull(df_merge['link'])]))\n",
    "# However 1 comment has no article text?\n",
    "df_merge = df_merge.dropna(axis=0, how='any', subset=['text'])\n",
    "\n",
    "# Hist - attention: hist now shows num of comments (not articles)\n",
    "df_merge.groupby(['cat']).size().plot.bar(\n",
    "    title='Number of comments per category')\n",
    "plt.xlabel('')\n",
    "plt.show()\n",
    "\n",
    "# Distribution\n",
    "ax = sns.violinplot(x=\"cat\", y=\"score\", data=df_merge)\n",
    "ax.set_title('Distribution of \"score\" per category')\n",
    "plt.xticks(rotation = 90)\n",
    "plt.xlabel('')\n",
    "plt.show()\n",
    "\n",
    "# Part of mobile users, not interesting enough\n",
    "#parts_mob = df_merge[df_merge['mob'] == True].groupby(['cat']).size() / df_merge.groupby(['cat']).size()\n",
    "#parts_mob.plot.bar(title='Mobile comments per category')\n",
    "#plt.show()\n",
    "\n",
    "# Get order of comments per article\n",
    "df_merge_sorted = df_merge.sort_values(['tId', 'time_since_epoch']).groupby('tId')\n",
    "\n",
    "# Add time since the first comment\n",
    "def get_time_since_first(group):\n",
    "    first = group.iloc[:1]['time_since_epoch']\n",
    "    group['time_since_first'] = group['time_since_epoch'].apply(lambda x: (x - first) / 3600)\n",
    "    # Remove those very late comments, after x hours\n",
    "    #group = group[group['time_since_first'] < 36]\n",
    "    return group\n",
    "\n",
    "df_merge_sorted = df_merge_sorted.apply(get_time_since_first)\n",
    "\n",
    "# Summary:\n",
    "# Score / activity are only possible in certain categories \n",
    "#    - the categories with lots of active users"
   ]
  },
  {
   "cell_type": "markdown",
   "metadata": {},
   "source": [
    "### Memory optimization\n",
    "\n",
    "To reduce memory usage. This is technical stuff, contributes nothing to analysis."
   ]
  },
  {
   "cell_type": "code",
   "execution_count": 117,
   "metadata": {},
   "outputs": [
    {
     "name": "stdout",
     "output_type": "stream",
     "text": [
      "Average memory usage for float64 columns: 1.22 MB\n",
      "Average memory usage for int64 columns: 1.22 MB\n",
      "Average memory usage for object columns: 112.00 MB\n",
      "Average memory usage for bool columns: 0.51 MB\n",
      "Average memory usage for category columns: 2.69 MB\n"
     ]
    }
   ],
   "source": [
    "# Optimize the data set for memory usage\n",
    "# Delete these to free memory\n",
    "try: del df_art; del df_com; del df_merge\n",
    "except: pass # if already deleted: error\n",
    "\n",
    "# Type casting columns\n",
    "df_merge_sorted['mob'] = df_merge_sorted['mob'].map({\n",
    "    1: True, 0: False\n",
    "})\n",
    "\n",
    "conv = df_merge_sorted.select_dtypes(include=['int']).apply(pd.to_numeric,downcast='unsigned')\n",
    "df_merge_sorted[conv.columns] = conv\n",
    "\n",
    "conv = df_merge_sorted.select_dtypes(include=['float']).apply(pd.to_numeric,downcast='float')\n",
    "df_merge_sorted[conv.columns] = conv\n",
    "del conv\n",
    "\n",
    "# Show memory usage per type\n",
    "#print(df_merge_sorted.info(memory_usage='deep'))\n",
    "for dtype in ['float64','int64','object', 'bool', 'category']:\n",
    "    selected_dtype = df_merge_sorted.select_dtypes(include=[dtype])\n",
    "    mean_usage_b = selected_dtype.memory_usage(deep=True).mean()\n",
    "    mean_usage_mb = mean_usage_b / 1024 ** 2\n",
    "    print(\"Average memory usage for {} columns: {:03.2f} MB\".format(dtype,mean_usage_mb))\n"
   ]
  },
  {
   "cell_type": "markdown",
   "metadata": {},
   "source": [
    "### Scatter plots\n",
    "\n",
    "We will only plot for a sample, since plotting takes a lot of time otherwise."
   ]
  },
  {
   "cell_type": "code",
   "execution_count": 118,
   "metadata": {},
   "outputs": [
    {
     "data": {
      "image/png": "[encoded data removed]",
      "text/plain": [
       "<matplotlib.figure.Figure at 0x11c275e80>"
      ]
     },
     "metadata": {},
     "output_type": "display_data"
    }
   ],
   "source": [
    "N_SAMPLE = 5000\n",
    "\n",
    "#sns.pairplot(df_com, x_vars='vup', y_vars='vdo', size=6)\n",
    "sns.regplot(x='vdo', y='vup', data=df_com[df_com['is_answer'] == False].sample(N_SAMPLE),\n",
    "            label='not answer')\n",
    "sns.regplot(x='vdo', y='vup', data=df_com[df_com['is_answer'] == True].sample(N_SAMPLE), \n",
    "            label='answer')\n",
    "plt.legend()\n",
    "plt.show()\n",
    "\n",
    "# Answers are less up- than downvoted\n",
    "# Quite some outliers\n",
    "# Are rows with upvotes of over 1000 real?\n",
    "# Looked some of them up manually and yes, they have a lot of upvotes (3000+)\n",
    "# Answers are rather downvoted than upvoted (as can already be seen in the correlation matrix)"
   ]
  },
  {
   "cell_type": "code",
   "execution_count": 119,
   "metadata": {},
   "outputs": [
    {
     "data": {
      "image/png": "[encoded data removed]",
      "text/plain": [
       "<matplotlib.figure.Figure at 0x11d84e5c0>"
      ]
     },
     "metadata": {},
     "output_type": "display_data"
    },
    {
     "data": {
      "image/png": "[encoded data removed]",
      "text/plain": [
       "<matplotlib.figure.Figure at 0x11ec0f240>"
      ]
     },
     "metadata": {},
     "output_type": "display_data"
    }
   ],
   "source": [
    "ax = sns.regplot(x='time_since_first', y='activity', label='activity', \n",
    "                 data=df_merge_sorted[df_merge_sorted['time_since_first'] < 48].sample(N_SAMPLE))\n",
    "ax = sns.regplot(x='time_since_first', y='score', label='score', \n",
    "                 data=df_merge_sorted[df_merge_sorted['time_since_first'] < 48].sample(N_SAMPLE))\n",
    "ax.legend()\n",
    "plt.title('Till 48 hours')\n",
    "plt.show()\n",
    "\n",
    "ax = sns.regplot(x='time_since_first', y='activity', label='activity', \n",
    "                 data=df_merge_sorted[df_merge_sorted['time_since_first'] < 2].sample(N_SAMPLE))\n",
    "ax = sns.regplot(x='time_since_first', y='score', label='score',\n",
    "                 data=df_merge_sorted[df_merge_sorted['time_since_first'] < 2].sample(N_SAMPLE))\n",
    "ax.legend()\n",
    "plt.title('Only first 2 hours')\n",
    "plt.show()\n",
    "\n",
    "\n",
    "# Summary:\n",
    "# The time of posting compared to the first comment is not as important as I expected it to be\n",
    "# Exception: Some early comments make it into \"top comments\" and get very high scores/activity\n",
    "# - There are comments where timce_since_first = 1000 hours ???\n",
    "\n",
    "#sns.regplot(x='vdo', y='vup', data=df_com[df_com['vup'] < 200])\n",
    "#sns.regplot(x='con_len', y='score', data=df_com)\n",
    "#plt.show()"
   ]
  },
  {
   "cell_type": "markdown",
   "metadata": {},
   "source": [
    "### Number of comments during the week"
   ]
  },
  {
   "cell_type": "code",
   "execution_count": 120,
   "metadata": {},
   "outputs": [
    {
     "data": {
      "image/png": "[encoded data removed]",
      "text/plain": [
       "<matplotlib.figure.Figure at 0x11ebc1400>"
      ]
     },
     "metadata": {},
     "output_type": "display_data"
    },
    {
     "data": {
      "image/png": "[encoded data removed]",
      "text/plain": [
       "<matplotlib.figure.Figure at 0x119163588>"
      ]
     },
     "metadata": {},
     "output_type": "display_data"
    }
   ],
   "source": [
    "# Plot hist and heat map against weekdays\n",
    "weekdays = ['Mo', 'Tu', 'We', 'Th', 'Fr', 'Sa', 'Su']\n",
    "\n",
    "sns.set(color_codes=True)\n",
    "ax = sns.distplot(df_com[df_com['score']>50]['weekday_fl'], label='score', kde=False, color='blue')\n",
    "ax = sns.distplot(df_com[df_com['activity']>50]['weekday_fl'], label='activity', kde=False, color='red')\n",
    "#ax.set(xticks=range(0, len(weekdays)), xticklabels=weekdays) # This is misleading\n",
    "ax.legend()\n",
    "plt.show()\n",
    "\n",
    "grouped = df_com[df_com['score']>0].groupby(['weekday', 'hour']).size()\n",
    "matrix = np.zeros((7, 24))\n",
    "for d in range(0, 6):\n",
    "    for h in range(0, 24):\n",
    "        if d in grouped and h in grouped[d]:\n",
    "            matrix[d][h] = grouped[d][h]\n",
    "\n",
    "sns.heatmap(matrix, yticklabels=weekdays)\n",
    "plt.show()\n",
    "\n",
    "# 0 = Monday, 7 = Sunday\n",
    "# Summary:\n",
    "# The day and time of posting probably plays a big role\n",
    "# This is probably because on certain days upvoting people are most active\n",
    "# This does not mean that posting the *same* comment on those times gives you more upvotes"
   ]
  },
  {
   "cell_type": "markdown",
   "metadata": {},
   "source": [
    "### Feature engineering"
   ]
  },
  {
   "cell_type": "code",
   "execution_count": 121,
   "metadata": {},
   "outputs": [
    {
     "data": {
      "image/png": "[encoded data removed]",
      "text/plain": [
       "<matplotlib.figure.Figure at 0x11ec01400>"
      ]
     },
     "metadata": {},
     "output_type": "display_data"
    },
    {
     "data": {
      "image/png": "[encoded data removed]",
      "text/plain": [
       "<matplotlib.figure.Figure at 0x11d840198>"
      ]
     },
     "metadata": {},
     "output_type": "display_data"
    }
   ],
   "source": [
    "# How are the columns distributed\n",
    "# Do some feature engineering\n",
    "# Then look at engineered columns\n",
    "import math\n",
    "\n",
    "column = ['weekday_fl', 'con_len', 'header_len', 'text_len', \n",
    "          'time_since_first', 'score', 'activity']\n",
    "df_merge_sorted.hist(column=column, bins=20)\n",
    "\n",
    "# Reduce skew with log()\n",
    "column_log = []\n",
    "for col in ['con_len', 'text_len', 'time_since_first', 'score', 'activity']:\n",
    "    min_val = df_merge_sorted[col].min()\n",
    "    df_merge_sorted[col + '_log'] = df_merge_sorted[col].apply(lambda x: math.log(x+1-min_val))\n",
    "    column_log.append(col + '_log')\n",
    "a = df_merge_sorted.hist(column=column_log, bins=20)\n",
    "    \n",
    "# Log doesn't work that well on \"score\"\n",
    "# The problem is that lots of comments have nearly 0 \"score\""
   ]
  },
  {
   "cell_type": "code",
   "execution_count": 122,
   "metadata": {},
   "outputs": [
    {
     "data": {
      "text/html": [
       "<div>\n",
       "<style>\n",
       "    .dataframe thead tr:only-child th {\n",
       "        text-align: right;\n",
       "    }\n",
       "\n",
       "    .dataframe thead th {\n",
       "        text-align: left;\n",
       "    }\n",
       "\n",
       "    .dataframe tbody tr th {\n",
       "        vertical-align: top;\n",
       "    }\n",
       "</style>\n",
       "<table border=\"1\" class=\"dataframe\">\n",
       "  <thead>\n",
       "    <tr style=\"text-align: right;\">\n",
       "      <th></th>\n",
       "      <th>score</th>\n",
       "      <th>activity</th>\n",
       "      <th>weekday</th>\n",
       "      <th>hour</th>\n",
       "      <th>weekday_fl</th>\n",
       "      <th>con_len</th>\n",
       "      <th>con_len_log</th>\n",
       "      <th>time_since_first</th>\n",
       "      <th>time_since_first_log</th>\n",
       "    </tr>\n",
       "  </thead>\n",
       "  <tbody>\n",
       "    <tr>\n",
       "      <th>score</th>\n",
       "      <td>1.00</td>\n",
       "      <td>0.86</td>\n",
       "      <td>-0.01</td>\n",
       "      <td>-0.01</td>\n",
       "      <td>-0.01</td>\n",
       "      <td>0.01</td>\n",
       "      <td>0.01</td>\n",
       "      <td>-0.01</td>\n",
       "      <td>-0.18</td>\n",
       "    </tr>\n",
       "    <tr>\n",
       "      <th>activity</th>\n",
       "      <td>0.86</td>\n",
       "      <td>1.00</td>\n",
       "      <td>-0.00</td>\n",
       "      <td>-0.01</td>\n",
       "      <td>-0.00</td>\n",
       "      <td>0.01</td>\n",
       "      <td>0.02</td>\n",
       "      <td>-0.02</td>\n",
       "      <td>-0.24</td>\n",
       "    </tr>\n",
       "    <tr>\n",
       "      <th>weekday</th>\n",
       "      <td>-0.01</td>\n",
       "      <td>-0.00</td>\n",
       "      <td>1.00</td>\n",
       "      <td>0.01</td>\n",
       "      <td>0.99</td>\n",
       "      <td>-0.00</td>\n",
       "      <td>-0.01</td>\n",
       "      <td>0.01</td>\n",
       "      <td>0.09</td>\n",
       "    </tr>\n",
       "    <tr>\n",
       "      <th>hour</th>\n",
       "      <td>-0.01</td>\n",
       "      <td>-0.01</td>\n",
       "      <td>0.01</td>\n",
       "      <td>1.00</td>\n",
       "      <td>0.13</td>\n",
       "      <td>-0.05</td>\n",
       "      <td>-0.05</td>\n",
       "      <td>-0.01</td>\n",
       "      <td>-0.07</td>\n",
       "    </tr>\n",
       "    <tr>\n",
       "      <th>weekday_fl</th>\n",
       "      <td>-0.01</td>\n",
       "      <td>-0.00</td>\n",
       "      <td>0.99</td>\n",
       "      <td>0.13</td>\n",
       "      <td>1.00</td>\n",
       "      <td>-0.01</td>\n",
       "      <td>-0.01</td>\n",
       "      <td>0.00</td>\n",
       "      <td>0.08</td>\n",
       "    </tr>\n",
       "    <tr>\n",
       "      <th>con_len</th>\n",
       "      <td>0.01</td>\n",
       "      <td>0.01</td>\n",
       "      <td>-0.00</td>\n",
       "      <td>-0.05</td>\n",
       "      <td>-0.01</td>\n",
       "      <td>1.00</td>\n",
       "      <td>0.91</td>\n",
       "      <td>0.00</td>\n",
       "      <td>0.04</td>\n",
       "    </tr>\n",
       "    <tr>\n",
       "      <th>con_len_log</th>\n",
       "      <td>0.01</td>\n",
       "      <td>0.02</td>\n",
       "      <td>-0.01</td>\n",
       "      <td>-0.05</td>\n",
       "      <td>-0.01</td>\n",
       "      <td>0.91</td>\n",
       "      <td>1.00</td>\n",
       "      <td>0.00</td>\n",
       "      <td>0.04</td>\n",
       "    </tr>\n",
       "    <tr>\n",
       "      <th>time_since_first</th>\n",
       "      <td>-0.01</td>\n",
       "      <td>-0.02</td>\n",
       "      <td>0.01</td>\n",
       "      <td>-0.01</td>\n",
       "      <td>0.00</td>\n",
       "      <td>0.00</td>\n",
       "      <td>0.00</td>\n",
       "      <td>1.00</td>\n",
       "      <td>0.25</td>\n",
       "    </tr>\n",
       "    <tr>\n",
       "      <th>time_since_first_log</th>\n",
       "      <td>-0.18</td>\n",
       "      <td>-0.24</td>\n",
       "      <td>0.09</td>\n",
       "      <td>-0.07</td>\n",
       "      <td>0.08</td>\n",
       "      <td>0.04</td>\n",
       "      <td>0.04</td>\n",
       "      <td>0.25</td>\n",
       "      <td>1.00</td>\n",
       "    </tr>\n",
       "  </tbody>\n",
       "</table>\n",
       "</div>"
      ],
      "text/plain": [
       "                      score  activity  weekday  hour  weekday_fl  con_len  \\\n",
       "score                  1.00      0.86    -0.01 -0.01       -0.01     0.01   \n",
       "activity               0.86      1.00    -0.00 -0.01       -0.00     0.01   \n",
       "weekday               -0.01     -0.00     1.00  0.01        0.99    -0.00   \n",
       "hour                  -0.01     -0.01     0.01  1.00        0.13    -0.05   \n",
       "weekday_fl            -0.01     -0.00     0.99  0.13        1.00    -0.01   \n",
       "con_len                0.01      0.01    -0.00 -0.05       -0.01     1.00   \n",
       "con_len_log            0.01      0.02    -0.01 -0.05       -0.01     0.91   \n",
       "time_since_first      -0.01     -0.02     0.01 -0.01        0.00     0.00   \n",
       "time_since_first_log  -0.18     -0.24     0.09 -0.07        0.08     0.04   \n",
       "\n",
       "                      con_len_log  time_since_first  time_since_first_log  \n",
       "score                        0.01             -0.01                 -0.18  \n",
       "activity                     0.02             -0.02                 -0.24  \n",
       "weekday                     -0.01              0.01                  0.09  \n",
       "hour                        -0.05             -0.01                 -0.07  \n",
       "weekday_fl                  -0.01              0.00                  0.08  \n",
       "con_len                      0.91              0.00                  0.04  \n",
       "con_len_log                  1.00              0.00                  0.04  \n",
       "time_since_first             0.00              1.00                  0.25  \n",
       "time_since_first_log         0.04              0.25                  1.00  "
      ]
     },
     "execution_count": 122,
     "metadata": {},
     "output_type": "execute_result"
    }
   ],
   "source": [
    "# Correlations for new columns?\n",
    "# I removed very weak correlations to \"score\" and \"activity\"\n",
    "cols = ['score', 'activity', 'weekday', 'hour', 'weekday_fl', 'con_len',\n",
    "       'con_len_log',\n",
    "       'time_since_first', 'time_since_first_log']\n",
    "# Get pearson co-efficients\n",
    "df_merge_sorted[cols].corr()\n",
    "\n",
    "# Removing skew didn't help with linearity"
   ]
  },
  {
   "cell_type": "markdown",
   "metadata": {},
   "source": [
    "### Prediction with simple linear models\n",
    "I want to know:\n",
    "* How to get the best score/consensus (upvotes - downvotes)?\n",
    "* How to get most activity/agitation (upvotes + downvotes)?\n",
    "* Which articles go most score resp. activity (sum over all comments)?\n",
    "\n",
    "...And in the end I want a model predicting my comment text with given day and hour of posting."
   ]
  },
  {
   "cell_type": "code",
   "execution_count": 123,
   "metadata": {
    "collapsed": true
   },
   "outputs": [],
   "source": [
    "# Preprocess and split data into train and test set\n",
    "from sklearn.model_selection import train_test_split\n",
    "\n",
    "# Most used words in German\n",
    "# https://de.wikipedia.org/wiki/Liste_der_h%C3%A4ufigsten_W%C3%B6rter_der_deutschen_Sprache\n",
    "stop_words = \"die, der, und, in, zu, den, das, nicht, von, sie, ist, des, sich, mit, dem, dass, er, es, ein, ich, auf, so, eine, auch, als, an, nach, wie, im, für, \"\n",
    "stop_words += \"man, aber, aus, durch, wenn, nur, war, noch, werden, bei, hat, wir, was, wird, sein, einen, welche, sind, oder, zur, um, haben, einer, mir, über, ihm, diese, einem, ihr, uns, \"\n",
    "stop_words += \"da, zum, kann, doch, vor, dieser, mich, ihn, du, hatte, seine, mehr, am, denn, nun, unter, sehr, selbst, schon, hier, \"\n",
    "stop_words += \"bis, habe, ihre, dann, ihnen, seiner, alle, wieder, meine, Zeit, gegen, vom, ganz, einzelnen, wo, muss, ohne, eines, können, sei\"\n",
    "stop_words = stop_words.lower()\n",
    "stop_words = stop_words.split(', ')\n",
    "\n",
    "X = df_merge_sorted.drop(['score', 'activity', 'vup', 'vdo'], axis=1)\n",
    "\n",
    "#def classify(val):\n",
    "#    if val > 10: return 1\n",
    "#    return 0\n",
    "#y = df_merge_sorted['score'].apply(classify)\n",
    "y = df_merge_sorted['score']\n",
    "\n",
    "X_train, X_test, y_train, y_test = train_test_split(X, y, test_size=0.2, random_state=0)"
   ]
  },
  {
   "cell_type": "code",
   "execution_count": 124,
   "metadata": {},
   "outputs": [
    {
     "name": "stdout",
     "output_type": "stream",
     "text": [
      "R^2: 0.012\n",
      "\n",
      "Influence of words to \"score\"\n",
      "\n",
      "letzten\t4.2796164041433045\n",
      "fall\t4.260648645253582\n",
      "würden\t3.972918784678738\n",
      "mann\t3.8594438135226796\n",
      "ob\t3.8145243197625027\n",
      "kein\t2.815297380748588\n",
      "polizei\t2.605189064300199\n",
      "mal\t2.4107172433821913\n",
      "hätten\t2.254636648361885\n",
      "frau\t2.21081193679964\n",
      "-----\n",
      "wäre\t-2.09451897534448\n",
      "könne\t-2.2199784175106867\n",
      "weil\t-2.238234525152212\n",
      "zwei\t-2.251590171747314\n",
      "zürich\t-2.33918642790788\n",
      "neue\t-2.3976628572128096\n",
      "könnte\t-2.578459533171203\n",
      "menschen\t-2.714674007436743\n",
      "zwar\t-2.867062257155855\n",
      "drei\t-3.347590502186352\n"
     ]
    }
   ],
   "source": [
    "# Build a simple intermediate model for text\n",
    "from sklearn.pipeline import make_pipeline\n",
    "from sklearn.feature_extraction.text import CountVectorizer\n",
    "from sklearn.linear_model import LinearRegression, Ridge\n",
    "from sklearn.metrics import r2_score\n",
    "\n",
    "no_numbers = lambda x: re.sub(r'(\\d[\\d\\.])+', '', x.lower())\n",
    "vect = CountVectorizer(preprocessor=no_numbers, min_df=0.1, max_df=0.4, max_features=100, stop_words=stop_words)\n",
    "\n",
    "# We used article text here!\n",
    "# Comment content has a negligible effect (/too few words per comment)(?)\n",
    "word_model = make_pipeline(vect, Ridge(max_iter=10, alpha=10000, solver='lsqr'))\n",
    "word_model.fit(X_train['text'], y_train)\n",
    "y_pred = word_model.predict(X_test['text'])\n",
    "print(\"R^2: %1.3f\\n\" % r2_score(y_test, y_pred))\n",
    "\n",
    "# Show influence of coefficients(=words)\n",
    "if True:\n",
    "    print('Influence of words to \"score\"\\n')\n",
    "    coeff_by_name = {}\n",
    "    for i, f in enumerate(word_model.named_steps['countvectorizer'].get_feature_names()):\n",
    "        coeff_by_name[f] = word_model.named_steps['ridge'].coef_[i]\n",
    "\n",
    "    coeff_sorted = sorted(coeff_by_name.items(), key=lambda x:x[1], reverse=True)\n",
    "    NUM_WORDS = 10\n",
    "    for c in coeff_sorted[0:NUM_WORDS]:\n",
    "        print(\"{}\\t{}\".format(c[0], c[1]))\n",
    "    print(\"-----\")\n",
    "    for c in coeff_sorted[-NUM_WORDS:]:\n",
    "        print(\"{}\\t{}\".format(c[0], c[1]))\n",
    "    \n",
    "# Grid search to tune parameters\n",
    "if False:\n",
    "    from sklearn.model_selection import GridSearchCV\n",
    "    param_grid = {'countvectorizer__max_df': [0.4, 0.5, 0.6],\n",
    "        'countvectorizer__max_features': [100, 200],\n",
    "        'ridge__alpha': np.logspace(-1, 3, 5), 'ridge__max_iter': [10, 50, 100], \n",
    "                  'ridge__solver': ['svd', 'cholesky', 'lsqr']}\n",
    "    grid = GridSearchCV(word_models, param_grid, cv=3)\n",
    "    grid.fit(X_train['con'], y_train)\n",
    "    \n",
    "    print(\"Best estimator:\\n{}\".format(grid.best_estimator_))"
   ]
  },
  {
   "cell_type": "code",
   "execution_count": 125,
   "metadata": {},
   "outputs": [
    {
     "ename": "TypeError",
     "evalue": "All estimators should implement fit and transform. 'Pipeline(memory=None,\n     steps=[('selector', ItemSelector(key='text')), ('word_model', Pipeline(memory=None,\n     steps=[('countvectorizer', CountVectorizer(analyzer='word', binary=False, decode_error='strict',\n        dtype=<class 'numpy.int64'>, encoding='utf-8', input='content',\n        lowercase=True, max_df=0.4, max_features=100, min_df=0.1,\n        ngram_range=(1, 1),\n        preprocessor=<function <lambd... fit_intercept=True, max_iter=10,\n   normalize=False, random_state=None, solver='lsqr', tol=0.001))]))])' (type <class 'sklearn.pipeline.Pipeline'>) doesn't",
     "output_type": "error",
     "traceback": [
      "\u001b[0;31m---------------------------------------------------------------------------\u001b[0m",
      "\u001b[0;31mTypeError\u001b[0m                                 Traceback (most recent call last)",
      "\u001b[0;32m<ipython-input-125-659b54b0c1e3>\u001b[0m in \u001b[0;36m<module>\u001b[0;34m()\u001b[0m\n\u001b[1;32m     47\u001b[0m         transformer_weights={\n\u001b[1;32m     48\u001b[0m             \u001b[0;34m'statistics'\u001b[0m\u001b[0;34m:\u001b[0m \u001b[0;36m.8\u001b[0m\u001b[0;34m,\u001b[0m\u001b[0;34m\u001b[0m\u001b[0m\n\u001b[0;32m---> 49\u001b[0;31m             \u001b[0;34m'words'\u001b[0m\u001b[0;34m:\u001b[0m \u001b[0;36m.2\u001b[0m\u001b[0;34m\u001b[0m\u001b[0m\n\u001b[0m\u001b[1;32m     50\u001b[0m         }\n\u001b[1;32m     51\u001b[0m     )),\n",
      "\u001b[0;32m/usr/local/anaconda3/lib/python3.6/site-packages/sklearn/pipeline.py\u001b[0m in \u001b[0;36m__init__\u001b[0;34m(self, transformer_list, n_jobs, transformer_weights)\u001b[0m\n\u001b[1;32m    628\u001b[0m         \u001b[0mself\u001b[0m\u001b[0;34m.\u001b[0m\u001b[0mn_jobs\u001b[0m \u001b[0;34m=\u001b[0m \u001b[0mn_jobs\u001b[0m\u001b[0;34m\u001b[0m\u001b[0m\n\u001b[1;32m    629\u001b[0m         \u001b[0mself\u001b[0m\u001b[0;34m.\u001b[0m\u001b[0mtransformer_weights\u001b[0m \u001b[0;34m=\u001b[0m \u001b[0mtransformer_weights\u001b[0m\u001b[0;34m\u001b[0m\u001b[0m\n\u001b[0;32m--> 630\u001b[0;31m         \u001b[0mself\u001b[0m\u001b[0;34m.\u001b[0m\u001b[0m_validate_transformers\u001b[0m\u001b[0;34m(\u001b[0m\u001b[0;34m)\u001b[0m\u001b[0;34m\u001b[0m\u001b[0m\n\u001b[0m\u001b[1;32m    631\u001b[0m \u001b[0;34m\u001b[0m\u001b[0m\n\u001b[1;32m    632\u001b[0m     \u001b[0;32mdef\u001b[0m \u001b[0mget_params\u001b[0m\u001b[0;34m(\u001b[0m\u001b[0mself\u001b[0m\u001b[0;34m,\u001b[0m \u001b[0mdeep\u001b[0m\u001b[0;34m=\u001b[0m\u001b[0;32mTrue\u001b[0m\u001b[0;34m)\u001b[0m\u001b[0;34m:\u001b[0m\u001b[0;34m\u001b[0m\u001b[0m\n",
      "\u001b[0;32m/usr/local/anaconda3/lib/python3.6/site-packages/sklearn/pipeline.py\u001b[0m in \u001b[0;36m_validate_transformers\u001b[0;34m(self)\u001b[0m\n\u001b[1;32m    672\u001b[0m                 raise TypeError(\"All estimators should implement fit and \"\n\u001b[1;32m    673\u001b[0m                                 \u001b[0;34m\"transform. '%s' (type %s) doesn't\"\u001b[0m \u001b[0;34m%\u001b[0m\u001b[0;34m\u001b[0m\u001b[0m\n\u001b[0;32m--> 674\u001b[0;31m                                 (t, type(t)))\n\u001b[0m\u001b[1;32m    675\u001b[0m \u001b[0;34m\u001b[0m\u001b[0m\n\u001b[1;32m    676\u001b[0m     \u001b[0;32mdef\u001b[0m \u001b[0m_iter\u001b[0m\u001b[0;34m(\u001b[0m\u001b[0mself\u001b[0m\u001b[0;34m)\u001b[0m\u001b[0;34m:\u001b[0m\u001b[0;34m\u001b[0m\u001b[0m\n",
      "\u001b[0;31mTypeError\u001b[0m: All estimators should implement fit and transform. 'Pipeline(memory=None,\n     steps=[('selector', ItemSelector(key='text')), ('word_model', Pipeline(memory=None,\n     steps=[('countvectorizer', CountVectorizer(analyzer='word', binary=False, decode_error='strict',\n        dtype=<class 'numpy.int64'>, encoding='utf-8', input='content',\n        lowercase=True, max_df=0.4, max_features=100, min_df=0.1,\n        ngram_range=(1, 1),\n        preprocessor=<function <lambd... fit_intercept=True, max_iter=10,\n   normalize=False, random_state=None, solver='lsqr', tol=0.001))]))])' (type <class 'sklearn.pipeline.Pipeline'>) doesn't"
     ]
    }
   ],
   "source": [
    "# Build a prediction model and test it\n",
    "# Not all imports needed - trying around\n",
    "from sklearn.preprocessing import StandardScaler, PolynomialFeatures\n",
    "from sklearn.pipeline import Pipeline, FeatureUnion\n",
    "from sklearn.linear_model import LinearRegression, Ridge\n",
    "#from sklearn.feature_selection import SelectKBest, SelectPercentile, f_regression\n",
    "#from sklearn.svm import LinearSVC\n",
    "\n",
    "from sklearn.feature_extraction.text import CountVectorizer\n",
    "from sklearn.base import BaseEstimator, TransformerMixin\n",
    "\n",
    "class ItemSelector(BaseEstimator, TransformerMixin):\n",
    "    '''\n",
    "    Select a subset of data at a provided key.\n",
    "    key: hashable, required\n",
    "        The key corresponding to the desired value in a mappable.\n",
    "    '''\n",
    "    def __init__(self, key):\n",
    "        self.key = key\n",
    "        \n",
    "    def fit(self, x, y=None):\n",
    "        return self\n",
    "    \n",
    "    def transform(self, df):\n",
    "        return df[self.key]\n",
    "    \n",
    "no_numbers = lambda x: re.sub(r'(\\d[\\d\\.])+', '', x.lower())\n",
    "model = Pipeline([\n",
    "    ('union', FeatureUnion(\n",
    "        transformer_list=\n",
    "        [\n",
    "            ('statistics', Pipeline([\n",
    "                ('selector', ItemSelector(\n",
    "                    key=['weekday', 'hour', \n",
    "                         'time_since_first_log', 'con_len_log'])),\n",
    "                ('scaler', StandardScaler()),\n",
    "                ('polynomialfeatures', PolynomialFeatures(degree=5))\n",
    "            ])),\n",
    "            \n",
    "            # Course of dimensionality?\n",
    "            ('words', Pipeline([\n",
    "                ('selector', ItemSelector(key='text')),\n",
    "                ('word_model', word_model)\n",
    "            ]))\n",
    "        ],\n",
    "        \n",
    "        transformer_weights={\n",
    "            'statistics': .8,\n",
    "            'words': .2\n",
    "        }\n",
    "    )),\n",
    "    \n",
    "    # Params not optimized yet\n",
    "    ('model', Ridge())\n",
    "    #('model', SVC(kernel='linear', n_jobs=-1))\n",
    "])\n",
    "\n",
    "model.fit(X_train, y_train)\n",
    "y_pred = model.predict(X_test)\n",
    "print(\"R^2: %1.3f\\n\" % r2_score(y_test, y_pred))\n",
    "\n",
    "'''\n",
    "# See influence of the polynomial features\n",
    "print(columns)\n",
    "features = {}\n",
    "for i, feature in enumerate(model['union'].named_steps['polynomialfeatures'].get_feature_names()):\n",
    "    features[feature] = model.named_steps['ridge'].coef_[i]\n",
    "\n",
    "for name, value in sorted(features.items(), key=lambda x:x[1], reverse=True):\n",
    "    print(\"{}\\t{}\".format(name, value))\n",
    "'''\n",
    "\n",
    "# Grid search to tune parameters\n",
    "if False:\n",
    "    from sklearn.model_selection import GridSearchCV\n",
    "    param_grid = {'polynomialfeatures__degree': [2, 3, 4, 5],\n",
    "        'ridge__alpha': np.logspace(-1, 4, 6), 'ridge__max_iter': [10, 50, 100], 'ridge__solver': ['svd', 'cholesky', 'lsqr']}\n",
    "    grid = GridSearchCV(model, param_grid, cv=3)\n",
    "    grid.fit(X_train, y_train)\n",
    "    \n",
    "    print(\"Best estimator:\\n{}\".format(grid.best_estimator_))\n",
    "    #print(\"Best coefficients:\\n{}\".format(grid.best_estimator_.named_steps[\"ridge\"].coef_))"
   ]
  },
  {
   "cell_type": "markdown",
   "metadata": {
    "collapsed": true
   },
   "source": [
    "### Take Aways so far\n",
    "Context seems to play a big role in determining up/downvotes, a far bigger role than words used. - This is not surprising, since the number of active readers differs a lot and since words can change their meaning depending on context.  \n",
    "So maybe the content is not that important, maybe it's more important if it is positive or negative?  \n",
    "Hypothesis: Earlier comments on an article get more score/activity than later ones; at least there is a weak correlation.\n",
    "\n",
    "The question is:\n",
    "* Either my work and resulting model are not good enough.\n",
    "* Or it's not possible to predict \"score\" from the given data."
   ]
  },
  {
   "cell_type": "code",
   "execution_count": 127,
   "metadata": {},
   "outputs": [
    {
     "ename": "SyntaxError",
     "evalue": "invalid syntax (<ipython-input-127-81ea2d685cf2>, line 1)",
     "output_type": "error",
     "traceback": [
      "\u001b[0;36m  File \u001b[0;32m\"<ipython-input-127-81ea2d685cf2>\"\u001b[0;36m, line \u001b[0;32m1\u001b[0m\n\u001b[0;31m    walfisch_essen_fische--> x;\u001b[0m\n\u001b[0m                           ^\u001b[0m\n\u001b[0;31mSyntaxError\u001b[0m\u001b[0;31m:\u001b[0m invalid syntax\n"
     ]
    }
   ],
   "source": [
    "walfisch_essen_fische--> x; "
   ]
  },
  {
   "cell_type": "code",
   "execution_count": null,
   "metadata": {
    "collapsed": true
   },
   "outputs": [],
   "source": []
  }
 ],
 "metadata": {
  "kernelspec": {
   "display_name": "Python 3",
   "language": "python",
   "name": "python3"
  },
  "language_info": {
   "codemirror_mode": {
    "name": "ipython",
    "version": 3
   },
   "file_extension": ".py",
   "mimetype": "text/x-python",
   "name": "python",
   "nbconvert_exporter": "python",
   "pygments_lexer": "ipython3",
   "version": "3.6.1"
  }
 },
 "nbformat": 4,
 "nbformat_minor": 2
}
