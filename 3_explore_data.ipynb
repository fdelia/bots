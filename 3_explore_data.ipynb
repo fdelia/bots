{
 "cells": [
  {
   "cell_type": "markdown",
   "metadata": {},
   "source": [
    "# Exploratory Data Analysis\n",
    "\n"
   ]
  },
  {
   "cell_type": "code",
   "execution_count": 40,
   "metadata": {},
   "outputs": [],
   "source": [
    "import warnings\n",
    "warnings.filterwarnings('ignore')\n",
    "\n",
    "import pandas as pd\n",
    "df_art = pd.read_csv('articles_2017_08.csv')\n",
    "df_com = pd.read_csv('comments_2017_08.csv')\n",
    "# Make float better readable\n",
    "pd.options.display.float_format = '{:.0f}'.format\n",
    "\n",
    "import numpy as np"
   ]
  },
  {
   "cell_type": "markdown",
   "metadata": {},
   "source": [
    "### First Look"
   ]
  },
  {
   "cell_type": "code",
   "execution_count": 44,
   "metadata": {},
   "outputs": [
    {
     "data": {
      "text/html": [
       "<div>\n",
       "<style>\n",
       "    .dataframe thead tr:only-child th {\n",
       "        text-align: right;\n",
       "    }\n",
       "\n",
       "    .dataframe thead th {\n",
       "        text-align: left;\n",
       "    }\n",
       "\n",
       "    .dataframe tbody tr th {\n",
       "        vertical-align: top;\n",
       "    }\n",
       "</style>\n",
       "<table border=\"1\" class=\"dataframe\">\n",
       "  <thead>\n",
       "    <tr style=\"text-align: right;\">\n",
       "      <th></th>\n",
       "      <th>tId</th>\n",
       "      <th>article_id</th>\n",
       "      <th>updated</th>\n",
       "      <th>num_comments</th>\n",
       "      <th>link</th>\n",
       "      <th>header</th>\n",
       "      <th>sub</th>\n",
       "      <th>text</th>\n",
       "    </tr>\n",
       "  </thead>\n",
       "  <tbody>\n",
       "    <tr>\n",
       "      <th>0</th>\n",
       "      <td>30600370</td>\n",
       "      <td>30600370</td>\n",
       "      <td>1502015309</td>\n",
       "      <td>12</td>\n",
       "      <td>/leben/reisen/story/Fuenf-Gruende-fuer-eine-Re...</td>\n",
       "      <td>Fünf Gründe für eine Reise nach Alabama</td>\n",
       "      <td>Sweet Home Alabama! Der Staat im Südosten der ...</td>\n",
       "      <td>Feinste Sandstrände, kilometerlange Maisfelder...</td>\n",
       "    </tr>\n",
       "    <tr>\n",
       "      <th>1</th>\n",
       "      <td>11684042</td>\n",
       "      <td>11684042</td>\n",
       "      <td>1502015306</td>\n",
       "      <td>4</td>\n",
       "      <td>/ausland/news/story/Lopez-aus-Gefaengnis-in-Ha...</td>\n",
       "      <td>Lopez aus Gefängnis in Hausarrest entlassen</td>\n",
       "      <td>Vier Tage nach seiner Festnahme befindet sich ...</td>\n",
       "      <td>Vier Tage nach seiner Festnahme ist der venezo...</td>\n",
       "    </tr>\n",
       "    <tr>\n",
       "      <th>2</th>\n",
       "      <td>29297244</td>\n",
       "      <td>29297244</td>\n",
       "      <td>1502015324</td>\n",
       "      <td>39</td>\n",
       "      <td>/sport/weitere/story/29297244</td>\n",
       "      <td>Buhmann Gatlin holt Gold – Bolt wird gefeiert</td>\n",
       "      <td>Usain Bolt muss auf seine 12. WM-Goldmedaille ...</td>\n",
       "      <td>(sr/fal/sda)</td>\n",
       "    </tr>\n",
       "  </tbody>\n",
       "</table>\n",
       "</div>"
      ],
      "text/plain": [
       "        tId  article_id    updated  num_comments  \\\n",
       "0  30600370    30600370 1502015309            12   \n",
       "1  11684042    11684042 1502015306             4   \n",
       "2  29297244    29297244 1502015324            39   \n",
       "\n",
       "                                                link  \\\n",
       "0  /leben/reisen/story/Fuenf-Gruende-fuer-eine-Re...   \n",
       "1  /ausland/news/story/Lopez-aus-Gefaengnis-in-Ha...   \n",
       "2                      /sport/weitere/story/29297244   \n",
       "\n",
       "                                          header  \\\n",
       "0        Fünf Gründe für eine Reise nach Alabama   \n",
       "1    Lopez aus Gefängnis in Hausarrest entlassen   \n",
       "2  Buhmann Gatlin holt Gold – Bolt wird gefeiert   \n",
       "\n",
       "                                                 sub  \\\n",
       "0  Sweet Home Alabama! Der Staat im Südosten der ...   \n",
       "1  Vier Tage nach seiner Festnahme befindet sich ...   \n",
       "2  Usain Bolt muss auf seine 12. WM-Goldmedaille ...   \n",
       "\n",
       "                                                text  \n",
       "0  Feinste Sandstrände, kilometerlange Maisfelder...  \n",
       "1  Vier Tage nach seiner Festnahme ist der venezo...  \n",
       "2                                       (sr/fal/sda)  "
      ]
     },
     "execution_count": 44,
     "metadata": {},
     "output_type": "execute_result"
    }
   ],
   "source": [
    "df_art.head(3)"
   ]
  },
  {
   "cell_type": "code",
   "execution_count": 12,
   "metadata": {},
   "outputs": [
    {
     "data": {
      "text/html": [
       "<div>\n",
       "<style>\n",
       "    .dataframe thead tr:only-child th {\n",
       "        text-align: right;\n",
       "    }\n",
       "\n",
       "    .dataframe thead th {\n",
       "        text-align: left;\n",
       "    }\n",
       "\n",
       "    .dataframe tbody tr th {\n",
       "        vertical-align: top;\n",
       "    }\n",
       "</style>\n",
       "<table border=\"1\" class=\"dataframe\">\n",
       "  <thead>\n",
       "    <tr style=\"text-align: right;\">\n",
       "      <th></th>\n",
       "      <th>tId</th>\n",
       "      <th>cId</th>\n",
       "      <th>mob</th>\n",
       "      <th>vup</th>\n",
       "      <th>vdo</th>\n",
       "      <th>tit</th>\n",
       "      <th>aut</th>\n",
       "      <th>time</th>\n",
       "      <th>con</th>\n",
       "    </tr>\n",
       "  </thead>\n",
       "  <tbody>\n",
       "    <tr>\n",
       "      <th>0</th>\n",
       "      <td>30284249</td>\n",
       "      <td>329_485</td>\n",
       "      <td>1</td>\n",
       "      <td>5</td>\n",
       "      <td>2</td>\n",
       "      <td>@Rebby</td>\n",
       "      <td>Störenfried</td>\n",
       "      <td>am 06.08.2017 08:59</td>\n",
       "      <td>Wäre doch machbar, Störsender in Autos einzub...</td>\n",
       "    </tr>\n",
       "    <tr>\n",
       "      <th>1</th>\n",
       "      <td>25420673</td>\n",
       "      <td>1_37</td>\n",
       "      <td>1</td>\n",
       "      <td>0</td>\n",
       "      <td>0</td>\n",
       "      <td>@T. Paul</td>\n",
       "      <td>Papa Bär</td>\n",
       "      <td>am 05.08.2017 22:02</td>\n",
       "      <td>Hier. Aber ich bin ja nur ein Papa Bär. Hüte ...</td>\n",
       "    </tr>\n",
       "    <tr>\n",
       "      <th>2</th>\n",
       "      <td>30284249</td>\n",
       "      <td>47_47</td>\n",
       "      <td>1</td>\n",
       "      <td>39</td>\n",
       "      <td>7</td>\n",
       "      <td>Das liebe Handy...</td>\n",
       "      <td>Heinz</td>\n",
       "      <td>am 05.08.2017 19:00</td>\n",
       "      <td>Und dazu brauchts ne Studie? Legt im allgemei...</td>\n",
       "    </tr>\n",
       "  </tbody>\n",
       "</table>\n",
       "</div>"
      ],
      "text/plain": [
       "        tId      cId  mob  vup  vdo                 tit          aut  \\\n",
       "0  30284249  329_485    1    5    2              @Rebby  Störenfried   \n",
       "1  25420673     1_37    1    0    0            @T. Paul     Papa Bär   \n",
       "2  30284249    47_47    1   39    7  Das liebe Handy...        Heinz   \n",
       "\n",
       "                  time                                                con  \n",
       "0  am 06.08.2017 08:59   Wäre doch machbar, Störsender in Autos einzub...  \n",
       "1  am 05.08.2017 22:02   Hier. Aber ich bin ja nur ein Papa Bär. Hüte ...  \n",
       "2  am 05.08.2017 19:00   Und dazu brauchts ne Studie? Legt im allgemei...  "
      ]
     },
     "execution_count": 12,
     "metadata": {},
     "output_type": "execute_result"
    }
   ],
   "source": [
    "df_com.head(3)"
   ]
  },
  {
   "cell_type": "code",
   "execution_count": 16,
   "metadata": {},
   "outputs": [
    {
     "name": "stdout",
     "output_type": "stream",
     "text": [
      "(21, 8)\n",
      "(1307, 9)\n"
     ]
    }
   ],
   "source": [
    "print(df_art.shape)\n",
    "print(df_com.shape)"
   ]
  },
  {
   "cell_type": "code",
   "execution_count": 18,
   "metadata": {},
   "outputs": [
    {
     "name": "stdout",
     "output_type": "stream",
     "text": [
      "tId               int64\n",
      "article_id        int64\n",
      "updated         float64\n",
      "num_comments      int64\n",
      "link             object\n",
      "header           object\n",
      "sub              object\n",
      "text             object\n",
      "dtype: object\n",
      " \n",
      "tId      int64\n",
      "cId     object\n",
      "mob      int64\n",
      "vup      int64\n",
      "vdo      int64\n",
      "tit     object\n",
      "aut     object\n",
      "time    object\n",
      "con     object\n",
      "dtype: object\n"
     ]
    }
   ],
   "source": [
    "print(df_art.dtypes)\n",
    "print(' ')\n",
    "print(df_com.dtypes)"
   ]
  },
  {
   "cell_type": "code",
   "execution_count": 45,
   "metadata": {},
   "outputs": [
    {
     "data": {
      "text/html": [
       "<div>\n",
       "<style>\n",
       "    .dataframe thead tr:only-child th {\n",
       "        text-align: right;\n",
       "    }\n",
       "\n",
       "    .dataframe thead th {\n",
       "        text-align: left;\n",
       "    }\n",
       "\n",
       "    .dataframe tbody tr th {\n",
       "        vertical-align: top;\n",
       "    }\n",
       "</style>\n",
       "<table border=\"1\" class=\"dataframe\">\n",
       "  <thead>\n",
       "    <tr style=\"text-align: right;\">\n",
       "      <th></th>\n",
       "      <th>tId</th>\n",
       "      <th>article_id</th>\n",
       "      <th>updated</th>\n",
       "      <th>num_comments</th>\n",
       "    </tr>\n",
       "  </thead>\n",
       "  <tbody>\n",
       "    <tr>\n",
       "      <th>count</th>\n",
       "      <td>21</td>\n",
       "      <td>21</td>\n",
       "      <td>21</td>\n",
       "      <td>21</td>\n",
       "    </tr>\n",
       "    <tr>\n",
       "      <th>mean</th>\n",
       "      <td>21993259</td>\n",
       "      <td>21993259</td>\n",
       "      <td>1502015317</td>\n",
       "      <td>63</td>\n",
       "    </tr>\n",
       "    <tr>\n",
       "      <th>std</th>\n",
       "      <td>6324191</td>\n",
       "      <td>6324191</td>\n",
       "      <td>8</td>\n",
       "      <td>95</td>\n",
       "    </tr>\n",
       "    <tr>\n",
       "      <th>min</th>\n",
       "      <td>11684042</td>\n",
       "      <td>11684042</td>\n",
       "      <td>1502015306</td>\n",
       "      <td>0</td>\n",
       "    </tr>\n",
       "    <tr>\n",
       "      <th>25%</th>\n",
       "      <td>15904700</td>\n",
       "      <td>15904700</td>\n",
       "      <td>1502015309</td>\n",
       "      <td>6</td>\n",
       "    </tr>\n",
       "    <tr>\n",
       "      <th>50%</th>\n",
       "      <td>22101669</td>\n",
       "      <td>22101669</td>\n",
       "      <td>1502015316</td>\n",
       "      <td>16</td>\n",
       "    </tr>\n",
       "    <tr>\n",
       "      <th>75%</th>\n",
       "      <td>26624359</td>\n",
       "      <td>26624359</td>\n",
       "      <td>1502015325</td>\n",
       "      <td>39</td>\n",
       "    </tr>\n",
       "    <tr>\n",
       "      <th>max</th>\n",
       "      <td>30715052</td>\n",
       "      <td>30715052</td>\n",
       "      <td>1502015328</td>\n",
       "      <td>296</td>\n",
       "    </tr>\n",
       "  </tbody>\n",
       "</table>\n",
       "</div>"
      ],
      "text/plain": [
       "           tId  article_id    updated  num_comments\n",
       "count       21          21         21            21\n",
       "mean  21993259    21993259 1502015317            63\n",
       "std    6324191     6324191          8            95\n",
       "min   11684042    11684042 1502015306             0\n",
       "25%   15904700    15904700 1502015309             6\n",
       "50%   22101669    22101669 1502015316            16\n",
       "75%   26624359    26624359 1502015325            39\n",
       "max   30715052    30715052 1502015328           296"
      ]
     },
     "execution_count": 45,
     "metadata": {},
     "output_type": "execute_result"
    }
   ],
   "source": [
    "df_art.describe()\n",
    "\n",
    "# Summary:\n",
    "# No missing attributes since count is the same everywhere\n",
    "# No negative values, chi^2 etc. can be used"
   ]
  },
  {
   "cell_type": "code",
   "execution_count": 42,
   "metadata": {},
   "outputs": [
    {
     "data": {
      "text/html": [
       "<div>\n",
       "<style>\n",
       "    .dataframe thead tr:only-child th {\n",
       "        text-align: right;\n",
       "    }\n",
       "\n",
       "    .dataframe thead th {\n",
       "        text-align: left;\n",
       "    }\n",
       "\n",
       "    .dataframe tbody tr th {\n",
       "        vertical-align: top;\n",
       "    }\n",
       "</style>\n",
       "<table border=\"1\" class=\"dataframe\">\n",
       "  <thead>\n",
       "    <tr style=\"text-align: right;\">\n",
       "      <th></th>\n",
       "      <th>tId</th>\n",
       "      <th>mob</th>\n",
       "      <th>vup</th>\n",
       "      <th>vdo</th>\n",
       "    </tr>\n",
       "  </thead>\n",
       "  <tbody>\n",
       "    <tr>\n",
       "      <th>count</th>\n",
       "      <td>1307</td>\n",
       "      <td>1307</td>\n",
       "      <td>1307</td>\n",
       "      <td>1307</td>\n",
       "    </tr>\n",
       "    <tr>\n",
       "      <th>mean</th>\n",
       "      <td>19864521</td>\n",
       "      <td>1</td>\n",
       "      <td>40</td>\n",
       "      <td>19</td>\n",
       "    </tr>\n",
       "    <tr>\n",
       "      <th>std</th>\n",
       "      <td>6589672</td>\n",
       "      <td>0</td>\n",
       "      <td>69</td>\n",
       "      <td>36</td>\n",
       "    </tr>\n",
       "    <tr>\n",
       "      <th>min</th>\n",
       "      <td>11684042</td>\n",
       "      <td>0</td>\n",
       "      <td>0</td>\n",
       "      <td>0</td>\n",
       "    </tr>\n",
       "    <tr>\n",
       "      <th>25%</th>\n",
       "      <td>13942829</td>\n",
       "      <td>0</td>\n",
       "      <td>8</td>\n",
       "      <td>3</td>\n",
       "    </tr>\n",
       "    <tr>\n",
       "      <th>50%</th>\n",
       "      <td>19423348</td>\n",
       "      <td>1</td>\n",
       "      <td>22</td>\n",
       "      <td>8</td>\n",
       "    </tr>\n",
       "    <tr>\n",
       "      <th>75%</th>\n",
       "      <td>25420673</td>\n",
       "      <td>1</td>\n",
       "      <td>46</td>\n",
       "      <td>18</td>\n",
       "    </tr>\n",
       "    <tr>\n",
       "      <th>max</th>\n",
       "      <td>30715052</td>\n",
       "      <td>1</td>\n",
       "      <td>969</td>\n",
       "      <td>316</td>\n",
       "    </tr>\n",
       "  </tbody>\n",
       "</table>\n",
       "</div>"
      ],
      "text/plain": [
       "           tId  mob  vup  vdo\n",
       "count     1307 1307 1307 1307\n",
       "mean  19864521    1   40   19\n",
       "std    6589672    0   69   36\n",
       "min   11684042    0    0    0\n",
       "25%   13942829    0    8    3\n",
       "50%   19423348    1   22    8\n",
       "75%   25420673    1   46   18\n",
       "max   30715052    1  969  316"
      ]
     },
     "execution_count": 42,
     "metadata": {},
     "output_type": "execute_result"
    }
   ],
   "source": [
    "df_com.describe()\n",
    "\n",
    "# Summary:\n",
    "# No missing attributes \n",
    "# No negative values"
   ]
  },
  {
   "cell_type": "code",
   "execution_count": 23,
   "metadata": {},
   "outputs": [
    {
     "data": {
      "text/plain": [
       "tId            -0.128714\n",
       "article_id     -0.128714\n",
       "updated         0.063331\n",
       "num_comments    1.611588\n",
       "dtype: float64"
      ]
     },
     "execution_count": 23,
     "metadata": {},
     "output_type": "execute_result"
    }
   ],
   "source": [
    "print(df_art.skew())\n",
    "# Makes only sense on \"num_comments\""
   ]
  },
  {
   "cell_type": "code",
   "execution_count": 25,
   "metadata": {},
   "outputs": [
    {
     "data": {
      "text/plain": [
       "tId    0.440598\n",
       "cId    1.001689\n",
       "mob   -1.122200\n",
       "vup    7.306863\n",
       "vdo    3.847134\n",
       "dtype: float64"
      ]
     },
     "execution_count": 25,
     "metadata": {},
     "output_type": "execute_result"
    }
   ],
   "source": [
    "print(df_com.skew())\n",
    "# Skew is not high enough that it has to be corrected"
   ]
  },
  {
   "cell_type": "markdown",
   "metadata": {},
   "source": [
    "### Class Distribution"
   ]
  },
  {
   "cell_type": "code",
   "execution_count": 46,
   "metadata": {},
   "outputs": [
    {
     "name": "stdout",
     "output_type": "stream",
     "text": [
      "mob\n",
      "0    334\n",
      "1    973\n",
      "dtype: int64\n"
     ]
    }
   ],
   "source": [
    "# \"df_art\" has no classes\n",
    "# \"df_com\" only has \"mob\" class\n",
    "print(df_com.groupby('mob').size())"
   ]
  },
  {
   "cell_type": "markdown",
   "metadata": {},
   "source": [
    "### Correlation\n",
    "Let's find relations between some of the attributes. Correlation requires continuous data."
   ]
  },
  {
   "cell_type": "code",
   "execution_count": 48,
   "metadata": {},
   "outputs": [],
   "source": [
    "df_cor = df_com[['mob', 'vup', 'vdo']]\n"
   ]
  },
  {
   "cell_type": "code",
   "execution_count": null,
   "metadata": {
    "collapsed": true
   },
   "outputs": [],
   "source": []
  }
 ],
 "metadata": {
  "kernelspec": {
   "display_name": "Python 3",
   "language": "python",
   "name": "python3"
  },
  "language_info": {
   "codemirror_mode": {
    "name": "ipython",
    "version": 3
   },
   "file_extension": ".py",
   "mimetype": "text/x-python",
   "name": "python",
   "nbconvert_exporter": "python",
   "pygments_lexer": "ipython3",
   "version": "3.6.1"
  }
 },
 "nbformat": 4,
 "nbformat_minor": 2
}
