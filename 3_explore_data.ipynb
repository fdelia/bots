{
 "cells": [
  {
   "cell_type": "markdown",
   "metadata": {},
   "source": [
    "# Exploratory Data Analysis\n",
    "\n",
    "&lt; Work in progress &gt;\n"
   ]
  },
  {
   "cell_type": "code",
   "execution_count": 1,
   "metadata": {
    "collapsed": true
   },
   "outputs": [],
   "source": [
    "%matplotlib inline\n",
    "import re\n",
    "import numpy as np\n",
    "import matplotlib.pyplot as plt\n",
    "# Not necessary, but I like the ggplot style better\n",
    "plt.style.use('ggplot')\n",
    "\n",
    "import seaborn as sns\n",
    "\n",
    "import warnings\n",
    "warnings.filterwarnings('ignore')\n",
    "\n",
    "import pandas as pd\n",
    "df_art = pd.read_csv('articles_2017_08.csv')\n",
    "df_com = pd.read_csv('comments_2017_08.csv').sample(20000) # crop because battery life, skews data\n",
    "# Make float better readable\n",
    "pd.options.display.float_format = '{:.0f}'.format"
   ]
  },
  {
   "cell_type": "markdown",
   "metadata": {},
   "source": [
    "### First Look"
   ]
  },
  {
   "cell_type": "code",
   "execution_count": 89,
   "metadata": {},
   "outputs": [
    {
     "data": {
      "text/html": [
       "<div>\n",
       "<style>\n",
       "    .dataframe thead tr:only-child th {\n",
       "        text-align: right;\n",
       "    }\n",
       "\n",
       "    .dataframe thead th {\n",
       "        text-align: left;\n",
       "    }\n",
       "\n",
       "    .dataframe tbody tr th {\n",
       "        vertical-align: top;\n",
       "    }\n",
       "</style>\n",
       "<table border=\"1\" class=\"dataframe\">\n",
       "  <thead>\n",
       "    <tr style=\"text-align: right;\">\n",
       "      <th></th>\n",
       "      <th>tId</th>\n",
       "      <th>article_id</th>\n",
       "      <th>updated</th>\n",
       "      <th>num_comments</th>\n",
       "      <th>link</th>\n",
       "      <th>header</th>\n",
       "      <th>sub</th>\n",
       "      <th>text</th>\n",
       "    </tr>\n",
       "  </thead>\n",
       "  <tbody>\n",
       "    <tr>\n",
       "      <th>0</th>\n",
       "      <td>31538566</td>\n",
       "      <td>31538566</td>\n",
       "      <td>1502083635</td>\n",
       "      <td>0</td>\n",
       "      <td>/schweiz/news/story/31538566</td>\n",
       "      <td>«Für mich ist eine Welt zusammengebrochen»</td>\n",
       "      <td>Beim Flugzeugunglück bei Pontresina starben dr...</td>\n",
       "      <td>Im Bündner Diavolezza-Gebiet ist ein Flugzeug ...</td>\n",
       "    </tr>\n",
       "    <tr>\n",
       "      <th>1</th>\n",
       "      <td>19638181</td>\n",
       "      <td>19638181</td>\n",
       "      <td>1502197771</td>\n",
       "      <td>43</td>\n",
       "      <td>/schweiz/zuerich/story/19638181</td>\n",
       "      <td>Jetzt wird die Schwester der Europaallee gebaut</td>\n",
       "      <td>Gleisarena und Gleistribüne  so heissen die e...</td>\n",
       "      <td>Die neue Überbauung HB-Nord entsteht nördlich ...</td>\n",
       "    </tr>\n",
       "    <tr>\n",
       "      <th>2</th>\n",
       "      <td>31833243</td>\n",
       "      <td>31833243</td>\n",
       "      <td>1502299764</td>\n",
       "      <td>0</td>\n",
       "      <td>/schweiz/basel/story/Fuenffacher-Nachwuchs-im-...</td>\n",
       "      <td>Fünffacher Nachwuchs im Basler Affenhaus</td>\n",
       "      <td>Bei den Totenkopfäfflein im Basler Zoo gibt es...</td>\n",
       "      <td>Die fünf Totenkopfäffchen wurden zwischen Mitt...</td>\n",
       "    </tr>\n",
       "  </tbody>\n",
       "</table>\n",
       "</div>"
      ],
      "text/plain": [
       "        tId  article_id    updated  num_comments  \\\n",
       "0  31538566    31538566 1502083635             0   \n",
       "1  19638181    19638181 1502197771            43   \n",
       "2  31833243    31833243 1502299764             0   \n",
       "\n",
       "                                                link  \\\n",
       "0                       /schweiz/news/story/31538566   \n",
       "1                    /schweiz/zuerich/story/19638181   \n",
       "2  /schweiz/basel/story/Fuenffacher-Nachwuchs-im-...   \n",
       "\n",
       "                                            header  \\\n",
       "0       «Für mich ist eine Welt zusammengebrochen»   \n",
       "1  Jetzt wird die Schwester der Europaallee gebaut   \n",
       "2         Fünffacher Nachwuchs im Basler Affenhaus   \n",
       "\n",
       "                                                 sub  \\\n",
       "0  Beim Flugzeugunglück bei Pontresina starben dr...   \n",
       "1  Gleisarena und Gleistribüne  so heissen die e...   \n",
       "2  Bei den Totenkopfäfflein im Basler Zoo gibt es...   \n",
       "\n",
       "                                                text  \n",
       "0  Im Bündner Diavolezza-Gebiet ist ein Flugzeug ...  \n",
       "1  Die neue Überbauung HB-Nord entsteht nördlich ...  \n",
       "2  Die fünf Totenkopfäffchen wurden zwischen Mitt...  "
      ]
     },
     "execution_count": 89,
     "metadata": {},
     "output_type": "execute_result"
    }
   ],
   "source": [
    "df_art.head(3)"
   ]
  },
  {
   "cell_type": "code",
   "execution_count": 90,
   "metadata": {},
   "outputs": [
    {
     "data": {
      "text/html": [
       "<div>\n",
       "<style>\n",
       "    .dataframe thead tr:only-child th {\n",
       "        text-align: right;\n",
       "    }\n",
       "\n",
       "    .dataframe thead th {\n",
       "        text-align: left;\n",
       "    }\n",
       "\n",
       "    .dataframe tbody tr th {\n",
       "        vertical-align: top;\n",
       "    }\n",
       "</style>\n",
       "<table border=\"1\" class=\"dataframe\">\n",
       "  <thead>\n",
       "    <tr style=\"text-align: right;\">\n",
       "      <th></th>\n",
       "      <th>tId</th>\n",
       "      <th>cId</th>\n",
       "      <th>mob</th>\n",
       "      <th>vup</th>\n",
       "      <th>vdo</th>\n",
       "      <th>tit</th>\n",
       "      <th>aut</th>\n",
       "      <th>time</th>\n",
       "      <th>con</th>\n",
       "    </tr>\n",
       "  </thead>\n",
       "  <tbody>\n",
       "    <tr>\n",
       "      <th>0</th>\n",
       "      <td>24298157</td>\n",
       "      <td>3_127</td>\n",
       "      <td>1</td>\n",
       "      <td>2</td>\n",
       "      <td>0</td>\n",
       "      <td>@Thomas</td>\n",
       "      <td>Spaniel</td>\n",
       "      <td>am 21.07.2017 12:14</td>\n",
       "      <td>Es würde Streit geben wenn er aufgespannt wir...</td>\n",
       "    </tr>\n",
       "    <tr>\n",
       "      <th>1</th>\n",
       "      <td>13753138</td>\n",
       "      <td>1115_1225</td>\n",
       "      <td>0</td>\n",
       "      <td>21</td>\n",
       "      <td>1</td>\n",
       "      <td>ohne Partikelfilter</td>\n",
       "      <td>Heinz B.</td>\n",
       "      <td>am 05.08.2017 17:25</td>\n",
       "      <td>@Historiker: Aber im Gegensatz zu Baumaschine...</td>\n",
       "    </tr>\n",
       "    <tr>\n",
       "      <th>2</th>\n",
       "      <td>13340147</td>\n",
       "      <td>783_783</td>\n",
       "      <td>1</td>\n",
       "      <td>87</td>\n",
       "      <td>14</td>\n",
       "      <td>Nur Abzocker</td>\n",
       "      <td>KChav</td>\n",
       "      <td>am 09.08.2017 15:45</td>\n",
       "      <td>Jetzt kann die Zürcher Taxi Maffia wieder los...</td>\n",
       "    </tr>\n",
       "  </tbody>\n",
       "</table>\n",
       "</div>"
      ],
      "text/plain": [
       "        tId        cId  mob  vup  vdo                  tit       aut  \\\n",
       "0  24298157      3_127    1    2    0              @Thomas  Spaniel    \n",
       "1  13753138  1115_1225    0   21    1  ohne Partikelfilter  Heinz B.   \n",
       "2  13340147    783_783    1   87   14        Nur Abzocker      KChav   \n",
       "\n",
       "                  time                                                con  \n",
       "0  am 21.07.2017 12:14   Es würde Streit geben wenn er aufgespannt wir...  \n",
       "1  am 05.08.2017 17:25   @Historiker: Aber im Gegensatz zu Baumaschine...  \n",
       "2  am 09.08.2017 15:45   Jetzt kann die Zürcher Taxi Maffia wieder los...  "
      ]
     },
     "execution_count": 90,
     "metadata": {},
     "output_type": "execute_result"
    }
   ],
   "source": [
    "df_com.head(3)"
   ]
  },
  {
   "cell_type": "code",
   "execution_count": 91,
   "metadata": {},
   "outputs": [
    {
     "name": "stdout",
     "output_type": "stream",
     "text": [
      "(1026, 8)\n",
      "(77611, 9)\n"
     ]
    }
   ],
   "source": [
    "print(df_art.shape)\n",
    "print(df_com.shape)"
   ]
  },
  {
   "cell_type": "code",
   "execution_count": 92,
   "metadata": {},
   "outputs": [
    {
     "name": "stdout",
     "output_type": "stream",
     "text": [
      "tId               int64\n",
      "article_id        int64\n",
      "updated         float64\n",
      "num_comments      int64\n",
      "link             object\n",
      "header           object\n",
      "sub              object\n",
      "text             object\n",
      "dtype: object\n",
      " \n",
      "tId      int64\n",
      "cId     object\n",
      "mob      int64\n",
      "vup      int64\n",
      "vdo      int64\n",
      "tit     object\n",
      "aut     object\n",
      "time    object\n",
      "con     object\n",
      "dtype: object\n"
     ]
    }
   ],
   "source": [
    "print(df_art.dtypes)\n",
    "print(' ')\n",
    "print(df_com.dtypes)"
   ]
  },
  {
   "cell_type": "code",
   "execution_count": 93,
   "metadata": {},
   "outputs": [
    {
     "data": {
      "text/html": [
       "<div>\n",
       "<style>\n",
       "    .dataframe thead tr:only-child th {\n",
       "        text-align: right;\n",
       "    }\n",
       "\n",
       "    .dataframe thead th {\n",
       "        text-align: left;\n",
       "    }\n",
       "\n",
       "    .dataframe tbody tr th {\n",
       "        vertical-align: top;\n",
       "    }\n",
       "</style>\n",
       "<table border=\"1\" class=\"dataframe\">\n",
       "  <thead>\n",
       "    <tr style=\"text-align: right;\">\n",
       "      <th></th>\n",
       "      <th>tId</th>\n",
       "      <th>article_id</th>\n",
       "      <th>updated</th>\n",
       "      <th>num_comments</th>\n",
       "    </tr>\n",
       "  </thead>\n",
       "  <tbody>\n",
       "    <tr>\n",
       "      <th>count</th>\n",
       "      <td>1026</td>\n",
       "      <td>1026</td>\n",
       "      <td>1026</td>\n",
       "      <td>1026</td>\n",
       "    </tr>\n",
       "    <tr>\n",
       "      <th>mean</th>\n",
       "      <td>21144399</td>\n",
       "      <td>21143338</td>\n",
       "      <td>1502274052</td>\n",
       "      <td>77</td>\n",
       "    </tr>\n",
       "    <tr>\n",
       "      <th>std</th>\n",
       "      <td>6430672</td>\n",
       "      <td>6435194</td>\n",
       "      <td>129408</td>\n",
       "      <td>136</td>\n",
       "    </tr>\n",
       "    <tr>\n",
       "      <th>min</th>\n",
       "      <td>10003016</td>\n",
       "      <td>10003016</td>\n",
       "      <td>1502017728</td>\n",
       "      <td>0</td>\n",
       "    </tr>\n",
       "    <tr>\n",
       "      <th>25%</th>\n",
       "      <td>15604268</td>\n",
       "      <td>15604268</td>\n",
       "      <td>1502172556</td>\n",
       "      <td>0</td>\n",
       "    </tr>\n",
       "    <tr>\n",
       "      <th>50%</th>\n",
       "      <td>21220790</td>\n",
       "      <td>21220790</td>\n",
       "      <td>1502288367</td>\n",
       "      <td>28</td>\n",
       "    </tr>\n",
       "    <tr>\n",
       "      <th>75%</th>\n",
       "      <td>26632181</td>\n",
       "      <td>26655490</td>\n",
       "      <td>1502414371</td>\n",
       "      <td>84</td>\n",
       "    </tr>\n",
       "    <tr>\n",
       "      <th>max</th>\n",
       "      <td>31996579</td>\n",
       "      <td>31996579</td>\n",
       "      <td>1502425549</td>\n",
       "      <td>1171</td>\n",
       "    </tr>\n",
       "  </tbody>\n",
       "</table>\n",
       "</div>"
      ],
      "text/plain": [
       "           tId  article_id    updated  num_comments\n",
       "count     1026        1026       1026          1026\n",
       "mean  21144399    21143338 1502274052            77\n",
       "std    6430672     6435194     129408           136\n",
       "min   10003016    10003016 1502017728             0\n",
       "25%   15604268    15604268 1502172556             0\n",
       "50%   21220790    21220790 1502288367            28\n",
       "75%   26632181    26655490 1502414371            84\n",
       "max   31996579    31996579 1502425549          1171"
      ]
     },
     "execution_count": 93,
     "metadata": {},
     "output_type": "execute_result"
    }
   ],
   "source": [
    "df_art.describe()\n",
    "\n",
    "# Summary:\n",
    "# No missing attributes since count is the same everywhere\n",
    "# No negative values, chi^2 etc. can be used"
   ]
  },
  {
   "cell_type": "code",
   "execution_count": 94,
   "metadata": {},
   "outputs": [
    {
     "data": {
      "text/html": [
       "<div>\n",
       "<style>\n",
       "    .dataframe thead tr:only-child th {\n",
       "        text-align: right;\n",
       "    }\n",
       "\n",
       "    .dataframe thead th {\n",
       "        text-align: left;\n",
       "    }\n",
       "\n",
       "    .dataframe tbody tr th {\n",
       "        vertical-align: top;\n",
       "    }\n",
       "</style>\n",
       "<table border=\"1\" class=\"dataframe\">\n",
       "  <thead>\n",
       "    <tr style=\"text-align: right;\">\n",
       "      <th></th>\n",
       "      <th>tId</th>\n",
       "      <th>mob</th>\n",
       "      <th>vup</th>\n",
       "      <th>vdo</th>\n",
       "    </tr>\n",
       "  </thead>\n",
       "  <tbody>\n",
       "    <tr>\n",
       "      <th>count</th>\n",
       "      <td>77611</td>\n",
       "      <td>77611</td>\n",
       "      <td>77611</td>\n",
       "      <td>77611</td>\n",
       "    </tr>\n",
       "    <tr>\n",
       "      <th>mean</th>\n",
       "      <td>20855978</td>\n",
       "      <td>1</td>\n",
       "      <td>45</td>\n",
       "      <td>16</td>\n",
       "    </tr>\n",
       "    <tr>\n",
       "      <th>std</th>\n",
       "      <td>6423375</td>\n",
       "      <td>0</td>\n",
       "      <td>120</td>\n",
       "      <td>34</td>\n",
       "    </tr>\n",
       "    <tr>\n",
       "      <th>min</th>\n",
       "      <td>10003016</td>\n",
       "      <td>0</td>\n",
       "      <td>0</td>\n",
       "      <td>-1</td>\n",
       "    </tr>\n",
       "    <tr>\n",
       "      <th>25%</th>\n",
       "      <td>15232299</td>\n",
       "      <td>0</td>\n",
       "      <td>7</td>\n",
       "      <td>2</td>\n",
       "    </tr>\n",
       "    <tr>\n",
       "      <th>50%</th>\n",
       "      <td>20500325</td>\n",
       "      <td>1</td>\n",
       "      <td>20</td>\n",
       "      <td>6</td>\n",
       "    </tr>\n",
       "    <tr>\n",
       "      <th>75%</th>\n",
       "      <td>26730000</td>\n",
       "      <td>1</td>\n",
       "      <td>45</td>\n",
       "      <td>16</td>\n",
       "    </tr>\n",
       "    <tr>\n",
       "      <th>max</th>\n",
       "      <td>31996579</td>\n",
       "      <td>1</td>\n",
       "      <td>3799</td>\n",
       "      <td>1072</td>\n",
       "    </tr>\n",
       "  </tbody>\n",
       "</table>\n",
       "</div>"
      ],
      "text/plain": [
       "           tId   mob   vup   vdo\n",
       "count    77611 77611 77611 77611\n",
       "mean  20855978     1    45    16\n",
       "std    6423375     0   120    34\n",
       "min   10003016     0     0    -1\n",
       "25%   15232299     0     7     2\n",
       "50%   20500325     1    20     6\n",
       "75%   26730000     1    45    16\n",
       "max   31996579     1  3799  1072"
      ]
     },
     "execution_count": 94,
     "metadata": {},
     "output_type": "execute_result"
    }
   ],
   "source": [
    "df_com.describe()\n",
    "\n",
    "# Summary:\n",
    "# No missing attributes \n",
    "# No negative values"
   ]
  },
  {
   "cell_type": "code",
   "execution_count": 95,
   "metadata": {},
   "outputs": [
    {
     "name": "stdout",
     "output_type": "stream",
     "text": [
      "tId             0\n",
      "article_id      0\n",
      "updated        -0\n",
      "num_comments    3\n",
      "dtype: float64\n"
     ]
    }
   ],
   "source": [
    "print(df_art.skew())\n",
    "# Makes only sense on 'num_comments'"
   ]
  },
  {
   "cell_type": "code",
   "execution_count": 96,
   "metadata": {},
   "outputs": [
    {
     "name": "stdout",
     "output_type": "stream",
     "text": [
      "tId    0\n",
      "cId    3\n",
      "mob   -1\n",
      "vup   12\n",
      "vdo    8\n",
      "dtype: float64\n"
     ]
    }
   ],
   "source": [
    "print(df_com.skew())\n",
    "# Skew is not high enough that it has to be corrected"
   ]
  },
  {
   "cell_type": "markdown",
   "metadata": {},
   "source": [
    "### Feature Engineering\n",
    "To make further analysis possible concerning time features."
   ]
  },
  {
   "cell_type": "code",
   "execution_count": 97,
   "metadata": {
    "collapsed": true
   },
   "outputs": [],
   "source": [
    "from datetime import datetime\n",
    "\n",
    "def get_dt_obj(time):\n",
    "    time = time.replace('am ', '')\n",
    "    # Make datetime object from string\n",
    "    return datetime.strptime(time, '%d.%m.%Y %H:%M')\n",
    "\n",
    "def time_since_epoch(time):\n",
    "    return (get_dt_obj(time)-datetime(1970,1,1)).total_seconds()\n",
    "\n",
    "def get_hour_of_day(time):\n",
    "    return get_dt_obj(time).hour\n",
    "\n",
    "def get_weekday(time):\n",
    "    return get_dt_obj(time).weekday()\n",
    "\n",
    "# Basically same as \"the hour of week\" or \"weekday_hourOfDay\"\n",
    "def get_weekday_float(time):\n",
    "    hour = float(get_hour_of_day(time))\n",
    "    weekday = get_weekday(time)\n",
    "    return float(weekday) + hour / 24\n",
    "\n",
    "def get_weekday_hour(time):\n",
    "    return '{}_{}'.format(get_weekday(time), get_hour_of_day(time))\n",
    "\n",
    "df_com['time_since_epoch'] = df_com['time'].apply(time_since_epoch)\n",
    "df_com['hour'] = df_com['time'].apply(get_hour_of_day)\n",
    "df_com['weekday'] = df_com['time'].apply(get_weekday) # 0 = Monday\n",
    "df_com['weekday_fl'] = df_com['time'].apply(get_weekday_float)\n",
    "df_com['weekday_hour'] = df_com['time'].apply(get_weekday_hour)\n",
    "df_com['is_answer'] = df_com['tit'].apply(lambda x: str(x).startswith('@'))\n",
    "df_com['con_len'] = df_com['con'].apply(lambda x: len(x))\n",
    "df_com['score'] = df_com['vup'] - df_com['vdo']\n",
    "df_com['contr'] = df_com['vup'] + df_com['vdo']"
   ]
  },
  {
   "cell_type": "markdown",
   "metadata": {},
   "source": [
    "### Class Distribution"
   ]
  },
  {
   "cell_type": "code",
   "execution_count": 98,
   "metadata": {},
   "outputs": [
    {
     "name": "stdout",
     "output_type": "stream",
     "text": [
      "mob\n",
      "0    25113\n",
      "1    52498\n",
      "dtype: int64\n",
      "weekday\n",
      "0     6910\n",
      "1    11459\n",
      "2    16916\n",
      "3    14357\n",
      "4     9050\n",
      "5     9361\n",
      "6     9558\n",
      "dtype: int64\n"
     ]
    }
   ],
   "source": [
    "# 'df_art' has no classes\n",
    "\n",
    "# 'df_com' \n",
    "print(df_com.groupby('mob').size())\n",
    "#print(df_com.groupby('hour').size())\n",
    "print(df_com.groupby('weekday').size())"
   ]
  },
  {
   "cell_type": "markdown",
   "metadata": {},
   "source": [
    "### Correlation\n",
    "Let's find relations between some of the attributes. Correlation requires continuous data."
   ]
  },
  {
   "cell_type": "code",
   "execution_count": 99,
   "metadata": {},
   "outputs": [
    {
     "data": {
      "text/html": [
       "<div>\n",
       "<style>\n",
       "    .dataframe thead tr:only-child th {\n",
       "        text-align: right;\n",
       "    }\n",
       "\n",
       "    .dataframe thead th {\n",
       "        text-align: left;\n",
       "    }\n",
       "\n",
       "    .dataframe tbody tr th {\n",
       "        vertical-align: top;\n",
       "    }\n",
       "</style>\n",
       "<table border=\"1\" class=\"dataframe\">\n",
       "  <thead>\n",
       "    <tr style=\"text-align: right;\">\n",
       "      <th></th>\n",
       "      <th>score</th>\n",
       "      <th>contr</th>\n",
       "      <th>hour</th>\n",
       "      <th>weekday</th>\n",
       "      <th>weekday_fl</th>\n",
       "      <th>mob</th>\n",
       "      <th>vup</th>\n",
       "      <th>vdo</th>\n",
       "      <th>is_answer</th>\n",
       "      <th>con_len</th>\n",
       "    </tr>\n",
       "  </thead>\n",
       "  <tbody>\n",
       "    <tr>\n",
       "      <th>score</th>\n",
       "      <td>1.00</td>\n",
       "      <td>0.87</td>\n",
       "      <td>-0.01</td>\n",
       "      <td>-0.01</td>\n",
       "      <td>-0.01</td>\n",
       "      <td>0.04</td>\n",
       "      <td>0.96</td>\n",
       "      <td>0.10</td>\n",
       "      <td>-0.14</td>\n",
       "      <td>0.01</td>\n",
       "    </tr>\n",
       "    <tr>\n",
       "      <th>contr</th>\n",
       "      <td>0.87</td>\n",
       "      <td>1.00</td>\n",
       "      <td>-0.01</td>\n",
       "      <td>-0.01</td>\n",
       "      <td>-0.02</td>\n",
       "      <td>0.08</td>\n",
       "      <td>0.97</td>\n",
       "      <td>0.59</td>\n",
       "      <td>-0.21</td>\n",
       "      <td>0.02</td>\n",
       "    </tr>\n",
       "    <tr>\n",
       "      <th>hour</th>\n",
       "      <td>-0.01</td>\n",
       "      <td>-0.01</td>\n",
       "      <td>1.00</td>\n",
       "      <td>-0.00</td>\n",
       "      <td>0.12</td>\n",
       "      <td>0.03</td>\n",
       "      <td>-0.01</td>\n",
       "      <td>-0.01</td>\n",
       "      <td>0.03</td>\n",
       "      <td>-0.06</td>\n",
       "    </tr>\n",
       "    <tr>\n",
       "      <th>weekday</th>\n",
       "      <td>-0.01</td>\n",
       "      <td>-0.01</td>\n",
       "      <td>-0.00</td>\n",
       "      <td>1.00</td>\n",
       "      <td>0.99</td>\n",
       "      <td>0.07</td>\n",
       "      <td>-0.01</td>\n",
       "      <td>-0.01</td>\n",
       "      <td>0.06</td>\n",
       "      <td>-0.01</td>\n",
       "    </tr>\n",
       "    <tr>\n",
       "      <th>weekday_fl</th>\n",
       "      <td>-0.01</td>\n",
       "      <td>-0.02</td>\n",
       "      <td>0.12</td>\n",
       "      <td>0.99</td>\n",
       "      <td>1.00</td>\n",
       "      <td>0.07</td>\n",
       "      <td>-0.01</td>\n",
       "      <td>-0.01</td>\n",
       "      <td>0.06</td>\n",
       "      <td>-0.01</td>\n",
       "    </tr>\n",
       "    <tr>\n",
       "      <th>mob</th>\n",
       "      <td>0.04</td>\n",
       "      <td>0.08</td>\n",
       "      <td>0.03</td>\n",
       "      <td>0.07</td>\n",
       "      <td>0.07</td>\n",
       "      <td>1.00</td>\n",
       "      <td>0.07</td>\n",
       "      <td>0.09</td>\n",
       "      <td>0.32</td>\n",
       "      <td>-0.12</td>\n",
       "    </tr>\n",
       "    <tr>\n",
       "      <th>vup</th>\n",
       "      <td>0.96</td>\n",
       "      <td>0.97</td>\n",
       "      <td>-0.01</td>\n",
       "      <td>-0.01</td>\n",
       "      <td>-0.01</td>\n",
       "      <td>0.07</td>\n",
       "      <td>1.00</td>\n",
       "      <td>0.38</td>\n",
       "      <td>-0.18</td>\n",
       "      <td>0.01</td>\n",
       "    </tr>\n",
       "    <tr>\n",
       "      <th>vdo</th>\n",
       "      <td>0.10</td>\n",
       "      <td>0.59</td>\n",
       "      <td>-0.01</td>\n",
       "      <td>-0.01</td>\n",
       "      <td>-0.01</td>\n",
       "      <td>0.09</td>\n",
       "      <td>0.38</td>\n",
       "      <td>1.00</td>\n",
       "      <td>-0.19</td>\n",
       "      <td>0.01</td>\n",
       "    </tr>\n",
       "    <tr>\n",
       "      <th>is_answer</th>\n",
       "      <td>-0.14</td>\n",
       "      <td>-0.21</td>\n",
       "      <td>0.03</td>\n",
       "      <td>0.06</td>\n",
       "      <td>0.06</td>\n",
       "      <td>0.32</td>\n",
       "      <td>-0.18</td>\n",
       "      <td>-0.19</td>\n",
       "      <td>1.00</td>\n",
       "      <td>-0.13</td>\n",
       "    </tr>\n",
       "    <tr>\n",
       "      <th>con_len</th>\n",
       "      <td>0.01</td>\n",
       "      <td>0.02</td>\n",
       "      <td>-0.06</td>\n",
       "      <td>-0.01</td>\n",
       "      <td>-0.01</td>\n",
       "      <td>-0.12</td>\n",
       "      <td>0.01</td>\n",
       "      <td>0.01</td>\n",
       "      <td>-0.13</td>\n",
       "      <td>1.00</td>\n",
       "    </tr>\n",
       "  </tbody>\n",
       "</table>\n",
       "</div>"
      ],
      "text/plain": [
       "            score  contr  hour  weekday  weekday_fl   mob   vup   vdo  \\\n",
       "score        1.00   0.87 -0.01    -0.01       -0.01  0.04  0.96  0.10   \n",
       "contr        0.87   1.00 -0.01    -0.01       -0.02  0.08  0.97  0.59   \n",
       "hour        -0.01  -0.01  1.00    -0.00        0.12  0.03 -0.01 -0.01   \n",
       "weekday     -0.01  -0.01 -0.00     1.00        0.99  0.07 -0.01 -0.01   \n",
       "weekday_fl  -0.01  -0.02  0.12     0.99        1.00  0.07 -0.01 -0.01   \n",
       "mob          0.04   0.08  0.03     0.07        0.07  1.00  0.07  0.09   \n",
       "vup          0.96   0.97 -0.01    -0.01       -0.01  0.07  1.00  0.38   \n",
       "vdo          0.10   0.59 -0.01    -0.01       -0.01  0.09  0.38  1.00   \n",
       "is_answer   -0.14  -0.21  0.03     0.06        0.06  0.32 -0.18 -0.19   \n",
       "con_len      0.01   0.02 -0.06    -0.01       -0.01 -0.12  0.01  0.01   \n",
       "\n",
       "            is_answer  con_len  \n",
       "score           -0.14     0.01  \n",
       "contr           -0.21     0.02  \n",
       "hour             0.03    -0.06  \n",
       "weekday          0.06    -0.01  \n",
       "weekday_fl       0.06    -0.01  \n",
       "mob              0.32    -0.12  \n",
       "vup             -0.18     0.01  \n",
       "vdo             -0.19     0.01  \n",
       "is_answer        1.00    -0.13  \n",
       "con_len         -0.13     1.00  "
      ]
     },
     "execution_count": 99,
     "metadata": {},
     "output_type": "execute_result"
    }
   ],
   "source": [
    "# Only for these columns\n",
    "cols = ['score', 'contr', 'hour', 'weekday', 'weekday_fl', 'mob', 'vup', 'vdo', 'is_answer', 'con_len']\n",
    "\n",
    "# Change back how float is displayed\n",
    "pd.options.display.float_format = '{:.2f}'.format\n",
    "\n",
    "# Get pearson co-efficients\n",
    "df_corr = df_com[cols].corr()\n",
    "df_corr\n",
    "\n",
    "# Summary:\n",
    "# Correlations are low.\n",
    "# The only interesting correlation is between 'vup' and 'vdo'."
   ]
  },
  {
   "cell_type": "markdown",
   "metadata": {},
   "source": [
    "### Scatter plots"
   ]
  },
  {
   "cell_type": "code",
   "execution_count": 100,
   "metadata": {},
   "outputs": [
    {
     "data": {
      "image/png": "[encoded data removed]",
      "text/plain": [
       "<matplotlib.figure.Figure at 0x12576ec88>"
      ]
     },
     "metadata": {},
     "output_type": "display_data"
    }
   ],
   "source": [
    "#sns.pairplot(df_com, x_vars='vup', y_vars='vdo', size=6)\n",
    "sns.regplot(x='vup', y='vdo', data=df_com[df_com['is_answer'] == False])\n",
    "sns.regplot(x='vup', y='vdo', data=df_com[df_com['is_answer'] == True])\n",
    "plt.show()\n",
    "\n",
    "# Quite some outliers\n",
    "# Are rows with upvotes of over 1000 real?\n",
    "# Looked some of them up manually and yes, they have a lot of upvotes (3000+)\n",
    "# Answers are rather downvoted than upvoted (as can already be seen in the correlation matrix)"
   ]
  },
  {
   "cell_type": "code",
   "execution_count": 101,
   "metadata": {
    "collapsed": true
   },
   "outputs": [],
   "source": [
    "#sns.regplot(x='vup', y='vdo', data=df_com[df_com['vup'] < 200])\n",
    "#sns.regplot(x='con_len', y='score', data=df_com)\n",
    "#plt.show()"
   ]
  },
  {
   "cell_type": "markdown",
   "metadata": {},
   "source": [
    "### Prediction\n",
    "Ok... I want to know:\n",
    "* How to get the best score/consensus (upvotes - downvotes)?\n",
    "* How to be most controversial (upvotes + downvotes)?\n",
    "* Which articles go most score / were most controversial (sum over all comments)?\n",
    "\n",
    "...And in the end I want a model predicting my comment text with given day and hour of posting.\n",
    "\n",
    "Impact will be taken into account from:\n",
    "* Hour of comment\n",
    "* Weekday\n",
    "* Weekday + hour = Hour of week\n",
    "* text written\n",
    "* title written / if title is an answer (starts with \"@\")\n",
    "* if from mobile (makes no sense, but let's see what happens)\n",
    "* article text\n",
    "* article category\n",
    "* ...?\n",
    "\n",
    "Problem:\n",
    "* Some parts are computationally expensive / the ipython kernel has problems running it sometimes"
   ]
  },
  {
   "cell_type": "code",
   "execution_count": 153,
   "metadata": {},
   "outputs": [
    {
     "data": {
      "image/png": "[encoded data removed]",
      "text/plain": [
       "<matplotlib.figure.Figure at 0x12d6d16a0>"
      ]
     },
     "metadata": {},
     "output_type": "display_data"
    },
    {
     "data": {
      "image/png": "[encoded data removed]",
      "text/plain": [
       "<matplotlib.figure.Figure at 0x12d991b00>"
      ]
     },
     "metadata": {},
     "output_type": "display_data"
    },
    {
     "name": "stdout",
     "output_type": "stream",
     "text": [
      "                     tId  cId  mob  vup  vdo                      tit  \\\n",
      "tId                                                                     \n",
      "10003016 76493  10003016  1_1    1  599   30  die spitze des eisbergs   \n",
      "\n",
      "                      aut                 time  \\\n",
      "tId                                              \n",
      "10003016 76493  Mani Motz  am 08.08.2017 07:34   \n",
      "\n",
      "                                                  con  time_since_epoch  \\\n",
      "tId                                                                       \n",
      "10003016 76493   erschreckend was alles möglich ist.      1502177640.00   \n",
      "\n",
      "                      ...              updated  num_comments  \\\n",
      "tId                   ...                                      \n",
      "10003016 76493        ...        1502425284.01            21   \n",
      "\n",
      "                                        link  \\\n",
      "tId                                            \n",
      "10003016 76493  /digital/news/story/10003016   \n",
      "\n",
      "                                                   header  \\\n",
      "tId                                                         \n",
      "10003016 76493  Was steckt hinter der Black-Death-Gruppe?   \n",
      "\n",
      "                                                              sub  \\\n",
      "tId                                                                 \n",
      "10003016 76493  Eine kriminelle Gruppe namens Black Death sorg...   \n",
      "\n",
      "                                                             text      cat  \\\n",
      "tId                                                                          \n",
      "10003016 76493  Was ist passiert? Ein 30-jähriger Pole hat am ...  digital   \n",
      "\n",
      "                header_len  text_len  time_since_first  \n",
      "tId                                                     \n",
      "10003016 76493          41      3429              0.00  \n",
      "\n",
      "[1 rows x 29 columns]\n"
     ]
    }
   ],
   "source": [
    "df_com['tit'] = df_com['tit'].str.lower()\n",
    "df_com['con'] = df_com['con'].str.lower()\n",
    "\n",
    "def get_category(link):\n",
    "    t = link.split('/')\n",
    "    if len(t) <= 1:\n",
    "        return ''\n",
    "    else:\n",
    "        return t[1]\n",
    "\n",
    "df_art['cat'] = df_art['link'].apply(get_category)\n",
    "df_art['header_len'] = df_art['header'].apply(lambda x: len(x))\n",
    "df_art['text_len'] = df_art['text'].apply(lambda x: len(str(x)))\n",
    "\n",
    "# Left inner join\n",
    "df_merge = pd.merge(left=df_com, right=df_art, left_on='tId', right_on='tId')\n",
    "\n",
    "# Hist\n",
    "h = df_merge.groupby(['cat']).size()\n",
    "h.plot.bar(title='Number of comments per category')\n",
    "plt.show()\n",
    "\n",
    "# Distribution\n",
    "ax = sns.violinplot(x=\"cat\", y=\"score\", data=df_merge)\n",
    "ax.set_title('Distribution per category')\n",
    "plt.xticks(rotation = 90)\n",
    "plt.show()\n",
    "\n",
    "# Part of mobile users, not interesting enough\n",
    "#parts_mob = df_merge[df_merge['mob'] == True].groupby(['cat']).size() / df_merge.groupby(['cat']).size()\n",
    "#parts_mob.plot.bar(title='Mobile comments per category')\n",
    "#plt.show()\n",
    "\n",
    "# is empty: (= all comments correspond to an article)\n",
    "#print(df_merge[pd.isnull(df_merge['link'])])\n",
    "#df_merge[df_merge['vup']>1000]\n",
    "\n",
    "# Get order of comments per article\n",
    "df_merge_art = df_merge.sort_values(['tId', 'time_since_epoch']).groupby('tId')\n",
    "# Get time since the first comment\n",
    "def get_time_since_first(group):\n",
    "    first = group.iloc[:1]['time_since_epoch']\n",
    "    group['time_since_first'] = group['time_since_epoch'].apply(lambda x: (x - first) / 3600)\n",
    "    # Remove those very late comments, after x hours\n",
    "    group = group[group['time_since_first'] < 36]\n",
    "    return group\n",
    "\n",
    "df_merge_art = df_merge_art.apply(get_time_since_first)\n",
    "\n",
    "# Unskew data - first tries TODO\n",
    "# use df.sample(n)\n",
    "df_merge_art = df_merge_art[df_merge_art['contr'] > 30]\n",
    "#df_merge_art = df_merge_art[(df_merge_art['score'] > 20) |(df_merge_art['score'] < 0)]\n",
    "'''\n",
    "small_len = len(df_merge_art[df_merge_art['score'] <= 1].index)\n",
    "print(small_len)\n",
    "middle_len = len(df_merge_art[df_merge_art['score'] <= 50].index)\n",
    "print(middle_len)\n",
    "high_len = len(df_merge_art[df_merge_art['score'] > 50].index)\n",
    "print(high_len)\n",
    "'''\n",
    "#ax = sns.regplot(x='time_since_first', y='contr', label='contr', data=df_merge_art)\n",
    "#ax = sns.regplot(x='time_since_first', y='score', label='score', data=df_merge_art)\n",
    "#ax.legend()\n",
    "#plt.show()\n",
    "\n",
    "\n",
    "# Summary:\n",
    "# Score / contr are only possible in certain categories \n",
    "#    - the categories with lots of active users\n",
    "# The time of posting compared to the first comment is not as important as I expected it to be\n",
    "# Exception: Some early comments make it into \"top comments\" and get very high scores/contr\n",
    "# But we can say the comment has to be posted about < ~12h after the first comment"
   ]
  },
  {
   "cell_type": "code",
   "execution_count": 149,
   "metadata": {},
   "outputs": [
    {
     "data": {
      "image/png": "[encoded data removed]",
      "text/plain": [
       "<matplotlib.figure.Figure at 0x1207a4dd8>"
      ]
     },
     "metadata": {},
     "output_type": "display_data"
    },
    {
     "data": {
      "image/png": "[encoded data removed]",
      "text/plain": [
       "<matplotlib.figure.Figure at 0x11f792f60>"
      ]
     },
     "metadata": {},
     "output_type": "display_data"
    },
    {
     "data": {
      "image/png": "[encoded data removed]",
      "text/plain": [
       "<matplotlib.figure.Figure at 0x11c5ce6a0>"
      ]
     },
     "metadata": {},
     "output_type": "display_data"
    },
    {
     "data": {
      "image/png": "[encoded data removed]",
      "text/plain": [
       "<matplotlib.figure.Figure at 0x11f7ce7f0>"
      ]
     },
     "metadata": {},
     "output_type": "display_data"
    },
    {
     "data": {
      "image/png": "[encoded data removed]",
      "text/plain": [
       "<matplotlib.figure.Figure at 0x11dda96d8>"
      ]
     },
     "metadata": {},
     "output_type": "display_data"
    },
    {
     "data": {
      "image/png": "[encoded data removed]",
      "text/plain": [
       "<matplotlib.figure.Figure at 0x11f4cf8d0>"
      ]
     },
     "metadata": {},
     "output_type": "display_data"
    },
    {
     "data": {
      "image/png": "[encoded data removed]",
      "text/plain": [
       "<matplotlib.figure.Figure at 0x1304b8080>"
      ]
     },
     "metadata": {},
     "output_type": "display_data"
    },
    {
     "data": {
      "image/png": "[encoded data removed]",
      "text/plain": [
       "<matplotlib.figure.Figure at 0x12d703dd8>"
      ]
     },
     "metadata": {},
     "output_type": "display_data"
    },
    {
     "data": {
      "image/png": "[encoded data removed]",
      "text/plain": [
       "<matplotlib.figure.Figure at 0x1271a6898>"
      ]
     },
     "metadata": {},
     "output_type": "display_data"
    },
    {
     "data": {
      "image/png": "[encoded data removed]",
      "text/plain": [
       "<matplotlib.figure.Figure at 0x11e5e0908>"
      ]
     },
     "metadata": {},
     "output_type": "display_data"
    },
    {
     "data": {
      "image/png": "[encoded data removed]",
      "text/plain": [
       "<matplotlib.figure.Figure at 0x12e77c390>"
      ]
     },
     "metadata": {},
     "output_type": "display_data"
    },
    {
     "data": {
      "image/png": "[encoded data removed]",
      "text/plain": [
       "<matplotlib.figure.Figure at 0x12d703470>"
      ]
     },
     "metadata": {},
     "output_type": "display_data"
    }
   ],
   "source": [
    "# Try around to see how columns are distributed\n",
    "# And do some feature engineering\n",
    "import math\n",
    "\n",
    "def show_hist(col):\n",
    "    df_merge_art['bins'] = pd.cut(df_merge_art[col], 100)\n",
    "    h = df_merge_art.groupby(['bins']).size().plot.bar(title=col)\n",
    "    plt.gca().get_xaxis().set_visible(False)\n",
    "    plt.show()\n",
    "    \n",
    "for col in ['weekday_fl', 'con_len', 'header_len', 'text_len', 'time_since_first', \n",
    "            'score', 'contr']:\n",
    "    show_hist(col)\n",
    "    \n",
    "for col in ['con_len', 'text_len', 'time_since_first', 'score', 'contr']:\n",
    "    min_val = df_merge_art[col].min()\n",
    "    df_merge_art[col + '_log'] = df_merge_art[col].apply(lambda x: math.log(x+1-min_val))\n",
    "    show_hist(col + '_log')\n",
    "    \n",
    "# Log doesn't work that well on score"
   ]
  },
  {
   "cell_type": "code",
   "execution_count": 135,
   "metadata": {},
   "outputs": [
    {
     "data": {
      "image/png": "[encoded data removed]",
      "text/plain": [
       "<matplotlib.figure.Figure at 0x126009908>"
      ]
     },
     "metadata": {},
     "output_type": "display_data"
    },
    {
     "data": {
      "image/png": "[encoded data removed]",
      "text/plain": [
       "<matplotlib.figure.Figure at 0x124e7f278>"
      ]
     },
     "metadata": {},
     "output_type": "display_data"
    },
    {
     "data": {
      "text/html": [
       "<div>\n",
       "<style>\n",
       "    .dataframe thead tr:only-child th {\n",
       "        text-align: right;\n",
       "    }\n",
       "\n",
       "    .dataframe thead th {\n",
       "        text-align: left;\n",
       "    }\n",
       "\n",
       "    .dataframe tbody tr th {\n",
       "        vertical-align: top;\n",
       "    }\n",
       "</style>\n",
       "<table border=\"1\" class=\"dataframe\">\n",
       "  <thead>\n",
       "    <tr style=\"text-align: right;\">\n",
       "      <th></th>\n",
       "      <th>score</th>\n",
       "      <th>contr</th>\n",
       "      <th>weekday_fl</th>\n",
       "      <th>con_len</th>\n",
       "      <th>con_len_log</th>\n",
       "      <th>time_since_first</th>\n",
       "      <th>time_since_first_log</th>\n",
       "    </tr>\n",
       "  </thead>\n",
       "  <tbody>\n",
       "    <tr>\n",
       "      <th>score</th>\n",
       "      <td>1.00</td>\n",
       "      <td>0.87</td>\n",
       "      <td>-0.02</td>\n",
       "      <td>0.00</td>\n",
       "      <td>-0.00</td>\n",
       "      <td>-0.12</td>\n",
       "      <td>-0.19</td>\n",
       "    </tr>\n",
       "    <tr>\n",
       "      <th>contr</th>\n",
       "      <td>0.87</td>\n",
       "      <td>1.00</td>\n",
       "      <td>-0.03</td>\n",
       "      <td>-0.00</td>\n",
       "      <td>-0.00</td>\n",
       "      <td>-0.14</td>\n",
       "      <td>-0.21</td>\n",
       "    </tr>\n",
       "    <tr>\n",
       "      <th>weekday_fl</th>\n",
       "      <td>-0.02</td>\n",
       "      <td>-0.03</td>\n",
       "      <td>1.00</td>\n",
       "      <td>-0.01</td>\n",
       "      <td>-0.00</td>\n",
       "      <td>0.13</td>\n",
       "      <td>0.14</td>\n",
       "    </tr>\n",
       "    <tr>\n",
       "      <th>con_len</th>\n",
       "      <td>0.00</td>\n",
       "      <td>-0.00</td>\n",
       "      <td>-0.01</td>\n",
       "      <td>1.00</td>\n",
       "      <td>0.90</td>\n",
       "      <td>0.06</td>\n",
       "      <td>0.07</td>\n",
       "    </tr>\n",
       "    <tr>\n",
       "      <th>con_len_log</th>\n",
       "      <td>-0.00</td>\n",
       "      <td>-0.00</td>\n",
       "      <td>-0.00</td>\n",
       "      <td>0.90</td>\n",
       "      <td>1.00</td>\n",
       "      <td>0.06</td>\n",
       "      <td>0.08</td>\n",
       "    </tr>\n",
       "    <tr>\n",
       "      <th>time_since_first</th>\n",
       "      <td>-0.12</td>\n",
       "      <td>-0.14</td>\n",
       "      <td>0.13</td>\n",
       "      <td>0.06</td>\n",
       "      <td>0.06</td>\n",
       "      <td>1.00</td>\n",
       "      <td>0.90</td>\n",
       "    </tr>\n",
       "    <tr>\n",
       "      <th>time_since_first_log</th>\n",
       "      <td>-0.19</td>\n",
       "      <td>-0.21</td>\n",
       "      <td>0.14</td>\n",
       "      <td>0.07</td>\n",
       "      <td>0.08</td>\n",
       "      <td>0.90</td>\n",
       "      <td>1.00</td>\n",
       "    </tr>\n",
       "  </tbody>\n",
       "</table>\n",
       "</div>"
      ],
      "text/plain": [
       "                      score  contr  weekday_fl  con_len  con_len_log  \\\n",
       "score                  1.00   0.87       -0.02     0.00        -0.00   \n",
       "contr                  0.87   1.00       -0.03    -0.00        -0.00   \n",
       "weekday_fl            -0.02  -0.03        1.00    -0.01        -0.00   \n",
       "con_len                0.00  -0.00       -0.01     1.00         0.90   \n",
       "con_len_log           -0.00  -0.00       -0.00     0.90         1.00   \n",
       "time_since_first      -0.12  -0.14        0.13     0.06         0.06   \n",
       "time_since_first_log  -0.19  -0.21        0.14     0.07         0.08   \n",
       "\n",
       "                      time_since_first  time_since_first_log  \n",
       "score                            -0.12                 -0.19  \n",
       "contr                            -0.14                 -0.21  \n",
       "weekday_fl                        0.13                  0.14  \n",
       "con_len                           0.06                  0.07  \n",
       "con_len_log                       0.06                  0.08  \n",
       "time_since_first                  1.00                  0.90  \n",
       "time_since_first_log              0.90                  1.00  "
      ]
     },
     "execution_count": 135,
     "metadata": {},
     "output_type": "execute_result"
    }
   ],
   "source": [
    "# Plot hist and heat map against weekdays\n",
    "weekdays = ['Mo', 'Tu', 'We', 'Th', 'Fr', 'Sa', 'Su']\n",
    "\n",
    "sns.set(color_codes=True)\n",
    "ax = sns.distplot(df_com[df_com['score']>50]['weekday_fl'], label='score', kde=False, color='blue')\n",
    "ax = sns.distplot(df_com[df_com['contr']>50]['weekday_fl'], label='contr', kde=False, color='red')\n",
    "#ax.set(xticks=range(0, len(weekdays)), xticklabels=weekdays) # This is misleading\n",
    "ax.legend()\n",
    "plt.show()\n",
    "\n",
    "grouped = df_com[df_com['score']>0].groupby(['weekday', 'hour']).size()\n",
    "matrix = np.zeros((7, 24))\n",
    "for d in range(0, 6):\n",
    "    for h in range(0, 24):\n",
    "        if d in grouped and h in grouped[d]:\n",
    "            matrix[d][h] = grouped[d][h]\n",
    "\n",
    "sns.heatmap(matrix, yticklabels=weekdays)\n",
    "plt.show()\n",
    "\n",
    "# I removed very weak correlations to \"score\" and \"contr\"\n",
    "cols = ['score', 'contr', 'weekday_fl', 'con_len',\n",
    "       'con_len_log',\n",
    "       'time_since_first', 'time_since_first_log']\n",
    "# Get pearson co-efficients\n",
    "df_merge_art[cols].corr()\n",
    "\n",
    "\n",
    "# 0 = Monday, 7 = Sunday\n",
    "# Summary:\n",
    "# The day and time of posting plays a big role\n",
    "# This is probably because on certain days upvoting people are most active\n",
    "# This does not mean that posting the *same* comment on those times gives you more upvotes"
   ]
  },
  {
   "cell_type": "code",
   "execution_count": 150,
   "metadata": {
    "collapsed": true
   },
   "outputs": [],
   "source": [
    "# Preprocess and split data\n",
    "\n",
    "# https://de.wikipedia.org/wiki/Liste_der_h%C3%A4ufigsten_W%C3%B6rter_der_deutschen_Sprache\n",
    "stop_words = \"die, der, und, in, zu, den, das, nicht, von, sie, ist, des, sich, mit, dem, dass, er, es, ein, ich, auf, so, eine, auch, als, an, nach, wie, im, für\"\n",
    "#stop_words += \"man, aber, aus, durch, wenn, nur, war, noch, werden, bei, hat, wir, was, wird, sein, einen, welche, sind, oder, zur, um, haben, einer, mir, über, ihm, diese, einem, ihr, uns\"\n",
    "#stop_words += \"da, zum, kann, doch, vor, dieser, mich, ihn, du, hatte, seine, mehr, am, denn, nun, unter, sehr, selbst, schon, hier\"\n",
    "#stop_words += \"bis, habe, ihre, dann, ihnen, seiner, alle, wieder, meine, Zeit, gegen, vom, ganz, einzelnen, wo, muss, ohne, eines, können, sei\"\n",
    "stop_words = stop_words.lower()\n",
    "stop_words = stop_words.split(', ')\n",
    "\n",
    "def classify(val):\n",
    "    if val > 10: return 1\n",
    "    return 0\n",
    "\n",
    "# Basically drop columns \"score\" and \"contr\"\n",
    "columns = ['weekday', 'hour', 'time_since_first', 'time_since_first_log', \n",
    "           'con_len', 'con_len_log', 'header_len', 'text_len', 'text_len_log']\n",
    "X = df_merge_art[columns + ['con', 'text']]\n",
    "\n",
    "#y = df_merge_art['score'].apply(classify)\n",
    "y = df_merge_art['score']\n",
    "\n",
    "from sklearn.model_selection import train_test_split\n",
    "X_train, X_test, y_train, y_test = train_test_split(X, y, test_size=0.2, random_state=0)"
   ]
  },
  {
   "cell_type": "code",
   "execution_count": 151,
   "metadata": {},
   "outputs": [
    {
     "name": "stdout",
     "output_type": "stream",
     "text": [
      "R^2: -0.000\n",
      "\n",
      "werden\t1.8984802319872958\n",
      "man\t1.8947954921717187\n",
      "was\t1.3581870888439718\n",
      "kann\t0.845743554314601\n",
      "noch\t0.4981356172416464\n",
      "mehr\t0.4222296667959638\n",
      "haben\t0.36212757467688456\n",
      "nur\t0.2667795818129677\n",
      "mal\t0.21935661720423885\n",
      "wird\t-0.14762950273519143\n",
      "sind\t-0.19634153846801256\n",
      "wenn\t-0.31981918731347186\n",
      "schon\t-0.5356441124824982\n",
      "da\t-0.5848092079724135\n",
      "bei\t-0.6558694586244179\n",
      "hat\t-0.6564117044570632\n",
      "aber\t-0.6581052962937459\n",
      "dann\t-1.3595389766021002\n",
      "oder\t-1.7268477001637117\n",
      "ja\t-1.8135291524989074\n",
      "----------\n",
      "werden\t1.8984802319872958\n",
      "man\t1.8947954921717187\n",
      "was\t1.3581870888439718\n",
      "kann\t0.845743554314601\n",
      "noch\t0.4981356172416464\n",
      "mehr\t0.4222296667959638\n",
      "haben\t0.36212757467688456\n",
      "nur\t0.2667795818129677\n",
      "mal\t0.21935661720423885\n",
      "wird\t-0.14762950273519143\n",
      "sind\t-0.19634153846801256\n",
      "wenn\t-0.31981918731347186\n",
      "schon\t-0.5356441124824982\n",
      "da\t-0.5848092079724135\n",
      "bei\t-0.6558694586244179\n",
      "hat\t-0.6564117044570632\n",
      "aber\t-0.6581052962937459\n",
      "dann\t-1.3595389766021002\n",
      "oder\t-1.7268477001637117\n",
      "ja\t-1.8135291524989074\n"
     ]
    }
   ],
   "source": [
    "# Build a simple intermediate model for text\n",
    "from sklearn.pipeline import make_pipeline\n",
    "from sklearn.feature_extraction.text import CountVectorizer\n",
    "from sklearn.linear_model import LinearRegression, Ridge\n",
    "\n",
    "#voc = ['ich', 'es', 'guet', 'schlecht', 'nicht', 'nein']\n",
    "#vect = CountVectorizer(vocabulary=voc)\n",
    "#print(vect.vocabulary_)\n",
    "\n",
    "no_numbers = lambda x: re.sub(r'(\\d[\\d\\.])+', '', x.lower())\n",
    "vect = CountVectorizer(preprocessor=no_numbers, min_df=0.1, max_df=0.4, max_features=100, stop_words=stop_words)\n",
    "sent_model = make_pipeline(vect, Ridge(max_iter=10, alpha=10000, solver='lsqr'))\n",
    "sent_model.fit(X_train['con'], y_train)\n",
    "y_pred = sent_model.predict(X_test['con'])\n",
    "print(\"R^2: %1.3f\\n\" % r2_score(y_test, y_pred))\n",
    "\n",
    "if True:\n",
    "    coeff_by_name = {}\n",
    "    for i, f in enumerate(sent_model.named_steps['countvectorizer'].get_feature_names()):\n",
    "        coeff_by_name[f] = sent_model.named_steps['ridge'].coef_[i]\n",
    "\n",
    "    coeff_sorted = sorted(coeff_by_name.items(), key=lambda x:x[1], reverse=True)\n",
    "    for c in coeff_sorted[0:30]:\n",
    "        print(\"{}\\t{}\".format(c[0], c[1]))\n",
    "    print(\"----------\")\n",
    "    for c in coeff_sorted[-30:]:\n",
    "        print(\"{}\\t{}\".format(c[0], c[1]))\n",
    "    \n",
    "if False:\n",
    "    from sklearn.model_selection import GridSearchCV\n",
    "    param_grid = {'countvectorizer__max_features': [100, 200],\n",
    "        'ridge__alpha': np.logspace(-1, 3, 5), 'ridge__max_iter': [10, 50, 100], \n",
    "                  'ridge__solver': ['svd', 'cholesky', 'lsqr']}\n",
    "    grid = GridSearchCV(sent_model, param_grid, cv=3)\n",
    "    grid.fit(X_train['con'], y_train)\n",
    "    \n",
    "    print(\"Best estimator:\\n{}\".format(grid.best_estimator_))"
   ]
  },
  {
   "cell_type": "code",
   "execution_count": 148,
   "metadata": {},
   "outputs": [
    {
     "name": "stdout",
     "output_type": "stream",
     "text": [
      "R^2: 0.116\n",
      "\n"
     ]
    }
   ],
   "source": [
    "# Build a prediction model and test it\n",
    "# Not all imports needed - trying around\n",
    "from sklearn.preprocessing import StandardScaler, PolynomialFeatures\n",
    "from sklearn.metrics import r2_score\n",
    "from sklearn.pipeline import make_pipeline, Pipeline, FeatureUnion\n",
    "from sklearn.linear_model import LinearRegression, Ridge\n",
    "#from sklearn.feature_selection import SelectKBest, SelectPercentile, f_regression\n",
    "#from sklearn.svm import LinearSVC\n",
    "\n",
    "from sklearn.feature_extraction.text import CountVectorizer\n",
    "from sklearn.base import BaseEstimator, TransformerMixin\n",
    "\n",
    "class ItemSelector(BaseEstimator, TransformerMixin):\n",
    "    '''\n",
    "    Select a subset of data at a provided key.\n",
    "    key: hashable, required\n",
    "        The key corresponding to the desired value in a mappable.\n",
    "    '''\n",
    "    def __init__(self, key):\n",
    "        self.key = key\n",
    "        \n",
    "    def fit(self, x, y=None):\n",
    "        return self\n",
    "    \n",
    "    def transform(self, df):\n",
    "        return df[self.key]\n",
    "    \n",
    "# TODO onehotencoder for \"cat\"\n",
    "no_numbers = lambda x: re.sub(r'(\\d[\\d\\.])+', '', x.lower())\n",
    "model = Pipeline([\n",
    "    ('union', FeatureUnion(\n",
    "        transformer_list=\n",
    "        [\n",
    "            ('statistics', Pipeline([\n",
    "                ('selector', ItemSelector(\n",
    "                    key=['weekday', 'hour', \n",
    "                         'time_since_first_log'])),\n",
    "                ('scaler', StandardScaler()),\n",
    "                ('polynomialfeatures', PolynomialFeatures(degree=5))\n",
    "            ]))#,\n",
    "            \n",
    "            # Course of dimensionality!\n",
    "         #   ('words', Pipeline([\n",
    "          #      ('selector', ItemSelector(key='con')),\n",
    "            #    ('vect', CountVectorizer(preprocessor=no_numbers, ngram_range=(1, 1), stop_words=stop_words))\n",
    "           #     ('sent_model', sent_model)\n",
    "           # ]))\n",
    "        ],\n",
    "        \n",
    "        transformer_weights={\n",
    "            'statistics': .8,\n",
    "            'words': .2\n",
    "        }\n",
    "    )),\n",
    "    \n",
    "    # Params not optimized yet\n",
    "    ('model', Ridge())\n",
    "    #('model', SVC(kernel='linear', n_jobs=-1))\n",
    "])\n",
    "\n",
    "#model = make_pipeline(ItemSelector(\n",
    "#        key=['weekday', 'hour', 'time_since_first', 'con_len']),\n",
    "#        StandardScaler(), PolynomialFeatures(degree=5), Ridge(alpha=100, max_iter=10, solver='cholesky'))\n",
    "model.fit(X_train, y_train)\n",
    "y_pred = model.predict(X_test)\n",
    "print(\"R^2: %1.3f\\n\" % r2_score(y_test, y_pred))\n",
    "#print(classification_report(y_test, y_pred))\n",
    "\n",
    "'''\n",
    "# See influence of the polynomial features\n",
    "print(columns)\n",
    "features = {}\n",
    "for i, feature in enumerate(model['union'].named_steps['polynomialfeatures'].get_feature_names()):\n",
    "    features[feature] = model.named_steps['ridge'].coef_[i]\n",
    "\n",
    "for name, value in sorted(features.items(), key=lambda x:x[1], reverse=True):\n",
    "    print(\"{}\\t{}\".format(name, value))\n",
    "'''\n",
    "\n",
    "if False:\n",
    "    from sklearn.model_selection import GridSearchCV\n",
    "    param_grid = {'polynomialfeatures__degree': [2, 3, 4, 5],\n",
    "        'ridge__alpha': np.logspace(-1, 4, 6), 'ridge__max_iter': [10, 50, 100], 'ridge__solver': ['svd', 'cholesky', 'lsqr']}\n",
    "    grid = GridSearchCV(model, param_grid, cv=3)\n",
    "    grid.fit(X_train, y_train)\n",
    "    \n",
    "    print(\"Best estimator:\\n{}\".format(grid.best_estimator_))\n",
    "    #print(\"Best coefficients:\\n{}\".format(grid.best_estimator_.named_steps[\"ridge\"].coef_))"
   ]
  },
  {
   "cell_type": "markdown",
   "metadata": {
    "collapsed": true
   },
   "source": [
    "### Take Aways so far\n",
    "Context seems to play a big role in determining up/downvotes, a far bigger role than words used. - This is not surprising, since the number of active readers differs a lot and since words can change their meaning depending on context.  \n",
    "So maybe the content is not that important, maybe it's more important if it is positive or negative?  \n",
    "Hypothesis: Earlier comments on an article get more score/contr than later ones; at least there is a weak correlation.\n",
    "\n",
    "The question is:\n",
    "* Either my work and resulting model are not good enough.\n",
    "* Or it's not possible to predict \"score\" from the given data."
   ]
  },
  {
   "cell_type": "code",
   "execution_count": null,
   "metadata": {
    "collapsed": true
   },
   "outputs": [],
   "source": []
  }
 ],
 "metadata": {
  "kernelspec": {
   "display_name": "Python 3",
   "language": "python",
   "name": "python3"
  },
  "language_info": {
   "codemirror_mode": {
    "name": "ipython",
    "version": 3
   },
   "file_extension": ".py",
   "mimetype": "text/x-python",
   "name": "python",
   "nbconvert_exporter": "python",
   "pygments_lexer": "ipython3",
   "version": "3.6.1"
  }
 },
 "nbformat": 4,
 "nbformat_minor": 2
}
