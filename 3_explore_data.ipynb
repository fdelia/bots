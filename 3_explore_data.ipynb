{
 "cells": [
  {
   "cell_type": "markdown",
   "metadata": {},
   "source": [
    "# Exploratory Data Analysis\n",
    "\n",
    "&lt; Work in progress &gt;\n",
    "\n",
    "__TODO / MISSING__:\n",
    "* Add hour of day to comments for further exploration\n",
    "* Add day of week to comments\n",
    "* Class distribution: use histograms instead of size()\n",
    "* Scatter plots\n",
    "* Violin plots\n"
   ]
  },
  {
   "cell_type": "code",
   "execution_count": 26,
   "metadata": {
    "collapsed": true
   },
   "outputs": [],
   "source": [
    "%matplotlib inline\n",
    "import re\n",
    "import numpy as np\n",
    "import matplotlib.pyplot as plt\n",
    "# Not necessary, but I like the ggplot style better\n",
    "plt.style.use('ggplot')\n",
    "\n",
    "import seaborn as sns\n",
    "\n",
    "import warnings\n",
    "warnings.filterwarnings('ignore')\n",
    "\n",
    "import pandas as pd\n",
    "df_art = pd.read_csv('articles_2017_08.csv')\n",
    "df_com = pd.read_csv('comments_2017_08.csv')\n",
    "# Make float better readable\n",
    "pd.options.display.float_format = '{:.0f}'.format"
   ]
  },
  {
   "cell_type": "markdown",
   "metadata": {},
   "source": [
    "### First Look"
   ]
  },
  {
   "cell_type": "code",
   "execution_count": 2,
   "metadata": {},
   "outputs": [
    {
     "data": {
      "text/html": [
       "<div>\n",
       "<style>\n",
       "    .dataframe thead tr:only-child th {\n",
       "        text-align: right;\n",
       "    }\n",
       "\n",
       "    .dataframe thead th {\n",
       "        text-align: left;\n",
       "    }\n",
       "\n",
       "    .dataframe tbody tr th {\n",
       "        vertical-align: top;\n",
       "    }\n",
       "</style>\n",
       "<table border=\"1\" class=\"dataframe\">\n",
       "  <thead>\n",
       "    <tr style=\"text-align: right;\">\n",
       "      <th></th>\n",
       "      <th>tId</th>\n",
       "      <th>article_id</th>\n",
       "      <th>updated</th>\n",
       "      <th>num_comments</th>\n",
       "      <th>link</th>\n",
       "      <th>header</th>\n",
       "      <th>sub</th>\n",
       "      <th>text</th>\n",
       "    </tr>\n",
       "  </thead>\n",
       "  <tbody>\n",
       "    <tr>\n",
       "      <th>0</th>\n",
       "      <td>19638181</td>\n",
       "      <td>19638181</td>\n",
       "      <td>1502197771</td>\n",
       "      <td>43</td>\n",
       "      <td>/schweiz/zuerich/story/19638181</td>\n",
       "      <td>Jetzt wird die Schwester der Europaallee gebaut</td>\n",
       "      <td>Gleisarena und Gleistribüne  so heissen die e...</td>\n",
       "      <td>Die neue Überbauung HB-Nord entsteht nördlich ...</td>\n",
       "    </tr>\n",
       "    <tr>\n",
       "      <th>1</th>\n",
       "      <td>31538566</td>\n",
       "      <td>31538566</td>\n",
       "      <td>1502083635</td>\n",
       "      <td>0</td>\n",
       "      <td>/schweiz/news/story/31538566</td>\n",
       "      <td>«Für mich ist eine Welt zusammengebrochen»</td>\n",
       "      <td>Beim Flugzeugunglück bei Pontresina starben dr...</td>\n",
       "      <td>Im Bündner Diavolezza-Gebiet ist ein Flugzeug ...</td>\n",
       "    </tr>\n",
       "    <tr>\n",
       "      <th>2</th>\n",
       "      <td>26200832</td>\n",
       "      <td>26200832</td>\n",
       "      <td>1502255246</td>\n",
       "      <td>6</td>\n",
       "      <td>/leben/reisen/story/26200832</td>\n",
       "      <td>Vollgas in die Entschleunigung</td>\n",
       "      <td>von Gabriella Hummel - Inside Vanlife: Nach 60...</td>\n",
       "      <td>Entschleunigung: Eine absolute Trendaktivität ...</td>\n",
       "    </tr>\n",
       "  </tbody>\n",
       "</table>\n",
       "</div>"
      ],
      "text/plain": [
       "        tId  article_id    updated  num_comments  \\\n",
       "0  19638181    19638181 1502197771            43   \n",
       "1  31538566    31538566 1502083635             0   \n",
       "2  26200832    26200832 1502255246             6   \n",
       "\n",
       "                              link  \\\n",
       "0  /schweiz/zuerich/story/19638181   \n",
       "1     /schweiz/news/story/31538566   \n",
       "2     /leben/reisen/story/26200832   \n",
       "\n",
       "                                            header  \\\n",
       "0  Jetzt wird die Schwester der Europaallee gebaut   \n",
       "1       «Für mich ist eine Welt zusammengebrochen»   \n",
       "2                   Vollgas in die Entschleunigung   \n",
       "\n",
       "                                                 sub  \\\n",
       "0  Gleisarena und Gleistribüne  so heissen die e...   \n",
       "1  Beim Flugzeugunglück bei Pontresina starben dr...   \n",
       "2  von Gabriella Hummel - Inside Vanlife: Nach 60...   \n",
       "\n",
       "                                                text  \n",
       "0  Die neue Überbauung HB-Nord entsteht nördlich ...  \n",
       "1  Im Bündner Diavolezza-Gebiet ist ein Flugzeug ...  \n",
       "2  Entschleunigung: Eine absolute Trendaktivität ...  "
      ]
     },
     "execution_count": 2,
     "metadata": {},
     "output_type": "execute_result"
    }
   ],
   "source": [
    "df_art.head(3)"
   ]
  },
  {
   "cell_type": "code",
   "execution_count": 3,
   "metadata": {},
   "outputs": [
    {
     "data": {
      "text/html": [
       "<div>\n",
       "<style>\n",
       "    .dataframe thead tr:only-child th {\n",
       "        text-align: right;\n",
       "    }\n",
       "\n",
       "    .dataframe thead th {\n",
       "        text-align: left;\n",
       "    }\n",
       "\n",
       "    .dataframe tbody tr th {\n",
       "        vertical-align: top;\n",
       "    }\n",
       "</style>\n",
       "<table border=\"1\" class=\"dataframe\">\n",
       "  <thead>\n",
       "    <tr style=\"text-align: right;\">\n",
       "      <th></th>\n",
       "      <th>tId</th>\n",
       "      <th>cId</th>\n",
       "      <th>mob</th>\n",
       "      <th>vup</th>\n",
       "      <th>vdo</th>\n",
       "      <th>tit</th>\n",
       "      <th>aut</th>\n",
       "      <th>time</th>\n",
       "      <th>con</th>\n",
       "    </tr>\n",
       "  </thead>\n",
       "  <tbody>\n",
       "    <tr>\n",
       "      <th>0</th>\n",
       "      <td>13753138</td>\n",
       "      <td>1115_1225</td>\n",
       "      <td>0</td>\n",
       "      <td>21</td>\n",
       "      <td>1</td>\n",
       "      <td>ohne Partikelfilter</td>\n",
       "      <td>Heinz B.</td>\n",
       "      <td>am 05.08.2017 17:25</td>\n",
       "      <td>@Historiker: Aber im Gegensatz zu Baumaschine...</td>\n",
       "    </tr>\n",
       "    <tr>\n",
       "      <th>1</th>\n",
       "      <td>12645697</td>\n",
       "      <td>139_225</td>\n",
       "      <td>0</td>\n",
       "      <td>18</td>\n",
       "      <td>4</td>\n",
       "      <td>Jamie</td>\n",
       "      <td>Nene</td>\n",
       "      <td>am 29.07.2017 13:48</td>\n",
       "      <td>Foxx sieht doch nicht gut aus! Das ist ein Wi...</td>\n",
       "    </tr>\n",
       "    <tr>\n",
       "      <th>2</th>\n",
       "      <td>12645697</td>\n",
       "      <td>369_369</td>\n",
       "      <td>1</td>\n",
       "      <td>24</td>\n",
       "      <td>16</td>\n",
       "      <td>Ehefrau Amal</td>\n",
       "      <td>Mann43</td>\n",
       "      <td>am 29.07.2017 15:37</td>\n",
       "      <td>Ich muss schon sagen ich hätte auch gerne so ...</td>\n",
       "    </tr>\n",
       "  </tbody>\n",
       "</table>\n",
       "</div>"
      ],
      "text/plain": [
       "        tId        cId  mob  vup  vdo                  tit       aut  \\\n",
       "0  13753138  1115_1225    0   21    1  ohne Partikelfilter  Heinz B.   \n",
       "1  12645697    139_225    0   18    4                Jamie      Nene   \n",
       "2  12645697    369_369    1   24   16         Ehefrau Amal    Mann43   \n",
       "\n",
       "                  time                                                con  \n",
       "0  am 05.08.2017 17:25   @Historiker: Aber im Gegensatz zu Baumaschine...  \n",
       "1  am 29.07.2017 13:48   Foxx sieht doch nicht gut aus! Das ist ein Wi...  \n",
       "2  am 29.07.2017 15:37   Ich muss schon sagen ich hätte auch gerne so ...  "
      ]
     },
     "execution_count": 3,
     "metadata": {},
     "output_type": "execute_result"
    }
   ],
   "source": [
    "df_com.head(3)"
   ]
  },
  {
   "cell_type": "code",
   "execution_count": 4,
   "metadata": {},
   "outputs": [
    {
     "name": "stdout",
     "output_type": "stream",
     "text": [
      "(707, 8)\n",
      "(51572, 9)\n"
     ]
    }
   ],
   "source": [
    "print(df_art.shape)\n",
    "print(df_com.shape)"
   ]
  },
  {
   "cell_type": "code",
   "execution_count": 5,
   "metadata": {},
   "outputs": [
    {
     "name": "stdout",
     "output_type": "stream",
     "text": [
      "tId               int64\n",
      "article_id        int64\n",
      "updated         float64\n",
      "num_comments      int64\n",
      "link             object\n",
      "header           object\n",
      "sub              object\n",
      "text             object\n",
      "dtype: object\n",
      " \n",
      "tId      int64\n",
      "cId     object\n",
      "mob      int64\n",
      "vup      int64\n",
      "vdo      int64\n",
      "tit     object\n",
      "aut     object\n",
      "time    object\n",
      "con     object\n",
      "dtype: object\n"
     ]
    }
   ],
   "source": [
    "print(df_art.dtypes)\n",
    "print(' ')\n",
    "print(df_com.dtypes)"
   ]
  },
  {
   "cell_type": "code",
   "execution_count": 6,
   "metadata": {},
   "outputs": [
    {
     "data": {
      "text/html": [
       "<div>\n",
       "<style>\n",
       "    .dataframe thead tr:only-child th {\n",
       "        text-align: right;\n",
       "    }\n",
       "\n",
       "    .dataframe thead th {\n",
       "        text-align: left;\n",
       "    }\n",
       "\n",
       "    .dataframe tbody tr th {\n",
       "        vertical-align: top;\n",
       "    }\n",
       "</style>\n",
       "<table border=\"1\" class=\"dataframe\">\n",
       "  <thead>\n",
       "    <tr style=\"text-align: right;\">\n",
       "      <th></th>\n",
       "      <th>tId</th>\n",
       "      <th>article_id</th>\n",
       "      <th>updated</th>\n",
       "      <th>num_comments</th>\n",
       "    </tr>\n",
       "  </thead>\n",
       "  <tbody>\n",
       "    <tr>\n",
       "      <th>count</th>\n",
       "      <td>707</td>\n",
       "      <td>707</td>\n",
       "      <td>707</td>\n",
       "      <td>707</td>\n",
       "    </tr>\n",
       "    <tr>\n",
       "      <th>mean</th>\n",
       "      <td>21104640</td>\n",
       "      <td>21079972</td>\n",
       "      <td>1502178471</td>\n",
       "      <td>74</td>\n",
       "    </tr>\n",
       "    <tr>\n",
       "      <th>std</th>\n",
       "      <td>6486614</td>\n",
       "      <td>6490320</td>\n",
       "      <td>76625</td>\n",
       "      <td>134</td>\n",
       "    </tr>\n",
       "    <tr>\n",
       "      <th>min</th>\n",
       "      <td>10003016</td>\n",
       "      <td>10003016</td>\n",
       "      <td>1502017728</td>\n",
       "      <td>0</td>\n",
       "    </tr>\n",
       "    <tr>\n",
       "      <th>25%</th>\n",
       "      <td>15582089</td>\n",
       "      <td>15567032</td>\n",
       "      <td>1502111914</td>\n",
       "      <td>0</td>\n",
       "    </tr>\n",
       "    <tr>\n",
       "      <th>50%</th>\n",
       "      <td>21154142</td>\n",
       "      <td>21140091</td>\n",
       "      <td>1502194750</td>\n",
       "      <td>22</td>\n",
       "    </tr>\n",
       "    <tr>\n",
       "      <th>75%</th>\n",
       "      <td>26713873</td>\n",
       "      <td>26713873</td>\n",
       "      <td>1502254962</td>\n",
       "      <td>79</td>\n",
       "    </tr>\n",
       "    <tr>\n",
       "      <th>max</th>\n",
       "      <td>31996579</td>\n",
       "      <td>31996579</td>\n",
       "      <td>1502256209</td>\n",
       "      <td>1171</td>\n",
       "    </tr>\n",
       "  </tbody>\n",
       "</table>\n",
       "</div>"
      ],
      "text/plain": [
       "           tId  article_id    updated  num_comments\n",
       "count      707         707        707           707\n",
       "mean  21104640    21079972 1502178471            74\n",
       "std    6486614     6490320      76625           134\n",
       "min   10003016    10003016 1502017728             0\n",
       "25%   15582089    15567032 1502111914             0\n",
       "50%   21154142    21140091 1502194750            22\n",
       "75%   26713873    26713873 1502254962            79\n",
       "max   31996579    31996579 1502256209          1171"
      ]
     },
     "execution_count": 6,
     "metadata": {},
     "output_type": "execute_result"
    }
   ],
   "source": [
    "df_art.describe()\n",
    "\n",
    "# Summary:\n",
    "# No missing attributes since count is the same everywhere\n",
    "# No negative values, chi^2 etc. can be used"
   ]
  },
  {
   "cell_type": "code",
   "execution_count": 7,
   "metadata": {},
   "outputs": [
    {
     "data": {
      "text/html": [
       "<div>\n",
       "<style>\n",
       "    .dataframe thead tr:only-child th {\n",
       "        text-align: right;\n",
       "    }\n",
       "\n",
       "    .dataframe thead th {\n",
       "        text-align: left;\n",
       "    }\n",
       "\n",
       "    .dataframe tbody tr th {\n",
       "        vertical-align: top;\n",
       "    }\n",
       "</style>\n",
       "<table border=\"1\" class=\"dataframe\">\n",
       "  <thead>\n",
       "    <tr style=\"text-align: right;\">\n",
       "      <th></th>\n",
       "      <th>tId</th>\n",
       "      <th>mob</th>\n",
       "      <th>vup</th>\n",
       "      <th>vdo</th>\n",
       "    </tr>\n",
       "  </thead>\n",
       "  <tbody>\n",
       "    <tr>\n",
       "      <th>count</th>\n",
       "      <td>51572</td>\n",
       "      <td>51572</td>\n",
       "      <td>51572</td>\n",
       "      <td>51572</td>\n",
       "    </tr>\n",
       "    <tr>\n",
       "      <th>mean</th>\n",
       "      <td>20926716</td>\n",
       "      <td>1</td>\n",
       "      <td>47</td>\n",
       "      <td>17</td>\n",
       "    </tr>\n",
       "    <tr>\n",
       "      <th>std</th>\n",
       "      <td>6374174</td>\n",
       "      <td>0</td>\n",
       "      <td>125</td>\n",
       "      <td>36</td>\n",
       "    </tr>\n",
       "    <tr>\n",
       "      <th>min</th>\n",
       "      <td>10003016</td>\n",
       "      <td>0</td>\n",
       "      <td>0</td>\n",
       "      <td>0</td>\n",
       "    </tr>\n",
       "    <tr>\n",
       "      <th>25%</th>\n",
       "      <td>15292283</td>\n",
       "      <td>0</td>\n",
       "      <td>7</td>\n",
       "      <td>2</td>\n",
       "    </tr>\n",
       "    <tr>\n",
       "      <th>50%</th>\n",
       "      <td>20123245</td>\n",
       "      <td>1</td>\n",
       "      <td>21</td>\n",
       "      <td>6</td>\n",
       "    </tr>\n",
       "    <tr>\n",
       "      <th>75%</th>\n",
       "      <td>26697746</td>\n",
       "      <td>1</td>\n",
       "      <td>46</td>\n",
       "      <td>17</td>\n",
       "    </tr>\n",
       "    <tr>\n",
       "      <th>max</th>\n",
       "      <td>31996579</td>\n",
       "      <td>1</td>\n",
       "      <td>3799</td>\n",
       "      <td>1072</td>\n",
       "    </tr>\n",
       "  </tbody>\n",
       "</table>\n",
       "</div>"
      ],
      "text/plain": [
       "           tId   mob   vup   vdo\n",
       "count    51572 51572 51572 51572\n",
       "mean  20926716     1    47    17\n",
       "std    6374174     0   125    36\n",
       "min   10003016     0     0     0\n",
       "25%   15292283     0     7     2\n",
       "50%   20123245     1    21     6\n",
       "75%   26697746     1    46    17\n",
       "max   31996579     1  3799  1072"
      ]
     },
     "execution_count": 7,
     "metadata": {},
     "output_type": "execute_result"
    }
   ],
   "source": [
    "df_com.describe()\n",
    "\n",
    "# Summary:\n",
    "# No missing attributes \n",
    "# No negative values"
   ]
  },
  {
   "cell_type": "code",
   "execution_count": 8,
   "metadata": {},
   "outputs": [
    {
     "name": "stdout",
     "output_type": "stream",
     "text": [
      "tId             0\n",
      "article_id      0\n",
      "updated        -1\n",
      "num_comments    4\n",
      "dtype: float64\n"
     ]
    }
   ],
   "source": [
    "print(df_art.skew())\n",
    "# Makes only sense on 'num_comments'"
   ]
  },
  {
   "cell_type": "code",
   "execution_count": 9,
   "metadata": {},
   "outputs": [
    {
     "name": "stdout",
     "output_type": "stream",
     "text": [
      "tId    0\n",
      "cId    3\n",
      "mob   -1\n",
      "vup   13\n",
      "vdo    8\n",
      "dtype: float64\n"
     ]
    }
   ],
   "source": [
    "print(df_com.skew())\n",
    "# Skew is not high enough that it has to be corrected"
   ]
  },
  {
   "cell_type": "markdown",
   "metadata": {},
   "source": [
    "### Feature Engineering\n",
    "To make further analysis possible concerning time features."
   ]
  },
  {
   "cell_type": "code",
   "execution_count": 10,
   "metadata": {
    "collapsed": true
   },
   "outputs": [],
   "source": [
    "from datetime import datetime\n",
    "\n",
    "def get_dt_obj(time):\n",
    "    time = time.replace('am ', '')\n",
    "    # Make datetime object from string\n",
    "    return datetime.strptime(time, '%d.%m.%Y %H:%M')\n",
    "\n",
    "def get_hour_of_day(time):\n",
    "    return get_dt_obj(time).hour\n",
    "\n",
    "def get_weekday(time):\n",
    "    return get_dt_obj(time).weekday()\n",
    "\n",
    "# Basically same as \"the hour of week\" or \"weekday_hourOfDay\"\n",
    "def get_weekday_float(time):\n",
    "    hour = float(get_hour_of_day(time))\n",
    "    weekday = get_weekday(time)\n",
    "    return float(weekday) + hour / 24\n",
    "\n",
    "def get_weekday_hour(time):\n",
    "    return '{}_{}'.format(get_weekday(time), get_hour_of_day(time))\n",
    "\n",
    "df_com['hour'] = df_com['time'].apply(get_hour_of_day)\n",
    "df_com['weekday'] = df_com['time'].apply(get_weekday) # 0 = Monday\n",
    "df_com['weekday_fl'] = df_com['time'].apply(get_weekday_float)\n",
    "df_com['weekday_hour'] = df_com['time'].apply(get_weekday_hour)\n",
    "df_com['score'] = df_com['vup'] - df_com['vdo']"
   ]
  },
  {
   "cell_type": "markdown",
   "metadata": {},
   "source": [
    "### Class Distribution"
   ]
  },
  {
   "cell_type": "code",
   "execution_count": 11,
   "metadata": {},
   "outputs": [
    {
     "name": "stdout",
     "output_type": "stream",
     "text": [
      "mob\n",
      "0    16028\n",
      "1    35544\n",
      "dtype: int64\n",
      "hour\n",
      "0     1097\n",
      "1      552\n",
      "2      423\n",
      "3      240\n",
      "4      227\n",
      "5      388\n",
      "6     1645\n",
      "7     2583\n",
      "8     2730\n",
      "9     2825\n",
      "10    2944\n",
      "11    3106\n",
      "12    3651\n",
      "13    3105\n",
      "14    2767\n",
      "15    2996\n",
      "16    3292\n",
      "17    3293\n",
      "18    2610\n",
      "19    2825\n",
      "20    2289\n",
      "21    1955\n",
      "22    2106\n",
      "23    1923\n",
      "dtype: int64\n",
      "weekday\n",
      "0    5825\n",
      "1    8998\n",
      "2    6917\n",
      "3    6758\n",
      "4    6521\n",
      "5    7738\n",
      "6    8815\n",
      "dtype: int64\n"
     ]
    }
   ],
   "source": [
    "# 'df_art' has no classes\n",
    "\n",
    "# 'df_com' \n",
    "print(df_com.groupby('mob').size())\n",
    "print(df_com.groupby('hour').size())\n",
    "print(df_com.groupby('weekday').size())"
   ]
  },
  {
   "cell_type": "markdown",
   "metadata": {},
   "source": [
    "### Correlation\n",
    "Let's find relations between some of the attributes. Correlation requires continuous data."
   ]
  },
  {
   "cell_type": "code",
   "execution_count": 12,
   "metadata": {},
   "outputs": [
    {
     "data": {
      "text/html": [
       "<div>\n",
       "<style>\n",
       "    .dataframe thead tr:only-child th {\n",
       "        text-align: right;\n",
       "    }\n",
       "\n",
       "    .dataframe thead th {\n",
       "        text-align: left;\n",
       "    }\n",
       "\n",
       "    .dataframe tbody tr th {\n",
       "        vertical-align: top;\n",
       "    }\n",
       "</style>\n",
       "<table border=\"1\" class=\"dataframe\">\n",
       "  <thead>\n",
       "    <tr style=\"text-align: right;\">\n",
       "      <th></th>\n",
       "      <th>hour</th>\n",
       "      <th>weekday</th>\n",
       "      <th>weekday_fl</th>\n",
       "      <th>mob</th>\n",
       "      <th>vup</th>\n",
       "      <th>vdo</th>\n",
       "    </tr>\n",
       "  </thead>\n",
       "  <tbody>\n",
       "    <tr>\n",
       "      <th>hour</th>\n",
       "      <td>1.0000</td>\n",
       "      <td>0.0467</td>\n",
       "      <td>0.1581</td>\n",
       "      <td>0.0240</td>\n",
       "      <td>-0.0161</td>\n",
       "      <td>-0.0038</td>\n",
       "    </tr>\n",
       "    <tr>\n",
       "      <th>weekday</th>\n",
       "      <td>0.0467</td>\n",
       "      <td>1.0000</td>\n",
       "      <td>0.9937</td>\n",
       "      <td>0.0687</td>\n",
       "      <td>-0.0165</td>\n",
       "      <td>-0.0128</td>\n",
       "    </tr>\n",
       "    <tr>\n",
       "      <th>weekday_fl</th>\n",
       "      <td>0.1581</td>\n",
       "      <td>0.9937</td>\n",
       "      <td>1.0000</td>\n",
       "      <td>0.0706</td>\n",
       "      <td>-0.0181</td>\n",
       "      <td>-0.0131</td>\n",
       "    </tr>\n",
       "    <tr>\n",
       "      <th>mob</th>\n",
       "      <td>0.0240</td>\n",
       "      <td>0.0687</td>\n",
       "      <td>0.0706</td>\n",
       "      <td>1.0000</td>\n",
       "      <td>0.0686</td>\n",
       "      <td>0.0841</td>\n",
       "    </tr>\n",
       "    <tr>\n",
       "      <th>vup</th>\n",
       "      <td>-0.0161</td>\n",
       "      <td>-0.0165</td>\n",
       "      <td>-0.0181</td>\n",
       "      <td>0.0686</td>\n",
       "      <td>1.0000</td>\n",
       "      <td>0.3723</td>\n",
       "    </tr>\n",
       "    <tr>\n",
       "      <th>vdo</th>\n",
       "      <td>-0.0038</td>\n",
       "      <td>-0.0128</td>\n",
       "      <td>-0.0131</td>\n",
       "      <td>0.0841</td>\n",
       "      <td>0.3723</td>\n",
       "      <td>1.0000</td>\n",
       "    </tr>\n",
       "  </tbody>\n",
       "</table>\n",
       "</div>"
      ],
      "text/plain": [
       "              hour  weekday  weekday_fl    mob     vup     vdo\n",
       "hour        1.0000   0.0467      0.1581 0.0240 -0.0161 -0.0038\n",
       "weekday     0.0467   1.0000      0.9937 0.0687 -0.0165 -0.0128\n",
       "weekday_fl  0.1581   0.9937      1.0000 0.0706 -0.0181 -0.0131\n",
       "mob         0.0240   0.0687      0.0706 1.0000  0.0686  0.0841\n",
       "vup        -0.0161  -0.0165     -0.0181 0.0686  1.0000  0.3723\n",
       "vdo        -0.0038  -0.0128     -0.0131 0.0841  0.3723  1.0000"
      ]
     },
     "execution_count": 12,
     "metadata": {},
     "output_type": "execute_result"
    }
   ],
   "source": [
    "# Only for these columns\n",
    "cols = ['hour', 'weekday', 'weekday_fl', 'mob', 'vup', 'vdo']\n",
    "\n",
    "# Change back how float is displayed\n",
    "pd.options.display.float_format = '{:.4f}'.format\n",
    "\n",
    "# Get pearson co-efficients\n",
    "df_corr = df_com[cols].corr()\n",
    "df_corr\n",
    "\n",
    "# Summary:\n",
    "# Correlations are low.\n",
    "# The only interesting correlation is between 'vup' and 'vdo'."
   ]
  },
  {
   "cell_type": "markdown",
   "metadata": {},
   "source": [
    "### Scatter plot"
   ]
  },
  {
   "cell_type": "code",
   "execution_count": 13,
   "metadata": {},
   "outputs": [
    {
     "data": {
      "image/png": "[encoded data removed]",
      "text/plain": [
       "<matplotlib.figure.Figure at 0x114ed6a20>"
      ]
     },
     "metadata": {},
     "output_type": "display_data"
    }
   ],
   "source": [
    "#sns.pairplot(df_com, x_vars='vup', y_vars='vdo', size=6)\n",
    "sns.regplot(x='vup', y='vdo', data=df_com)\n",
    "plt.show()\n",
    "\n",
    "# Quite some outliers\n",
    "# Are rows with upvotes of over 1000 real?\n",
    "# Looked some of them up manually and yes, they have a lot of upvotes (3000+)"
   ]
  },
  {
   "cell_type": "code",
   "execution_count": 14,
   "metadata": {},
   "outputs": [
    {
     "data": {
      "image/png": "[encoded data removed]",
      "text/plain": [
       "<matplotlib.figure.Figure at 0x118500d30>"
      ]
     },
     "metadata": {},
     "output_type": "display_data"
    }
   ],
   "source": [
    "sns.regplot(x='vup', y='vdo', data=df_com[df_com['vup'] < 200])\n",
    "plt.show()"
   ]
  },
  {
   "cell_type": "markdown",
   "metadata": {},
   "source": [
    "### Prediction\n",
    "Ok... I want to know:\n",
    "* How to get the best score/consensus (upvotes - downvotes)?\n",
    "* How to be most controversial (upvotes + downvotes)?\n",
    "* Which articles go most score / were most controversial (sum over all comments)?\n",
    "\n",
    "Impact will be taken into account from:\n",
    "* Hour of comment\n",
    "* Weekday\n",
    "* Weekday + hour = Hour of week\n",
    "* text written\n",
    "* title written / if title is an answer (starts with \"@\")\n",
    "* if from mobile (makes no sense, but let's see what happens)\n",
    "* article text\n",
    "* article category\n",
    "* ...?\n",
    "\n",
    "Problem:\n",
    "* Some parts are computationally expensive / the ipython kernel has problems running it sometimes"
   ]
  },
  {
   "cell_type": "code",
   "execution_count": 27,
   "metadata": {},
   "outputs": [],
   "source": [
    "df_com['score'] = df_com['vup'] - df_com['vdo']\n",
    "df_com['contr'] = df_com['vup'] + df_com['vdo']\n",
    "df_com['tit'] = df_com['tit'].str.lower()\n",
    "#df_com['is_answer'] = df_com['tit']\n",
    "df_com['con'] = df_com['con'].str.lower()\n",
    "# Left inner join\n",
    "df_merge = pd.merge(left=df_com, right=df_art, left_on='tId', right_on='tId')\n",
    "\n",
    "# is empty: (= all comments correspond to an article)\n",
    "#print(df_merge[pd.isnull(df_merge['link'])])\n",
    "#df_merge[df_merge['vup']>1000]"
   ]
  },
  {
   "cell_type": "code",
   "execution_count": 16,
   "metadata": {},
   "outputs": [
    {
     "data": {
      "image/png": "[encoded data removed]",
      "text/plain": [
       "<matplotlib.figure.Figure at 0x109e56198>"
      ]
     },
     "metadata": {},
     "output_type": "display_data"
    },
    {
     "data": {
      "image/png": "[encoded data removed]",
      "text/plain": [
       "<matplotlib.figure.Figure at 0x11ddb9c18>"
      ]
     },
     "metadata": {},
     "output_type": "display_data"
    }
   ],
   "source": [
    "# Plot hist and heat map\n",
    "sns.set(color_codes=True)\n",
    "ax = sns.distplot(df_com[df_com['score']>50]['weekday_fl'], label='score', kde=False)\n",
    "ax = sns.distplot(df_com[df_com['contr']>50]['weekday_fl'], label='contr', kde=False)\n",
    "ax.legend()\n",
    "plt.show()\n",
    "grouped = df_com[df_com['score']>50].groupby(['weekday', 'hour']).size()\n",
    "matrix = np.zeros((7, 24))\n",
    "for d in range(0, 6):\n",
    "    for h in range(0, 24):\n",
    "        if d in grouped and h in grouped[d]:\n",
    "            matrix[d][h] = grouped[d][h]\n",
    "\n",
    "weekdays = ['Mo', 'Tu', 'We', 'Th', 'Fr', 'Sa', 'Su']\n",
    "sns.heatmap(matrix, yticklabels=weekdays)\n",
    "plt.show()\n",
    "\n",
    "# 0 = Monday, 7 = Sunday\n",
    "# Summary:\n",
    "# The day and time of posting plays a big role\n",
    "# This is probably because on certain days upvoting people are most active\n",
    "# This does not mean that posting the *same* comment on those times gives you more upvotes\n",
    "# - it may be possible, but we can't imply that (yet? / not enough data)"
   ]
  },
  {
   "cell_type": "code",
   "execution_count": null,
   "metadata": {},
   "outputs": [],
   "source": [
    "# TODO make test set\n",
    "\n",
    "# https://de.wikipedia.org/wiki/Liste_der_h%C3%A4ufigsten_W%C3%B6rter_der_deutschen_Sprache\n",
    "stop_words = \"die, der, und, in, zu, den, das, nicht, von, sie, ist, des, sich, mit, dem, dass, er, es, ein, ich, auf, so, eine, auch, als, an, nach, wie, im, für\"\n",
    "stop_words += \"man, aber, aus, durch, wenn, nur, war, noch, werden, bei, hat, wir, was, wird, sein, einen, welche, sind, oder, zur, um, haben, einer, mir, über, ihm, diese, einem, ihr, uns\"\n",
    "stop_words += \"da, zum, kann, doch, vor, dieser, mich, ihn, du, hatte, seine, mehr, am, denn, nun, unter, sehr, selbst, schon, hier\"\n",
    "stop_words += \"bis, habe, ihre, dann, ihnen, seiner, alle, wieder, meine, Zeit, gegen, vom, ganz, einzelnen, wo, muss, ohne, eines, können, sei\"\n",
    "stop_words = stop_words.lower()\n",
    "stop_words = stop_words.split(', ')\n",
    "\n",
    "# Prepare data for X and y\n",
    "from sklearn.preprocessing import StandardScaler, MinMaxScaler\n",
    "from sklearn.feature_extraction.text import CountVectorizer\n",
    "\n",
    "# Preprocessor removes number\n",
    "# TODO compile regex for better performance\n",
    "no_numbers = lambda x: re.sub(r'(\\d[\\d\\.])+', '', x.lower())\n",
    "vect = CountVectorizer(preprocessor=no_numbers, min_df=5, ngram_range=(1, 1), stop_words=stop_words) # Range higher than 1 doesn't help\n",
    "\n",
    "def classify(val):\n",
    "    if val > 100: return 1\n",
    "    return 0\n",
    "\n",
    "# TODO split this\n",
    "# For comments\n",
    "if False:\n",
    "    X_train_counts = vect.fit_transform(df_merge['con'])\n",
    "    y_train = df_merge['score'].apply(classify)\n",
    "# For articles, some articles have no text\n",
    "else:\n",
    "    X_train_counts = vect.fit_transform(df_merge[pd.notnull(df_merge['text'])]['text'])\n",
    "    y_train = df_merge[pd.notnull(df_merge['text'])]['score'].apply(classify)\n",
    "\n",
    "#y_scaler = StandardScaler()\n",
    "#y_train = y_scaler.fit_transform(df_merge['score'][:, None])\n",
    "#y_test = y.scaler.transform(y_test)\n",
    "\n",
    "from sklearn.svm import SVR\n",
    "from sklearn.model_selection import cross_val_score\n",
    "from sklearn.linear_model import LogisticRegression\n",
    "\n",
    "# Get best parameter\n",
    "if False:\n",
    "    from sklearn.model_selection import GridSearchCV\n",
    "    param_grid = {'C': np.logspace(-3, 1, 5)}#, 'gamma': np.logspace(-2, 1, 4)}\n",
    "    grid = GridSearchCV(LogisticRegression(), param_grid, cv=3)\n",
    "    grid.fit(X_train_counts, y_train)\n",
    "    print(\"Best cross-validation score: {:.2f}\".format(grid.best_score_))\n",
    "    print(\"Best parameters: \", grid.best_params_)\n",
    "# Just prepare data\n",
    "else:\n",
    "    print(\"Ok\")\n",
    "    \n",
    "# Summary:\n",
    "# Removing stop words didn't help the score (didn't add information), \n",
    "#   but it makes the model easier to interpret\n",
    "# N-gram over 1 doesn't give a better score\n",
    "# Threshold > 100 for classification gives a better prediction than for > 50, \n",
    "#   easier to classify because of ...\n",
    "# Even a score of 0.86 is still bad because it's from cross validation"
   ]
  },
  {
   "cell_type": "code",
   "execution_count": 32,
   "metadata": {},
   "outputs": [
    {
     "name": "stdout",
     "output_type": "stream",
     "text": [
      "anja\t0.09518225912905734\n",
      "NUM NUM\t0.08026960488085114\n",
      "polizei\t0.07136900156483778\n",
      "frauen\t0.060713098808271034\n",
      "eltern\t0.05995033518463362\n",
      "is\t0.0591589033676526\n",
      "da\t0.058745098897920164\n",
      "frau\t0.05561670826694424\n",
      "namdari\t0.05351159086799471\n",
      "kaum\t0.05008912680389066\n",
      "behörden\t0.049202557081222155\n",
      "gefahr\t0.04881934708053927\n",
      "NUM franken\t0.04848509311896952\n",
      "grenze\t0.04747811237859901\n",
      "whisky\t0.04596636087571318\n",
      "davon\t0.04595522759488904\n",
      "waffen\t0.04589868116640529\n",
      "viktor\t0.045699073570975066\n",
      "deutschland\t0.044442799797921616\n",
      "darauf\t0.043654563006973804\n",
      "job\t0.04268550429844604\n",
      "diesen\t0.04197350867161\n",
      "wollen\t0.04168863856740144\n",
      "gto\t0.04135182144581698\n",
      "wollte\t0.03994331223435\n",
      "ihrer\t0.039927069483163054\n",
      "angebote\t0.03939086014069377\n",
      "auftritt\t0.039235370703981004\n",
      "echt\t0.03913445406558748\n",
      "siemens\t0.03905992826178616\n",
      "----------\n",
      "NUM0\t-0.06652785517252774\n",
      "bis\t-0.06975193953279331\n",
      "nag\t-0.07029598109153176\n",
      "fal\t-0.07043171886445504\n",
      "fal nag\t-0.07233266780112568\n",
      "gibts\t-0.07265991216204133\n",
      "lia\t-0.07278263591780237\n",
      "nag sda\t-0.07299476059464188\n",
      "bildstrecke\t-0.07370882122443764\n",
      "weitere\t-0.07541711502532875\n",
      "videos\t-0.0778620104997546\n",
      "geld\t-0.07923494234439996\n",
      "app lia\t-0.07993800910603165\n",
      "lieber phil\t-0.08078395641415954\n",
      "phil\t-0.08078395641415954\n",
      "phil geld\t-0.08078395641415954\n",
      "soll\t-0.08259439222547568\n",
      "video\t-0.08309303733283833\n",
      "NUM\t-0.09044402700433816\n",
      "rund\t-0.09115419934257471\n",
      "ver\t-0.10526118137715808\n",
      "funktioniert app\t-0.10667086339205792\n",
      "sda\t-0.10716119454170343\n",
      "funktioniert\t-0.10827682446434861\n",
      "if\t-0.10951116456366912\n",
      "hier\t-0.11015842801817223\n",
      "neue\t-0.11980758003011775\n",
      "app\t-0.12173315158102886\n",
      "NUM minuten\t-0.16359884471351754\n",
      "minuten\t-0.16537510836532127\n"
     ]
    }
   ],
   "source": [
    " # Run to understand how coefficients are set / which words are important\n",
    "logreg = LogisticRegression(C=1e-2)\n",
    "logreg.fit(X_train_counts, y_train)\n",
    "coeff_by_name = {}\n",
    "for i, f in enumerate(vect.get_feature_names()):\n",
    "    coeff_by_name[f] = logreg.coef_[:, i][0]\n",
    "\n",
    "coeff_sorted = sorted(coeff_by_name.items(), key=lambda x:x[1], reverse=True)\n",
    "\n",
    "for c in coeff_sorted[0:30]:\n",
    "    print(\"{}\\t{}\".format(c[0], c[1]))\n",
    "print(\"----------\")\n",
    "for c in coeff_sorted[-30:]:\n",
    "    print(\"{}\\t{}\".format(c[0], c[1]))\n",
    "\n",
    "# Summary comments:\n",
    "# It seems that making positive comments about something bad that happened\n",
    "#     gives a lot of upvotes\n",
    "# Downvotes seem to be received for grumbling and arguing\n",
    "\n",
    "# Summary articles:\n",
    "# ~ Ranting about the 20min app etc. gives downvotes\n",
    "# ~ Ranting about weapons, police, showing sympathy gives upvotes"
   ]
  },
  {
   "cell_type": "code",
   "execution_count": 25,
   "metadata": {
    "collapsed": true
   },
   "outputs": [],
   "source": [
    "# Predict score for given comment text\n"
   ]
  },
  {
   "cell_type": "code",
   "execution_count": null,
   "metadata": {
    "collapsed": true
   },
   "outputs": [],
   "source": []
  }
 ],
 "metadata": {
  "kernelspec": {
   "display_name": "Python 3",
   "language": "python",
   "name": "python3"
  },
  "language_info": {
   "codemirror_mode": {
    "name": "ipython",
    "version": 3
   },
   "file_extension": ".py",
   "mimetype": "text/x-python",
   "name": "python",
   "nbconvert_exporter": "python",
   "pygments_lexer": "ipython3",
   "version": "3.6.1"
  }
 },
 "nbformat": 4,
 "nbformat_minor": 2
}
