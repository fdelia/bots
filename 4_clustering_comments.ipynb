{
 "cells": [
  {
   "cell_type": "markdown",
   "metadata": {},
   "source": [
    "## Relationships between words\n",
    "### n-grams and correlations\n",
    "Read: http://tidytextmining.com/ngrams.html\n",
    "\n",
    "Exploring relationships and connections between words.\n",
    "1. Tokenizing by n-gram, here by bigrams for a start\n",
    "2. Counting and filtering n-grams: Most common bigrams, then remove the ones where at least one is a stop word.\n",
    "3. Analyzing bigrams: one bigram per row: look at the tf-idf (the one with the highest), can be visualized for each document(/book in example).\n",
    "4. Using them to provide context in sentiment analysis: The approach is to count certain word segments like \"happy\" and \"not happy\". We examine how often sentiment-associated words are preceded by \"not\" or other negating words. We use the `AFINN lexicon for sentiment analysis`. Is there something similar in german for sentiment analysis? -> http://www.ulliwaltinger.de/sentiment/ (gives negative, positive and neutral words in tsv-format, not sure if the words have a \"sentiment score\")\n",
    "5. Calculate sentiment score per comment\n",
    "6. Visualize a network of bigrams: node1 = word1 -> node2 = word2 of bigram, weight given by the number of occurence of the bigram. For each word we only show the words that follows it the most as connected directed node. Only show bigrams that occured at least x times.  \n",
    "An useful and flexibel way to visualize relational data. - This is a visualization of a Markov chain.\n",
    "7. Put the whole thing built so far into a function for usage on other texts\n",
    "8. We may be interested in words that tend to co-occur within particular documents or particular chapters, even if they don't occur next to each other. Turn text into a wide matrix first for that.  \n",
    "Counting and correlating among sections: Package like `widyr` in R for that? (`pairwise_count`)\n",
    "9. Most common co-occuring words not that meaningful since they're also the most common individual words. We may instead want to examine correlation among words, which indicates how often they appear together relative to how often they appear separately (phi coefficient ~ pearson correlation for binary data).  \n",
    "Pick some interesting words and look at their correlations. Then plot a graph for highest correlations like above.\n",
    "    \n",
    "Pairs of consecutive words might capture structure that isn't present when one is just counting single words, and may provide context that makes tokens more understandable (for example \"pulteney street\" instead of \"pulteney\" only). However, the per-bigram counts are also sparser since they are rarer."
   ]
  },
  {
   "cell_type": "code",
   "execution_count": 3,
   "metadata": {
    "collapsed": true
   },
   "outputs": [],
   "source": [
    "# Initialize libraries and data\n",
    "%matplotlib inline\n",
    "import re\n",
    "import numpy as np\n",
    "import matplotlib.pyplot as plt\n",
    "plt.style.use('ggplot')\n",
    "import seaborn as sns\n",
    "\n",
    "from time import time\n",
    "import warnings\n",
    "warnings.filterwarnings('ignore')\n",
    "\n",
    "import pandas as pd\n",
    "df_art = pd.read_csv('articles_2017_08.csv')\n",
    "df_com = pd.read_csv('comments_2017_08.csv').sample(30000) # crop because battery life, skews data\n",
    "# Make float better readable\n",
    "pd.options.display.float_format = '{:.3f}'.format\n",
    "\n",
    "df_com['score'] = df_com['vup'] - df_com['vdo']\n",
    "df_com['contr'] = df_com['vup'] + df_com['vdo']"
   ]
  },
  {
   "cell_type": "markdown",
   "metadata": {},
   "source": [
    "## Sentiment analysis\n",
    "The idea is to build each a Vectorizer with for all negative and for all positive words. In a next step we will go trough each comment(/row) and check how often each words appears in its text. Then we sum up those appearances and so get a score of \n",
    "\n",
    "$$ \\text{# pos} - \\text{# neg} = \\text{\"sentiment score\"}$$"
   ]
  },
  {
   "cell_type": "code",
   "execution_count": 4,
   "metadata": {
    "collapsed": true
   },
   "outputs": [],
   "source": [
    "# https://de.wikipedia.org/wiki/Liste_der_h%C3%A4ufigsten_W%C3%B6rter_der_deutschen_Sprache\n",
    "stop_words = \"die, der, und, in, zu, den, das, nicht, von, sie, ist, des, sich, mit, dem, dass, er, es, ein, ich, auf, so, eine, auch, als, an, nach, wie, im, für, \"\n",
    "stop_words += \"man, aber, aus, durch, wenn, nur, war, noch, werden, bei, hat, wir, was, wird, sein, einen, welche, sind, oder, zur, um, haben, einer, mir, über, ihm, diese, einem, ihr, uns, \"\n",
    "stop_words += \"da, zum, kann, doch, vor, dieser, mich, ihn, du, hatte, seine, mehr, am, denn, nun, unter, sehr, selbst, schon, hier, \"\n",
    "stop_words += \"bis, habe, ihre, dann, ihnen, seiner, alle, wieder, meine, Zeit, gegen, vom, ganz, einzelnen, wo, muss, ohne, eines, können, sei, \"\n",
    "stop_words += \"nichts\"\n",
    "stop_words = stop_words.lower()\n",
    "stop_words = stop_words.split(', ')\n",
    "\n",
    "# Datasets from http://www.ulliwaltinger.de/sentiment/\n",
    "from sklearn.feature_extraction.text import CountVectorizer\n",
    "\n",
    "# TODO remove bigrams from the datasets?\n",
    "columns = ['word1', 'word2', 'word class', 'pos/neg', '---', 'L/D']\n",
    "df_words_pos = pd.read_csv('GermanPolarityClues-2012/GermanPolarityClues-Positive-21042012.tsv', delimiter='\\t', names=columns)\n",
    "df_words_neg = pd.read_csv('GermanPolarityClues-2012/GermanPolarityClues-Negative-21042012.tsv', delimiter='\\t', names=columns)\n",
    "#df_words_neg['word1'] = df_words_neg['word1'].str.lower()\n",
    "#df_words_neg['word2'] = df_words_neg['word2'].str.lower()\n",
    "#df_words_pos['word1'] = df_words_pos['word1'].str.lower()\n",
    "#df_words_pos['word2'] = df_words_pos['word2'].str.lower()\n",
    "\n",
    "# Build vocabulary\n",
    "vect_pos = CountVectorizer(ngram_range=(1, 2), stop_words=stop_words)\n",
    "vect_pos.fit(df_words_pos['word1'] + df_words_pos['word2'])\n",
    "features_pos = vect_pos.get_feature_names()\n",
    "\n",
    "vect_neg = CountVectorizer(ngram_range=(1, 2), stop_words=stop_words)\n",
    "vect_neg.fit(df_words_neg['word1'] + df_words_neg['word2'])\n",
    "features_neg = vect_neg.get_feature_names()"
   ]
  },
  {
   "cell_type": "code",
   "execution_count": 5,
   "metadata": {},
   "outputs": [
    {
     "name": "stdout",
     "output_type": "stream",
     "text": [
      "done in 13.525s\n"
     ]
    }
   ],
   "source": [
    "# Compute \"sentiment scores\" for all comments\n",
    "t0 = time()\n",
    "def get_sentiment_score(text):\n",
    "    matr_pos = vect_pos.transform([text])\n",
    "    sum_pos = matr_pos.data.sum()\n",
    "    \n",
    "    matr_neg = vect_neg.transform([text])\n",
    "    sum_neg = matr_neg.data.sum()\n",
    "    \n",
    "    #for i in matr_neg.indices:\n",
    "        #print(features_neg[i])\n",
    "    return sum_pos - sum_neg\n",
    "\n",
    "#df_com = df_com[df_com['score']<1000]\n",
    "df_art = df_art[df_art['text'].notnull()]\n",
    "\n",
    "df_com['sentiment_score'] = df_com['con'].apply(get_sentiment_score)\n",
    "df_art['sentiment_score'] = df_art['text'].apply(get_sentiment_score)\n",
    "#get_sentiment_score(df_com['con'].loc[46463])\n",
    "print(\"done in {:.3f}s\".format(time() - t0))"
   ]
  },
  {
   "cell_type": "code",
   "execution_count": 6,
   "metadata": {},
   "outputs": [
    {
     "data": {
      "image/png": "[encoded data removed]",
      "text/plain": [
       "<matplotlib.figure.Figure at 0x1175b9828>"
      ]
     },
     "metadata": {},
     "output_type": "display_data"
    },
    {
     "data": {
      "image/png": "[encoded data removed]",
      "text/plain": [
       "<matplotlib.figure.Figure at 0x115e0d2b0>"
      ]
     },
     "metadata": {},
     "output_type": "display_data"
    }
   ],
   "source": [
    "sns.regplot(x='sentiment_score', y='score', data=df_com, label='score')\n",
    "ax = sns.regplot(x='sentiment_score', y='contr', data=df_com, label='contr')\n",
    "ax.legend()\n",
    "plt.ylabel('')\n",
    "plt.title('Comments')\n",
    "plt.show()\n",
    "\n",
    "\n",
    "ax = sns.distplot(df_art['sentiment_score'], kde=False)\n",
    "plt.title('Articles')\n",
    "plt.show()"
   ]
  },
  {
   "cell_type": "markdown",
   "metadata": {
    "collapsed": true
   },
   "source": [
    "## Topic modeling\n",
    "Read: http://tidytextmining.com/topicmodeling.html\n",
    "\n",
    "Use LDA: Each document a mixture of topics and each topic a mixture of words. Built in package?\n",
    "\n",
    "It's possible to declare what a \"document\" is. Also look at how each document is classified (per topic). "
   ]
  },
  {
   "cell_type": "code",
   "execution_count": 8,
   "metadata": {},
   "outputs": [
    {
     "name": "stdout",
     "output_type": "stream",
     "text": [
      "Fitting LDA models with tf features, n_samples=30000 and n_features=50...\n",
      "\n",
      "Topics in LDA model:\n",
      "#0: kein machen andere jahren alles will etwas mal also gibt einfach damit viele jetzt wer wäre schweiz tun soll geht keine weil bin heute leben geld nie ob wurde müssen \n",
      "\n",
      "#1: keine bin schweiz jetzt also schweizer will anderen gut geht leben machen würde viel weil alles nie gibt einfach wohl viele damit mal warum wurde wäre leute jahren sicher ob \n",
      "\n",
      "#2: geht gut geld wurde heute warum viel einfach wäre keine sollte kein mal sicher leute soll jeder viele also alles weil nie jetzt damit leben gibt will tun jahren würde \n",
      "\n",
      "#3: immer will dies besser bin einfach müssen wurde mal viel geht gibt nie leben etwas weil leute alles gut kommt keine also anderen damit tun heute soll viele jetzt jeder \n",
      "\n",
      "#4: mal wäre viele damit tun einfach viel bin kommt anderen jetzt gut leute soll also alles ob keine leben weil gibt nie schweiz heute wurde warum schweizer würde wirklich immer \n",
      "\n",
      "#5: menschen sollte jeder müssen selber keine gibt tun will alles machen warum andere einfach viel bin nie wer würde also schweiz mal leben viele damit anderen weil geld geht immer \n",
      "\n",
      "#6: gibt einfach alles weil leben nie keine will sicher soll jetzt viele also damit warum tun schweiz geld wurde bin heute mal menschen leute anderen geht gut immer viel wäre \n",
      "\n",
      "#7: würde etwas genau ob wäre bin einfach weil jetzt müssen besser machen gibt also nie viel keine alles tun leben heute mal geht schweiz gut dies damit warum wirklich geld \n",
      "\n",
      "#8: wer kommt macht wirklich sicher bin wäre keine mal würde andere soll will also alles leben weil damit jetzt einfach geld nie geht heute gut gibt tun ob viele schweizer \n",
      "\n",
      "#9: viel wohl leute soll anderen also will dies machen alles würde kommt leben sicher viele keine gibt geld jetzt weil nie damit einfach heute bin tun warum mal besser gut \n",
      "\n",
      "\n",
      "Finished.\n"
     ]
    }
   ],
   "source": [
    "from sklearn.feature_extraction.text import TfidfVectorizer, CountVectorizer\n",
    "from sklearn.decomposition import NMF, LatentDirichletAllocation\n",
    "from sklearn.datasets import fetch_20newsgroups\n",
    "\n",
    "# Parameter selection is intuitive so far\n",
    "n_samples = 30000\n",
    "n_features = 50\n",
    "n_components = 10 # Topics\n",
    "n_top_words = 30\n",
    "VERBOSE = True\n",
    "\n",
    "def print_top_words(model, feature_names, n_top_words):\n",
    "    for topic_idx, topic in enumerate(model.components_):\n",
    "        message = \"#%d: \" % topic_idx\n",
    "        message += \" \".join([feature_names[i]\n",
    "                             for i in topic.argsort()[:-n_top_words - 1:-1]])\n",
    "        print(message, '\\n')\n",
    "    print()\n",
    "\n",
    "data_samples = df_com['con']\n",
    "#data_samples = df_art[df_art['text'].notnull()]['text']\n",
    "\n",
    "# tf-idf features for NMF (non-negative matrix factorization)\n",
    "tfidf_vectorizer = TfidfVectorizer(max_df=0.95, min_df=2,\n",
    "                                   max_features=n_features,\n",
    "                                   stop_words=stop_words)\n",
    "tfidf = tfidf_vectorizer.fit_transform(data_samples)\n",
    "\n",
    "# term frequency (tf) for features for LDA\n",
    "tf_vectorizer = CountVectorizer(max_df=0.1, min_df=2,\n",
    "                                max_features=n_features,\n",
    "                                stop_words=stop_words)\n",
    "tf = tf_vectorizer.fit_transform(data_samples)\n",
    "\n",
    "# Fit the NMF model\n",
    "nmf = NMF(n_components=n_components, random_state=1,\n",
    "          alpha=.1, l1_ratio=.5).fit(tfidf)\n",
    "\"\"\"\n",
    "if VERBOSE: print(\"\\nTopics in NMF model (Frobenius norm):\")\n",
    "tfidf_feature_names = tfidf_vectorizer.get_feature_names()\n",
    "if VERBOSE: print_top_words(nmf, tfidf_feature_names, n_top_words)\n",
    "\n",
    "# Fit the NMF model\n",
    "if VERBOSE: print(\"Fitting the NMF model (generalized Kullback-Leibler divergence) with \"\n",
    "      \"tf-idf features, n_samples=%d and n_features=%d...\" % (n_samples, n_features))\n",
    "nmf = NMF(n_components=n_components, random_state=1,\n",
    "          beta_loss='kullback-leibler', solver='mu', \n",
    "          max_iter=1000, alpha=.1, l1_ratio=.5).fit(tfidf)\n",
    "if VERBOSE: print(\"\\nTopics in NMF model (generalized Kullback-Leibler divergence):\")\n",
    "tfidf_feature_names = tfidf_vectorizer.get_feature_names()\n",
    "if VERBOSE: print_top_words(nmf, tfidf_feature_names, n_top_words)\n",
    "\"\"\"\n",
    "if VERBOSE: print(\"Fitting LDA models with tf features, \"\n",
    "      \"n_samples=%d and n_features=%d...\" % (n_samples, n_features))\n",
    "lda = LatentDirichletAllocation(n_components=n_components, max_iter=5,\n",
    "                                learning_method='online',\n",
    "                                learning_offset=50.,\n",
    "                                random_state=0)\n",
    "lda.fit(tf)\n",
    "\n",
    "if VERBOSE: print(\"\\nTopics in LDA model:\")\n",
    "tf_feature_names = tf_vectorizer.get_feature_names()\n",
    "if VERBOSE: print_top_words(lda, tf_feature_names, n_top_words)\n",
    "print('Finished.')"
   ]
  },
  {
   "cell_type": "code",
   "execution_count": 9,
   "metadata": {},
   "outputs": [
    {
     "name": "stdout",
     "output_type": "stream",
     "text": [
      "Num of comments\thigh: 22492\tlow: 7508\n",
      "        class  prob\n",
      "topic_0  high 0.088\n",
      "topic_1  high 0.119\n",
      "topic_2  high 0.106\n",
      "topic_3  high 0.090\n",
      "topic_4  high 0.109\n",
      "topic_5  high 0.090\n",
      "topic_6  high 0.122\n",
      "topic_7  high 0.091\n",
      "topic_8  high 0.088\n",
      "topic_9  high 0.096\n",
      "topic_0   low 0.087\n",
      "topic_1   low 0.125\n",
      "topic_2   low 0.102\n",
      "topic_3   low 0.089\n",
      "topic_4   low 0.112\n",
      "topic_5   low 0.090\n",
      "topic_6   low 0.121\n",
      "topic_7   low 0.089\n",
      "topic_8   low 0.088\n",
      "topic_9   low 0.097\n"
     ]
    }
   ],
   "source": [
    "# For each category of 20M see how the topics are \"arranged\"\n",
    "# For classes (score </>= threshold) how often each topic occurs in each comment\n",
    "threshold = 1\n",
    "topic_cols = list(map(lambda x: 'topic_' + str(x), range(0, n_components)))\n",
    "\n",
    "len_high = len(df_com[df_com['score'] >= threshold])\n",
    "len_low = len(df_com) - len_high\n",
    "print(\"Num of comments\\thigh: {}\\tlow: {}\".format(len_high, len_low))\n",
    "\n",
    "# Probability for each document to belong to a topic\n",
    "def get_probs_for_topics(text, tf_vectorizer, lda):\n",
    "    lf = lda.transform(tf_vectorizer.transform([text])).ravel()\n",
    "    return pd.Series(lf)\n",
    "\n",
    "t = df_com.apply(lambda x: get_probs_for_topics(x['con'], tf_vectorizer, lda), axis=1)\n",
    "t.columns = topic_cols\n",
    "df_com = df_com.join(t, lsuffix='_left')\n",
    "\n",
    "# Compute sums of topics per class\n",
    "s = df_com[df_com['score'] >= threshold][topic_cols].sum(axis=0) / len_high\n",
    "sums = pd.DataFrame(columns=['class', 'prob'])\n",
    "sums['prob'] = s\n",
    "sums['class'] = 'high'\n",
    "\n",
    "s = df_com[df_com['score'] < threshold][topic_cols].sum(axis=0) / len_low\n",
    "sums2 = pd.DataFrame(columns=['class', 'prob'])\n",
    "sums2['prob'] = s\n",
    "sums2['class'] = 'low'\n",
    "sums = sums.append(sums2)\n",
    "\n",
    "#print(df_com.head(3))\n",
    "print(sums)"
   ]
  },
  {
   "cell_type": "code",
   "execution_count": 10,
   "metadata": {},
   "outputs": [
    {
     "data": {
      "image/png": "[encoded data removed]",
      "text/plain": [
       "<matplotlib.figure.Figure at 0x115e01ba8>"
      ]
     },
     "metadata": {},
     "output_type": "display_data"
    }
   ],
   "source": [
    "#print(sums_high.index)\n",
    "#print(sums_high[0])\n",
    "ax = sns.barplot(x=sums.index, y=sums['prob'], hue=sums['class'])\n",
    "plt.title('Topic occurence per class (threshold: {})'.format(threshold))\n",
    "plt.show()"
   ]
  },
  {
   "cell_type": "code",
   "execution_count": 11,
   "metadata": {},
   "outputs": [
    {
     "data": {
      "image/png": "[encoded data removed]",
      "text/plain": [
       "<matplotlib.figure.Figure at 0x115d27d30>"
      ]
     },
     "metadata": {},
     "output_type": "display_data"
    }
   ],
   "source": [
    "# For each topic, how is the distribution of comments\n",
    "# = distribution in the columns topic_0, topic_1, ...\n",
    "column = []\n",
    "for i in range(0, n_components):\n",
    "    column.append('topic_' + str(i))\n",
    "a = df_com.hist(column=column)"
   ]
  },
  {
   "cell_type": "code",
   "execution_count": null,
   "metadata": {},
   "outputs": [],
   "source": [
    "# Where does the comments lie compared to the topics on a cartesian plane\n",
    "import random\n",
    "from math import floor\n",
    "import networkx as nx\n",
    "\n",
    "G = nx.Graph()\n",
    "\n",
    "# Show for this topics\n",
    "components_list = [0, 1, 2]\n",
    "\n",
    "for t in components_list:\n",
    "    G.add_node(t, color='red')\n",
    "    \n",
    "# Only for a subset because of computation time\n",
    "for i, row in df_com[:1000].iterrows():\n",
    "    add_weighted = []\n",
    "    G.add_node(i, color='black')\n",
    "    for t in components_list:\n",
    "        w = row['topic_' + str(t)]\n",
    "        add_weighted.append((i, t, w))\n",
    "        \n",
    "    G.add_weighted_edges_from(add_weighted)\n",
    "    \n",
    "nodes = G.nodes()\n",
    "colors = [G.node[n]['color'] for n in nodes]\n",
    "size_by_color = {'red': 300, 'black': 1}\n",
    "sizes = [size_by_color[G.node[n]['color']] for n in nodes]\n",
    "    \n",
    "fixedpos = {0:(0,0), 1:(1,1), 2: (0, 1)}\n",
    "plt.figure(figsize=(10, 10))\n",
    "pos = nx.spring_layout(G, fixed = fixedpos.keys(), pos = fixedpos)\n",
    "nx.draw_networkx(G, pos=pos, with_labels=False, width=0, node_color=colors, node_size=sizes)\n",
    "\n",
    "plt.show()"
   ]
  },
  {
   "cell_type": "code",
   "execution_count": null,
   "metadata": {
    "collapsed": true
   },
   "outputs": [],
   "source": []
  }
 ],
 "metadata": {
  "kernelspec": {
   "display_name": "Python 3",
   "language": "python",
   "name": "python3"
  },
  "language_info": {
   "codemirror_mode": {
    "name": "ipython",
    "version": 3
   },
   "file_extension": ".py",
   "mimetype": "text/x-python",
   "name": "python",
   "nbconvert_exporter": "python",
   "pygments_lexer": "ipython3",
   "version": "3.6.1"
  }
 },
 "nbformat": 4,
 "nbformat_minor": 2
}
