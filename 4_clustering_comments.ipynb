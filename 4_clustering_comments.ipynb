{
 "cells": [
  {
   "cell_type": "markdown",
   "metadata": {},
   "source": [
    "## Relationships between words\n",
    "### n-grams and correlations\n",
    "Read: http://tidytextmining.com/ngrams.html\n",
    "\n",
    "Exploring relationships and connections between words.\n",
    "1. Tokenizing by n-gram, here by bigrams for a start\n",
    "2. Counting and filtering n-grams: Most common bigrams, then remove the ones where at least one is a stop word.\n",
    "3. Analyzing bigrams: one bigram per row: look at the tf-idf (the one with the highest), can be visualized for each document(/book in example).\n",
    "4. Using them to provide context in sentiment analysis: The approach is to count certain word segments like \"happy\" and \"not happy\". We examine how often sentiment-associated words are preceded by \"not\" or other negating words. We use the `AFINN lexicon for sentiment analysis`. Is there something similar in german for sentiment analysis? -> http://www.ulliwaltinger.de/sentiment/ (gives negative, positive and neutral words in tsv-format, not sure if the words have a \"sentiment score\")\n",
    "5. Calculate sentiment score per comment\n",
    "6. Visualize a network of bigrams: node1 = word1 -> node2 = word2 of bigram, weight given by the number of occurence of the bigram. For each word we only show the words that follows it the most as connected directed node. Only show bigrams that occured at least x times.  \n",
    "An useful and flexibel way to visualize relational data. - This is a visualization of a Markov chain.\n",
    "7. Put the whole thing built so far into a function for usage on other texts\n",
    "8. We may be interested in words that tend to co-occur within particular documents or particular chapters, even if they don't occur next to each other. Turn text into a wide matrix first for that.  \n",
    "Counting and correlating among sections: Package like `widyr` in R for that? (`pairwise_count`)\n",
    "9. Most common co-occuring words not that meaningful since they're also the most common individual words. We may instead want to examine correlation among words, which indicates how often they appear together relative to how often they appear separately (phi coefficient ~ pearson correlation for binary data).  \n",
    "Pick some interesting words and look at their correlations. Then plot a graph for highest correlations like above.\n",
    "    \n",
    "Pairs of consecutive words might capture structure that isn't present when one is just counting single words, and may provide context that makes tokens more understandable (for example \"pulteney street\" instead of \"pulteney\" only). However, the per-bigram counts are also sparser since they are rarer."
   ]
  },
  {
   "cell_type": "code",
   "execution_count": 123,
   "metadata": {
    "collapsed": true
   },
   "outputs": [],
   "source": [
    "# Initialize libraries and data\n",
    "%matplotlib inline\n",
    "import re\n",
    "import numpy as np\n",
    "import matplotlib.pyplot as plt\n",
    "plt.style.use('ggplot')\n",
    "import seaborn as sns\n",
    "\n",
    "from time import time\n",
    "import warnings\n",
    "warnings.filterwarnings('ignore')\n",
    "\n",
    "import pandas as pd\n",
    "df_art = pd.read_csv('articles_2017_08.csv')\n",
    "df_com = pd.read_csv('comments_2017_08.csv').sample(5000) # crop because battery life, skews data\n",
    "# Make float better readable\n",
    "pd.options.display.float_format = '{:.3f}'.format\n",
    "\n",
    "df_com['score'] = df_com['vup'] - df_com['vdo']\n",
    "df_com['contr'] = df_com['vup'] + df_com['vdo']"
   ]
  },
  {
   "cell_type": "markdown",
   "metadata": {},
   "source": [
    "The idea is to build each a Vectorizer with for all negative and for all positive words. In a next step we will go trough each comment(/row) and check how often each words appears in its text. Then we sum up those appearances and so get a score of \n",
    "\n",
    "$$ \\text{# pos} - \\text{# neg} = \\text{\"sentiment score\"}$$"
   ]
  },
  {
   "cell_type": "code",
   "execution_count": 149,
   "metadata": {},
   "outputs": [],
   "source": [
    "# https://de.wikipedia.org/wiki/Liste_der_h%C3%A4ufigsten_W%C3%B6rter_der_deutschen_Sprache\n",
    "stop_words = \"die, der, und, in, zu, den, das, nicht, von, sie, ist, des, sich, mit, dem, dass, er, es, ein, ich, auf, so, eine, auch, als, an, nach, wie, im, für\"\n",
    "stop_words += \"man, aber, aus, durch, wenn, nur, war, noch, werden, bei, hat, wir, was, wird, sein, einen, welche, sind, oder, zur, um, haben, einer, mir, über, ihm, diese, einem, ihr, uns\"\n",
    "stop_words += \"da, zum, kann, doch, vor, dieser, mich, ihn, du, hatte, seine, mehr, am, denn, nun, unter, sehr, selbst, schon, hier\"\n",
    "stop_words += \"bis, habe, ihre, dann, ihnen, seiner, alle, wieder, meine, Zeit, gegen, vom, ganz, einzelnen, wo, muss, ohne, eines, können, sei\"\n",
    "stop_words = stop_words.lower()\n",
    "stop_words = stop_words.split(', ')\n",
    "\n",
    "# Datasets from http://www.ulliwaltinger.de/sentiment/\n",
    "from sklearn.feature_extraction.text import CountVectorizer\n",
    "\n",
    "columns = ['word1', 'word2', 'word class', 'pos/neg', '---', 'L/D']\n",
    "df_words_pos = pd.read_csv('GermanPolarityClues-2012/GermanPolarityClues-Positive-21042012.tsv', delimiter='\\t', names=columns)\n",
    "df_words_neg = pd.read_csv('GermanPolarityClues-2012/GermanPolarityClues-Negative-21042012.tsv', delimiter='\\t', names=columns)\n",
    "#df_words_neg['word1'] = df_words_neg['word1'].str.lower()\n",
    "#df_words_neg['word2'] = df_words_neg['word2'].str.lower()\n",
    "#df_words_pos['word1'] = df_words_pos['word1'].str.lower()\n",
    "#df_words_pos['word2'] = df_words_pos['word2'].str.lower()\n",
    "\n",
    "# Build vocabulary\n",
    "vect_pos = CountVectorizer(ngram_range=(1, 2), stop_words=stop_words)\n",
    "vect_pos.fit(df_words_pos['word1'] + df_words_pos['word2'])\n",
    "features_pos = vect_pos.get_feature_names()\n",
    "\n",
    "vect_neg = CountVectorizer(ngram_range=(1, 2), stop_words=stop_words)\n",
    "vect_neg.fit(df_words_neg['word1'] + df_words_neg['word2'])\n",
    "features_neg = vect_neg.get_feature_names()"
   ]
  },
  {
   "cell_type": "code",
   "execution_count": 155,
   "metadata": {},
   "outputs": [
    {
     "name": "stdout",
     "output_type": "stream",
     "text": [
      "done in 3.504s\n"
     ]
    }
   ],
   "source": [
    "# Compute \"sentiment scores\" for all comments\n",
    "t0 = time()\n",
    "def get_sentiment_score(text):\n",
    "    matr_pos = vect_pos.transform([text])\n",
    "    sum_pos = matr_pos.data.sum()\n",
    "    \n",
    "    matr_neg = vect_neg.transform([text])\n",
    "    sum_neg = matr_neg.data.sum()\n",
    "    \n",
    "    #for i in matr_neg.indices:\n",
    "        #print(features_neg[i])\n",
    "    return sum_pos - sum_neg\n",
    "\n",
    "#df_com = df_com[df_com['score']<1000]\n",
    "df_art = df_art[df_art['text'].notnull()]\n",
    "\n",
    "df_com['sentiment_score'] = df_com['con'].apply(get_sentiment_score)\n",
    "df_art['sentiment_score'] = df_art['text'].apply(get_sentiment_score)\n",
    "#get_sentiment_score(df_com['con'].loc[46463])\n",
    "print(\"done in {:.3f}s\".format(time() - t0))"
   ]
  },
  {
   "cell_type": "code",
   "execution_count": 156,
   "metadata": {},
   "outputs": [
    {
     "data": {
      "image/png": "[encoded data removed]",
      "text/plain": [
       "<matplotlib.figure.Figure at 0x11b6eaf28>"
      ]
     },
     "metadata": {},
     "output_type": "display_data"
    },
    {
     "data": {
      "image/png": "[encoded data removed]",
      "text/plain": [
       "<matplotlib.figure.Figure at 0x1158ebf28>"
      ]
     },
     "metadata": {},
     "output_type": "display_data"
    }
   ],
   "source": [
    "sns.regplot(x='sentiment_score', y='score', data=df_com, label='score')\n",
    "ax = sns.regplot(x='sentiment_score', y='contr', data=df_com, label='contr')\n",
    "ax.legend()\n",
    "plt.ylabel('')\n",
    "plt.show()\n",
    "\n",
    "ax = sns.distplot(df_com['sentiment_score'], kde=False)\n",
    "plt.show()\n",
    "\n",
    "#df_com[df_com['sentiment_score'] < -20]['con']"
   ]
  },
  {
   "cell_type": "markdown",
   "metadata": {
    "collapsed": true
   },
   "source": [
    "## Topic modeling\n",
    "Read: http://tidytextmining.com/topicmodeling.html\n",
    "\n",
    "Use LDA: Each document a mixture of topics and each topic a mixture of words. Built in package?\n",
    "\n",
    "It's possible to declare what a \"document\" is. Also look at how each document is classified (per topic). "
   ]
  },
  {
   "cell_type": "code",
   "execution_count": 14,
   "metadata": {
    "collapsed": true
   },
   "outputs": [],
   "source": [
    "from sklearn.feature_extraction.text import TfidfVectorizer, CountVectorizer\n",
    "from sklearn.decomposition import NMF, LatentDirichletAllocation\n",
    "from sklearn.datasets import fetch_20newsgroups\n",
    "\n",
    "n_samples = 2000\n",
    "n_features = 100\n",
    "n_components = 10 # Topics\n",
    "n_top_words = 20\n",
    "VERBOSE = False\n",
    "\n",
    "def print_top_words(model, feature_names, n_top_words):\n",
    "    for topic_idx, topic in enumerate(model.components_):\n",
    "        message = \"#%d: \" % topic_idx\n",
    "        message += \" \".join([feature_names[i]\n",
    "                             for i in topic.argsort()[:-n_top_words - 1:-1]])\n",
    "        print(message)\n",
    "    print()\n",
    "\n",
    "data_samples = df_com['con']\n",
    "#data_samples = df_art[df_art['text'].notnull()]['text']\n",
    "\n",
    "# tf-idf features for NMF (non-negative matrix factorization)\n",
    "tfidf_vectorizer = TfidfVectorizer(max_df=0.95, min_df=2,\n",
    "                                   max_features=n_features,\n",
    "                                   stop_words=stop_words)\n",
    "tfidf = tfidf_vectorizer.fit_transform(data_samples)\n",
    "\n",
    "# term frequency (tf) for features for LDA\n",
    "tf_vectorizer = CountVectorizer(max_df=0.95, min_df=2,\n",
    "                                max_features=n_features,\n",
    "                                stop_words=stop_words)\n",
    "tf = tf_vectorizer.fit_transform(data_samples)\n",
    "\n",
    "# Fit the NMF model\n",
    "nmf = NMF(n_components=n_components, random_state=1,\n",
    "          alpha=.1, l1_ratio=.5).fit(tfidf)\n",
    "\n",
    "if VERBOSE: print(\"\\nTopics in NMF model (Frobenius norm):\")\n",
    "tfidf_feature_names = tfidf_vectorizer.get_feature_names()\n",
    "if VERBOSE: print_top_words(nmf, tfidf_feature_names, n_top_words)\n",
    "\n",
    "# Fit the NMF model\n",
    "if VERBOSE: print(\"Fitting the NMF model (generalized Kullback-Leibler divergence) with \"\n",
    "      \"tf-idf features, n_samples=%d and n_features=%d...\" % (n_samples, n_features))\n",
    "nmf = NMF(n_components=n_components, random_state=1,\n",
    "          beta_loss='kullback-leibler', solver='mu', \n",
    "          max_iter=1000, alpha=.1, l1_ratio=.5).fit(tfidf)\n",
    "if VERBOSE: print(\"\\nTopics in NMF model (generalized Kullback-Leibler divergence):\")\n",
    "tfidf_feature_names = tfidf_vectorizer.get_feature_names()\n",
    "if VERBOSE: print_top_words(nmf, tfidf_feature_names, n_top_words)\n",
    "\n",
    "if VERBOSE: print(\"Fitting LDA models with tf features, \"\n",
    "      \"n_samples=%d and n_features=%d...\" % (n_samples, n_features))\n",
    "lda = LatentDirichletAllocation(n_components=n_components, max_iter=5,\n",
    "                                learning_method='online',\n",
    "                                learning_offset=50.,\n",
    "                                random_state=0)\n",
    "lda.fit(tf)\n",
    "\n",
    "if VERBOSE: print(\"\\nTopics in LDA model:\")\n",
    "tf_feature_names = tf_vectorizer.get_feature_names()\n",
    "if VERBOSE: print_top_words(lda, tf_feature_names, n_top_words)"
   ]
  },
  {
   "cell_type": "code",
   "execution_count": 20,
   "metadata": {},
   "outputs": [
    {
     "data": {
      "image/png": "[encoded data removed]",
      "text/plain": [
       "<matplotlib.figure.Figure at 0x117185e10>"
      ]
     },
     "metadata": {},
     "output_type": "display_data"
    }
   ],
   "source": [
    "# Make a directed graph from the LDA\n",
    "# For comment wal_top_holiday_soon\n",
    "import networkx as nx\n",
    "G = nx.DiGraph()\n",
    "\n",
    "\n",
    "\n",
    "G.add_edges_from([('test', 'zwei')], weight=2)\n",
    "G.add_edges_from([('zwei', 'drei')])\n",
    "pos = nx.spring_layout(G)\n",
    "nx.draw_networkx_nodes(G, pos, cmap=plt.get_cmap('jet'))\n",
    "plt.show()"
   ]
  },
  {
   "cell_type": "code",
   "execution_count": null,
   "metadata": {
    "collapsed": true
   },
   "outputs": [],
   "source": []
  }
 ],
 "metadata": {
  "kernelspec": {
   "display_name": "Python 3",
   "language": "python",
   "name": "python3"
  },
  "language_info": {
   "codemirror_mode": {
    "name": "ipython",
    "version": 3
   },
   "file_extension": ".py",
   "mimetype": "text/x-python",
   "name": "python",
   "nbconvert_exporter": "python",
   "pygments_lexer": "ipython3",
   "version": "3.6.1"
  }
 },
 "nbformat": 4,
 "nbformat_minor": 2
}
