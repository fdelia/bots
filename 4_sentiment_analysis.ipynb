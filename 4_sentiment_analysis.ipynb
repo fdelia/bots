{
 "cells": [
  {
   "cell_type": "markdown",
   "metadata": {},
   "source": [
    "## Sentiment analysis\n",
    "The idea is to build each a Vectorizer with for all negative and for all positive words. In a next step we will go trough each comment(/row) and check how often each words appears in its text. Then we sum up those appearances and so get a score of \n",
    "\n",
    "$$ \\text{# pos} - \\text{# neg} = \\text{\"sentiment score\"}$$"
   ]
  },
  {
   "cell_type": "code",
   "execution_count": 4,
   "metadata": {
    "collapsed": true
   },
   "outputs": [],
   "source": [
    "# Initialize libraries and data\n",
    "%matplotlib inline\n",
    "import re\n",
    "import numpy as np\n",
    "import matplotlib.pyplot as plt\n",
    "plt.style.use('ggplot')\n",
    "import seaborn as sns\n",
    "sns.set(color_codes=True)\n",
    "\n",
    "from time import time\n",
    "import warnings\n",
    "warnings.filterwarnings('ignore')\n",
    "\n",
    "import pandas as pd\n",
    "df_art = pd.read_csv('articles_2017_08.csv')\n",
    "df_com = pd.read_csv('comments_2017_08.csv').sample(30000) # crop because battery life, skews data\n",
    "# Make float better readable\n",
    "pd.options.display.float_format = '{:.3f}'.format\n",
    "\n",
    "df_com['score'] = df_com['vup'] - df_com['vdo']\n",
    "df_com['contr'] = df_com['vup'] + df_com['vdo']"
   ]
  },
  {
   "cell_type": "code",
   "execution_count": 5,
   "metadata": {},
   "outputs": [],
   "source": [
    "# https://de.wikipedia.org/wiki/Liste_der_h%C3%A4ufigsten_W%C3%B6rter_der_deutschen_Sprache\n",
    "stop_words = \"die, der, und, in, zu, den, das, nicht, von, sie, ist, des, sich, mit, dem, dass, er, es, ein, ich, auf, so, eine, auch, als, an, nach, wie, im, für, \"\n",
    "stop_words += \"man, aber, aus, durch, wenn, nur, war, noch, werden, bei, hat, wir, was, wird, sein, einen, welche, sind, oder, zur, um, haben, einer, mir, über, ihm, diese, einem, ihr, uns, \"\n",
    "stop_words += \"da, zum, kann, doch, vor, dieser, mich, ihn, du, hatte, seine, mehr, am, denn, nun, unter, sehr, selbst, schon, hier, \"\n",
    "stop_words += \"bis, habe, ihre, dann, ihnen, seiner, alle, wieder, meine, Zeit, gegen, vom, ganz, einzelnen, wo, muss, ohne, eines, können, sei, \"\n",
    "stop_words += \"nichts\"\n",
    "stop_words = stop_words.lower()\n",
    "stop_words = stop_words.split(', ')\n",
    "\n",
    "# Datasets from http://www.ulliwaltinger.de/sentiment/\n",
    "from sklearn.feature_extraction.text import CountVectorizer\n",
    "\n",
    "# TODO remove bigrams from the datasets?\n",
    "columns = ['word1', 'word2', 'word class', 'pos/neg', '---', 'L/D']\n",
    "df_words_pos = pd.read_csv('GermanPolarityClues-2012/GermanPolarityClues-Positive-21042012.tsv', delimiter='\\t', names=columns)\n",
    "df_words_neg = pd.read_csv('GermanPolarityClues-2012/GermanPolarityClues-Negative-21042012.tsv', delimiter='\\t', names=columns)\n",
    "#df_words_neg['word1'] = df_words_neg['word1'].str.lower()\n",
    "#df_words_neg['word2'] = df_words_neg['word2'].str.lower()\n",
    "#df_words_pos['word1'] = df_words_pos['word1'].str.lower()\n",
    "#df_words_pos['word2'] = df_words_pos['word2'].str.lower()\n",
    "\n",
    "# Build vocabulary\n",
    "vect_pos = CountVectorizer(ngram_range=(1, 2), stop_words=stop_words)\n",
    "vect_pos.fit(df_words_pos['word1'] + df_words_pos['word2'])\n",
    "features_pos = vect_pos.get_feature_names()\n",
    "\n",
    "vect_neg = CountVectorizer(ngram_range=(1, 2), stop_words=stop_words)\n",
    "vect_neg.fit(df_words_neg['word1'] + df_words_neg['word2'])\n",
    "features_neg = vect_neg.get_feature_names()"
   ]
  },
  {
   "cell_type": "code",
   "execution_count": 6,
   "metadata": {},
   "outputs": [
    {
     "name": "stdout",
     "output_type": "stream",
     "text": [
      "done in 12.468s\n"
     ]
    },
    {
     "data": {
      "image/png": "[encoded data removed]",
      "text/plain": [
       "<matplotlib.figure.Figure at 0x109c959e8>"
      ]
     },
     "metadata": {},
     "output_type": "display_data"
    },
    {
     "data": {
      "image/png": "[encoded data removed]",
      "text/plain": [
       "<matplotlib.figure.Figure at 0x11ad28438>"
      ]
     },
     "metadata": {},
     "output_type": "display_data"
    }
   ],
   "source": [
    "# Compute \"sentiment scores\" for all comments\n",
    "t0 = time()\n",
    "def get_sentiment_score(text):\n",
    "    matr_pos = vect_pos.transform([text])\n",
    "    sum_pos = matr_pos.data.sum()\n",
    "    \n",
    "    matr_neg = vect_neg.transform([text])\n",
    "    sum_neg = matr_neg.data.sum()\n",
    "    \n",
    "    #for i in matr_neg.indices:\n",
    "        #print(features_neg[i])\n",
    "    return sum_pos - sum_neg\n",
    "\n",
    "#df_com = df_com[df_com['score']<1000]\n",
    "df_art = df_art[df_art['text'].notnull()]\n",
    "\n",
    "df_com['sentiment_score'] = df_com['con'].apply(get_sentiment_score)\n",
    "df_art['sentiment_score'] = df_art['text'].apply(get_sentiment_score)\n",
    "#get_sentiment_score(df_com['con'].loc[46463])\n",
    "print(\"done in {:.3f}s\".format(time() - t0))\n",
    "\n",
    "# Plot scores\n",
    "sns.regplot(x='sentiment_score', y='score', data=df_com, label='score')\n",
    "ax = sns.regplot(x='sentiment_score', y='contr', data=df_com, label='contr')\n",
    "ax.legend()\n",
    "plt.ylabel('')\n",
    "plt.title('Comments')\n",
    "plt.show()\n",
    "\n",
    "\n",
    "ax = sns.distplot(df_art['sentiment_score'], kde=False)\n",
    "plt.title('Articles')\n",
    "plt.show()"
   ]
  },
  {
   "cell_type": "code",
   "execution_count": 8,
   "metadata": {},
   "outputs": [
    {
     "name": "stdout",
     "output_type": "stream",
     "text": [
      " Es gab die eine oder andere Situation wo der Ref (und nicht der VAR!) trotz Beweis falsch entschieden hat. Das System ist soweit, abgesehen von den artezeiten, völlig ok (in anderen Sportarten gibt es auch lange Wartezeiten...) Trotzdem finde ich es falsch alles schlecht zu reden! Viele Situationen wurden dank dem Video-Beweis geklärt resp. noch besser sind gar nicht erst zustande gekommen (Tätlichkeiten etc...) Man findet immer was etwas neues schlecht zu reden, im Grossen und Ganzen finde ich aber dass der VAR erfolgreich war und, verbessert, nicht mehr wegzudenken ist. \n",
      "\n",
      " Sofern du wirklich der bist wie dein Name sagt verstehe ich deine Aussage nicht ganz... die ganzen Nachweise welche ein Landwirt  erbringen muss, da würdest du den Überblick verlieren. Ein Landwirt ist ein Unternehmer und wenn er keinen Anreiz (Direktzahlungen) bekommen würde, möchte ich nicht wissen wie die Schweiz in ein paar Jahren aussieht. Ich rate dir mal die Vorschriften zu lesen, welche einem Landwirten auferlegt werden, damit er Dz bekommt. Und vielleicht wäre es mal gut wenn du eine Woche auf einen Betrieb mit'arbeiten' gehts.  Sei dir einfach bewusst dass diese Woche aus 7 Tagen besteht und das Normalpensum eines Landwirtschaftlich Angestellten 55h pro Woche beträgt. Ein Landwirt mit eigenem Betrieb arbeitet noch viel mehr. Ohne DZ gäbe es keine Ökowiesen mehr, gedüngt würde bis an die Bachufer an. Pestizide und Dünger würden soviel ausgebracht wie es nötig ist um den höchstmöglichen Ertrag zu erhalten, es würden Monokulturen betrieben und die Tiere würden wie vor 100 Jahren gehalten, weil es mehr Ertrag gibt und das Fehlen der Direktzahlungen kompensiert werden müsste. viele Existenzen würden zugrunde gehen und es würden riesige Höfe wie im Ausland enstehen weil durch Zusammenschlüsse die Arbeit pro Person verringert werden könnte. Weiter würde mehr aus dem Ausland importiert werden , was dazu führt dass in der Schweiz die Landwirtschaft ganz zugrunde geht, und das Ackerland verbuscht und Brach liegt. die Wälder würden nicht mehr so gut gepflegt und die Tierhaltung wäre überflüssig. Danach weinen alle wie schön die Schweiz vorher mit all den Kühen und anderen Tieren auf den Wiesen ausgesehen hat. Einfach mal weiter denken als nur bis an die Nasenspitze. Danke \n"
     ]
    }
   ],
   "source": [
    "# Comment with highest sentiment score\n",
    "max_score = df_com['sentiment_score'].max()\n",
    "min_score = df_com['sentiment_score'].min()\n",
    "print(df_com[df_com['sentiment_score'] == max_score]['con'].values[0])\n",
    "print()\n",
    "print(df_com[df_com['sentiment_score'] == min_score]['con'].values[0])\n",
    "\n",
    "#min_score = df_art['sentiment_score'].min()\n",
    "#print(df_art[df_art['sentiment_score'] == min_score]['text'].values)"
   ]
  },
  {
   "cell_type": "markdown",
   "metadata": {},
   "source": [
    "### Summary so far\n",
    "The results are not compelling.\n",
    "\n",
    "I will try with a different sentiment dictionary and compare the results."
   ]
  },
  {
   "cell_type": "code",
   "execution_count": null,
   "metadata": {
    "collapsed": true
   },
   "outputs": [],
   "source": []
  }
 ],
 "metadata": {
  "kernelspec": {
   "display_name": "Python 3",
   "language": "python",
   "name": "python3"
  },
  "language_info": {
   "codemirror_mode": {
    "name": "ipython",
    "version": 3
   },
   "file_extension": ".py",
   "mimetype": "text/x-python",
   "name": "python",
   "nbconvert_exporter": "python",
   "pygments_lexer": "ipython3",
   "version": "3.6.1"
  }
 },
 "nbformat": 4,
 "nbformat_minor": 2
}
