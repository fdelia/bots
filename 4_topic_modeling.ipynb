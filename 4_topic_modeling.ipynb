{
 "cells": [
  {
   "cell_type": "markdown",
   "metadata": {},
   "source": [
    "## Relationships between words\n",
    "### n-grams and correlations\n",
    "Read: http://tidytextmining.com/ngrams.html\n",
    "\n",
    "Exploring relationships and connections between words.\n",
    "1. Tokenizing by n-gram, here by bigrams for a start\n",
    "2. Counting and filtering n-grams: Most common bigrams, then remove the ones where at least one is a stop word.\n",
    "3. Analyzing bigrams: one bigram per row: look at the tf-idf (the one with the highest), can be visualized for each document(/book in example).\n",
    "4. Using them to provide context in sentiment analysis: The approach is to count certain word segments like \"happy\" and \"not happy\". We examine how often sentiment-associated words are preceded by \"not\" or other negating words. We use the `AFINN lexicon for sentiment analysis`. Is there something similar in german for sentiment analysis? -> http://www.ulliwaltinger.de/sentiment/ (gives negative, positive and neutral words in tsv-format, not sure if the words have a \"sentiment score\")\n",
    "5. Calculate sentiment score per comment\n",
    "6. Visualize a network of bigrams: node1 = word1 -> node2 = word2 of bigram, weight given by the number of occurence of the bigram. For each word we only show the words that follows it the most as connected directed node. Only show bigrams that occured at least x times.  \n",
    "An useful and flexibel way to visualize relational data. - This is a visualization of a Markov chain.\n",
    "7. Put the whole thing built so far into a function for usage on other texts\n",
    "8. We may be interested in words that tend to co-occur within particular documents or particular chapters, even if they don't occur next to each other. Turn text into a wide matrix first for that.  \n",
    "Counting and correlating among sections: Package like `widyr` in R for that? (`pairwise_count`)\n",
    "9. Most common co-occuring words not that meaningful since they're also the most common individual words. We may instead want to examine correlation among words, which indicates how often they appear together relative to how often they appear separately (phi coefficient ~ pearson correlation for binary data).  \n",
    "Pick some interesting words and look at their correlations. Then plot a graph for highest correlations like above.\n",
    "    \n",
    "Pairs of consecutive words might capture structure that isn't present when one is just counting single words, and may provide context that makes tokens more understandable (for example \"pulteney street\" instead of \"pulteney\" only). However, the per-bigram counts are also sparser since they are rarer."
   ]
  },
  {
   "cell_type": "code",
   "execution_count": 4,
   "metadata": {
    "collapsed": true
   },
   "outputs": [],
   "source": [
    "# Initialize libraries and data\n",
    "%matplotlib inline\n",
    "import re\n",
    "import numpy as np\n",
    "import matplotlib.pyplot as plt\n",
    "plt.style.use('ggplot')\n",
    "import seaborn as sns\n",
    "sns.set(color_codes=True)\n",
    "\n",
    "from time import time\n",
    "import warnings\n",
    "warnings.filterwarnings('ignore')\n",
    "\n",
    "import pandas as pd\n",
    "df_art = pd.read_csv('articles_2017_08.csv')\n",
    "df_com = pd.read_csv('comments_2017_08.csv').sample(30000) # crop because battery life, skews data\n",
    "# Make float better readable\n",
    "pd.options.display.float_format = '{:.3f}'.format\n",
    "\n",
    "df_com['score'] = df_com['vup'] - df_com['vdo']\n",
    "df_com['contr'] = df_com['vup'] + df_com['vdo']"
   ]
  },
  {
   "cell_type": "code",
   "execution_count": 5,
   "metadata": {},
   "outputs": [
    {
     "data": {
      "image/png": "[encoded data removed]",
      "text/plain": [
       "<matplotlib.figure.Figure at 0x118d00b00>"
      ]
     },
     "metadata": {},
     "output_type": "display_data"
    },
    {
     "name": "stdout",
     "output_type": "stream",
     "text": [
      "Authors with 1 message: 0.392\n",
      "Authors with 2 messages: 0.054\n"
     ]
    }
   ],
   "source": [
    "# Explore relationship between authors and their number of messages\n",
    "aut = df_com.groupby('aut').size()\n",
    "\n",
    "v = aut.value_counts()\n",
    "ax = sns.barplot(x=np.array(v.keys()), y=v.values, palette=\"BuGn_d\")\n",
    "ax.set_yscale('log')  # set_yscale is a function, not a string\n",
    "n = 5\n",
    "ticks = ax.xaxis.get_ticklocs()\n",
    "ticklabels = [l.get_text() for l in ax.xaxis.get_ticklabels()]\n",
    "ax.xaxis.set_ticks(ticks[::n])\n",
    "ax.xaxis.set_ticklabels(ticklabels[::n])\n",
    "plt.ylabel('Number of authors [log]')\n",
    "plt.xlabel('Number of messages')\n",
    "plt.show()\n",
    "\n",
    "print(\"Authors with 1 message: {:.3f}\".format(v.iloc[0] / aut.sum()))\n",
    "print(\"Authors with 2 messages: {:.3f}\".format(v.iloc[1] / aut.sum()))"
   ]
  },
  {
   "cell_type": "markdown",
   "metadata": {
    "collapsed": true
   },
   "source": [
    "## Topic modeling with comments\n",
    "Read: http://tidytextmining.com/topicmodeling.html\n",
    "\n",
    "Use LDA: Each document a mixture of topics and each topic a mixture of words. Built in package?\n",
    "\n",
    "It's possible to declare what a \"document\" is. Also look at how each document is classified (per topic). "
   ]
  },
  {
   "cell_type": "code",
   "execution_count": null,
   "metadata": {},
   "outputs": [
    {
     "name": "stdout",
     "output_type": "stream",
     "text": [
      "Fitting LDA models with tf features, n_samples=30000 and n_features=50...\n",
      "\n",
      "Topics in LDA model:\n",
      "#0: gibt alles bin andere immer keine jahren besser nie geht dies mal tun kein genau wäre einfach viele müssen heute damit leben soll menschen wohl will leute gar selber also \n",
      "\n",
      "#1: sollte jeder sondern gar kein viele wer viel machen schweizer leute bin immer einfach schweiz weil soll gibt nie geht leben damit andere keine ob also menschen besser tun mal \n",
      "\n",
      "#2: viel jetzt leute macht will mal andere einfach bin gibt sicher kommt damit viele ob soll gut leben geld kein wer besser immer tun machen geht also genau etwas würde \n",
      "\n",
      "#3: geht etwas menschen wohl heute besser damit mal keine will machen leben sollte viel einfach wer viele bin sicher soll andere anderen tun kein würde jahren wäre immer also weil \n",
      "\n",
      "#4: einfach machen geld ob sicher damit keine dies viel mal würde weil andere also alles soll sondern wohl schweiz nie viele wurde kein sollte etwas geht schweizer wer tun leute \n",
      "\n",
      "#5: gut weil müssen dies selber andere viele damit menschen jahren keine mal anderen schweizer jetzt immer würde kein sondern genau leben tun leute macht geht wäre machen einfach also wurde \n",
      "\n",
      "#6: keine genau wer soll tun schweizer alles müssen damit einfach viele menschen kein will andere nie mal leben kommt dies also etwas würde weil machen ob leute geht wäre wohl \n",
      "\n",
      "#7: immer also nie jahren wurde mal heute viel keine dies geht jetzt einfach wer sondern andere tun müssen wohl menschen damit viele kein etwas leben weil würde besser machen bin \n",
      "\n",
      "#8: mal würde wäre kein leben viele damit machen gibt will keine dies sicher andere also tun nie menschen besser wer etwas soll leute heute wohl immer wurde macht jahren einfach \n",
      "\n",
      "#9: schweiz kommt anderen viele keine mal also immer jahren wohl sicher ob gut machen alles schweizer damit kein menschen tun nie jeder gibt andere besser leben etwas sollte wäre wer \n",
      "\n",
      "\n",
      "Finished.\n"
     ]
    }
   ],
   "source": [
    "from sklearn.feature_extraction.text import TfidfVectorizer, CountVectorizer\n",
    "from sklearn.decomposition import NMF, LatentDirichletAllocation\n",
    "\n",
    "# Parameter selection is intuitive so far\n",
    "n_samples = 30000\n",
    "n_features = 50\n",
    "n_components = 10 # Topics\n",
    "n_top_words = 30\n",
    "VERBOSE = True\n",
    "\n",
    "# https://de.wikipedia.org/wiki/Liste_der_h%C3%A4ufigsten_W%C3%B6rter_der_deutschen_Sprache\n",
    "stop_words = \"die, der, und, in, zu, den, das, nicht, von, sie, ist, des, sich, mit, dem, dass, er, es, ein, ich, auf, so, eine, auch, als, an, nach, wie, im, für, \"\n",
    "stop_words += \"man, aber, aus, durch, wenn, nur, war, noch, werden, bei, hat, wir, was, wird, sein, einen, welche, sind, oder, zur, um, haben, einer, mir, über, ihm, diese, einem, ihr, uns, \"\n",
    "stop_words += \"da, zum, kann, doch, vor, dieser, mich, ihn, du, hatte, seine, mehr, am, denn, nun, unter, sehr, selbst, schon, hier, \"\n",
    "stop_words += \"bis, habe, ihre, dann, ihnen, seiner, alle, wieder, meine, Zeit, gegen, vom, ganz, einzelnen, wo, muss, ohne, eines, können, sei, \"\n",
    "stop_words += \"nichts\"\n",
    "stop_words = stop_words.lower()\n",
    "stop_words = stop_words.split(', ')\n",
    "\n",
    "def print_top_words(model, feature_names, n_top_words):\n",
    "    for topic_idx, topic in enumerate(model.components_):\n",
    "        message = \"#%d: \" % topic_idx\n",
    "        message += \" \".join([feature_names[i]\n",
    "                             for i in topic.argsort()[:-n_top_words - 1:-1]])\n",
    "        print(message, '\\n')\n",
    "    print()\n",
    "\n",
    "data_samples = df_com['con']\n",
    "#data_samples = df_art[df_art['text'].notnull()]['text']\n",
    "\n",
    "# tf-idf features for NMF (non-negative matrix factorization)\n",
    "tfidf_vectorizer = TfidfVectorizer(max_df=0.95, min_df=2,\n",
    "                                   max_features=n_features,\n",
    "                                   stop_words=stop_words)\n",
    "tfidf = tfidf_vectorizer.fit_transform(data_samples)\n",
    "\n",
    "# term frequency (tf) for features for LDA\n",
    "tf_vectorizer = CountVectorizer(max_df=0.1, min_df=2,\n",
    "                                max_features=n_features,\n",
    "                                stop_words=stop_words)\n",
    "tf = tf_vectorizer.fit_transform(data_samples)\n",
    "\n",
    "# Fit the NMF model\n",
    "nmf = NMF(n_components=n_components, random_state=1,\n",
    "          alpha=.1, l1_ratio=.5).fit(tfidf)\n",
    "\"\"\"\n",
    "if VERBOSE: print(\"\\nTopics in NMF model (Frobenius norm):\")\n",
    "tfidf_feature_names = tfidf_vectorizer.get_feature_names()\n",
    "if VERBOSE: print_top_words(nmf, tfidf_feature_names, n_top_words)\n",
    "\n",
    "# Fit the NMF model\n",
    "if VERBOSE: print(\"Fitting the NMF model (generalized Kullback-Leibler divergence) with \"\n",
    "      \"tf-idf features, n_samples=%d and n_features=%d...\" % (n_samples, n_features))\n",
    "nmf = NMF(n_components=n_components, random_state=1,\n",
    "          beta_loss='kullback-leibler', solver='mu', \n",
    "          max_iter=1000, alpha=.1, l1_ratio=.5).fit(tfidf)\n",
    "if VERBOSE: print(\"\\nTopics in NMF model (generalized Kullback-Leibler divergence):\")\n",
    "tfidf_feature_names = tfidf_vectorizer.get_feature_names()\n",
    "if VERBOSE: print_top_words(nmf, tfidf_feature_names, n_top_words)\n",
    "\"\"\"\n",
    "if VERBOSE: print(\"Fitting LDA models with tf features, \"\n",
    "      \"n_samples=%d and n_features=%d...\" % (n_samples, n_features))\n",
    "lda = LatentDirichletAllocation(n_components=n_components, max_iter=5,\n",
    "                                learning_method='online',\n",
    "                                learning_offset=50.,\n",
    "                                random_state=0)\n",
    "lda.fit(tf)\n",
    "\n",
    "if VERBOSE: print(\"\\nTopics in LDA model:\")\n",
    "tf_feature_names = tf_vectorizer.get_feature_names()\n",
    "if VERBOSE: print_top_words(lda, tf_feature_names, n_top_words)\n",
    "print('Finished.')"
   ]
  },
  {
   "cell_type": "code",
   "execution_count": null,
   "metadata": {},
   "outputs": [
    {
     "name": "stdout",
     "output_type": "stream",
     "text": [
      "Num of comments\thigh: 22534\tlow: 7466\n"
     ]
    }
   ],
   "source": [
    "# For each category of 20M see how the topics are \"arranged\"\n",
    "# For classes (score </>= threshold) how often each topic occurs in each comment\n",
    "threshold = 1\n",
    "topic_cols = list(map(lambda x: 'topic_' + str(x), range(0, n_components)))\n",
    "\n",
    "len_high = len(df_com[df_com['score'] >= threshold])\n",
    "len_low = len(df_com) - len_high\n",
    "print(\"Num of comments\\thigh: {}\\tlow: {}\".format(len_high, len_low))\n",
    "\n",
    "# Probability for each document to belong to a topic\n",
    "def get_probs_for_topics(text, tf_vectorizer, lda):\n",
    "    lf = lda.transform(tf_vectorizer.transform([text])).ravel()\n",
    "    return pd.Series(lf)\n",
    "\n",
    "t = df_com.apply(lambda x: get_probs_for_topics(x['con'], tf_vectorizer, lda), axis=1)\n",
    "t.columns = topic_cols\n",
    "df_com = df_com.join(t, lsuffix='_left')\n",
    "\n",
    "# Compute sums of topics per class\n",
    "s = df_com[df_com['score'] >= threshold][topic_cols].sum(axis=0) / len_high\n",
    "sums = pd.DataFrame(columns=['class', 'prob'])\n",
    "sums['prob'] = s\n",
    "sums['class'] = 'high'\n",
    "\n",
    "s = df_com[df_com['score'] < threshold][topic_cols].sum(axis=0) / len_low\n",
    "sums2 = pd.DataFrame(columns=['class', 'prob'])\n",
    "sums2['prob'] = s\n",
    "sums2['class'] = 'low'\n",
    "sums = sums.append(sums2)\n",
    "\n",
    "#print(sums)\n",
    "print('Done.')"
   ]
  },
  {
   "cell_type": "code",
   "execution_count": null,
   "metadata": {},
   "outputs": [],
   "source": [
    "#print(sums_high.index)\n",
    "#print(sums_high[0])\n",
    "ax = sns.barplot(x=sums.index, y=sums['prob'], hue=sums['class'])\n",
    "plt.title('Topic occurence per class (threshold: {})'.format(threshold))\n",
    "plt.show()"
   ]
  },
  {
   "cell_type": "code",
   "execution_count": null,
   "metadata": {},
   "outputs": [],
   "source": [
    "# For each topic, how is the distribution of comments\n",
    "# = distribution in the columns topic_0, topic_1, ...\n",
    "column = []\n",
    "for i in range(0, n_components):\n",
    "    column.append('topic_' + str(i))\n",
    "axes = df_com.hist(column=column)\n",
    "plt.setp(axes, xticks=[]) # Remove xtick labels\n",
    "plt.subplots_adjust(hspace=0.6)"
   ]
  },
  {
   "cell_type": "code",
   "execution_count": null,
   "metadata": {},
   "outputs": [],
   "source": [
    "# Where do the comments lie compared to the topics on a cartesian plane\n",
    "import random\n",
    "from math import floor, sqrt\n",
    "import networkx as nx\n",
    "\n",
    "G = nx.Graph()\n",
    "\n",
    "# Show for this topics\n",
    "components_list = [0, 1, 2]\n",
    "\n",
    "for t in components_list:\n",
    "    G.add_node(t, color='red')\n",
    "    \n",
    "# Only for a subset because of computation time\n",
    "n_graph_nodes = 2000\n",
    "for i, row in df_com[:n_graph_nodes].iterrows():\n",
    "    add_weighted = []\n",
    "    G.add_node(i, color='black')\n",
    "    for t in components_list:\n",
    "        w = row['topic_' + str(t)]\n",
    "        add_weighted.append((i, t, w))\n",
    "        \n",
    "    G.add_weighted_edges_from(add_weighted)\n",
    "    \n",
    "nodes = G.nodes()\n",
    "colors = [G.node[n]['color'] for n in nodes]\n",
    "size_by_color = {'red': 300, 'black': 1}\n",
    "sizes = [size_by_color[G.node[n]['color']] for n in nodes]\n",
    "    \n",
    "fixedpos = {0:(0,0), 1:(1,0), 2: (0.5, sqrt(3/4))}\n",
    "plt.figure(figsize=(10, 10))\n",
    "pos = nx.spring_layout(G, fixed = fixedpos.keys(), pos = fixedpos)\n",
    "nx.draw_networkx(G, pos=pos, with_labels=False, width=0, node_color=colors, node_size=sizes)\n",
    "\n",
    "plt.show()"
   ]
  },
  {
   "cell_type": "code",
   "execution_count": null,
   "metadata": {
    "collapsed": true
   },
   "outputs": [],
   "source": []
  }
 ],
 "metadata": {
  "kernelspec": {
   "display_name": "Python 3",
   "language": "python",
   "name": "python3"
  },
  "language_info": {
   "codemirror_mode": {
    "name": "ipython",
    "version": 3
   },
   "file_extension": ".py",
   "mimetype": "text/x-python",
   "name": "python",
   "nbconvert_exporter": "python",
   "pygments_lexer": "ipython3",
   "version": "3.6.1"
  }
 },
 "nbformat": 4,
 "nbformat_minor": 2
}
