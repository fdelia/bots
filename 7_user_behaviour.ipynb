{
 "cells": [
  {
   "cell_type": "markdown",
   "metadata": {},
   "source": [
    "# Grouping by user\n",
    "\n",
    "Here I will try to group comments by user/user behaviour and use these groups to determine how well which article came off in each group.\n",
    "\n",
    "Approaches:\n",
    "* Group users by number of comments\n",
    "* Group users by length of comments\n",
    "* Group users by title starting with \"@\" (= is_answer)\n",
    "* Group users by time they are active\n",
    "* Maybe group articles...\n",
    "* Some combination"
   ]
  },
  {
   "cell_type": "code",
   "execution_count": 1,
   "metadata": {
    "collapsed": true
   },
   "outputs": [],
   "source": [
    "%matplotlib inline\n",
    "import re\n",
    "from time import time\n",
    "from datetime import datetime\n",
    "import numpy as np\n",
    "import xgboost as xgb\n",
    "import matplotlib.pyplot as plt\n",
    "plt.style.use('ggplot')\n",
    "import seaborn as sns\n",
    "\n",
    "import warnings\n",
    "warnings.filterwarnings('ignore')\n",
    "\n",
    "import pandas as pd\n",
    "df_art = pd.read_csv('articles_2017_09.csv').sample(500)\n",
    "df_com = pd.read_csv('comments_2017_09.csv')"
   ]
  },
  {
   "cell_type": "code",
   "execution_count": 2,
   "metadata": {},
   "outputs": [
    {
     "data": {
      "text/html": [
       "<div>\n",
       "<style>\n",
       "    .dataframe thead tr:only-child th {\n",
       "        text-align: right;\n",
       "    }\n",
       "\n",
       "    .dataframe thead th {\n",
       "        text-align: left;\n",
       "    }\n",
       "\n",
       "    .dataframe tbody tr th {\n",
       "        vertical-align: top;\n",
       "    }\n",
       "</style>\n",
       "<table border=\"1\" class=\"dataframe\">\n",
       "  <thead>\n",
       "    <tr style=\"text-align: right;\">\n",
       "      <th></th>\n",
       "      <th>tId</th>\n",
       "      <th>mob</th>\n",
       "      <th>vup</th>\n",
       "      <th>vdo</th>\n",
       "      <th>time_since_epoch</th>\n",
       "      <th>hour</th>\n",
       "      <th>weekday</th>\n",
       "      <th>is_answer</th>\n",
       "      <th>con_len</th>\n",
       "      <th>con_num_words</th>\n",
       "      <th>score</th>\n",
       "      <th>activity</th>\n",
       "      <th>num_comments</th>\n",
       "    </tr>\n",
       "    <tr>\n",
       "      <th>aut</th>\n",
       "      <th></th>\n",
       "      <th></th>\n",
       "      <th></th>\n",
       "      <th></th>\n",
       "      <th></th>\n",
       "      <th></th>\n",
       "      <th></th>\n",
       "      <th></th>\n",
       "      <th></th>\n",
       "      <th></th>\n",
       "      <th></th>\n",
       "      <th></th>\n",
       "      <th></th>\n",
       "    </tr>\n",
       "  </thead>\n",
       "  <tbody>\n",
       "    <tr>\n",
       "      <th></th>\n",
       "      <td>31501960.0</td>\n",
       "      <td>1.0</td>\n",
       "      <td>8.0</td>\n",
       "      <td>46.0</td>\n",
       "      <td>1.502821e+09</td>\n",
       "      <td>18.0</td>\n",
       "      <td>1.0</td>\n",
       "      <td>0.0</td>\n",
       "      <td>103.0</td>\n",
       "      <td>18.0</td>\n",
       "      <td>-38.0</td>\n",
       "      <td>54.0</td>\n",
       "      <td>1</td>\n",
       "    </tr>\n",
       "  </tbody>\n",
       "</table>\n",
       "</div>"
      ],
      "text/plain": [
       "            tId  mob  vup   vdo  time_since_epoch  hour  weekday  is_answer  \\\n",
       "aut                                                                           \n",
       "     31501960.0  1.0  8.0  46.0      1.502821e+09  18.0      1.0        0.0   \n",
       "\n",
       "     con_len  con_num_words  score  activity  num_comments  \n",
       "aut                                                         \n",
       "       103.0           18.0  -38.0      54.0             1  "
      ]
     },
     "execution_count": 2,
     "metadata": {},
     "output_type": "execute_result"
    }
   ],
   "source": [
    "def get_dt_obj(time):\n",
    "    time = time.replace('am ', '')\n",
    "    # Make datetime object from string\n",
    "    return datetime.strptime(time, '%d.%m.%Y %H:%M')\n",
    "\n",
    "def time_since_epoch(time):\n",
    "    return ((time)-datetime(1970,1,1)).total_seconds()\n",
    "\n",
    "def get_hour_of_day(time):\n",
    "    return (time).hour\n",
    "\n",
    "def get_weekday(time):\n",
    "    return (time).weekday()\n",
    "\n",
    "df_com['time_dt'] = df_com['time'].apply(get_dt_obj)\n",
    "df_com['time_since_epoch'] = df_com['time_dt'].apply(time_since_epoch)\n",
    "df_com['hour'] = df_com['time_dt'].apply(get_hour_of_day)\n",
    "df_com['weekday'] = df_com['time_dt'].apply(get_weekday) # 0 = Monday\n",
    "df_com['is_answer'] = df_com['tit'].apply(lambda x: str(x).startswith('@'))\n",
    "df_com['con_len'] = df_com['con'].apply(len)\n",
    "df_com['con_num_words'] = df_com['con'].apply(lambda x: len(x.split()))\n",
    "df_com['score'] = df_com['vup'] - df_com['vdo']\n",
    "df_com['activity'] = df_com['vup'] + df_com['vdo']\n",
    "#df_com['tit'] = df_com['tit'].str.lower()\n",
    "#df_com['con'] = df_com['con'].str.lower()\n",
    "\n",
    "def get_category(link):\n",
    "    t = link.split('/')\n",
    "    if len(t) <= 1:\n",
    "        return ''\n",
    "    else:\n",
    "        return t[1]\n",
    "\n",
    "df_art['cat'] = df_art['link'].apply(get_category)\n",
    "#df_art['cat_copy'] = df_art['cat']\n",
    "df_art = pd.get_dummies(df_art, columns=['cat'])\n",
    "\n",
    "#df_art['header'] = df_art['header'].str.lower()\n",
    "#df_art['sub'] = df_art['sub'].str.lower()\n",
    "#df_art['text'] = df_art['text'].str.lower()\n",
    "df_art['header_len'] = df_art['header'].apply(len)\n",
    "df_art['sub_len'] = df_art['sub'].apply(lambda x: len(str(x)))\n",
    "df_art['text_len'] = df_art['text'].apply(lambda x: len(str(x)))\n",
    "df_art['text_num_words'] = df_art['text'].apply(lambda x: len(str(x).split()))\n",
    "df_art['text_n_periods'] = df_art['text'].apply(lambda x: len(str(x).split('.')))\n",
    "\n",
    "# TODO get stats for each article with iteration, no df_merge\n",
    "for row in df_art.iterrows():\n",
    "    pass\n",
    "\"\"\"\n",
    "# Left inner join\n",
    "df_merge = df_art.merge(df_com, left_on='tId', right_on='tId', how='left')\n",
    "\n",
    "# Remove rows with missing values\n",
    "# use .count() to check for missing values\n",
    "df_merge.dropna(axis=0, how='any', inplace=True)\n",
    "\n",
    "# Get order of comments per article\n",
    "df_merge = df_merge.sort_values(['tId', 'time_since_epoch']).groupby('tId')\n",
    "\n",
    "# Get article specific statistics, group = article\n",
    "# This function is very slow - do on numpy level (sort instead of group)?\n",
    "def get_art_statistics(group):\n",
    "    first = group.iloc[:1]['time_since_epoch']\n",
    "    group['art_first_weekday'] = group.iloc[:1]['weekday']\n",
    "    group['art_first_hour'] = group.iloc[:1]['hour']\n",
    "\n",
    "    group['time_since_first'] = group['time_since_epoch'].apply(lambda x: (x - first) / 3600)\n",
    "    group['num_authors'] = group['aut'].nunique()\n",
    "    return group\n",
    "\n",
    "df_merge = df_merge.apply(get_art_statistics)\n",
    "\"\"\"\n",
    "df_users = df_com.groupby('aut').mean()#.reset_index()\n",
    "df_users['num_comments'] = df_com[['aut', 'cId']].groupby('aut').count()['cId']\n",
    "df_users.head(1)"
   ]
  },
  {
   "cell_type": "markdown",
   "metadata": {},
   "source": [
    "Questions\n",
    "* User dataframe: how many comments on how many articles, how long per comment, when active during the week, is answer\n",
    "* How to define user activity time?\n",
    "\n",
    "Todo\n",
    "* find out when most articles are published... maybe wednesday around 8-9.00 and around 15.00?"
   ]
  },
  {
   "cell_type": "code",
   "execution_count": 19,
   "metadata": {},
   "outputs": [
    {
     "data": {
      "text/html": [
       "<div>\n",
       "<style>\n",
       "    .dataframe thead tr:only-child th {\n",
       "        text-align: right;\n",
       "    }\n",
       "\n",
       "    .dataframe thead th {\n",
       "        text-align: left;\n",
       "    }\n",
       "\n",
       "    .dataframe tbody tr th {\n",
       "        vertical-align: top;\n",
       "    }\n",
       "</style>\n",
       "<table border=\"1\" class=\"dataframe\">\n",
       "  <thead>\n",
       "    <tr style=\"text-align: right;\">\n",
       "      <th></th>\n",
       "      <th>aut</th>\n",
       "      <th>weekday</th>\n",
       "      <th>hour</th>\n",
       "    </tr>\n",
       "  </thead>\n",
       "  <tbody>\n",
       "    <tr>\n",
       "      <th>306498</th>\n",
       "      <td></td>\n",
       "      <td>1</td>\n",
       "      <td>18</td>\n",
       "    </tr>\n",
       "    <tr>\n",
       "      <th>217040</th>\n",
       "      <td>I.  P.</td>\n",
       "      <td>1</td>\n",
       "      <td>23</td>\n",
       "    </tr>\n",
       "    <tr>\n",
       "      <th>86286</th>\n",
       "      <td>Ghk</td>\n",
       "      <td>0</td>\n",
       "      <td>13</td>\n",
       "    </tr>\n",
       "    <tr>\n",
       "      <th>272890</th>\n",
       "      <td>Alain Zürcher</td>\n",
       "      <td>2</td>\n",
       "      <td>6</td>\n",
       "    </tr>\n",
       "    <tr>\n",
       "      <th>84997</th>\n",
       "      <td>Ani</td>\n",
       "      <td>2</td>\n",
       "      <td>12</td>\n",
       "    </tr>\n",
       "    <tr>\n",
       "      <th>194726</th>\n",
       "      <td>B. Depé</td>\n",
       "      <td>0</td>\n",
       "      <td>7</td>\n",
       "    </tr>\n",
       "    <tr>\n",
       "      <th>195670</th>\n",
       "      <td>Barbara</td>\n",
       "      <td>3</td>\n",
       "      <td>5</td>\n",
       "    </tr>\n",
       "    <tr>\n",
       "      <th>131694</th>\n",
       "      <td>Barbara</td>\n",
       "      <td>3</td>\n",
       "      <td>11</td>\n",
       "    </tr>\n",
       "    <tr>\n",
       "      <th>82951</th>\n",
       "      <td>Bera Terin</td>\n",
       "      <td>0</td>\n",
       "      <td>1</td>\n",
       "    </tr>\n",
       "    <tr>\n",
       "      <th>20774</th>\n",
       "      <td>Besen Hexe</td>\n",
       "      <td>0</td>\n",
       "      <td>7</td>\n",
       "    </tr>\n",
       "  </tbody>\n",
       "</table>\n",
       "</div>"
      ],
      "text/plain": [
       "                    aut  weekday  hour\n",
       "306498                         1    18\n",
       "217040           I.  P.        1    23\n",
       "86286               Ghk        0    13\n",
       "272890   Alain Zürcher         2     6\n",
       "84997               Ani        2    12\n",
       "194726          B. Depé        0     7\n",
       "195670          Barbara        3     5\n",
       "131694         Barbara         3    11\n",
       "82951       Bera Terin         0     1\n",
       "20774        Besen Hexe        0     7"
      ]
     },
     "execution_count": 19,
     "metadata": {},
     "output_type": "execute_result"
    }
   ],
   "source": [
    "#aut_weekdays = df_com.groupby('aut')['weekday'].apply(list)\n",
    "#aut_hours = df_com.groupby('aut')['hour'].apply(list)\n",
    "#df_users_wdh = pd.merge(pd.DataFrame(aut_weekdays).reset_index(), pd.DataFrame(aut_hours).reset_index())\n",
    "#df_users_wdh['num_codmments'] = df_users_wdh['hour'].apply(len)\n",
    "df_com_wdh = df_com.sort_values('aut')[['aut', 'weekday', 'hour']]\n",
    "df_com_wdh.head(10)\n"
   ]
  },
  {
   "cell_type": "code",
   "execution_count": 32,
   "metadata": {},
   "outputs": [
    {
     "data": {
      "image/png": "[encoded data removed]",
      "text/plain": [
       "<matplotlib.figure.Figure at 0x11cb25ac8>"
      ]
     },
     "metadata": {},
     "output_type": "display_data"
    },
    {
     "data": {
      "image/png": "[encoded data removed]",
      "text/plain": [
       "<matplotlib.figure.Figure at 0x11e3f1160>"
      ]
     },
     "metadata": {},
     "output_type": "display_data"
    },
    {
     "data": {
      "text/plain": [
       "137246"
      ]
     },
     "execution_count": 32,
     "metadata": {},
     "output_type": "execute_result"
    }
   ],
   "source": [
    "#df_users_wdh.hist(['weekday', 'hour'])\n",
    "def hist2d(df):\n",
    "    plt.hist2d(df['weekday'], df['hour'])\n",
    "    plt.colorbar(); plt.show()\n",
    "\n",
    "hist2d(df_com_wdh)\n",
    "\n",
    "users_with_x_comments = df_users[df_users['num_comments'] > 30].index.values\n",
    "hist2d(df_com_wdh[df_com_wdh['aut'].isin(users_with_x_comments)])\n",
    "#len(df_com_wdh[df_com_wdh['aut'].isin(users_with_x_comments)])"
   ]
  },
  {
   "cell_type": "code",
   "execution_count": 15,
   "metadata": {},
   "outputs": [
    {
     "name": "stdout",
     "output_type": "stream",
     "text": [
      "Total users: 93722\n"
     ]
    },
    {
     "data": {
      "text/plain": [
       "array([[<matplotlib.axes._subplots.AxesSubplot object at 0x11e637f98>,\n",
       "        <matplotlib.axes._subplots.AxesSubplot object at 0x119411dd8>],\n",
       "       [<matplotlib.axes._subplots.AxesSubplot object at 0x119e0ba20>,\n",
       "        <matplotlib.axes._subplots.AxesSubplot object at 0x11afb0278>]], dtype=object)"
      ]
     },
     "execution_count": 15,
     "metadata": {},
     "output_type": "execute_result"
    },
    {
     "data": {
      "image/png": "[encoded data removed]",
      "text/plain": [
       "<matplotlib.figure.Figure at 0x11a3acfd0>"
      ]
     },
     "metadata": {},
     "output_type": "display_data"
    },
    {
     "data": {
      "image/png": "[encoded data removed]",
      "text/plain": [
       "<matplotlib.figure.Figure at 0x11e4a9780>"
      ]
     },
     "metadata": {},
     "output_type": "display_data"
    }
   ],
   "source": [
    "print(\"Total users:\", len(df_users))\n",
    "\n",
    "df_users.hist(['con_len', 'activity', 'is_answer'])\n",
    "df_users[df_users['num_comments'] > 5].hist(['con_len', 'activity', 'is_answer'])"
   ]
  }
 ],
 "metadata": {
  "kernelspec": {
   "display_name": "Python 3",
   "language": "python",
   "name": "python3"
  },
  "language_info": {
   "codemirror_mode": {
    "name": "ipython",
    "version": 3
   },
   "file_extension": ".py",
   "mimetype": "text/x-python",
   "name": "python",
   "nbconvert_exporter": "python",
   "pygments_lexer": "ipython3",
   "version": "3.6.1"
  },
  "widgets": {
   "application/vnd.jupyter.widget-state+json": {
    "state": {},
    "version_major": 2,
    "version_minor": 0
   }
  }
 },
 "nbformat": 4,
 "nbformat_minor": 2
}
